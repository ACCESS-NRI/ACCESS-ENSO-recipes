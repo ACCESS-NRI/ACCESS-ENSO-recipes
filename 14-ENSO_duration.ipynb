{
 "cells": [
  {
   "cell_type": "markdown",
   "id": "13a51845-8671-4c1e-9831-87aaf58e5ede",
   "metadata": {},
   "source": [
    "# ENSO_duration: Duration of SST Anomalies in the Central Equatorial Pacific  \n",
    "\n",
    "Computes the number of months during which sea surface temperature anomalies (SSTA) persist in the Niño3.4 region (horizontal average over 5°S–5°N, 170°W–120°W). This metric evaluates the duration of SST anomalies during the 6 years centred on the peak of ENSO events, comparing model simulations with reference observations.\n",
    "\n",
    "## Datasets Used for Duration Comparison  \n",
    "\n",
    "The following reference datasets are used to evaluate the duration of ENSO-related SST anomalies in model simulations:  \n",
    "\n",
    "- **TropFlux (1979–2018)**: The primary dataset for comparison, designed for analysing tropical climate variability, including surface fluxes and SST anomalies.  \n",
    "\n",
    "Additional datasets include:  \n",
    "- **20CRv2 (1871–2012)**: A historical reanalysis product providing long-term atmospheric data using surface pressure observations.  \n",
    "- **ERA-Interim (1979–2018)**: A high-resolution reanalysis dataset offering consistent atmospheric and surface variable estimates.  \n",
    "- **ERSSTv5 (1854–2018)**: A globally gridded dataset optimised for climate monitoring, including ENSO-related SST anomaly studies.  \n",
    "- **HadISST (1870–2018)**: A historical dataset combining SST and sea ice observations with reconstructions.  \n",
    "- **NCEP2 (1979–2018)**: A second-generation reanalysis product delivering improved atmospheric and surface data globally.  "
   ]
  },
  {
   "cell_type": "markdown",
   "id": "7938254e-7633-4aa1-b108-c3fc2dd5cbd2",
   "metadata": {},
   "source": [
    "## Dask Cluster \n",
    "\n",
    "Start a cluster with multiple cores "
   ]
  },
  {
   "cell_type": "code",
   "execution_count": null,
   "id": "79aa674b-3a3d-48d6-a5a2-039958a434c9",
   "metadata": {},
   "outputs": [],
   "source": [
    "from dask.distributed import Client, progress\n",
    "client = Client()\n",
    "client"
   ]
  },
  {
   "cell_type": "markdown",
   "id": "8d195cd7-bdb8-41b1-9b56-62dc39630635",
   "metadata": {},
   "source": [
    "## Datasets"
   ]
  },
  {
   "cell_type": "code",
   "execution_count": 1,
   "id": "a3a2571a-c2f1-4ac8-a272-d4c731c062cd",
   "metadata": {},
   "outputs": [],
   "source": [
    "from esmvalcore.dataset import Dataset"
   ]
  },
  {
   "cell_type": "code",
   "execution_count": 2,
   "id": "a20485d9-9e93-4564-9fc0-f07c64a3bc36",
   "metadata": {},
   "outputs": [],
   "source": [
    "model_datasets = {\n",
    "\"ACCESS-ESM1-5\": \n",
    "    Dataset(\n",
    "    short_name='tos',\n",
    "    project='CMIP6',\n",
    "    mip=\"Omon\",\n",
    "    exp=\"historical\",\n",
    "    ensemble=\"r1i1p1f1\",\n",
    "    timerange=\"19780101/20190101\", ##rolling window\n",
    "    dataset=\"ACCESS-ESM1-5\",\n",
    "    grid=\"gn\"\n",
    ")}\n",
    "model_datasets[\"ACCESS-ESM1-5\"].add_supplementary(short_name='areacello', mip='Ofx')\n",
    "\n",
    "obs_datasets = {\n",
    "\"HadISST\": \n",
    "    Dataset(\n",
    "    short_name='tos',\n",
    "    dataset='HadISST',\n",
    "    mip=\"Omon\",\n",
    "    project='OBS',\n",
    "    type='reanaly',\n",
    "    tier=2),\n",
    "\"ERSSTv5\":\n",
    "    Dataset(\n",
    "    short_name='tos',\n",
    "    dataset='NOAA-ERSSTv5',\n",
    "    mip=\"Omon\",\n",
    "    project='OBS6',\n",
    "    type='reanaly',\n",
    "    tier=2),\n",
    "# \"ERA-Interim\": \n",
    "#     Dataset(\n",
    "#     short_name='tos',\n",
    "#     dataset='ERA-Interim',\n",
    "#     mip=\"Omon\",\n",
    "#     project='OBS',\n",
    "#     type='reanaly',\n",
    "#     timerange=\"19790101/20190101\",\n",
    "#     tier=3)\n",
    "}"
   ]
  },
  {
   "cell_type": "code",
   "execution_count": 3,
   "id": "5e048061-f220-4e34-820a-629c7b6b5580",
   "metadata": {},
   "outputs": [],
   "source": [
    "model_datasets = {name: dataset.load() for name, dataset in model_datasets.items()}\n",
    "obs_datasets = {name: dataset.load() for name, dataset in obs_datasets.items()}"
   ]
  },
  {
   "cell_type": "code",
   "execution_count": 4,
   "id": "3e4b8d63-b98d-4195-a6cb-7a5316c6db3b",
   "metadata": {},
   "outputs": [],
   "source": [
    "from esmvalcore.preprocessor import anomalies\n",
    "from esmvalcore.preprocessor import area_statistics\n",
    "from esmvalcore.preprocessor import rolling_window_statistics\n",
    "from esmvalcore.preprocessor import meridional_statistics\n",
    "from esmvalcore.preprocessor import convert_units\n",
    "from esmvalcore.preprocessor import extract_region\n",
    "from esmvalcore.preprocessor import extract_month\n",
    "from esmvalcore.preprocessor import regrid\n",
    "from esmvalcore.preprocessor import detrend\n",
    "from esmvalcore.preprocessor import mask_landsea\n",
    "import iris\n",
    "\n",
    "import matplotlib.pyplot as plt\n",
    "import iris.quickplot as qplt\n",
    "import numpy as np\n",
    "import xarray as xr\n",
    "import sacpy as scp\n",
    "from esmvalcore.iris_helpers import date2num \n",
    "# [d for d in t_coord.units.num2date(t_coord.points)]"
   ]
  },
  {
   "cell_type": "code",
   "execution_count": 5,
   "id": "e2daff76-44ec-46b3-9157-81e506b032c7",
   "metadata": {},
   "outputs": [],
   "source": [
    "def sst_enso_n34(cube):\n",
    "    nino34_latext_region = {\"start_longitude\": 190., \"end_longitude\": 240., \"start_latitude\": -5., \"end_latitude\": 5.}\n",
    "    cube = convert_units(cube, units=\"degC\")\n",
    "    # cube = mask_landsea(cube, mask_out=\"land\") #shp or land fraction\n",
    "    cube = extract_region(cube, **nino34_latext_region)\n",
    "    # #remove time mean\n",
    "    cube = anomalies(cube, period='monthly') \n",
    "    cube = rolling_window_statistics(cube, coordinate='time', operator='mean', window_length=5)##rolling window cuts off months?\n",
    "    cube = rolling_window_statistics(cube, coordinate='time', operator='mean', window_length=5)\n",
    "    cube = area_statistics(cube,operator='mean')\n",
    "    # cube = extract_month(cube,12) # select after\n",
    "    # detrend?\n",
    "    return cube\n",
    "\n",
    "def sst_meridional(cube): ##along latitude for area\n",
    "    nino34_latext_region = {\"start_longitude\": 160., \"end_longitude\": 280., \"start_latitude\": -5., \"end_latitude\": 5.}\n",
    "    cube = convert_units(cube, units=\"degC\")\n",
    "    #mask\n",
    "    cube = anomalies(cube, period='monthly')\n",
    "    cube = extract_region(cube, **nino34_latext_region)\n",
    "    cube = rolling_window_statistics(cube, coordinate='time', operator='mean', window_length=5)\n",
    "    cube = rolling_window_statistics(cube, coordinate='time', operator='mean', window_length=5)\n",
    "    \n",
    "    cube = regrid(cube, target_grid=\"1x1\", scheme=\"linear\")\n",
    "    cube = meridional_statistics(cube,operator='mean')\n",
    "    return cube\n",
    "\n",
    "#rmse"
   ]
  },
  {
   "cell_type": "code",
   "execution_count": 6,
   "id": "821d528c-da59-4b25-9bfa-3d7a53a61a9f",
   "metadata": {
    "scrolled": true
   },
   "outputs": [
    {
     "name": "stderr",
     "output_type": "stream",
     "text": [
      "/g/data/xp65/public/apps/med_conda/envs/esmvaltool-0.4/lib/python3.11/site-packages/iris/cube.py:4620: IrisIgnoringBoundsWarning: The bounds of coordinate 'time' were ignored in the rolling window operation.\n",
      "  warnings.warn(\n",
      "/g/data/xp65/public/apps/med_conda/envs/esmvaltool-0.4/lib/python3.11/site-packages/iris/coords.py:2153: IrisVagueMetadataWarning: Cannot check if coordinate is contiguous: Invalid operation for 'cell index along second dimension', with 0 bound(s). Contiguous bounds are only defined for 1D coordinates with 2 bounds. Metadata may not be fully descriptive for 'cell index along second dimension'. Ignoring bounds.\n",
      "  warnings.warn(\n",
      "/g/data/xp65/public/apps/med_conda/envs/esmvaltool-0.4/lib/python3.11/site-packages/iris/coords.py:2153: IrisVagueMetadataWarning: Cannot check if coordinate is contiguous: Invalid operation for 'cell index along first dimension', with 0 bound(s). Contiguous bounds are only defined for 1D coordinates with 2 bounds. Metadata may not be fully descriptive for 'cell index along first dimension'. Ignoring bounds.\n",
      "  warnings.warn(\n",
      "/g/data/xp65/public/apps/med_conda/envs/esmvaltool-0.4/lib/python3.11/site-packages/iris/coords.py:2140: IrisVagueMetadataWarning: Collapsing a multi-dimensional coordinate. Metadata may not be fully descriptive for 'latitude'.\n",
      "  warnings.warn(\n",
      "/g/data/xp65/public/apps/med_conda/envs/esmvaltool-0.4/lib/python3.11/site-packages/iris/coords.py:2140: IrisVagueMetadataWarning: Collapsing a multi-dimensional coordinate. Metadata may not be fully descriptive for 'longitude'.\n",
      "  warnings.warn(\n",
      "/g/data/xp65/public/apps/med_conda/envs/esmvaltool-0.4/lib/python3.11/site-packages/iris/cube.py:4620: IrisIgnoringBoundsWarning: The bounds of coordinate 'time' were ignored in the rolling window operation.\n",
      "  warnings.warn(\n",
      "/g/data/xp65/public/apps/med_conda/envs/esmvaltool-0.4/lib/python3.11/site-packages/iris/cube.py:4067: IrisUserWarning: Collapsing spatial coordinate 'latitude' without weighting\n",
      "  warnings.warn(\n",
      "/g/data/xp65/public/apps/med_conda/envs/esmvaltool-0.4/lib/python3.11/site-packages/iris/cube.py:4620: IrisIgnoringBoundsWarning: The bounds of coordinate 'time' were ignored in the rolling window operation.\n",
      "  warnings.warn(\n",
      "/g/data/xp65/public/apps/med_conda/envs/esmvaltool-0.4/lib/python3.11/site-packages/iris/cube.py:4620: IrisIgnoringBoundsWarning: The bounds of coordinate 'time' were ignored in the rolling window operation.\n",
      "  warnings.warn(\n",
      "/g/data/xp65/public/apps/med_conda/envs/esmvaltool-0.4/lib/python3.11/site-packages/iris/cube.py:4620: IrisIgnoringBoundsWarning: The bounds of coordinate 'time' were ignored in the rolling window operation.\n",
      "  warnings.warn(\n",
      "/g/data/xp65/public/apps/med_conda/envs/esmvaltool-0.4/lib/python3.11/site-packages/iris/cube.py:4067: IrisUserWarning: Collapsing spatial coordinate 'latitude' without weighting\n",
      "  warnings.warn(\n",
      "/g/data/xp65/public/apps/med_conda/envs/esmvaltool-0.4/lib/python3.11/site-packages/iris/cube.py:4620: IrisIgnoringBoundsWarning: The bounds of coordinate 'time' were ignored in the rolling window operation.\n",
      "  warnings.warn(\n",
      "/g/data/xp65/public/apps/med_conda/envs/esmvaltool-0.4/lib/python3.11/site-packages/iris/cube.py:4067: IrisUserWarning: Collapsing spatial coordinate 'latitude' without weighting\n",
      "  warnings.warn(\n"
     ]
    }
   ],
   "source": [
    "model_datasets_prep1 = {name: sst_enso_n34(dataset) for name, dataset in model_datasets.items()}\n",
    "model_datasets_prep2 = {name: sst_meridional(dataset) for name, dataset in model_datasets.items()}\n",
    "\n",
    "obs_datasets_prep1 = {name: sst_enso_n34(dataset) for name, dataset in obs_datasets.items()}\n",
    "obs_datasets_prep2 = {name: sst_meridional(dataset) for name, dataset in obs_datasets.items()}\n"
   ]
  },
  {
   "cell_type": "markdown",
   "id": "0d4db516-5092-4d0e-9f49-20b3ab5b75e4",
   "metadata": {},
   "source": [
    "## Diagnostic Level 1\n",
    "\n",
    "The first level shows the diagnostic used to compute the metric and highlight the difference between the model and the reference."
   ]
  },
  {
   "cell_type": "code",
   "execution_count": 7,
   "id": "ea61c6be-21be-4634-81fc-5426ede94a8d",
   "metadata": {},
   "outputs": [],
   "source": [
    "# \n",
    "def sst_regressed(n34_dec, n34, n34_area):\n",
    "    leadlagyr = 3 #rolling window cut off, not include first year\n",
    "    n34_dec_ct = n34_dec[leadlagyr:-leadlagyr]\n",
    "    event_years = n34_dec_ct.time.dt.year #\n",
    "    # Ensure that the selected years are not the last or second last year in the n34 dataset\n",
    "    years_of_interest_array = []\n",
    "    \n",
    "    # Fill the array with the years of interest for each event year \n",
    "    for i, year in enumerate(event_years):# 2:-3 for dec        \n",
    "        years_of_interest_array.append([year.values - 2, year.values - 1, year.values, year.values + 1, year.values + 2, year.values + 3])\n",
    "    \n",
    "    n34_selected = []\n",
    "    n34_area_selected = []\n",
    "    for i in range(len(years_of_interest_array)): #creates sst_time_series\n",
    "        # Select the data for the current year and append it to n34_selected #n34 is not dec month only\n",
    "        n34_selected.append(n34.sel(time=n34['time.year'].isin(years_of_interest_array[i])))\n",
    "        n34_area_selected.append(n34_area.sel(time=n34_area['time.year'].isin(years_of_interest_array[i])))\n",
    "\n",
    "    # 1) linear regression of sst_time_series on sst_enso\n",
    "    slope = scp.LinReg(n34_dec_ct.values, n34_selected).slope\n",
    "    slope_area = scp.LinReg(n34_dec_ct.values, n34_area_selected).slope\n",
    "\n",
    "    return slope, slope_area"
   ]
  },
  {
   "cell_type": "code",
   "execution_count": 10,
   "id": "617266ca-750f-4dce-8664-21e32ff7c5a3",
   "metadata": {},
   "outputs": [],
   "source": [
    "model_n34 = model_datasets_prep1[\"ACCESS-ESM1-5\"]\n",
    "model_n34_dec = extract_month(model_datasets_prep1[\"ACCESS-ESM1-5\"],12)\n",
    "model_n34_area = model_datasets_prep2[\"ACCESS-ESM1-5\"]\n",
    "\n",
    "obs_n34 = obs_datasets_prep1[\"HadISST\"]\n",
    "obs_n34_dec = extract_month(obs_datasets_prep1[\"HadISST\"],12)\n",
    "obs_n34_area = obs_datasets_prep2[\"HadISST\"]\n"
   ]
  },
  {
   "cell_type": "code",
   "execution_count": 11,
   "id": "2712bd74-76c6-4f8d-9cc4-756f812024fb",
   "metadata": {},
   "outputs": [],
   "source": [
    "## metric computation - rmse of slopes\n",
    "cb_out = {'nino34':model_n34, 'n34_dec':model_n34_dec, 'n34_area':model_n34_area}\n",
    "darray_dict = {cbname: xr.DataArray.from_iris(cb) for cbname, cb in cb_out.items()}\n",
    "\n",
    "model = sst_regressed(darray_dict['n34_dec'], darray_dict['nino34'], darray_dict['n34_area'])\n",
    "\n",
    "cb_out = {'nino34':obs_n34, 'n34_dec':obs_n34_dec, 'n34_area':obs_n34_area}\n",
    "darray_dict = {cbname: xr.DataArray.from_iris(cb) for cbname, cb in cb_out.items()}\n",
    "obs = sst_regressed(darray_dict['n34_dec'], darray_dict['nino34'], darray_dict['n34_area'])\n"
   ]
  },
  {
   "cell_type": "code",
   "execution_count": 12,
   "id": "dc2f9415-2b7c-402d-88bd-1ced73a5601e",
   "metadata": {},
   "outputs": [
    {
     "data": {
      "text/plain": [
       "((72, 360), (72,), (72, 360))"
      ]
     },
     "execution_count": 12,
     "metadata": {},
     "output_type": "execute_result"
    }
   ],
   "source": [
    "obs[1].shape, obs[0].shape, model[1].shape"
   ]
  },
  {
   "cell_type": "code",
   "execution_count": 13,
   "id": "e97b1deb-9020-47ad-bd0e-d58d73d8efb1",
   "metadata": {},
   "outputs": [
    {
     "data": {
      "text/plain": [
       "(22.22222222222222, [18, 14])"
      ]
     },
     "execution_count": 13,
     "metadata": {},
     "output_type": "execute_result"
    }
   ],
   "source": [
    "## duration\n",
    "\n",
    "# Plot the slope and correlation\n",
    "# Define the lead/lag months\n",
    "months = np.arange(1, 73) - 36\n",
    "\n",
    "obs_model_count = []\n",
    "# Calculate the number of months where slope > 0.25 in the range -20 to 20\n",
    "within_range = (months >= -30) & (months <= 30)\n",
    "slope_above_025 = model[0][within_range] > 0.25\n",
    "obs_model_count.append(np.sum(slope_above_025))\n",
    "slope_above_025 = obs[0][within_range] > 0.25\n",
    "obs_model_count.append(np.sum(slope_above_025))\n",
    "\n",
    "metric = abs((obs_model_count[1]-obs_model_count[0])/obs_model_count[0])*100\n",
    "metric, obs_model_count"
   ]
  },
  {
   "cell_type": "code",
   "execution_count": 42,
   "id": "44c391af-110f-4cc4-8500-a17a95434068",
   "metadata": {},
   "outputs": [
    {
     "data": {
      "image/png": "[encoded data removed]",
      "text/plain": [
       "<Figure size 640x480 with 1 Axes>"
      ]
     },
     "metadata": {},
     "output_type": "display_data"
    }
   ],
   "source": [
    "# Set x_position to represent the model (1, 2, or 3)\n",
    "x_position = [1, 2]  # Change this to 1, 2, or 3 based on your requirement\n",
    "label_array = ['HadISST', 'ACCESS-ESM1-5']\n",
    "\n",
    "# Plot the HadISST duration point in black\n",
    "plt.scatter(x_position[0], obs_model_count[0], color='black', edgecolor='black', s=100, marker='o', label=label_array[0])\n",
    "\n",
    "# Plot the Model 2 duration point in blue\n",
    "plt.scatter(x_position[1], obs_model_count[1], color='blue', edgecolor='black', s=100, marker='o', label=label_array[1])\n",
    "\n",
    "plt.text(0.02, 0.95, f'Metric: {metric:.2f} %', fontsize=12, ha='left', transform=plt.gca().transAxes,\n",
    "         bbox=dict(facecolor='white', alpha=0.8, edgecolor='none'))\n",
    "\n",
    "plt.xlim(0,3)\n",
    "plt.xticks([])\n",
    "\n",
    "# Add labels and title\n",
    "# plt.xlabel('Model')\n",
    "plt.ylabel('Duration (reg > 0.25) (months)')\n",
    "plt.title('ENSO Duration')\n",
    "\n",
    "# Optionally add a grid and legend\n",
    "plt.grid(linestyle='--')\n",
    "\n",
    "plt.legend()\n",
    "\n",
    "# Show the plot\n",
    "plt.show()\n"
   ]
  },
  {
   "cell_type": "markdown",
   "id": "d79efa98-fb88-4956-aad2-2c79c211de3c",
   "metadata": {},
   "source": [
    "**Figure 1**: Duration of the ENSO life cycle where SSTA exceeds 0.25, illustrating the \"duration\" of the SSTA event. The model typically shows a duration close to the reference, but slightly longer. The black markers represent the reference data, while the blue markers represent the model output. The derived metric is the absolute relative difference, calculated as: \\( \\text{abs}((\\text{model} - \\text{ref}) / \\text{ref}) \\times 100 \\).\n"
   ]
  },
  {
   "cell_type": "markdown",
   "id": "a165cdbf-ef2b-4a1b-8af7-3e474426e95d",
   "metadata": {},
   "source": [
    "## Diagnostic Level 2\n",
    "\n",
    "The second level shows the temporal evolution of SSTA during ENSO: the ENSO life-cycle."
   ]
  },
  {
   "cell_type": "code",
   "execution_count": 14,
   "id": "b8ca7952-acca-443d-b019-c993210a76a8",
   "metadata": {},
   "outputs": [
    {
     "data": {
      "image/png": "[encoded data removed]",
      "text/plain": [
       "<Figure size 640x480 with 1 Axes>"
      ]
     },
     "metadata": {},
     "output_type": "display_data"
    }
   ],
   "source": [
    "# Plot the slope\n",
    "plt.plot(months, obs[0], label='HadISST', lw=4)\n",
    "plt.plot(months, model[0], label='Model', lw=4)\n",
    "\n",
    "# Draw a black dashed line at y=0.25\n",
    "plt.axhline(y=0.25, color='black', linestyle='--', label='0.25 threshold')\n",
    "\n",
    "# Draw a thicker line at y=0\n",
    "plt.axhline(y=0, color='black', linewidth=2) #, label='Zero Line')\n",
    "\n",
    "# Define custom ticks for the x-axis (every 6 months)\n",
    "xticks = np.arange(1, 73, 6) - 36  # Adjust for lead/lag months\n",
    "xtick_labels = ['Jan', 'Jul'] * (len(xticks) // 2)\n",
    "\n",
    "# Set the labels and titles\n",
    "plt.xlabel('Lead & Lag Months')\n",
    "plt.ylabel('Degree C / C')\n",
    "plt.legend()\n",
    "plt.grid(linestyle='--')\n",
    "\n",
    "# Apply the custom ticks and labels to the x-axis\n",
    "plt.xticks(xticks, xtick_labels)\n",
    "plt.yticks(np.arange(-2,2.5, step=1))\n",
    "\n",
    "# Show the plot\n",
    "plt.show()"
   ]
  },
  {
   "cell_type": "markdown",
   "id": "7a4dc6ea-95bf-43bf-b67a-9a1c218e4d55",
   "metadata": {},
   "source": [
    "**Figure 2**: Temporal structure of sea surface temperature anomalies (SSTA) in the central equatorial Pacific (Niño 3.4 region average), illustrating the temporal evolution of SSTA. The model typically exhibits an overly frequent oscillation between negative and positive SSTA phases. The black curve represents the reference data, while the blue curve corresponds to the model output.\n"
   ]
  }
 ],
 "metadata": {
  "kernelspec": {
   "display_name": "Python 3 (ipykernel)",
   "language": "python",
   "name": "python3"
  },
  "language_info": {
   "codemirror_mode": {
    "name": "ipython",
    "version": 3
   },
   "file_extension": ".py",
   "mimetype": "text/x-python",
   "name": "python",
   "nbconvert_exporter": "python",
   "pygments_lexer": "ipython3",
   "version": "3.11.11"
  }
 },
 "nbformat": 4,
 "nbformat_minor": 5
}
