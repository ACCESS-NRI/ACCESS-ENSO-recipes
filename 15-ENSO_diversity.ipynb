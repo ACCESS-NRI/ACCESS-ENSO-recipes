{
 "cells": [
  {
   "cell_type": "markdown",
   "id": "4c77f787-2944-4c5a-b231-e1d20062fc8d",
   "metadata": {},
   "source": [
    "# ENSO_diversity: Zonal Location of Maximum SST Anomalies in the Equatorial Pacific  \n",
    "\n",
    "Computes the interquartile range (IQR) of the zonal location distribution of the maximum (and minimum) sea surface temperature anomalies (SSTA) in the equatorial Pacific, averaged meridionally over 5°S–5°N. This metric quantifies the diversity in the zonal location of the maximum (during El Niño) and minimum (during La Niña) SST anomalies during boreal winter. The analysis uses December values smoothed with a 5-month triangular-weighted moving average to reduce seasonal variability.  \n",
    "\n",
    "## Datasets Used for Diversity Comparison  \n",
    "\n",
    "The following reference datasets are used to evaluate the spatial diversity of maximum SST anomalies in model simulations:  \n",
    "\n",
    "- **TropFlux (1979–2018)**: The primary dataset for comparison, offering tropical climate variability data, including SST anomalies and fluxes over the tropical oceans.  \n",
    "\n",
    "Additional datasets include:  \n",
    "- **20CRv2 (1871–2012)**: A historical atmospheric reanalysis dataset that provides surface pressure-based global atmospheric data over more than a century.  \n",
    "- **ERA-Interim (1979–2018)**: A reanalysis dataset from the ECMWF, providing high-resolution atmospheric and surface data using modern assimilation techniques.  \n",
    "- **ERSSTv5 (1854–2018)**: A dataset optimised for reconstructing global SST anomalies and capturing climate variability, including ENSO.  \n",
    "- **HadISST (1870–2018)**: A dataset providing global SST reconstructions using in-situ measurements and satellite observations.  \n",
    "- **NCEP2 (1979–2018)**: A second-generation reanalysis from NCEP that improves upon earlier reanalysis products and offers global atmospheric and surface data.   "
   ]
  },
  {
   "cell_type": "markdown",
   "id": "0e694ef5-b014-4e98-a2c6-6d069cb669d3",
   "metadata": {},
   "source": [
    "## Dask Cluster \n",
    "\n",
    "Start a cluster with multiple cores "
   ]
  },
  {
   "cell_type": "code",
   "execution_count": 14,
   "id": "dfdb2537-52da-47a8-8051-fee717c87adf",
   "metadata": {},
   "outputs": [
    {
     "name": "stderr",
     "output_type": "stream",
     "text": [
      "INFO:distributed.scheduler:State start\n",
      "INFO:distributed.scheduler:  Scheduler at:     tcp://127.0.0.1:39283\n",
      "INFO:distributed.scheduler:  dashboard at:         /proxy/8787/status\n",
      "INFO:distributed.scheduler:Registering Worker plugin shuffle\n",
      "INFO:distributed.nanny:        Start Nanny at: 'tcp://127.0.0.1:36521'\n",
      "INFO:distributed.nanny:        Start Nanny at: 'tcp://127.0.0.1:41633'\n",
      "INFO:distributed.scheduler:Register worker addr: tcp://127.0.0.1:35177 name: 0\n",
      "INFO:distributed.scheduler:Starting worker compute stream, tcp://127.0.0.1:35177\n",
      "INFO:distributed.core:Starting established connection to tcp://127.0.0.1:53788\n",
      "INFO:distributed.scheduler:Register worker addr: tcp://127.0.0.1:38219 name: 1\n",
      "INFO:distributed.scheduler:Starting worker compute stream, tcp://127.0.0.1:38219\n",
      "INFO:distributed.core:Starting established connection to tcp://127.0.0.1:53804\n",
      "INFO:distributed.scheduler:Receive client connection: Client-03498701-d6c7-11ef-af5d-0000007ffe80\n",
      "INFO:distributed.core:Starting established connection to tcp://127.0.0.1:53806\n"
     ]
    },
    {
     "data": {
      "text/html": [
       "<div>\n",
       "    <div style=\"width: 24px; height: 24px; background-color: #e1e1e1; border: 3px solid #9D9D9D; border-radius: 5px; position: absolute;\"> </div>\n",
       "    <div style=\"margin-left: 48px;\">\n",
       "        <h3 style=\"margin-bottom: 0px;\">Client</h3>\n",
       "        <p style=\"color: #9D9D9D; margin-bottom: 0px;\">Client-03498701-d6c7-11ef-af5d-0000007ffe80</p>\n",
       "        <table style=\"width: 100%; text-align: left;\">\n",
       "\n",
       "        <tr>\n",
       "        \n",
       "            <td style=\"text-align: left;\"><strong>Connection method:</strong> Cluster object</td>\n",
       "            <td style=\"text-align: left;\"><strong>Cluster type:</strong> distributed.LocalCluster</td>\n",
       "        \n",
       "        </tr>\n",
       "\n",
       "        \n",
       "            <tr>\n",
       "                <td style=\"text-align: left;\">\n",
       "                    <strong>Dashboard: </strong> <a href=\"/proxy/8787/status\" target=\"_blank\">/proxy/8787/status</a>\n",
       "                </td>\n",
       "                <td style=\"text-align: left;\"></td>\n",
       "            </tr>\n",
       "        \n",
       "\n",
       "        </table>\n",
       "\n",
       "        \n",
       "            <button style=\"margin-bottom: 12px;\" data-commandlinker-command=\"dask:populate-and-launch-layout\" data-commandlinker-args='{\"url\": \"/proxy/8787/status\" }'>\n",
       "                Launch dashboard in JupyterLab\n",
       "            </button>\n",
       "        \n",
       "\n",
       "        \n",
       "            <details>\n",
       "            <summary style=\"margin-bottom: 20px;\"><h3 style=\"display: inline;\">Cluster Info</h3></summary>\n",
       "            <div class=\"jp-RenderedHTMLCommon jp-RenderedHTML jp-mod-trusted jp-OutputArea-output\">\n",
       "    <div style=\"width: 24px; height: 24px; background-color: #e1e1e1; border: 3px solid #9D9D9D; border-radius: 5px; position: absolute;\">\n",
       "    </div>\n",
       "    <div style=\"margin-left: 48px;\">\n",
       "        <h3 style=\"margin-bottom: 0px; margin-top: 0px;\">LocalCluster</h3>\n",
       "        <p style=\"color: #9D9D9D; margin-bottom: 0px;\">5f3722c6</p>\n",
       "        <table style=\"width: 100%; text-align: left;\">\n",
       "            <tr>\n",
       "                <td style=\"text-align: left;\">\n",
       "                    <strong>Dashboard:</strong> <a href=\"/proxy/8787/status\" target=\"_blank\">/proxy/8787/status</a>\n",
       "                </td>\n",
       "                <td style=\"text-align: left;\">\n",
       "                    <strong>Workers:</strong> 2\n",
       "                </td>\n",
       "            </tr>\n",
       "            <tr>\n",
       "                <td style=\"text-align: left;\">\n",
       "                    <strong>Total threads:</strong> 2\n",
       "                </td>\n",
       "                <td style=\"text-align: left;\">\n",
       "                    <strong>Total memory:</strong> 7.00 GiB\n",
       "                </td>\n",
       "            </tr>\n",
       "            \n",
       "            <tr>\n",
       "    <td style=\"text-align: left;\"><strong>Status:</strong> running</td>\n",
       "    <td style=\"text-align: left;\"><strong>Using processes:</strong> True</td>\n",
       "</tr>\n",
       "\n",
       "            \n",
       "        </table>\n",
       "\n",
       "        <details>\n",
       "            <summary style=\"margin-bottom: 20px;\">\n",
       "                <h3 style=\"display: inline;\">Scheduler Info</h3>\n",
       "            </summary>\n",
       "\n",
       "            <div style=\"\">\n",
       "    <div>\n",
       "        <div style=\"width: 24px; height: 24px; background-color: #FFF7E5; border: 3px solid #FF6132; border-radius: 5px; position: absolute;\"> </div>\n",
       "        <div style=\"margin-left: 48px;\">\n",
       "            <h3 style=\"margin-bottom: 0px;\">Scheduler</h3>\n",
       "            <p style=\"color: #9D9D9D; margin-bottom: 0px;\">Scheduler-e543a65f-82ae-4376-9008-00b950fee883</p>\n",
       "            <table style=\"width: 100%; text-align: left;\">\n",
       "                <tr>\n",
       "                    <td style=\"text-align: left;\">\n",
       "                        <strong>Comm:</strong> tcp://127.0.0.1:39283\n",
       "                    </td>\n",
       "                    <td style=\"text-align: left;\">\n",
       "                        <strong>Workers:</strong> 2\n",
       "                    </td>\n",
       "                </tr>\n",
       "                <tr>\n",
       "                    <td style=\"text-align: left;\">\n",
       "                        <strong>Dashboard:</strong> <a href=\"/proxy/8787/status\" target=\"_blank\">/proxy/8787/status</a>\n",
       "                    </td>\n",
       "                    <td style=\"text-align: left;\">\n",
       "                        <strong>Total threads:</strong> 2\n",
       "                    </td>\n",
       "                </tr>\n",
       "                <tr>\n",
       "                    <td style=\"text-align: left;\">\n",
       "                        <strong>Started:</strong> Just now\n",
       "                    </td>\n",
       "                    <td style=\"text-align: left;\">\n",
       "                        <strong>Total memory:</strong> 7.00 GiB\n",
       "                    </td>\n",
       "                </tr>\n",
       "            </table>\n",
       "        </div>\n",
       "    </div>\n",
       "\n",
       "    <details style=\"margin-left: 48px;\">\n",
       "        <summary style=\"margin-bottom: 20px;\">\n",
       "            <h3 style=\"display: inline;\">Workers</h3>\n",
       "        </summary>\n",
       "\n",
       "        \n",
       "        <div style=\"margin-bottom: 20px;\">\n",
       "            <div style=\"width: 24px; height: 24px; background-color: #DBF5FF; border: 3px solid #4CC9FF; border-radius: 5px; position: absolute;\"> </div>\n",
       "            <div style=\"margin-left: 48px;\">\n",
       "            <details>\n",
       "                <summary>\n",
       "                    <h4 style=\"margin-bottom: 0px; display: inline;\">Worker: 0</h4>\n",
       "                </summary>\n",
       "                <table style=\"width: 100%; text-align: left;\">\n",
       "                    <tr>\n",
       "                        <td style=\"text-align: left;\">\n",
       "                            <strong>Comm: </strong> tcp://127.0.0.1:35177\n",
       "                        </td>\n",
       "                        <td style=\"text-align: left;\">\n",
       "                            <strong>Total threads: </strong> 1\n",
       "                        </td>\n",
       "                    </tr>\n",
       "                    <tr>\n",
       "                        <td style=\"text-align: left;\">\n",
       "                            <strong>Dashboard: </strong> <a href=\"/proxy/38303/status\" target=\"_blank\">/proxy/38303/status</a>\n",
       "                        </td>\n",
       "                        <td style=\"text-align: left;\">\n",
       "                            <strong>Memory: </strong> 3.50 GiB\n",
       "                        </td>\n",
       "                    </tr>\n",
       "                    <tr>\n",
       "                        <td style=\"text-align: left;\">\n",
       "                            <strong>Nanny: </strong> tcp://127.0.0.1:36521\n",
       "                        </td>\n",
       "                        <td style=\"text-align: left;\"></td>\n",
       "                    </tr>\n",
       "                    <tr>\n",
       "                        <td colspan=\"2\" style=\"text-align: left;\">\n",
       "                            <strong>Local directory: </strong> /jobfs/132547240.gadi-pbs/dask-scratch-space/worker-ij0tsrbp\n",
       "                        </td>\n",
       "                    </tr>\n",
       "\n",
       "                    \n",
       "\n",
       "                    \n",
       "\n",
       "                </table>\n",
       "            </details>\n",
       "            </div>\n",
       "        </div>\n",
       "        \n",
       "        <div style=\"margin-bottom: 20px;\">\n",
       "            <div style=\"width: 24px; height: 24px; background-color: #DBF5FF; border: 3px solid #4CC9FF; border-radius: 5px; position: absolute;\"> </div>\n",
       "            <div style=\"margin-left: 48px;\">\n",
       "            <details>\n",
       "                <summary>\n",
       "                    <h4 style=\"margin-bottom: 0px; display: inline;\">Worker: 1</h4>\n",
       "                </summary>\n",
       "                <table style=\"width: 100%; text-align: left;\">\n",
       "                    <tr>\n",
       "                        <td style=\"text-align: left;\">\n",
       "                            <strong>Comm: </strong> tcp://127.0.0.1:38219\n",
       "                        </td>\n",
       "                        <td style=\"text-align: left;\">\n",
       "                            <strong>Total threads: </strong> 1\n",
       "                        </td>\n",
       "                    </tr>\n",
       "                    <tr>\n",
       "                        <td style=\"text-align: left;\">\n",
       "                            <strong>Dashboard: </strong> <a href=\"/proxy/33853/status\" target=\"_blank\">/proxy/33853/status</a>\n",
       "                        </td>\n",
       "                        <td style=\"text-align: left;\">\n",
       "                            <strong>Memory: </strong> 3.50 GiB\n",
       "                        </td>\n",
       "                    </tr>\n",
       "                    <tr>\n",
       "                        <td style=\"text-align: left;\">\n",
       "                            <strong>Nanny: </strong> tcp://127.0.0.1:41633\n",
       "                        </td>\n",
       "                        <td style=\"text-align: left;\"></td>\n",
       "                    </tr>\n",
       "                    <tr>\n",
       "                        <td colspan=\"2\" style=\"text-align: left;\">\n",
       "                            <strong>Local directory: </strong> /jobfs/132547240.gadi-pbs/dask-scratch-space/worker-iofejsq1\n",
       "                        </td>\n",
       "                    </tr>\n",
       "\n",
       "                    \n",
       "\n",
       "                    \n",
       "\n",
       "                </table>\n",
       "            </details>\n",
       "            </div>\n",
       "        </div>\n",
       "        \n",
       "\n",
       "    </details>\n",
       "</div>\n",
       "\n",
       "        </details>\n",
       "    </div>\n",
       "</div>\n",
       "            </details>\n",
       "        \n",
       "\n",
       "    </div>\n",
       "</div>"
      ],
      "text/plain": [
       "<Client: 'tcp://127.0.0.1:39283' processes=2 threads=2, memory=7.00 GiB>"
      ]
     },
     "execution_count": 14,
     "metadata": {},
     "output_type": "execute_result"
    }
   ],
   "source": [
    "from dask.distributed import Client, progress\n",
    "client = Client()\n",
    "client"
   ]
  },
  {
   "cell_type": "markdown",
   "id": "9adc99f1-de29-4e08-969f-23908ef4db1a",
   "metadata": {},
   "source": [
    "## Datasets"
   ]
  },
  {
   "cell_type": "code",
   "execution_count": 15,
   "id": "03ca2b4d-aa80-4b22-86e1-bb668f4c832e",
   "metadata": {
    "scrolled": true
   },
   "outputs": [],
   "source": [
    "from esmvalcore.dataset import Dataset"
   ]
  },
  {
   "cell_type": "markdown",
   "id": "2f22e175",
   "metadata": {},
   "source": [
    "### Datasets"
   ]
  },
  {
   "cell_type": "code",
   "execution_count": 16,
   "id": "0e0aefb0-234b-4d6a-98be-8564d468e635",
   "metadata": {},
   "outputs": [],
   "source": [
    "model_datasets = {\n",
    "\"ACCESS-ESM1-5\": \n",
    "    Dataset(\n",
    "    short_name='ts',\n",
    "    project='CMIP6',\n",
    "    mip=\"Amon\",\n",
    "    exp=\"historical\",\n",
    "    ensemble=\"r1i1p1f1\",\n",
    "    timerange=\"19790101/20190101\",\n",
    "    dataset=\"ACCESS-ESM1-5\",\n",
    "    grid=\"gn\"\n",
    ")}\n",
    "\n",
    "obs_datasets = {\n",
    "\"HadISST\": \n",
    "    Dataset(\n",
    "    short_name='ts',\n",
    "    dataset='HadISST',\n",
    "    mip=\"Amon\",\n",
    "    project='OBS',\n",
    "    type='reanaly',\n",
    "    tier=2),\n",
    "# \"ERSSTv5\":\n",
    "#     Dataset(\n",
    "#     short_name='tos',\n",
    "#     dataset='NOAA-ERSSTv5',\n",
    "#     mip=\"Omon\",\n",
    "#     project='OBS6',\n",
    "#     type='reanaly',\n",
    "#     tier=2),\n",
    "# \"ERA-Interim\": \n",
    "#     Dataset(\n",
    "#     short_name='tos',\n",
    "#     dataset='ERA-Interim',\n",
    "#     mip=\"Omon\",\n",
    "#     project='OBS6',\n",
    "#     type='reanaly',\n",
    "#     timerange=\"19790101/20190101\",\n",
    "#     tier=3)\n",
    "}"
   ]
  },
  {
   "cell_type": "markdown",
   "id": "a1adc46e-b9bb-4a5b-acf6-c3fdb0bed0ba",
   "metadata": {},
   "source": [
    "## Add Ancillary files\n"
   ]
  },
  {
   "cell_type": "code",
   "execution_count": 17,
   "id": "cce89e9d-72ee-401c-b4ed-ab745992b1a8",
   "metadata": {},
   "outputs": [],
   "source": [
    "for name, dataset in model_datasets.items():\n",
    "    dataset.add_supplementary(short_name='sftlf', mip=\"fx\")\n",
    "    dataset.add_supplementary(short_name=\"areacella\", mip=\"fx\")"
   ]
  },
  {
   "cell_type": "code",
   "execution_count": 18,
   "id": "ba7e62d3-98f3-4fa9-b1f4-ff529d93617d",
   "metadata": {},
   "outputs": [
    {
     "name": "stderr",
     "output_type": "stream",
     "text": [
      "WARNING:esmvalcore.cmor._fixes.fix.genericfix:Long name changed from 'Percentage of the grid  cell occupied by land (including lakes)' to 'Percentage of the Grid Cell Occupied by Land (Including Lakes)'\n",
      "(for file /g/data/fs38/publications/CMIP6/CMIP/CSIRO/ACCESS-ESM1-5/historical/r1i1p1f1/fx/sftlf/gn/v20191115/sftlf_fx_ACCESS-ESM1-5_historical_r1i1p1f1_gn.nc)\n"
     ]
    }
   ],
   "source": [
    "model_datasets = {name: dataset.load() for name, dataset in model_datasets.items()}\n",
    "obs_datasets = {name: dataset.load() for name, dataset in obs_datasets.items()}"
   ]
  },
  {
   "cell_type": "code",
   "execution_count": 19,
   "id": "b07c8086-b740-490f-96d9-e0521b464bbc",
   "metadata": {},
   "outputs": [],
   "source": [
    "from esmvalcore.preprocessor import detrend  # Remove trends from the data\n",
    "from esmvalcore.preprocessor import meridional_statistics  # Calculate statistics along meridional direction\n",
    "from esmvalcore.preprocessor import zonal_statistics  # Calculate statistics along zonal direction\n",
    "from esmvalcore.preprocessor import area_statistics  # Compute area-based statistics\n",
    "from esmvalcore.preprocessor import regrid  # Regrid data using ESMF bilinear method\n",
    "from esmvalcore.preprocessor import mask_landsea  # Mask land or sea regions\n",
    "from esmvalcore.preprocessor import anomalies  # Compute anomalies in the data\n",
    "from esmvalcore.preprocessor import extract_month  # Extract specific month from the data\n",
    "from esmvalcore.preprocessor import extract_time\n",
    "from esmvalcore.preprocessor import mask_inside_range  # Mask values inside a specified range\n",
    "from esmvalcore.preprocessor import mask_above_threshold  # Mask values above a specified threshold\n",
    "from esmvalcore.preprocessor import mask_below_threshold  # Mask values below a specified threshold\n",
    "from esmvalcore.preprocessor import extract_region  # Extract a specific geographical region (e.g., Equatorial Pacific)\n",
    "from esmvalcore.preprocessor import climate_statistics  # Compute month mean and standard deviation\n",
    "from esmvalcore.preprocessor import rolling_window_statistics  # Apply rolling window statistics\n",
    "\n",
    "import iris\n",
    "import numpy as np\n",
    "import iris.quickplot as qplt\n",
    "import matplotlib.pyplot as plt\n",
    "import iris.plot as iplt\n",
    "import matplotlib.colors as mcolors\n",
    "import cartopy.feature as cfeature\n",
    "import cartopy.crs as ccrs"
   ]
  },
  {
   "cell_type": "code",
   "execution_count": 20,
   "id": "784947b3-b662-479a-8a4f-56432f77d324",
   "metadata": {
    "scrolled": true
   },
   "outputs": [],
   "source": [
    "def nino3_4ssta(cube):\n",
    "    cube = extract_region(cube, 190, 240, -5, 5) #\n",
    "    cube = extract_time(cube, start_year=1900, start_month=1, start_day=1, end_year=2014, end_month=12, end_day=31)    \n",
    "    cube = regrid(cube, target_grid=\"1x1\", scheme=\"linear\")   \n",
    "    # triangle weighted- double smoothed\n",
    "    cube = rolling_window_statistics(cube, coordinate='time', operator='mean', window_length=5)\n",
    "    cube = rolling_window_statistics(cube, coordinate='time', operator='mean', window_length=5)\n",
    "    cube = area_statistics(cube, 'mean')\n",
    "    cube = extract_month(cube, 12)\n",
    "    cube = anomalies(cube, period='monthly', standardize=True)  #normalise\n",
    "    return cube\n",
    "\n",
    "def eq_ssta(cube):\n",
    "    cube = extract_region(cube, 150, 270, -5, 5)\n",
    "    cube = extract_time(cube, start_year=1900, start_month=1, start_day=1, end_year=2014, end_month=12, end_day=31)    \n",
    "    # season cycle? detrend? #convert units\n",
    "    cube = rolling_window_statistics(cube, coordinate='time', operator='mean', window_length=5)\n",
    "    cube = rolling_window_statistics(cube, coordinate='time', operator='mean', window_length=5)\n",
    "    cube = extract_month(cube, 12)\n",
    "    cube = anomalies(cube,period='monthly')\n",
    "    cube = regrid(cube, target_grid=\"1x1\", scheme=\"linear\") \n",
    "    cube = meridional_statistics(cube, 'mean') #\n",
    "     # weighted running average 5-degree\n",
    "    cube = rolling_window_statistics(cube, coordinate='longitude', operator='mean', window_length=5)\n",
    "    cube = rolling_window_statistics(cube, coordinate='longitude', operator='mean', window_length=5)\n",
    "    return cube\n",
    "\n",
    "def enso_events(cube):\n",
    "    # mean, std = cube.data.mean(), cube.data.std() #normalised, use 0.75\n",
    "    # range1, range2 = mean-0.75*std, mean + 0.75*std \n",
    "    a_events = mask_to_years(mask_above_threshold(cube.copy(), -0.75))\n",
    "    o_events = mask_to_years(mask_below_threshold(cube.copy(), 0.75))\n",
    "    return {'nina':a_events, 'nino':o_events}\n",
    "\n",
    "def mask_to_years(events):\n",
    "    # build time with mask\n",
    "    maskedTime = np.ma.masked_array(events.coord('time').points, mask=events.data.mask)\n",
    "    # print(f'events cube shape: {events.shape}')\n",
    "    # return years\n",
    "    return [events.coord('time').units.num2date(time).year for time in maskedTime.compressed()]\n",
    "\n",
    "# Diversity - get zonal location of max and min\n",
    "def diversity(ssta_cube, events_dict): #2 masks/events list\n",
    "    # each enso year, max/min SSTA, get longitude\n",
    "    res_lon = {}\n",
    "    for enso, events in events_dict.items():\n",
    "        year_enso = iris.Constraint(time=lambda cell: cell.point.year in events)\n",
    "        cube = ssta_cube.extract(year_enso)\n",
    "        if enso == 'nina':\n",
    "            cube = cube * -1\n",
    "        #iterate through cube, each time get max/min value and return lon\n",
    "        loc_ls = []\n",
    "        for yr_slice in cube.slices(['longitude']):\n",
    "\n",
    "            indx = np.argmax(yr_slice.data) # if nina multiply by -1 or min\n",
    "            loc_ls.append(cube.coord('longitude').points[indx])\n",
    "\n",
    "        res_lon[enso] = loc_ls\n",
    "        \n",
    "    res_lon['enso'] = res_lon['nino'] + res_lon['nina']\n",
    "    return res_lon # return data to plot \n",
    "\n",
    "# IQR and abs((model-ref)/ref)*100\n",
    "def iqr(data):\n",
    "    #calculate interquartile range \n",
    "    q3, q1 = np.percentile(data, [75 ,25])\n",
    "    iqr = q3 - q1\n",
    "    return iqr\n",
    "    \n",
    "def compute(obs_iqr, mod_iqr):\n",
    "    return abs((mod_iqr-obs_iqr)/obs_iqr)*100\n",
    "\n",
    "def preproc(dataset):\n",
    "    nino_res = nino3_4ssta(dataset)\n",
    "    events = enso_events(nino_res)\n",
    "    eq_res = eq_ssta(dataset)\n",
    "    return eq_res, events\n"
   ]
  },
  {
   "cell_type": "code",
   "execution_count": 21,
   "id": "c4045a52-2fe8-405f-9f4d-3c7820557959",
   "metadata": {},
   "outputs": [
    {
     "name": "stderr",
     "output_type": "stream",
     "text": [
      "/g/data/xp65/public/apps/med_conda/envs/esmvaltool-0.6/lib/python3.11/site-packages/iris/cube.py:4881: IrisIgnoringBoundsWarning: The bounds of coordinate 'time' were ignored in the rolling window operation.\n",
      "  warnings.warn(\n",
      "/g/data/xp65/public/apps/med_conda/envs/esmvaltool-0.6/lib/python3.11/site-packages/iris/cube.py:4881: IrisIgnoringBoundsWarning: The bounds of coordinate 'time' were ignored in the rolling window operation.\n",
      "  warnings.warn(\n",
      "/g/data/xp65/public/apps/med_conda/envs/esmvaltool-0.6/lib/python3.11/site-packages/numpy/ma/core.py:5417: RuntimeWarning: Degrees of freedom <= 0 for slice\n",
      "  ret = super().var(axis=axis, dtype=dtype, out=out, ddof=ddof,\n",
      "/g/data/xp65/public/apps/med_conda/envs/esmvaltool-0.6/lib/python3.11/site-packages/numpy/core/_methods.py:195: RuntimeWarning: invalid value encountered in divide\n",
      "  ret = um.true_divide(\n",
      "/g/data/xp65/public/apps/med_conda/envs/esmvaltool-0.6/lib/python3.11/site-packages/iris/cube.py:4881: IrisIgnoringBoundsWarning: The bounds of coordinate 'time' were ignored in the rolling window operation.\n",
      "  warnings.warn(\n",
      "/g/data/xp65/public/apps/med_conda/envs/esmvaltool-0.6/lib/python3.11/site-packages/iris/cube.py:4881: IrisIgnoringBoundsWarning: The bounds of coordinate 'time' were ignored in the rolling window operation.\n",
      "  warnings.warn(\n",
      "/g/data/xp65/public/apps/med_conda/envs/esmvaltool-0.6/lib/python3.11/site-packages/iris/cube.py:4330: IrisUserWarning: Collapsing spatial coordinate 'latitude' without weighting\n",
      "  warnings.warn(\n",
      "/g/data/xp65/public/apps/med_conda/envs/esmvaltool-0.6/lib/python3.11/site-packages/iris/cube.py:4881: IrisIgnoringBoundsWarning: The bounds of coordinate 'longitude' were ignored in the rolling window operation.\n",
      "  warnings.warn(\n",
      "/g/data/xp65/public/apps/med_conda/envs/esmvaltool-0.6/lib/python3.11/site-packages/iris/cube.py:4881: IrisIgnoringBoundsWarning: The bounds of coordinate 'longitude' were ignored in the rolling window operation.\n",
      "  warnings.warn(\n"
     ]
    }
   ],
   "source": [
    "model_datasets_prep = {name: preproc(dataset) for name, dataset in model_datasets.items()}\n",
    "\n",
    "model_datasets_res = {name: diversity(*preprocs) for name, preprocs in model_datasets_prep.items()}"
   ]
  },
  {
   "cell_type": "code",
   "execution_count": 9,
   "id": "c07ece66-8d9c-41d8-bf84-789461a38985",
   "metadata": {},
   "outputs": [
    {
     "name": "stderr",
     "output_type": "stream",
     "text": [
      "/g/data/xp65/public/apps/med_conda/envs/esmvaltool-0.6/lib/python3.11/site-packages/iris/cube.py:4881: IrisIgnoringBoundsWarning: The bounds of coordinate 'time' were ignored in the rolling window operation.\n",
      "  warnings.warn(\n",
      "/g/data/xp65/public/apps/med_conda/envs/esmvaltool-0.6/lib/python3.11/site-packages/iris/cube.py:4881: IrisIgnoringBoundsWarning: The bounds of coordinate 'time' were ignored in the rolling window operation.\n",
      "  warnings.warn(\n",
      "/g/data/xp65/public/apps/med_conda/envs/esmvaltool-0.6/lib/python3.11/site-packages/numpy/ma/core.py:5417: RuntimeWarning: Degrees of freedom <= 0 for slice\n",
      "  ret = super().var(axis=axis, dtype=dtype, out=out, ddof=ddof,\n",
      "/g/data/xp65/public/apps/med_conda/envs/esmvaltool-0.6/lib/python3.11/site-packages/numpy/core/_methods.py:195: RuntimeWarning: invalid value encountered in divide\n",
      "  ret = um.true_divide(\n",
      "/g/data/xp65/public/apps/med_conda/envs/esmvaltool-0.6/lib/python3.11/site-packages/iris/cube.py:4881: IrisIgnoringBoundsWarning: The bounds of coordinate 'time' were ignored in the rolling window operation.\n",
      "  warnings.warn(\n",
      "/g/data/xp65/public/apps/med_conda/envs/esmvaltool-0.6/lib/python3.11/site-packages/iris/cube.py:4881: IrisIgnoringBoundsWarning: The bounds of coordinate 'time' were ignored in the rolling window operation.\n",
      "  warnings.warn(\n",
      "/g/data/xp65/public/apps/med_conda/envs/esmvaltool-0.6/lib/python3.11/site-packages/iris/cube.py:4330: IrisUserWarning: Collapsing spatial coordinate 'latitude' without weighting\n",
      "  warnings.warn(\n",
      "/g/data/xp65/public/apps/med_conda/envs/esmvaltool-0.6/lib/python3.11/site-packages/iris/cube.py:4881: IrisIgnoringBoundsWarning: The bounds of coordinate 'longitude' were ignored in the rolling window operation.\n",
      "  warnings.warn(\n",
      "/g/data/xp65/public/apps/med_conda/envs/esmvaltool-0.6/lib/python3.11/site-packages/iris/cube.py:4881: IrisIgnoringBoundsWarning: The bounds of coordinate 'longitude' were ignored in the rolling window operation.\n",
      "  warnings.warn(\n"
     ]
    }
   ],
   "source": [
    "obs_datasets_prep = {name: preproc(dataset) for name, dataset in obs_datasets.items()}"
   ]
  },
  {
   "cell_type": "code",
   "execution_count": 12,
   "id": "cd9c6341-575e-44d8-afcb-f461b18923ae",
   "metadata": {},
   "outputs": [
    {
     "name": "stdout",
     "output_type": "stream",
     "text": [
      "245.0 215.0\n",
      "239.5 196.25\n",
      "metric:  30.63583815028902\n"
     ]
    }
   ],
   "source": [
    "obs_datasets_res = {name: diversity(*preprocs) for name, preprocs in obs_datasets_prep.items()}\n",
    "\n",
    "metric = [iqr(model_datasets_res[\"ACCESS-ESM1-5\"]['enso']), \n",
    "          iqr(obs_datasets_res[\"HadISST\"]['enso'])]\n",
    "print('metric: ', compute(metric[1],metric[0]))"
   ]
  },
  {
   "cell_type": "markdown",
   "id": "9e4a3f55-47b4-47c0-b26b-b2a5399d7ddf",
   "metadata": {},
   "source": [
    "## Diagnostic Level 1\n",
    "\n",
    "The first level shows the diagnostic used to compute the metric and highlight the difference between the model and the reference."
   ]
  },
  {
   "cell_type": "code",
   "execution_count": 13,
   "id": "ae5d0b8e-bf8f-4440-bf0e-9457f5dbc7f4",
   "metadata": {},
   "outputs": [
    {
     "data": {
      "text/plain": [
       "Text(0.75, 0.8, '* observation')"
      ]
     },
     "execution_count": 13,
     "metadata": {},
     "output_type": "execute_result"
    },
    {
     "data": {
      "image/png": "[encoded data removed]",
      "text/plain": [
       "<Figure size 640x480 with 1 Axes>"
      ]
     },
     "metadata": {},
     "output_type": "display_data"
    }
   ],
   "source": [
    "plt.scatter(range(len(metric)), metric, c=['blue','black'], marker='D')\n",
    "\n",
    "plt.xlim(-0.5,2)#range(-1,3,1)) #['model','obs']\n",
    "plt.xticks([])\n",
    "\n",
    "plt.ylabel('IQR of min/max SSTA (°long)')\n",
    "plt.grid(linestyle='--', axis='y')\n",
    "plt.title('ENSO diversity')\n",
    "\n",
    "metricval = compute(metric[1],metric[0])\n",
    "plt.text(0.95, 0.95, f'Metric: {metricval:.2f} %', fontsize=12, ha='right', transform=plt.gca().transAxes,\n",
    "         bbox=dict(facecolor='white', alpha=0.8, edgecolor='none'))\n",
    "\n",
    "plt.text(0.75,0.85, '* ACCESS-CM2', color='blue',transform=plt.gca().transAxes)\n",
    "plt.text(0.75,0.8, '* observation', color='black',transform=plt.gca().transAxes)\n",
    "# plt.legend(loc='lower right')"
   ]
  },
  {
   "cell_type": "markdown",
   "id": "09078b7d-1dc3-415d-ae0c-c00d7e25619e",
   "metadata": {},
   "source": [
    "**Figure 1**: Width of the zonal location of maximum (minimum) SSTA during all El Niño (La Niña) events, illustrating the \"diversity\" of ENSO events. The model typically shows a smaller zonal width compared to the reference. The black markers represent the reference data, while the blue markers represent the model output. The derived metric is the absolute relative difference, calculated as: \\( \\text{abs}((\\text{model} - \\text{ref}) / \\text{ref}) \\times 100 \\).\n"
   ]
  },
  {
   "cell_type": "markdown",
   "id": "49bc5455-39b4-4aea-826b-68d00672bbf9",
   "metadata": {},
   "source": [
    "## Diagnostic Level 2\n",
    "\n",
    "The second level shows the distribution of zonal location of the maximum SSTA during all ENSO events, La Niña events, El Niño events: the ENSO diversity."
   ]
  },
  {
   "cell_type": "code",
   "execution_count": 10,
   "id": "945b214c-b5b0-402e-b9a3-273eac8cefac",
   "metadata": {},
   "outputs": [
    {
     "data": {
      "image/png": "[encoded data removed]",
      "text/plain": [
       "<Figure size 2000x700 with 2 Axes>"
      ]
     },
     "metadata": {},
     "output_type": "display_data"
    }
   ],
   "source": [
    "def format_longitude(x, pos):\n",
    "    if x > 180:\n",
    "        return f'{int(360 - x)}°W'\n",
    "    elif x == 180:\n",
    "        return f'{int(x)}°'\n",
    "    else:\n",
    "        return f'{int(x)}°E'\n",
    "\n",
    "ds_labels = ['ACCESS-ESM1-5','HadISST']\n",
    "fig = plt.figure(figsize=(20, 7))\n",
    "nina = [model_datasets_res[\"ACCESS-ESM1-5\"]['nina'], obs_datasets_res[\"HadISST\"]['nina']] # subplots for nina and nino\n",
    "nino = [model_datasets_res[\"ACCESS-ESM1-5\"]['nino'], obs_datasets_res[\"HadISST\"]['nino']]\n",
    "#another plot for enso = [process[ds]['enso'] for ds in process.keys()]\n",
    "\n",
    "ax1 = plt.subplot(121)\n",
    "bplt = ax1.boxplot(nina, labels=ds_labels, showmeans=True)\n",
    "#check whiskers to 10th 90th percentile,, whis=(5,95) box-25th to 75th, diamond mean\n",
    "\n",
    "for k in bplt.keys():\n",
    "    plt.setp(bplt[k], linewidth=2)\n",
    "# colours = ['blue','black']\n",
    "# for k in ['boxes','whiskers','caps']:\n",
    "#     for patch, colour in zip(bplt[k], ):\n",
    "#         # patch.set_color(colour)\n",
    "#         patch.set_linewidth(2)\n",
    "#         if k == 'boxes':\n",
    "#             patch.set_fill(False)\n",
    "ax1.set_title('La Nina diversity')\n",
    "plt.ylabel('longitude of min SSTA')\n",
    "plt.gca().yaxis.set_major_formatter(plt.FuncFormatter(format_longitude))\n",
    "plt.grid(linestyle='--', axis='y')\n",
    "\n",
    "ax1 = plt.subplot(122)\n",
    "bplt = ax1.boxplot(nino, labels=ds_labels, showmeans=True) # whis=(10,90),\n",
    "for k in bplt.keys():\n",
    "    plt.setp(bplt[k], linewidth=2)\n",
    "plt.title('El Nino diversity')\n",
    "plt.ylabel('longitude of max SSTA')\n",
    "plt.grid(linestyle='--', axis='y')\n",
    "plt.gca().yaxis.set_major_formatter(plt.FuncFormatter(format_longitude))"
   ]
  },
  {
   "cell_type": "code",
   "execution_count": 11,
   "id": "f7a5a5d4",
   "metadata": {},
   "outputs": [
    {
     "data": {
      "image/png": "[encoded data removed]",
      "text/plain": [
       "<Figure size 640x480 with 1 Axes>"
      ]
     },
     "metadata": {},
     "output_type": "display_data"
    }
   ],
   "source": [
    "#plot for \n",
    "enso = [model_datasets_res[\"ACCESS-ESM1-5\"]['enso'], obs_datasets_res[\"HadISST\"]['enso']]\n",
    "\n",
    "bplt = plt.boxplot(enso, labels=ds_labels, showmeans=True) # whis=(10,90),\n",
    "for k in bplt.keys():\n",
    "    plt.setp(bplt[k], linewidth=2)\n",
    "plt.title('ENSO diversity')\n",
    "plt.ylabel('longitude of min/max SSTA')\n",
    "plt.grid(linestyle='--', axis='y')\n",
    "plt.gca().yaxis.set_major_formatter(plt.FuncFormatter(format_longitude))"
   ]
  },
  {
   "cell_type": "markdown",
   "id": "b4b4dee0-0d9a-458f-b86b-2ccd9b785d2c",
   "metadata": {},
   "source": [
    "**Figure 2**: Distributions of the zonal location of the maximum SSTA during all ENSO events (top left), La Niña events (top right), and El Niño events (bottom left). The model typically shows a too wide distribution for La Niña events and too narrow for El Niño events. The distributions are also skewed in the wrong direction and shifted eastward for both types of events. The black and blue boxplots represent the reference and the model, respectively. Boxplots: whiskers extend to the 10th and 90th percentiles; boxes encompass the 25th and 75th percentiles; and a diamond marks the mean. La Niña (El Niño) events are defined when the December Niño3.4 SSTA (smoothed with a 5-month triangular-weighted moving average) is below -0.75 (above 0.75) standard deviation.\n"
   ]
  }
 ],
 "metadata": {
  "kernelspec": {
   "display_name": "Python 3 (ipykernel)",
   "language": "python",
   "name": "python3"
  },
  "language_info": {
   "codemirror_mode": {
    "name": "ipython",
    "version": 3
   },
   "file_extension": ".py",
   "mimetype": "text/x-python",
   "name": "python",
   "nbconvert_exporter": "python",
   "pygments_lexer": "ipython3",
   "version": "3.11.11"
  }
 },
 "nbformat": 4,
 "nbformat_minor": 5
}
