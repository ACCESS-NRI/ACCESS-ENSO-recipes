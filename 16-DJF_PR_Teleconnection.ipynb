{
 "cells": [
  {
   "cell_type": "markdown",
   "id": "8e444b8f-e137-4087-8abd-48ef10a4adfb",
   "metadata": {},
   "source": [
    "# DJF_PR_teleconnection: \n",
    "\n",
    "## Datasets Used for SSTA Comparison\n",
    "The following reference datasets are employed to evaluate the ENSO-related SST patterns in model simulations:\n",
    "\n",
    "- **TropFlux** (1979–2018): The primary dataset for comparison, providing high-quality estimates of surface fluxes and anomalies designed for tropical ocean and climate studies, combining in-situ measurements with satellite-derived data.\n",
    "Additional datasets include:\n",
    "\n",
    "- **20CRv2** (1871–2012): A century-scale reanalysis leveraging surface pressure observations to reconstruct global atmospheric conditions.- **ERA-Interim** (1979–2018): A widely used reanalysis dataset offering high-resolution estimates of atmospheric and surface variables with robust data assimilation techniques.\n",
    "- **ERSSTv5** (1854–2018): A globally gridded dataset of historical SSTs derived from in-situ measurements and optimised for climate monitoring and ENSO studies.\n",
    "- **HadISST** (1870–2018): A long-term SST and sea ice dataset combining ship and buoy observations with historical data reconstruction.\n",
    "- **NCEP2** (1979–2018): The second-generation reanalysis dataset from NCEP, improving upon the earlier version for global atmospheric and oceanic variability analysis."
   ]
  },
  {
   "cell_type": "code",
   "execution_count": 1,
   "id": "a3a2571a-c2f1-4ac8-a272-d4c731c062cd",
   "metadata": {},
   "outputs": [],
   "source": [
    "from esmvalcore.dataset import Dataset"
   ]
  },
  {
   "cell_type": "code",
   "execution_count": 2,
   "id": "a20485d9-9e93-4564-9fc0-f07c64a3bc36",
   "metadata": {},
   "outputs": [],
   "source": [
    "model_tos_datasets = {\n",
    "\"ACCESS-ESM1-5\": \n",
    "    Dataset(\n",
    "    short_name='tos',\n",
    "    project='CMIP6',\n",
    "    mip=\"Omon\",\n",
    "    exp=\"historical\",\n",
    "    ensemble=\"r1i1p1f1\",\n",
    "    timerange=\"19790101/20190101\",\n",
    "    dataset=\"ACCESS-ESM1-5\",\n",
    "    grid=\"gn\"\n",
    ")}\n",
    "\n",
    "model_tos_datasets[\"ACCESS-ESM1-5\"].add_supplementary(short_name='areacello', mip='Ofx')\n",
    "\n",
    "model_pr_datasets = {\n",
    "\"ACCESS-ESM1-5\": \n",
    "    Dataset(\n",
    "    short_name='pr',\n",
    "    project='CMIP6',\n",
    "    mip=\"Amon\",\n",
    "    exp=\"historical\",\n",
    "    ensemble=\"r1i1p1f1\",\n",
    "    timerange=\"19790101/20150101\",\n",
    "    dataset=\"ACCESS-ESM1-5\",\n",
    "    grid=\"gn\"\n",
    ")}\n",
    "\n",
    "\n",
    "obs_tos_datasets = {\n",
    "\"HadISST\": \n",
    "    Dataset(\n",
    "    short_name='tos',\n",
    "    dataset='HadISST',\n",
    "    mip=\"Omon\",\n",
    "    project='OBS',\n",
    "    type='reanaly',\n",
    "    tier=2),\n",
    "\"ERSSTv5\":\n",
    "    Dataset(\n",
    "    short_name='tos',\n",
    "    dataset='NOAA-ERSSTv5',\n",
    "    mip=\"Omon\",\n",
    "    project='OBS6',\n",
    "    type='reanaly',\n",
    "    tier=2)\n",
    "}\n",
    "\n",
    "obs_pr_datasets = {\n",
    "\"GPCP-SG\": \n",
    "    Dataset(\n",
    "    short_name='pr',\n",
    "    dataset='GPCP-SG',\n",
    "    mip=\"Amon\",\n",
    "    project='OBS',\n",
    "    type='atmos',\n",
    "    tier=2)\n",
    "}"
   ]
  },
  {
   "cell_type": "code",
   "execution_count": 3,
   "id": "5e048061-f220-4e34-820a-629c7b6b5580",
   "metadata": {},
   "outputs": [],
   "source": [
    "model_tos_datasets = {name: dataset.load() for name, dataset in model_tos_datasets.items()}\n",
    "model_pr_datasets = {name: dataset.load() for name, dataset in model_pr_datasets.items()}\n",
    "\n",
    "obs_tos_datasets = {name: dataset.load() for name, dataset in obs_tos_datasets.items()}\n",
    "obs_pr_datasets = {name: dataset.load() for name, dataset in obs_pr_datasets.items()}"
   ]
  },
  {
   "cell_type": "code",
   "execution_count": 4,
   "id": "3e4b8d63-b98d-4195-a6cb-7a5316c6db3b",
   "metadata": {},
   "outputs": [],
   "source": [
    "from esmvalcore.preprocessor import anomalies\n",
    "from esmvalcore.preprocessor import area_statistics\n",
    "from esmvalcore.preprocessor import rolling_window_statistics\n",
    "from esmvalcore.preprocessor import convert_units\n",
    "from esmvalcore.preprocessor import extract_region\n",
    "from esmvalcore.preprocessor import extract_season\n",
    "from esmvalcore.preprocessor import regrid\n",
    "from esmvalcore.preprocessor import detrend\n",
    "from esmvalcore.preprocessor import mask_landsea\n",
    "import iris\n",
    "\n",
    "import matplotlib.pyplot as plt\n",
    "import iris.quickplot as qplt\n",
    "import numpy as np\n",
    "import scipy.stats"
   ]
  },
  {
   "cell_type": "code",
   "execution_count": 5,
   "id": "61674b62",
   "metadata": {},
   "outputs": [],
   "source": [
    "def sst_enso(cube):\n",
    "    nino34_latext_region = {\"start_longitude\": 190., \"end_longitude\": 240., \"start_latitude\": -5., \"end_latitude\": 5.}\n",
    "    cube = convert_units(cube, units=\"degC\")\n",
    "    # cube = mask_landsea(cube, mask_out=\"land\") #shp or land fraction\n",
    "    # detrend?\n",
    "    cube = regrid(cube, target_grid=\"1x1\", scheme=\"linear\")\n",
    "    cube = extract_region(cube, **nino34_latext_region)\n",
    "    cube = rolling_window_statistics(cube, coordinate='time', operator='mean', window_length=5)\n",
    "    cube = rolling_window_statistics(cube, coordinate='time', operator='mean', window_length=5)\n",
    "    cube = area_statistics(cube,operator='mean')\n",
    "    cube = extract_season(cube, season=\"DJF\")\n",
    "    #remove time mean\n",
    "    cube = anomalies(cube, period=\"full\")\n",
    "    return cube\n",
    "\n",
    "\n",
    "def pr_global(cube):\n",
    "    region = {\"start_longitude\": 0., \"end_longitude\": 360., \"start_latitude\": -60., \"end_latitude\": 60.}\n",
    "    cube = convert_units(cube, units=\"mm/day\")\n",
    "    cube = extract_season(cube, season=\"DJF\")\n",
    "    cube = anomalies(cube, period=\"full\")\n",
    "    cube = regrid(cube, target_grid=\"1x1\", scheme=\"linear\")\n",
    "    cube = extract_region(cube, **region)\n",
    "    return cube   \n",
    "\n",
    "\n",
    "# linear regression of pr_global on sst_enso on sst_eq\n",
    "# iterate over lat/lon for 2d\n",
    "def lin_regress(cube_prglobal, cube_sstenso):\n",
    "    slope_ls = []\n",
    "    ## flatten and reshape\n",
    "    for lonlat_slice in cube_prglobal.slices(['time']):\n",
    "        res = scipy.stats.linregress(cube_sstenso.data, lonlat_slice.data)\n",
    "        slope_ls.append(res[0])\n",
    "    \n",
    "    slope_array = np.array(slope_ls)\n",
    "    prglobal_reg = slope_array.reshape(cube_prglobal.shape[1],cube_prglobal.shape[2])\n",
    "    cube = iris.cube.Cube(prglobal_reg, long_name='regression ENSO SSTA',\n",
    "                          dim_coords_and_dims=[(cube_prglobal.coord('latitude'), 0),\n",
    "                                               (cube_prglobal.coord('longitude'), 1)])\n",
    "\n",
    "    return cube"
   ]
  },
  {
   "cell_type": "code",
   "execution_count": 6,
   "id": "821d528c-da59-4b25-9bfa-3d7a53a61a9f",
   "metadata": {
    "scrolled": true
   },
   "outputs": [
    {
     "name": "stderr",
     "output_type": "stream",
     "text": [
      "/g/data/xp65/public/apps/med_conda/envs/esmvaltool-0.4/lib/python3.11/site-packages/iris/cube.py:4620: IrisIgnoringBoundsWarning: The bounds of coordinate 'time' were ignored in the rolling window operation.\n",
      "  warnings.warn(\n",
      "/g/data/xp65/public/apps/med_conda/envs/esmvaltool-0.4/lib/python3.11/site-packages/iris/coords.py:2164: IrisVagueMetadataWarning: Collapsing a non-contiguous coordinate. Metadata may not be fully descriptive for 'time'.\n",
      "  warnings.warn(\n",
      "/g/data/xp65/public/apps/med_conda/envs/esmvaltool-0.4/lib/python3.11/site-packages/iris/coords.py:2153: IrisVagueMetadataWarning: Cannot check if coordinate is contiguous: Invalid operation for 'season_year', with 0 bound(s). Contiguous bounds are only defined for 1D coordinates with 2 bounds. Metadata may not be fully descriptive for 'season_year'. Ignoring bounds.\n",
      "  warnings.warn(\n",
      "/g/data/xp65/public/apps/med_conda/envs/esmvaltool-0.4/lib/python3.11/site-packages/iris/coords.py:2164: IrisVagueMetadataWarning: Collapsing a non-contiguous coordinate. Metadata may not be fully descriptive for 'time'.\n",
      "  warnings.warn(\n",
      "/g/data/xp65/public/apps/med_conda/envs/esmvaltool-0.4/lib/python3.11/site-packages/iris/coords.py:2153: IrisVagueMetadataWarning: Cannot check if coordinate is contiguous: Invalid operation for 'season_year', with 0 bound(s). Contiguous bounds are only defined for 1D coordinates with 2 bounds. Metadata may not be fully descriptive for 'season_year'. Ignoring bounds.\n",
      "  warnings.warn(\n",
      "/g/data/xp65/public/apps/med_conda/envs/esmvaltool-0.4/lib/python3.11/site-packages/iris/cube.py:4620: IrisIgnoringBoundsWarning: The bounds of coordinate 'time' were ignored in the rolling window operation.\n",
      "  warnings.warn(\n",
      "/g/data/xp65/public/apps/med_conda/envs/esmvaltool-0.4/lib/python3.11/site-packages/iris/coords.py:2164: IrisVagueMetadataWarning: Collapsing a non-contiguous coordinate. Metadata may not be fully descriptive for 'time'.\n",
      "  warnings.warn(\n",
      "/g/data/xp65/public/apps/med_conda/envs/esmvaltool-0.4/lib/python3.11/site-packages/iris/coords.py:2153: IrisVagueMetadataWarning: Cannot check if coordinate is contiguous: Invalid operation for 'season_year', with 0 bound(s). Contiguous bounds are only defined for 1D coordinates with 2 bounds. Metadata may not be fully descriptive for 'season_year'. Ignoring bounds.\n",
      "  warnings.warn(\n",
      "/g/data/xp65/public/apps/med_conda/envs/esmvaltool-0.4/lib/python3.11/site-packages/iris/cube.py:4620: IrisIgnoringBoundsWarning: The bounds of coordinate 'time' were ignored in the rolling window operation.\n",
      "  warnings.warn(\n",
      "/g/data/xp65/public/apps/med_conda/envs/esmvaltool-0.4/lib/python3.11/site-packages/iris/coords.py:2164: IrisVagueMetadataWarning: Collapsing a non-contiguous coordinate. Metadata may not be fully descriptive for 'time'.\n",
      "  warnings.warn(\n",
      "/g/data/xp65/public/apps/med_conda/envs/esmvaltool-0.4/lib/python3.11/site-packages/iris/coords.py:2153: IrisVagueMetadataWarning: Cannot check if coordinate is contiguous: Invalid operation for 'season_year', with 0 bound(s). Contiguous bounds are only defined for 1D coordinates with 2 bounds. Metadata may not be fully descriptive for 'season_year'. Ignoring bounds.\n",
      "  warnings.warn(\n",
      "/g/data/xp65/public/apps/med_conda/envs/esmvaltool-0.4/lib/python3.11/site-packages/iris/coords.py:2164: IrisVagueMetadataWarning: Collapsing a non-contiguous coordinate. Metadata may not be fully descriptive for 'time'.\n",
      "  warnings.warn(\n",
      "/g/data/xp65/public/apps/med_conda/envs/esmvaltool-0.4/lib/python3.11/site-packages/iris/coords.py:2153: IrisVagueMetadataWarning: Cannot check if coordinate is contiguous: Invalid operation for 'season_year', with 0 bound(s). Contiguous bounds are only defined for 1D coordinates with 2 bounds. Metadata may not be fully descriptive for 'season_year'. Ignoring bounds.\n",
      "  warnings.warn(\n"
     ]
    }
   ],
   "source": [
    "model_tos_datasets_prep = {name: sst_enso(dataset) for name, dataset in model_tos_datasets.items()}\n",
    "model_pr_datasets_prep = {name: pr_global(dataset) for name, dataset in model_pr_datasets.items()}\n",
    "\n",
    "obs_tos_datasets_prep = {name: sst_enso(dataset) for name, dataset in obs_tos_datasets.items()}\n",
    "obs_pr_datasets_prep = {name: pr_global(dataset) for name, dataset in obs_pr_datasets.items()}"
   ]
  },
  {
   "cell_type": "markdown",
   "id": "bb1fc647-03a5-472e-8264-41ded88a5a63",
   "metadata": {},
   "source": [
    "# Diagnostic Level 1"
   ]
  },
  {
   "cell_type": "code",
   "execution_count": 9,
   "id": "67615b5a-1bd2-4531-9e3e-5ad091d11f32",
   "metadata": {},
   "outputs": [
    {
     "ename": "ValueError",
     "evalue": "all the input array dimensions except for the concatenation axis must match exactly, but along dimension 1, the array at index 0 has size 453 and the array at index 1 has size 134",
     "output_type": "error",
     "traceback": [
      "\u001b[0;31m---------------------------------------------------------------------------\u001b[0m",
      "\u001b[0;31mValueError\u001b[0m                                Traceback (most recent call last)",
      "Cell \u001b[0;32mIn[9], line 2\u001b[0m\n\u001b[1;32m      1\u001b[0m \u001b[38;5;66;03m#reg2_mod = lin_regress(model_pr_datasets_prep[\"ACCESS-ESM1-5\"], model_tos_datasets_prep[\"ACCESS-ESM1-5\"])\u001b[39;00m\n\u001b[0;32m----> 2\u001b[0m reg2_obs \u001b[38;5;241m=\u001b[39m \u001b[43mlin_regress\u001b[49m\u001b[43m(\u001b[49m\u001b[43mobs_pr_datasets_prep\u001b[49m\u001b[43m[\u001b[49m\u001b[38;5;124;43m\"\u001b[39;49m\u001b[38;5;124;43mGPCP-SG\u001b[39;49m\u001b[38;5;124;43m\"\u001b[39;49m\u001b[43m]\u001b[49m\u001b[43m,\u001b[49m\u001b[43m \u001b[49m\u001b[43mobs_tos_datasets_prep\u001b[49m\u001b[43m[\u001b[49m\u001b[38;5;124;43m\"\u001b[39;49m\u001b[38;5;124;43mHadISST\u001b[39;49m\u001b[38;5;124;43m\"\u001b[39;49m\u001b[43m]\u001b[49m\u001b[43m)\u001b[49m\n\u001b[1;32m      4\u001b[0m \u001b[38;5;66;03m#process = {\"ACCESS-ESM1-5\":reg2_mod , \"HadISST\":reg2_obs} \u001b[39;00m\n",
      "Cell \u001b[0;32mIn[5], line 33\u001b[0m, in \u001b[0;36mlin_regress\u001b[0;34m(cube_prglobal, cube_sstenso)\u001b[0m\n\u001b[1;32m     31\u001b[0m \u001b[38;5;66;03m## flatten and reshape\u001b[39;00m\n\u001b[1;32m     32\u001b[0m \u001b[38;5;28;01mfor\u001b[39;00m lonlat_slice \u001b[38;5;129;01min\u001b[39;00m cube_prglobal\u001b[38;5;241m.\u001b[39mslices([\u001b[38;5;124m'\u001b[39m\u001b[38;5;124mtime\u001b[39m\u001b[38;5;124m'\u001b[39m]):\n\u001b[0;32m---> 33\u001b[0m     res \u001b[38;5;241m=\u001b[39m \u001b[43mscipy\u001b[49m\u001b[38;5;241;43m.\u001b[39;49m\u001b[43mstats\u001b[49m\u001b[38;5;241;43m.\u001b[39;49m\u001b[43mlinregress\u001b[49m\u001b[43m(\u001b[49m\u001b[43mcube_sstenso\u001b[49m\u001b[38;5;241;43m.\u001b[39;49m\u001b[43mdata\u001b[49m\u001b[43m,\u001b[49m\u001b[43m \u001b[49m\u001b[43mlonlat_slice\u001b[49m\u001b[38;5;241;43m.\u001b[39;49m\u001b[43mdata\u001b[49m\u001b[43m)\u001b[49m\n\u001b[1;32m     34\u001b[0m     slope_ls\u001b[38;5;241m.\u001b[39mappend(res[\u001b[38;5;241m0\u001b[39m])\n\u001b[1;32m     36\u001b[0m slope_array \u001b[38;5;241m=\u001b[39m np\u001b[38;5;241m.\u001b[39marray(slope_ls)\n",
      "File \u001b[0;32m/g/data/xp65/public/apps/med_conda/envs/esmvaltool-0.4/lib/python3.11/site-packages/scipy/stats/_stats_py.py:10902\u001b[0m, in \u001b[0;36mlinregress\u001b[0;34m(x, y, alternative)\u001b[0m\n\u001b[1;32m  10897\u001b[0m ymean \u001b[38;5;241m=\u001b[39m np\u001b[38;5;241m.\u001b[39mmean(y, \u001b[38;5;28;01mNone\u001b[39;00m)\n\u001b[1;32m  10899\u001b[0m \u001b[38;5;66;03m# Average sums of square differences from the mean\u001b[39;00m\n\u001b[1;32m  10900\u001b[0m \u001b[38;5;66;03m#   ssxm = mean( (x-mean(x))^2 )\u001b[39;00m\n\u001b[1;32m  10901\u001b[0m \u001b[38;5;66;03m#   ssxym = mean( (x-mean(x)) * (y-mean(y)) )\u001b[39;00m\n\u001b[0;32m> 10902\u001b[0m ssxm, ssxym, _, ssym \u001b[38;5;241m=\u001b[39m \u001b[43mnp\u001b[49m\u001b[38;5;241;43m.\u001b[39;49m\u001b[43mcov\u001b[49m\u001b[43m(\u001b[49m\u001b[43mx\u001b[49m\u001b[43m,\u001b[49m\u001b[43m \u001b[49m\u001b[43my\u001b[49m\u001b[43m,\u001b[49m\u001b[43m \u001b[49m\u001b[43mbias\u001b[49m\u001b[38;5;241;43m=\u001b[39;49m\u001b[38;5;241;43m1\u001b[39;49m\u001b[43m)\u001b[49m\u001b[38;5;241m.\u001b[39mflat\n\u001b[1;32m  10904\u001b[0m \u001b[38;5;66;03m# R-value\u001b[39;00m\n\u001b[1;32m  10905\u001b[0m \u001b[38;5;66;03m#   r = ssxym / sqrt( ssxm * ssym )\u001b[39;00m\n\u001b[1;32m  10906\u001b[0m \u001b[38;5;28;01mif\u001b[39;00m ssxm \u001b[38;5;241m==\u001b[39m \u001b[38;5;241m0.0\u001b[39m \u001b[38;5;129;01mor\u001b[39;00m ssym \u001b[38;5;241m==\u001b[39m \u001b[38;5;241m0.0\u001b[39m:\n\u001b[1;32m  10907\u001b[0m     \u001b[38;5;66;03m# If the denominator was going to be 0\u001b[39;00m\n",
      "File \u001b[0;32m/g/data/xp65/public/apps/med_conda/envs/esmvaltool-0.4/lib/python3.11/site-packages/numpy/lib/function_base.py:2683\u001b[0m, in \u001b[0;36mcov\u001b[0;34m(m, y, rowvar, bias, ddof, fweights, aweights, dtype)\u001b[0m\n\u001b[1;32m   2681\u001b[0m     \u001b[38;5;28;01mif\u001b[39;00m \u001b[38;5;129;01mnot\u001b[39;00m rowvar \u001b[38;5;129;01mand\u001b[39;00m y\u001b[38;5;241m.\u001b[39mshape[\u001b[38;5;241m0\u001b[39m] \u001b[38;5;241m!=\u001b[39m \u001b[38;5;241m1\u001b[39m:\n\u001b[1;32m   2682\u001b[0m         y \u001b[38;5;241m=\u001b[39m y\u001b[38;5;241m.\u001b[39mT\n\u001b[0;32m-> 2683\u001b[0m     X \u001b[38;5;241m=\u001b[39m \u001b[43mnp\u001b[49m\u001b[38;5;241;43m.\u001b[39;49m\u001b[43mconcatenate\u001b[49m\u001b[43m(\u001b[49m\u001b[43m(\u001b[49m\u001b[43mX\u001b[49m\u001b[43m,\u001b[49m\u001b[43m \u001b[49m\u001b[43my\u001b[49m\u001b[43m)\u001b[49m\u001b[43m,\u001b[49m\u001b[43m \u001b[49m\u001b[43maxis\u001b[49m\u001b[38;5;241;43m=\u001b[39;49m\u001b[38;5;241;43m0\u001b[39;49m\u001b[43m)\u001b[49m\n\u001b[1;32m   2685\u001b[0m \u001b[38;5;28;01mif\u001b[39;00m ddof \u001b[38;5;129;01mis\u001b[39;00m \u001b[38;5;28;01mNone\u001b[39;00m:\n\u001b[1;32m   2686\u001b[0m     \u001b[38;5;28;01mif\u001b[39;00m bias \u001b[38;5;241m==\u001b[39m \u001b[38;5;241m0\u001b[39m:\n",
      "\u001b[0;31mValueError\u001b[0m: all the input array dimensions except for the concatenation axis must match exactly, but along dimension 1, the array at index 0 has size 453 and the array at index 1 has size 134"
     ]
    }
   ],
   "source": [
    "#reg2_mod = lin_regress(model_pr_datasets_prep[\"ACCESS-ESM1-5\"], model_tos_datasets_prep[\"ACCESS-ESM1-5\"])\n",
    "reg2_obs = lin_regress(obs_pr_datasets_prep[\"GPCP-SG\"], obs_tos_datasets_prep[\"HadISST\"])\n",
    "\n",
    "#process = {\"ACCESS-ESM1-5\":reg2_mod , \"HadISST\":reg2_obs} "
   ]
  },
  {
   "cell_type": "code",
   "execution_count": null,
   "id": "0607dbd0-4565-4fe9-8db3-75f3602f027f",
   "metadata": {},
   "outputs": [],
   "source": [
    "# \n",
    "import iris.plot as iplt\n",
    "import matplotlib.colors as mcolors\n",
    "import cartopy.feature as cfeature\n",
    "import cartopy.crs as ccrs\n",
    "\n",
    "fig = plt.figure(figsize=(20, 7))\n",
    "proj = ccrs.Orthographic(central_longitude=210.0)\n",
    "i =121\n",
    "# process = {**model_datasets_prep3, **obs_datasets_prep3}\n",
    "\n",
    "\n",
    "for label, cube in process.items():\n",
    "    \n",
    "    ax1 = plt.subplot(i,projection=proj)\n",
    "    ax1.add_feature(cfeature.LAND, facecolor='gray')  # Add land feature with gray color\n",
    "    ax1.coastlines()\n",
    "    cf1 = iplt.contourf(cube, levels=np.arange(-1.5,2,0.1), cmap='RdBu_r')\n",
    "    # cf1 = plt.contourf(reg2[0],reg2[1],reg2[2], cmap='RdBu_r', levels=np.arange(0,2,0.1))\n",
    "\n",
    "    ax1.set_extent([130, 290, -20, 20], crs=ccrs.PlateCarree())\n",
    "    ax1.set_title(label)\n",
    "\n",
    "    # Add gridlines for latitude and longitude\n",
    "    gl1 = ax1.gridlines(draw_labels=True, linestyle='--')\n",
    "    gl1.top_labels = False\n",
    "    gl1.right_labels = False\n",
    "\n",
    "    i+=1\n",
    "\n",
    "\n",
    "# Add a single colorbar at the bottom\n",
    "cax = plt.axes([0.15,0.08,0.7,0.05])\n",
    "cbar = fig.colorbar(cf1, cax=cax, orientation='horizontal', extend='both', ticks=np.arange(-2,2.5,0.5))\n",
    "cbar.set_label('regression(ENSO SSTA, SSTA) (°C/°C)')"
   ]
  },
  {
   "cell_type": "markdown",
   "id": "beb3c318-5251-4c61-a74e-b06c39a6765a",
   "metadata": {},
   "source": [
    "## Diagnostic Level 2"
   ]
  }
 ],
 "metadata": {
  "kernelspec": {
   "display_name": "Python 3 (ipykernel)",
   "language": "python",
   "name": "python3"
  },
  "language_info": {
   "codemirror_mode": {
    "name": "ipython",
    "version": 3
   },
   "file_extension": ".py",
   "mimetype": "text/x-python",
   "name": "python",
   "nbconvert_exporter": "python",
   "pygments_lexer": "ipython3",
   "version": "3.11.9"
  }
 },
 "nbformat": 4,
 "nbformat_minor": 5
}
