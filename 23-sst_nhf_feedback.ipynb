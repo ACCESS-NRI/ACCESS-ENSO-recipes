{
 "cells": [
  {
   "attachments": {},
   "cell_type": "markdown",
   "id": "8e444b8f-e137-4087-8abd-48ef10a4adfb",
   "metadata": {},
   "source": [
    "# sst-nhf feedback : \n",
    "\n",
    "Computes net surface heat flux anomalies (NHFA; sum of latent and sensible heat fluxes and longwave and shortwave radiations) regressed onto surface temperature anomalies (SSTA) both in the eastern equatorial Pacific (horizontal Niño3 average).\n",
    "\n",
    "#### Reference observations:\n",
    "TropFlux 1979-2018 (main)\n",
    "\n",
    "NHF: OAFlux-ISCCP 1984-2009, DEEP-C 1985-2016, ERA5 1940-2022, 20CRv3 1836-2015, NCEP2 1979-2023\n",
    "SST: ERSSTv5 1854-2023, HadISST 1870-2023, COBE2 1850-2023, ERA5 1940-2022, 20CRv3 1836-2015, NCEP2 1979-2023\n"
   ]
  },
  {
   "cell_type": "code",
   "execution_count": 1,
   "id": "a3a2571a-c2f1-4ac8-a272-d4c731c062cd",
   "metadata": {},
   "outputs": [],
   "source": [
    "from esmvalcore.dataset import Dataset\n",
    "\n",
    "from esmvalcore.config import CFG\n",
    "CFG['rootpath']['OBS6'].append(r'/g/data/kj13/datasets/esmvaltool/obsdata-v2') #NCEP-DOE-R2 tos"
   ]
  },
  {
   "cell_type": "code",
   "execution_count": 2,
   "id": "64899e7d-5aac-48bc-ba9e-ae23283c8a1f",
   "metadata": {},
   "outputs": [
    {
     "name": "stderr",
     "output_type": "stream",
     "text": [
      "WARNING:esmvalcore.local:'CMIP6' rootpaths '/g/data/zv30/cmip/CMIP6' set in config-user.yml do not exist\n"
     ]
    }
   ],
   "source": [
    "model_ts_datasets = { \n",
    "\"ACCESS-ESM1-5\": \n",
    "    Dataset(\n",
    "    short_name='tos',\n",
    "    project='CMIP6',\n",
    "    mip=\"Omon\",\n",
    "    exp=\"historical\",\n",
    "    ensemble=\"r1i1p1f1\",\n",
    "    # timerange=\"19790101/20190101\",\n",
    "    dataset=\"ACCESS-ESM1-5\",\n",
    "    grid=\"gn\"\n",
    ")}\n",
    "model_ts_datasets[\"ACCESS-ESM1-5\"].add_supplementary(short_name='areacello', mip='Ofx')\n",
    "\n",
    "model_ts = {name: dataset.load() for name, dataset in model_ts_datasets.items()}"
   ]
  },
  {
   "cell_type": "code",
   "execution_count": 3,
   "id": "a4419b4c-dced-4dd1-a091-e0d4f15685bd",
   "metadata": {},
   "outputs": [],
   "source": [
    "model_hfls_datasets = { \n",
    "\"ACCESS-ESM1-5\": \n",
    "    Dataset(\n",
    "    short_name='hfls',\n",
    "    project='CMIP6',\n",
    "    mip=\"Amon\",\n",
    "    exp=\"historical\",\n",
    "    ensemble=\"r1i1p1f1\",\n",
    "    # timerange=\"19790101/20190101\",\n",
    "    dataset=\"ACCESS-ESM1-5\",\n",
    "    grid=\"gn\"\n",
    ")}\n",
    "\n",
    "model_hfls_datasets[\"ACCESS-ESM1-5\"].add_supplementary(short_name='areacella', mip='fx')\n",
    "\n",
    "#rest variables\n",
    "model_other = {}\n",
    "for cvar in ['hfss','rlds','rlus','rsds','rsus']:\n",
    "    \n",
    "    model_other[cvar] = model_hfls_datasets[\"ACCESS-ESM1-5\"].copy(short_name=cvar)\n",
    "\n",
    "# load cubes, formula nhf\n"
   ]
  },
  {
   "cell_type": "code",
   "execution_count": 4,
   "id": "0b9ecd35-a1ee-4474-ae35-12f4c3438eae",
   "metadata": {},
   "outputs": [
    {
     "name": "stderr",
     "output_type": "stream",
     "text": [
      "WARNING:esmvalcore.cmor.check:There were warnings in variable hfls:\n",
      " hfls: attribute positive not present\n",
      "loaded from file /g/data/fs38/publications/CMIP6/CMIP/CSIRO/ACCESS-ESM1-5/historical/r1i1p1f1/Amon/hfls/gn/v20191115/hfls_Amon_ACCESS-ESM1-5_historical_r1i1p1f1_gn_185001-201412.nc\n",
      "WARNING:esmvalcore.cmor.check:There were warnings in variable hfls:\n",
      " hfls: attribute positive not present\n",
      "loaded from file \n",
      "WARNING:esmvalcore.cmor.check:There were warnings in variable hfss:\n",
      " hfss: attribute positive not present\n",
      "loaded from file /g/data/fs38/publications/CMIP6/CMIP/CSIRO/ACCESS-ESM1-5/historical/r1i1p1f1/Amon/hfss/gn/v20191115/hfss_Amon_ACCESS-ESM1-5_historical_r1i1p1f1_gn_185001-201412.nc\n",
      "WARNING:esmvalcore.cmor.check:There were warnings in variable hfss:\n",
      " hfss: attribute positive not present\n",
      "loaded from file \n",
      "WARNING:esmvalcore.cmor.check:There were warnings in variable rlds:\n",
      " rlds: attribute positive not present\n",
      "loaded from file /g/data/fs38/publications/CMIP6/CMIP/CSIRO/ACCESS-ESM1-5/historical/r1i1p1f1/Amon/rlds/gn/v20191115/rlds_Amon_ACCESS-ESM1-5_historical_r1i1p1f1_gn_185001-201412.nc\n",
      "WARNING:esmvalcore.cmor.check:There were warnings in variable rlds:\n",
      " rlds: attribute positive not present\n",
      "loaded from file \n",
      "WARNING:esmvalcore.cmor.check:There were warnings in variable rlus:\n",
      " rlus: attribute positive not present\n",
      "loaded from file /g/data/fs38/publications/CMIP6/CMIP/CSIRO/ACCESS-ESM1-5/historical/r1i1p1f1/Amon/rlus/gn/v20191115/rlus_Amon_ACCESS-ESM1-5_historical_r1i1p1f1_gn_185001-201412.nc\n",
      "WARNING:esmvalcore.cmor.check:There were warnings in variable rlus:\n",
      " rlus: attribute positive not present\n",
      "loaded from file \n",
      "WARNING:esmvalcore.cmor.check:There were warnings in variable rsds:\n",
      " rsds: attribute positive not present\n",
      "loaded from file /g/data/fs38/publications/CMIP6/CMIP/CSIRO/ACCESS-ESM1-5/historical/r1i1p1f1/Amon/rsds/gn/v20191115/rsds_Amon_ACCESS-ESM1-5_historical_r1i1p1f1_gn_185001-201412.nc\n",
      "WARNING:esmvalcore.cmor.check:There were warnings in variable rsds:\n",
      " rsds: attribute positive not present\n",
      "loaded from file \n",
      "WARNING:esmvalcore.cmor.check:There were warnings in variable rsus:\n",
      " rsus: attribute positive not present\n",
      "loaded from file /g/data/fs38/publications/CMIP6/CMIP/CSIRO/ACCESS-ESM1-5/historical/r1i1p1f1/Amon/rsus/gn/v20191115/rsus_Amon_ACCESS-ESM1-5_historical_r1i1p1f1_gn_185001-201412.nc\n",
      "WARNING:esmvalcore.cmor.check:There were warnings in variable rsus:\n",
      " rsus: attribute positive not present\n",
      "loaded from file \n"
     ]
    }
   ],
   "source": [
    "model_hfls = {name: dataset.load() for name, dataset in model_hfls_datasets.items()}\n",
    "model_rest = {name: dataset.load() for name, dataset in model_other.items()}"
   ]
  },
  {
   "cell_type": "code",
   "execution_count": 6,
   "id": "4ffda2ac-8c8c-4478-85a3-c25f3caf63d9",
   "metadata": {},
   "outputs": [
    {
     "name": "stdout",
     "output_type": "stream",
     "text": [
      "550.3307 69.14513\n"
     ]
    },
    {
     "data": {
      "text/plain": [
       "(73.619156, -69.14512481133171, -550.3307)"
      ]
     },
     "execution_count": 6,
     "metadata": {},
     "output_type": "execute_result"
    }
   ],
   "source": [
    "print(model_hfls['ACCESS-ESM1-5'].data.max(), model_hfls['ACCESS-ESM1-5'].data.mean())\n",
    "model_rest\n",
    "test = - model_hfls['ACCESS-ESM1-5']\n",
    "test.data.max() , test.data.mean(), test.data.min()"
   ]
  },
  {
   "cell_type": "code",
   "execution_count": 48,
   "id": "c79b7fbb-0243-4209-b2f6-ab3da878ae63",
   "metadata": {
    "scrolled": true
   },
   "outputs": [
    {
     "data": {
      "text/plain": [
       "318.27628"
      ]
     },
     "execution_count": 48,
     "metadata": {},
     "output_type": "execute_result"
    }
   ],
   "source": [
    "# nhf = -*hfls* -hfss + rlds - rlus + rsds - rsus #if 'd' make positive\n",
    "model_nhf = - model_hfls['ACCESS-ESM1-5'] - model_rest['hfss'] + model_rest['rlds']- model_rest['rlus']+ model_rest['rsds']- model_rest['rsus']\n",
    "model_nhf.data.max()"
   ]
  },
  {
   "cell_type": "code",
   "execution_count": null,
   "id": "316dd037-5b03-4b6c-8005-b29d0f58525b",
   "metadata": {},
   "outputs": [],
   "source": [
    "obs_tos_datasets = {\n",
    "\"HadISST\": \n",
    "    Dataset(\n",
    "    short_name='tos',\n",
    "    dataset='HadISST',\n",
    "    mip=\"Omon\",\n",
    "    project='OBS',\n",
    "    type='reanaly',\n",
    "    timerange=\"19790101/20190101\",\n",
    "    tier=2),\n",
    "\"ERA-Interim\":\n",
    "    Dataset(\n",
    "    short_name='ts',\n",
    "    dataset='ERA-Interim',\n",
    "    mip=\"Amon\",\n",
    "    project='OBS6',\n",
    "    type='reanaly',\n",
    "    tier=3)\n",
    "}\n",
    "obs_tauu_datasets = { ##zos\n",
    " \"ERA-Interim\": \n",
    "     Dataset(\n",
    "     short_name='tauu',\n",
    "     dataset='ERA-Interim',\n",
    "     mip=\"Amon\",\n",
    "     project='OBS6',\n",
    "     type='reanaly',\n",
    "     timerange=\"19790101/20190101\",\n",
    "     tier=3)\n",
    "}"
   ]
  },
  {
   "cell_type": "code",
   "execution_count": null,
   "id": "5e048061-f220-4e34-820a-629c7b6b5580",
   "metadata": {},
   "outputs": [],
   "source": [
    "model_ssh_datasets = {name: dataset.load() for name, dataset in model_ssh_datasets.items()}\n",
    "model_tauu = {name: dataset.load() for name, dataset in model_tauu.items()}\n",
    "\n",
    "# obs_tos_datasets = {name: dataset.load() for name, dataset in obs_tos_datasets.items()}\n",
    "# obs_tauu_datasets = {name: dataset.load() for name, dataset in obs_tauu_datasets.items()}"
   ]
  },
  {
   "cell_type": "code",
   "execution_count": 8,
   "id": "3e4b8d63-b98d-4195-a6cb-7a5316c6db3b",
   "metadata": {},
   "outputs": [],
   "source": [
    "from esmvalcore.preprocessor import anomalies\n",
    "from esmvalcore.preprocessor import area_statistics\n",
    "from esmvalcore.preprocessor import seasonal_statistics\n",
    "from esmvalcore.preprocessor import rolling_window_statistics\n",
    "from esmvalcore.preprocessor import convert_units\n",
    "from esmvalcore.preprocessor import extract_region\n",
    "from esmvalcore.preprocessor import extract_season\n",
    "from esmvalcore.preprocessor import extract_month\n",
    "from esmvalcore.preprocessor import detrend\n",
    "from esmvalcore.preprocessor import regrid\n",
    "from esmvalcore.preprocessor import detrend\n",
    "from esmvalcore.preprocessor import mask_landsea\n",
    "from esmvalcore.preprocessor import extract_time\n",
    "import iris\n",
    "\n",
    "import matplotlib.pyplot as plt\n",
    "import iris.quickplot as qplt\n",
    "import numpy as np\n",
    "import scipy.stats"
   ]
  },
  {
   "cell_type": "code",
   "execution_count": 49,
   "id": "61674b62",
   "metadata": {},
   "outputs": [],
   "source": [
    "def east(cube):\n",
    "    nino3_region = {\"start_longitude\": 210., \"end_longitude\": 270., \"start_latitude\": -5., \"end_latitude\": 5.}\n",
    "\n",
    "    cube = regrid(cube, target_grid=\"1x1\", scheme=\"linear\")\n",
    "    # cube = convert_units(cube, units=\"degC\")\n",
    "    cube = extract_region(cube, **nino3_region)\n",
    "    # cube = detrend(cube, dimension=\"time\", method=\"linear\")\n",
    "    cube = area_statistics(cube, operator='mean')\n",
    "    cube = anomalies(cube, period=\"full\")\n",
    "    \n",
    "    return cube\n"
   ]
  },
  {
   "cell_type": "code",
   "execution_count": null,
   "id": "33b76c54-52e7-4f24-8a7d-30b54025fd6f",
   "metadata": {
    "scrolled": true
   },
   "outputs": [],
   "source": [
    "type(model_ts['ACCESS-ESM1-5'].cell_measure())\n",
    "# model_nhf_prep['ACCESS-ESM1-5']\n",
    "print(model_ts_prep['ACCESS-ESM1-5'].data.mean())\n",
    "qplt.plot(model_ts_prep['ACCESS-ESM1-5'])\n",
    "\n",
    "cube = model_ts['ACCESS-ESM1-5']\n",
    "nino3_region = {\"start_longitude\": 210., \"end_longitude\": 270., \"start_latitude\": -5., \"end_latitude\": 5.}\n",
    "cube = extract_region(cube, **nino3_region)\n",
    "cube = detrend(cube, dimension=\"time\", method=\"linear\")\n",
    "celarea = cube.cell_measure()\n",
    "cube = anomalies(cube, period=\"full\")\n",
    "\n",
    "cube.add_cell_measure(celarea, [1,2])\n",
    "cube = area_statistics(cube, operator='mean')\n",
    "\n",
    "# model_nhf_prep['ACCESS-ESM1-5']\n",
    "qplt.plot(cube), cube.data.mean()"
   ]
  },
  {
   "cell_type": "code",
   "execution_count": 50,
   "id": "821d528c-da59-4b25-9bfa-3d7a53a61a9f",
   "metadata": {
    "scrolled": true
   },
   "outputs": [],
   "source": [
    "model_ts_prep = {name: east(dataset) for name, dataset in model_ts.items()}\n",
    "model_nhf_prep = {'ACCESS-ESM1-5': east(model_nhf)}\n",
    "\n",
    "# obs_tos_prep = {name: sst_east(dataset) for name, dataset in obs_tos_datasets.items()}\n",
    "# obs_tauu_prep = {name: taux_west(dataset) for name, dataset in obs_tauu_datasets.items()}"
   ]
  },
  {
   "cell_type": "markdown",
   "id": "4e8bcc0c-3bca-40be-b77b-ba3a3490f33f",
   "metadata": {},
   "source": [
    "## Calculate Linear regression"
   ]
  },
  {
   "cell_type": "code",
   "execution_count": 51,
   "id": "107e496a-6be3-490f-a0d0-73415fb043ed",
   "metadata": {},
   "outputs": [
    {
     "data": {
      "text/plain": [
       "masked_array(data=[2.3525236 , 0.25193423],\n",
       "             mask=False,\n",
       "       fill_value=1e+20,\n",
       "            dtype=float32)"
      ]
     },
     "execution_count": 51,
     "metadata": {},
     "output_type": "execute_result"
    }
   ],
   "source": [
    "# scp.LinReg(model_tauu_prep[\"ACCESS-ESM1-5\"].data, model_tos_prep[\"ACCESS-ESM1-5\"].data).intcpt\n",
    "B_data = model_ts_prep[\"ACCESS-ESM1-5\"].data\n",
    "B_with_intercept = np.vstack([B_data, np.ones_like(B_data)]).T\n",
    "coefs, _, _, _ = np.linalg.lstsq(B_with_intercept, model_nhf_prep[\"ACCESS-ESM1-5\"].data, rcond=None)\n",
    "coefs"
   ]
  },
  {
   "cell_type": "markdown",
   "id": "bb1fc647-03a5-472e-8264-41ded88a5a63",
   "metadata": {},
   "source": [
    "# Diagnostic Level 1"
   ]
  },
  {
   "cell_type": "code",
   "execution_count": 52,
   "id": "6400f946-00d7-4750-aaf4-f6d0bd7effed",
   "metadata": {},
   "outputs": [
    {
     "name": "stdout",
     "output_type": "stream",
     "text": [
      "-3.2507362 -70.46447 2.9968243 67.892944\n",
      "2.3525234806702193 0.25193423895592576\n",
      "(1980,) (1980,)\n",
      "W m-2 degC\n"
     ]
    },
    {
     "data": {
      "text/plain": [
       "Text(0.02, 0.9, 'slope: 2.35 ')"
      ]
     },
     "execution_count": 52,
     "metadata": {},
     "output_type": "execute_result"
    },
    {
     "data": {
      "image/png": "[encoded data removed]",
      "text/plain": [
       "<Figure size 640x480 with 1 Axes>"
      ]
     },
     "metadata": {},
     "output_type": "display_data"
    }
   ],
   "source": [
    "from scipy.stats import linregress\n",
    "xseq = np.linspace(-4, 4, num=100)\n",
    "print(model_ts_prep[\"ACCESS-ESM1-5\"].data.min(), model_nhf_prep[\"ACCESS-ESM1-5\"].data.min(), \n",
    "      model_ts_prep[\"ACCESS-ESM1-5\"].data.max(), model_nhf_prep[\"ACCESS-ESM1-5\"].data.max())\n",
    "# linregress(model_tauu_prep[\"ACCESS-ESM1-5\"].data, model_tos_prep[\"ACCESS-ESM1-5\"].data)\n",
    "slope, intcpt, _,_,_ = linregress(model_ts_prep[\"ACCESS-ESM1-5\"].data, model_nhf_prep[\"ACCESS-ESM1-5\"].data)\n",
    "plt.plot(xseq, intcpt+slope*xseq)\n",
    "print(slope, intcpt)\n",
    "mod_slope = slope\n",
    "\n",
    "# slope, intcpt, _,_,_ = linregress(obs_tos_prep[\"HadISST\"].data, obs_tauu_prep[\"ERA-Interim\"].data)\n",
    "# plt.plot(xseq, intcpt+slope*xseq, color='black')\n",
    "# metric_val = abs((mod_slope-slope)/slope)*100\n",
    "\n",
    "print(model_nhf_prep[\"ACCESS-ESM1-5\"].shape, model_ts_prep[\"ACCESS-ESM1-5\"].shape) #scatter plot\n",
    "print(model_nhf_prep[\"ACCESS-ESM1-5\"].units, model_ts_prep[\"ACCESS-ESM1-5\"].units)\n",
    "plt.scatter(model_ts_prep[\"ACCESS-ESM1-5\"].data, model_nhf_prep[\"ACCESS-ESM1-5\"].data, s=10)\n",
    "\n",
    "# print(obs_tos_prep[\"HadISST\"].shape, obs_tauu_prep[\"ERA-Interim\"].shape)\n",
    "# plt.scatter(obs_tos_prep[\"HadISST\"].data, obs_tauu_prep[\"ERA-Interim\"].data,s=20, c='black', marker='D')\n",
    "plt.xlim(-5,5)\n",
    "\n",
    "## text slope\n",
    "plt.text(0.02, 0.9, f'slope: {mod_slope:.2f} ', fontsize=12, ha='left',\n",
    "         transform=plt.gca().transAxes, bbox=dict(facecolor='white', alpha=0.8, edgecolor='none'))\n",
    "\n",
    "# print(metric_val)"
   ]
  },
  {
   "cell_type": "markdown",
   "id": "46d3c2fc-534e-49d8-a576-ca07c4934b8f",
   "metadata": {},
   "source": [
    "# Diagnostic Level 2"
   ]
  },
  {
   "cell_type": "code",
   "execution_count": null,
   "id": "f4d84029-2efd-436c-83aa-ebfb4ac8d5a3",
   "metadata": {},
   "outputs": [],
   "source": [
    "# SPLIT BY X<0 AND X>0 (temp)\n",
    "import pandas as pd\n",
    "\n",
    "model_tauu_prep[\"ACCESS-ESM1-5\"].data, model_ssh_prep[\"ACCESS-ESM1-5\"]\n",
    "# matrix/cube? split by tauua 0 -df?time rows, col tauu,ssh create tuple points, zip\n",
    "\n",
    "df = pd.DataFrame({'tauu':model_tauu_prep[\"ACCESS-ESM1-5\"].data, 'ssh':model_ssh_prep[\"ACCESS-ESM1-5\"].data})\n",
    "print(df.shape)\n",
    "df.loc[df['tauu']<0]\n",
    "\n",
    "xseq = np.linspace(-50, 0, num=50)\n",
    "slope, intcpt, _,_,_ = linregress(df.loc[df['tauu']<0, 'tauu'], df.loc[df['tauu']<0, 'ssh'])\n",
    "plt.plot(xseq, intcpt+slope*xseq, linewidth=3)\n",
    "print(slope)\n",
    "xseq = np.linspace(0, 50, num=50)\n",
    "slope, intcpt, _,_,_ = linregress(df.loc[df['tauu']>0, 'tauu'], df.loc[df['tauu']>0, 'ssh'])\n",
    "plt.plot(xseq, intcpt+slope*xseq, color='red', linewidth=3)\n",
    "print(slope)\n",
    "\n",
    "plt.scatter(model_tauu_prep[\"ACCESS-ESM1-5\"].data, model_ssh_prep[\"ACCESS-ESM1-5\"].data, c='k', s=10)\n",
    "xseq = np.linspace(-50, 50, num=50)\n",
    "slope, intcpt, _,_,_ = linregress(df['tauu'], df['ssh'])\n",
    "plt.plot(xseq, intcpt+slope*xseq, c='black')\n",
    "print(slope)\n",
    "plt.xlim(-50,50)\n",
    "plt.ylim(-25,25)\n",
    "plt.grid(linestyle='--')"
   ]
  },
  {
   "cell_type": "code",
   "execution_count": null,
   "id": "7f0afe9f-4199-4b2b-9b58-6abe6b4e0b07",
   "metadata": {},
   "outputs": [],
   "source": [
    "#level 3 zonal runningaverage\n",
    "from esmvalcore.preprocessor import meridional_statistics\n",
    "\n",
    "def ssh_eqp(cube):\n",
    "    nino3_region = {\"start_longitude\": 150., \"end_longitude\": 270., \"start_latitude\": -5., \"end_latitude\": 5.}\n",
    "    cube = regrid(cube, target_grid=\"1x1\", scheme=\"linear\")\n",
    "    # cube = mask_landsea(cube, mask_out=\"land\") #irregular\n",
    "    cube = convert_units(cube, units=\"cm\")\n",
    "    cube = extract_region(cube, **nino3_region)\n",
    "    cube = anomalies(cube, period=\"full\")\n",
    "    cube = detrend(cube, dimension=\"time\", method=\"linear\")\n",
    "    cube = meridional_statistics(cube,operator='mean')\n",
    "    cube = rolling_window_statistics(cube, coordinate='longitude',operator='mean',window_length=30)\n",
    "    \n",
    "    return cube\n",
    "\n",
    "def taux_west_3(cube):\n",
    "    region = {\"start_longitude\": 160., \"end_longitude\": 210., \"start_latitude\": -5., \"end_latitude\": 5.}\n",
    "    # cube = extract_time(cube, start_year=1979, end_year=2000, start_month=1, end_month=12, start_day=1, end_day=31)\n",
    "    # cube = regrid(cube, target_grid=\"1x1\", scheme=\"linear\")\n",
    "    cube = convert_units(cube, units=\"1e-3 N/m2\") #slope value\n",
    "    cube = mask_landsea(cube, mask_out=\"land\") \n",
    "    cube = anomalies(cube, period=\"full\")\n",
    "    cube = detrend(cube, dimension=\"time\", method=\"linear\") # Create NaN for some reasons\n",
    "    cube = extract_region(cube, **\n",
    "                          region)\n",
    "    cube = area_statistics(cube,operator='mean')\n",
    "    return cube \n",
    "\n",
    "#lin_regress"
   ]
  },
  {
   "cell_type": "code",
   "execution_count": null,
   "id": "d9b5a40e-4c24-4f02-991c-6446d2ca9776",
   "metadata": {},
   "outputs": [],
   "source": [
    "model_tos_prep = {name: ssh_eqp(dataset) for name, dataset in model_ssh_datasets.items()}\n",
    "model_tauu_prep = {name: taux_west_3(dataset) for name, dataset in model_tauu.items()}"
   ]
  },
  {
   "cell_type": "code",
   "execution_count": null,
   "id": "03e4310c-c850-4b85-969f-8f01d3cd1c54",
   "metadata": {
    "scrolled": true
   },
   "outputs": [],
   "source": [
    "# reg2_mod = lin_regress_matrix(model_tos_prep[\"ACCESS-ESM1-5\"], model_tauu_prep[\"ACCESS-ESM1-5\"])\n",
    "print(model_tos_prep[\"ACCESS-ESM1-5\"].shape, model_tauu_prep[\"ACCESS-ESM1-5\"].shape)\n",
    "\n",
    "B_data = model_tauu_prep[\"ACCESS-ESM1-5\"].data\n",
    "B_with_intercept = np.vstack([B_data, np.ones_like(B_data)]).T\n",
    "coefs, _, _, _ = np.linalg.lstsq(B_with_intercept, model_tos_prep[\"ACCESS-ESM1-5\"].data, rcond=None)\n",
    "coefs#.shape #add long coordinate"
   ]
  },
  {
   "cell_type": "code",
   "execution_count": null,
   "id": "1e188d5f-bbd7-454f-b1a4-4db66d83cda6",
   "metadata": {
    "scrolled": true
   },
   "outputs": [],
   "source": [
    "#spilt tauu\n",
    "from esmvalcore.preprocessor import mask_above_threshold, mask_below_threshold\n",
    "\n",
    "cb = model_tauu_prep[\"ACCESS-ESM1-5\"] #mask, get mask, apply\n",
    "cb_mask = mask_below_threshold(cb.copy(), 0.0000)\n",
    "np.unique(cb_mask.data.mask, return_counts=True)\n",
    "# qplt.plot(model_tauu_prep[\"ACCESS-ESM1-5\"])\n",
    "\n",
    "maskedTime = np.ma.masked_array(cb_mask.coord('time').points, mask=cb_mask.data.mask)\n",
    "# [events.coord('time').units.num2date(time) for time in maskedTime.compressed()]\n",
    "maskedTime.compressed()\n",
    "time_con = iris.Constraint(time=lambda cell: cell.point in maskedTime.compressed())\n",
    "\n",
    "tos = model_tos_prep[\"ACCESS-ESM1-5\"]\n",
    "cube = tos.extract(time_con)\n",
    "# model_tauu_prep[\"ACCESS-ESM1-5\"].data.mean()\n",
    "cube #tos.data\n",
    "# temp_tos = model_tos_prep[\"ACCESS-ESM1-5\"]\n",
    "# temp_tos.data.mask = cb_mask.data.mask #extract by time constraint?\n",
    "# temp_tos.data.shape, cb_mask.data.shape"
   ]
  },
  {
   "cell_type": "code",
   "execution_count": null,
   "id": "39dcf468-4800-49a7-87e8-6a0f21c56547",
   "metadata": {},
   "outputs": [],
   "source": [
    "from scipy.stats import linregress\n",
    "def format_longitude(x, pos):\n",
    "    if x > 180:\n",
    "        return f'{int(360 - x)}°W'\n",
    "    elif x == 180:\n",
    "        return f'{int(x)}°'\n",
    "    else:\n",
    "        return f'{int(x)}°E'\n",
    "        \n",
    "def lin_regress(cube_ssta, cube_nino34): #1d pattern\n",
    "    slope_ls = []\n",
    "    for lon_slice in cube_ssta.slices(['time']): \n",
    "        res = linregress(cube_nino34.data, lon_slice.data)\n",
    "        slope_ls.append(res[0])\n",
    "\n",
    "    return cube_ssta.coord('longitude').points, slope_ls\n",
    "\n",
    "reg_mod = lin_regress( model_tos_prep[\"ACCESS-ESM1-5\"], model_tauu_prep[\"ACCESS-ESM1-5\"])\n",
    "plt.plot(*reg_mod)\n",
    "plt.gca().xaxis.set_major_formatter(plt.FuncFormatter(format_longitude))\n",
    "\n",
    "##split tauu negative from positive #combine cube on time? #extract timevalues? -month,yeah"
   ]
  },
  {
   "cell_type": "code",
   "execution_count": null,
   "id": "507266df-42aa-4cd4-99a8-683c9b9e6b77",
   "metadata": {},
   "outputs": [],
   "source": []
  }
 ],
 "metadata": {
  "kernelspec": {
   "display_name": "Python 3 (ipykernel)",
   "language": "python",
   "name": "python3"
  },
  "language_info": {
   "codemirror_mode": {
    "name": "ipython",
    "version": 3
   },
   "file_extension": ".py",
   "mimetype": "text/x-python",
   "name": "python",
   "nbconvert_exporter": "python",
   "pygments_lexer": "ipython3",
   "version": "3.11.9"
  }
 },
 "nbformat": 4,
 "nbformat_minor": 5
}
