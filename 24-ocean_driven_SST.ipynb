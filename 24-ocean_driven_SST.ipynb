{
 "cells": [
  {
   "attachments": {},
   "cell_type": "markdown",
   "id": "8e444b8f-e137-4087-8abd-48ef10a4adfb",
   "metadata": {},
   "source": [
    "# ocean_driven_SST:\n",
    "\n",
    "SST anomalies caused by anomalous ocean circulation in the eastern equatorial Pacific.\n",
    "\n",
    "Computes the amount of cooling (warming) by anomalous ocean circulation needed to generate surface temperature anomalies (SSTA) of -1 (1) °C during La Nina (El Nino) events in the eastern equatorial Pacific (horizontal Niño3 average)\n",
    "\n",
    "#### Reference observations:\n",
    "TropFlux 1979-2018 (main)\n",
    "\n",
    "NHF: OAFlux-ISCCP 1984-2009, DEEP-C 1985-2016, ERA5 1940-2022, 20CRv3 1836-2015, NCEP2 1979-2023\n",
    "SST: ERSSTv5 1854-2023, HadISST 1870-2023, COBE2 1850-2023, ERA5 1940-2022, 20CRv3 1836-2015, NCEP2 1979-2023\n"
   ]
  },
  {
   "cell_type": "code",
   "execution_count": 24,
   "id": "a3a2571a-c2f1-4ac8-a272-d4c731c062cd",
   "metadata": {},
   "outputs": [],
   "source": [
    "from esmvalcore.dataset import Dataset\n",
    "from esmvalcore.config import CFG\n",
    "CFG['rootpath']['OBS6'].append(r'/g/data/kj13/datasets/esmvaltool/obsdata-v2') #NCEP-DOE-R2 tos"
   ]
  },
  {
   "cell_type": "code",
   "execution_count": 25,
   "id": "64899e7d-5aac-48bc-ba9e-ae23283c8a1f",
   "metadata": {},
   "outputs": [],
   "source": [
    "# varaibles ts, hfds\n",
    "model_ts_datasets = { \n",
    "\"ACCESS-ESM1-5\": \n",
    "    Dataset(\n",
    "    short_name='tos',\n",
    "    project='CMIP6',\n",
    "    mip=\"Omon\",\n",
    "    exp=\"historical\",\n",
    "    ensemble=\"r1i1p1f1\",\n",
    "    timerange=\"19790101/20190101\",\n",
    "    dataset=\"ACCESS-ESM1-5\",\n",
    "    grid=\"gn\"\n",
    ")}\n",
    "model_ts_datasets[\"ACCESS-ESM1-5\"].add_supplementary(short_name='areacello', mip='Ofx')\n",
    "\n",
    "model_ts = {name: dataset.load() for name, dataset in model_ts_datasets.items()}"
   ]
  },
  {
   "cell_type": "code",
   "execution_count": 26,
   "id": "a4419b4c-dced-4dd1-a091-e0d4f15685bd",
   "metadata": {},
   "outputs": [],
   "source": [
    "model_hfls_datasets = { \n",
    "\"ACCESS-ESM1-5\": \n",
    "    Dataset(\n",
    "    short_name='hfls',\n",
    "    project='CMIP6',\n",
    "    mip=\"Amon\",\n",
    "    exp=\"historical\",\n",
    "    ensemble=\"r1i1p1f1\",\n",
    "    timerange=\"19790101/20190101\",\n",
    "    dataset=\"ACCESS-ESM1-5\",\n",
    "    grid=\"gn\"\n",
    ")}\n",
    "\n",
    "model_hfls_datasets[\"ACCESS-ESM1-5\"].add_supplementary(short_name='areacella', mip='fx')\n",
    "\n",
    "#rest variables\n",
    "model_other = {}\n",
    "for cvar in ['hfss','rlds','rlus','rsds','rsus']:\n",
    "    \n",
    "    model_other[cvar] = model_hfls_datasets[\"ACCESS-ESM1-5\"].copy(short_name=cvar)\n"
   ]
  },
  {
   "cell_type": "code",
   "execution_count": 27,
   "id": "1e61c140-1469-47e5-99aa-4a850c4c050b",
   "metadata": {
    "scrolled": true
   },
   "outputs": [
    {
     "name": "stderr",
     "output_type": "stream",
     "text": [
      "WARNING:esmvalcore.cmor.check:There were warnings in variable hfls:\n",
      " hfls: attribute positive not present\n",
      "loaded from file /g/data/fs38/publications/CMIP6/CMIP/CSIRO/ACCESS-ESM1-5/historical/r1i1p1f1/Amon/hfls/gn/v20191115/hfls_Amon_ACCESS-ESM1-5_historical_r1i1p1f1_gn_185001-201412.nc\n",
      "WARNING:esmvalcore.cmor.check:There were warnings in variable hfls:\n",
      " hfls: attribute positive not present\n",
      "loaded from file \n",
      "WARNING:esmvalcore.cmor.check:There were warnings in variable hfss:\n",
      " hfss: attribute positive not present\n",
      "loaded from file /g/data/fs38/publications/CMIP6/CMIP/CSIRO/ACCESS-ESM1-5/historical/r1i1p1f1/Amon/hfss/gn/v20191115/hfss_Amon_ACCESS-ESM1-5_historical_r1i1p1f1_gn_185001-201412.nc\n",
      "WARNING:esmvalcore.cmor.check:There were warnings in variable hfss:\n",
      " hfss: attribute positive not present\n",
      "loaded from file \n",
      "WARNING:esmvalcore.cmor.check:There were warnings in variable rlds:\n",
      " rlds: attribute positive not present\n",
      "loaded from file /g/data/fs38/publications/CMIP6/CMIP/CSIRO/ACCESS-ESM1-5/historical/r1i1p1f1/Amon/rlds/gn/v20191115/rlds_Amon_ACCESS-ESM1-5_historical_r1i1p1f1_gn_185001-201412.nc\n",
      "WARNING:esmvalcore.cmor.check:There were warnings in variable rlds:\n",
      " rlds: attribute positive not present\n",
      "loaded from file \n",
      "WARNING:esmvalcore.cmor.check:There were warnings in variable rlus:\n",
      " rlus: attribute positive not present\n",
      "loaded from file /g/data/fs38/publications/CMIP6/CMIP/CSIRO/ACCESS-ESM1-5/historical/r1i1p1f1/Amon/rlus/gn/v20191115/rlus_Amon_ACCESS-ESM1-5_historical_r1i1p1f1_gn_185001-201412.nc\n",
      "WARNING:esmvalcore.cmor.check:There were warnings in variable rlus:\n",
      " rlus: attribute positive not present\n",
      "loaded from file \n",
      "WARNING:esmvalcore.cmor.check:There were warnings in variable rsds:\n",
      " rsds: attribute positive not present\n",
      "loaded from file /g/data/fs38/publications/CMIP6/CMIP/CSIRO/ACCESS-ESM1-5/historical/r1i1p1f1/Amon/rsds/gn/v20191115/rsds_Amon_ACCESS-ESM1-5_historical_r1i1p1f1_gn_185001-201412.nc\n",
      "WARNING:esmvalcore.cmor.check:There were warnings in variable rsds:\n",
      " rsds: attribute positive not present\n",
      "loaded from file \n",
      "WARNING:esmvalcore.cmor.check:There were warnings in variable rsus:\n",
      " rsus: attribute positive not present\n",
      "loaded from file /g/data/fs38/publications/CMIP6/CMIP/CSIRO/ACCESS-ESM1-5/historical/r1i1p1f1/Amon/rsus/gn/v20191115/rsus_Amon_ACCESS-ESM1-5_historical_r1i1p1f1_gn_185001-201412.nc\n",
      "WARNING:esmvalcore.cmor.check:There were warnings in variable rsus:\n",
      " rsus: attribute positive not present\n",
      "loaded from file \n"
     ]
    }
   ],
   "source": [
    "model_hfls = {name: dataset.load() for name, dataset in model_hfls_datasets.items()}\n",
    "model_rest = {name: dataset.load() for name, dataset in model_other.items()}\n",
    "\n",
    "# nhf = -*hfls* -hfss + rlds - rlus + rsds - rsus #if 'd' make positive\n",
    "model_nhf = - model_hfls['ACCESS-ESM1-5'] - model_rest['hfss'] + model_rest['rlds']- model_rest['rlus']+ model_rest['rsds']- model_rest['rsus']"
   ]
  },
  {
   "cell_type": "code",
   "execution_count": 28,
   "id": "316dd037-5b03-4b6c-8005-b29d0f58525b",
   "metadata": {},
   "outputs": [],
   "source": [
    "obs_tos_datasets = {\n",
    "\"HadISST\": \n",
    "    Dataset(\n",
    "    short_name='tos',\n",
    "    dataset='HadISST',\n",
    "    mip=\"Omon\",\n",
    "    project='OBS',\n",
    "    type='reanaly',\n",
    "    timerange=\"19790101/20190101\",\n",
    "    tier=2),\n",
    "\"TROPFLUX\":\n",
    "    Dataset(\n",
    "    short_name='tos',\n",
    "    dataset='TROPFLUX',\n",
    "    mip=\"Omon\",\n",
    "    project='OBS6',\n",
    "    type='reanaly',\n",
    "    timerange=\"19790101/20190101\",\n",
    "    tier=2)\n",
    "}\n",
    "obs_nhf_datasets = { ##\n",
    " # \"TROPFLUX\": ##netflux data to kj13\n",
    " #     Dataset(\n",
    " #     short_name='hfds',\n",
    " #     dataset='TROPFLUX',\n",
    " #     mip=\"Omon\",\n",
    " #     project='OBS6',\n",
    " #     type='reanaly',\n",
    " #     timerange=\"19790101/20190101\",\n",
    "     # tier=2),\n",
    " \"ERA-Interim\": \n",
    "     Dataset(\n",
    "     short_name='hfds',\n",
    "     dataset='ERA-Interim',\n",
    "     mip=\"Omon\",\n",
    "     project='OBS6',\n",
    "     type='reanaly',\n",
    "     timerange=\"19790101/20190101\",\n",
    "     tier=3)\n",
    "}"
   ]
  },
  {
   "cell_type": "code",
   "execution_count": 29,
   "id": "cc85d8c5-dc6c-4224-9b0a-6998f081fc9a",
   "metadata": {},
   "outputs": [],
   "source": [
    "obs_nhf = {name: dataset.load() for name, dataset in obs_nhf_datasets.items()}\n",
    "obs_tos = {name: dataset.load() for name, dataset in obs_tos_datasets.items()}"
   ]
  },
  {
   "cell_type": "code",
   "execution_count": 30,
   "id": "3e4b8d63-b98d-4195-a6cb-7a5316c6db3b",
   "metadata": {},
   "outputs": [],
   "source": [
    "from esmvalcore.preprocessor import anomalies\n",
    "from esmvalcore.preprocessor import area_statistics\n",
    "from esmvalcore.preprocessor import seasonal_statistics\n",
    "from esmvalcore.preprocessor import annual_statistics\n",
    "from esmvalcore.preprocessor import rolling_window_statistics\n",
    "from esmvalcore.preprocessor import convert_units\n",
    "from esmvalcore.preprocessor import extract_region\n",
    "from esmvalcore.preprocessor import extract_season\n",
    "from esmvalcore.preprocessor import extract_month\n",
    "from esmvalcore.preprocessor import detrend\n",
    "from esmvalcore.preprocessor import regrid\n",
    "from esmvalcore.preprocessor import detrend\n",
    "from esmvalcore.preprocessor import mask_landsea\n",
    "from esmvalcore.preprocessor import extract_time\n",
    "import iris\n",
    "\n",
    "import matplotlib.pyplot as plt\n",
    "import iris.quickplot as qplt\n",
    "import numpy as np\n",
    "import scipy.stats"
   ]
  },
  {
   "cell_type": "code",
   "execution_count": 31,
   "id": "46b32fbd-06c9-4d16-a094-e1eebda54b18",
   "metadata": {},
   "outputs": [],
   "source": [
    "def sst_enso_n34(cube):\n",
    "    nino34_latext_region = {\"start_longitude\": 190., \"end_longitude\": 240., \"start_latitude\": -5., \"end_latitude\": 5.}\n",
    "    cube = convert_units(cube, units=\"degC\")\n",
    "    # cube = mask_landsea(cube, mask_out=\"land\") #\n",
    "    cube = extract_region(cube, **nino34_latext_region)\n",
    "    # #remove time mean\n",
    "    cube = anomalies(cube, period='monthly') \n",
    "    cube = rolling_window_statistics(cube, coordinate='time', operator='mean', window_length=5)##rolling window cuts off months?\n",
    "    cube = rolling_window_statistics(cube, coordinate='time', operator='mean', window_length=5)\n",
    "    cube = area_statistics(cube,operator='mean')\n",
    "    cube = extract_month(cube,12)\n",
    "    # detrend?\n",
    "    cube = detrend(cube, dimension=\"time\", method=\"linear\")\n",
    "    # normalize time series using its temporal standard deviation\n",
    "    return cube\n",
    "    \n",
    "def east(cube):\n",
    "    nino3_region = {\"start_longitude\": 210., \"end_longitude\": 270., \"start_latitude\": -5., \"end_latitude\": 5.}\n",
    "    cube = regrid(cube, target_grid=\"1x1\", scheme=\"linear\")\n",
    "    # cube = convert_units(cube, units=\"degC\")\n",
    "    cube = extract_region(cube, **nino3_region)\n",
    "    # cube = detrend(cube, dimension=\"time\", method=\"linear\")\n",
    "    cube = rolling_window_statistics(cube, coordinate='time', operator='mean', window_length=5)##rolling window cuts off months?\n",
    "    cube = rolling_window_statistics(cube, coordinate='time', operator='mean', window_length=5)\n",
    "    cube = area_statistics(cube, operator='mean')\n",
    "    cube = anomalies(cube, period=\"full\") #remove seasonal cycle\n",
    "    \n",
    "    return cube"
   ]
  },
  {
   "cell_type": "code",
   "execution_count": 64,
   "id": "a9df1faf-d12b-4a9c-8aff-e44a7138657f",
   "metadata": {},
   "outputs": [],
   "source": [
    "## dsst_nhf\n",
    "#nhf : season, aunnual\n",
    "def trend_month_sst(cube_prep): #e.g., dSST[feb] = SST[feb] - SST [jan]\n",
    "    a_data = cube_prep.data.data\n",
    "    a1_data = np.append(np.delete(a_data, 0), 0) #add 0 to end\n",
    "    trend_data = a1_data - a_data #last month value invalid\n",
    "    cube_prep.data = trend_data\n",
    "    cube = extract_season(cube_prep,'JASOND')\n",
    "    cube = annual_statistics(cube, 'sum')[:-1]\n",
    "    return cube\n",
    "\n",
    "def dSSTnhf(nhf_east, sst_east):\n",
    "    dtime = 60 * 60 * 24 * 30.42 #s month-1\n",
    "    Cp = 4000 #J kg-1 degC-1\n",
    "    rho = 1024 #kg m-3\n",
    "    H = 50 #m\n",
    "    print(nhf_east.shape, sst_east.shape)\n",
    "    datetime_match(nhf_east, sst_east)\n",
    "    \n",
    "    dsstnhf = dtime * nhf_east[:-1] / (sst_east * Cp * rho * H)\n",
    "    return dsstnhf\n",
    "\n",
    "def datetime_match(cube, cube_2): #sync 2 cubes time\n",
    "    t_coord = cube.coord('time')\n",
    "    time_standard = t_coord.units.num2date(t_coord.points[0])\n",
    "    years1 = cube.coord('year').points\n",
    "    new_time_1 = [time_standard.replace(year=y) for y in years1]\n",
    "    cube.coord('time').points = t_coord.units.date2num(new_time_1).astype('float64')\n",
    "\n",
    "    years2 = cube_2.coord('year').points\n",
    "    new_time_2 = [time_standard.replace(year=y) for y in years2]\n",
    "    cube_2.coord('time').points = t_coord.units.date2num(new_time_2).astype('float64')\n",
    "    \n",
    "    t_coord.bounds = None \n",
    "    cube_2.coord('time').bounds = None"
   ]
  },
  {
   "cell_type": "code",
   "execution_count": 33,
   "id": "821d528c-da59-4b25-9bfa-3d7a53a61a9f",
   "metadata": {
    "scrolled": true
   },
   "outputs": [
    {
     "name": "stderr",
     "output_type": "stream",
     "text": [
      "/g/data/xp65/public/apps/med_conda/envs/esmvaltool-0.6/lib/python3.11/site-packages/iris/cube.py:4881: IrisIgnoringBoundsWarning: The bounds of coordinate 'time' were ignored in the rolling window operation.\n",
      "  warnings.warn(\n",
      "/g/data/xp65/public/apps/med_conda/envs/esmvaltool-0.6/lib/python3.11/site-packages/iris/cube.py:4881: IrisIgnoringBoundsWarning: The bounds of coordinate 'time' were ignored in the rolling window operation.\n",
      "  warnings.warn(\n",
      "/g/data/xp65/public/apps/med_conda/envs/esmvaltool-0.6/lib/python3.11/site-packages/iris/coords.py:2182: IrisVagueMetadataWarning: Collapsing a non-contiguous coordinate. Metadata may not be fully descriptive for 'time'.\n",
      "  warnings.warn(\n",
      "/g/data/xp65/public/apps/med_conda/envs/esmvaltool-0.6/lib/python3.11/site-packages/iris/cube.py:4881: IrisIgnoringBoundsWarning: The bounds of coordinate 'time' were ignored in the rolling window operation.\n",
      "  warnings.warn(\n",
      "/g/data/xp65/public/apps/med_conda/envs/esmvaltool-0.6/lib/python3.11/site-packages/iris/cube.py:4881: IrisIgnoringBoundsWarning: The bounds of coordinate 'time' were ignored in the rolling window operation.\n",
      "  warnings.warn(\n",
      "/g/data/xp65/public/apps/med_conda/envs/esmvaltool-0.6/lib/python3.11/site-packages/iris/coords.py:2182: IrisVagueMetadataWarning: Collapsing a non-contiguous coordinate. Metadata may not be fully descriptive for 'time'.\n",
      "  warnings.warn(\n"
     ]
    },
    {
     "name": "stdout",
     "output_type": "stream",
     "text": [
      "(424,) (212,)\n",
      "(472,) (236,)\n"
     ]
    }
   ],
   "source": [
    "model_nhf_prep = {'ACCESS-ESM1-5': east(model_nhf)}\n",
    "cube = model_nhf_prep['ACCESS-ESM1-5']\n",
    "east_cube = extract_season(cube,'JASOND')\n",
    "print(cube.shape, east_cube.shape)\n",
    "nhf_east = annual_statistics(east_cube, 'sum')\n",
    "\n",
    "obs_nhf_prep = {name: east(dataset) for name, dataset in obs_nhf.items()}\n",
    "cube = obs_nhf_prep['ERA-Interim']\n",
    "east_cube = extract_season(cube,'JASOND')\n",
    "print(cube.shape, east_cube.shape)\n",
    "obs_nhf_east = annual_statistics(east_cube, 'sum')"
   ]
  },
  {
   "cell_type": "code",
   "execution_count": 65,
   "id": "5b8d1a6d-c199-42d3-9f62-806ce26a1aef",
   "metadata": {
    "scrolled": true
   },
   "outputs": [
    {
     "name": "stderr",
     "output_type": "stream",
     "text": [
      "/g/data/xp65/public/apps/med_conda/envs/esmvaltool-0.6/lib/python3.11/site-packages/iris/cube.py:4881: IrisIgnoringBoundsWarning: The bounds of coordinate 'time' were ignored in the rolling window operation.\n",
      "  warnings.warn(\n",
      "/g/data/xp65/public/apps/med_conda/envs/esmvaltool-0.6/lib/python3.11/site-packages/iris/coords.py:2182: IrisVagueMetadataWarning: Collapsing a non-contiguous coordinate. Metadata may not be fully descriptive for 'time'.\n",
      "  warnings.warn(\n",
      "/g/data/xp65/public/apps/med_conda/envs/esmvaltool-0.6/lib/python3.11/site-packages/iris/cube.py:4881: IrisIgnoringBoundsWarning: The bounds of coordinate 'time' were ignored in the rolling window operation.\n",
      "  warnings.warn(\n",
      "/g/data/xp65/public/apps/med_conda/envs/esmvaltool-0.6/lib/python3.11/site-packages/iris/cube.py:4881: IrisIgnoringBoundsWarning: The bounds of coordinate 'time' were ignored in the rolling window operation.\n",
      "  warnings.warn(\n",
      "/g/data/xp65/public/apps/med_conda/envs/esmvaltool-0.6/lib/python3.11/site-packages/iris/coords.py:2182: IrisVagueMetadataWarning: Collapsing a non-contiguous coordinate. Metadata may not be fully descriptive for 'time'.\n",
      "  warnings.warn(\n",
      "/g/data/xp65/public/apps/med_conda/envs/esmvaltool-0.6/lib/python3.11/site-packages/iris/cube.py:4881: IrisIgnoringBoundsWarning: The bounds of coordinate 'time' were ignored in the rolling window operation.\n",
      "  warnings.warn(\n",
      "/g/data/xp65/public/apps/med_conda/envs/esmvaltool-0.6/lib/python3.11/site-packages/iris/cube.py:4881: IrisIgnoringBoundsWarning: The bounds of coordinate 'time' were ignored in the rolling window operation.\n",
      "  warnings.warn(\n",
      "/g/data/xp65/public/apps/med_conda/envs/esmvaltool-0.6/lib/python3.11/site-packages/iris/coords.py:2182: IrisVagueMetadataWarning: Collapsing a non-contiguous coordinate. Metadata may not be fully descriptive for 'time'.\n",
      "  warnings.warn(\n"
     ]
    },
    {
     "name": "stdout",
     "output_type": "stream",
     "text": [
      "(36,) (35,)\n",
      "(40,) (39,)\n"
     ]
    }
   ],
   "source": [
    "\n",
    "model_ts_prep = {name: east(dataset) for name, dataset in model_ts.items()}\n",
    "obs_ts_prep = {name: east(dataset) for name, dataset in obs_tos.items()}\n",
    "\n",
    "obs_sst = trend_month(obs_ts_prep['TROPFLUX'])\n",
    "mod_sst = trend_month(model_ts_prep['ACCESS-ESM1-5'])\n",
    "\n",
    "# qplt.plot(obs_sst)\n",
    "# qplt.plot(mod_sst, label='model')\n",
    "\n",
    "model = dSSTnhf(nhf_east, mod_sst)\n",
    "obs = dSSTnhf(obs_nhf_east, obs_sst) #different time points"
   ]
  },
  {
   "cell_type": "code",
   "execution_count": 66,
   "id": "603a7170-85ff-426e-979f-cb52602ed4f5",
   "metadata": {
    "scrolled": true
   },
   "outputs": [
    {
     "name": "stderr",
     "output_type": "stream",
     "text": [
      "/g/data/xp65/public/apps/med_conda/envs/esmvaltool-0.6/lib/python3.11/site-packages/iris/cube.py:4881: IrisIgnoringBoundsWarning: The bounds of coordinate 'time' were ignored in the rolling window operation.\n",
      "  warnings.warn(\n",
      "/g/data/xp65/public/apps/med_conda/envs/esmvaltool-0.6/lib/python3.11/site-packages/iris/cube.py:4881: IrisIgnoringBoundsWarning: The bounds of coordinate 'time' were ignored in the rolling window operation.\n",
      "  warnings.warn(\n",
      "/g/data/xp65/public/apps/med_conda/envs/esmvaltool-0.6/lib/python3.11/site-packages/iris/coords.py:2171: IrisVagueMetadataWarning: Cannot check if coordinate is contiguous: Invalid operation for 'cell index along second dimension', with 0 bound(s). Contiguous bounds are only defined for 1D coordinates with 2 bounds. Metadata may not be fully descriptive for 'cell index along second dimension'. Ignoring bounds.\n",
      "  warnings.warn(\n",
      "/g/data/xp65/public/apps/med_conda/envs/esmvaltool-0.6/lib/python3.11/site-packages/iris/coords.py:2171: IrisVagueMetadataWarning: Cannot check if coordinate is contiguous: Invalid operation for 'cell index along first dimension', with 0 bound(s). Contiguous bounds are only defined for 1D coordinates with 2 bounds. Metadata may not be fully descriptive for 'cell index along first dimension'. Ignoring bounds.\n",
      "  warnings.warn(\n",
      "/g/data/xp65/public/apps/med_conda/envs/esmvaltool-0.6/lib/python3.11/site-packages/iris/coords.py:2158: IrisVagueMetadataWarning: Collapsing a multi-dimensional coordinate. Metadata may not be fully descriptive for 'latitude'.\n",
      "  warnings.warn(\n",
      "/g/data/xp65/public/apps/med_conda/envs/esmvaltool-0.6/lib/python3.11/site-packages/iris/coords.py:2158: IrisVagueMetadataWarning: Collapsing a multi-dimensional coordinate. Metadata may not be fully descriptive for 'longitude'.\n",
      "  warnings.warn(\n",
      "/g/data/xp65/public/apps/med_conda/envs/esmvaltool-0.6/lib/python3.11/site-packages/iris/cube.py:4881: IrisIgnoringBoundsWarning: The bounds of coordinate 'time' were ignored in the rolling window operation.\n",
      "  warnings.warn(\n",
      "/g/data/xp65/public/apps/med_conda/envs/esmvaltool-0.6/lib/python3.11/site-packages/iris/cube.py:4881: IrisIgnoringBoundsWarning: The bounds of coordinate 'time' were ignored in the rolling window operation.\n",
      "  warnings.warn(\n",
      "/g/data/xp65/public/apps/med_conda/envs/esmvaltool-0.6/lib/python3.11/site-packages/iris/cube.py:4881: IrisIgnoringBoundsWarning: The bounds of coordinate 'time' were ignored in the rolling window operation.\n",
      "  warnings.warn(\n",
      "/g/data/xp65/public/apps/med_conda/envs/esmvaltool-0.6/lib/python3.11/site-packages/iris/cube.py:4881: IrisIgnoringBoundsWarning: The bounds of coordinate 'time' were ignored in the rolling window operation.\n",
      "  warnings.warn(\n"
     ]
    }
   ],
   "source": [
    "model_ts_enso = {name: sst_enso_n34(dataset) for name, dataset in model_ts.items()}\n",
    "obs_tos_enso = {name: sst_enso_n34(dataset) for name, dataset in obs_tos.items()}"
   ]
  },
  {
   "cell_type": "code",
   "execution_count": 86,
   "id": "1980335b-8b25-49d9-be6d-bcb7ca58418e",
   "metadata": {},
   "outputs": [],
   "source": [
    "# detect nino and nina\n",
    "from esmvalcore.preprocessor import mask_above_threshold, mask_below_threshold\n",
    "def enso_events(cube):\n",
    "    a_events = mask_to_years(mask_above_threshold(cube.copy(), -0.75))\n",
    "    o_events = mask_to_years(mask_below_threshold(cube.copy(), 0.75))\n",
    "    return {'nina':a_events, 'nino':o_events}\n",
    "\n",
    "def mask_to_years(events):\n",
    "    maskedTime = np.ma.masked_array(events.coord('time').points, mask=events.data.mask)\n",
    "    return [events.coord('time').units.num2date(time).year for time in maskedTime.compressed()]\n",
    "\n",
    "def dSSTnhf_ninonina(events_dict, dsstnhf):\n",
    "    datapoints = []\n",
    "    for enso, events in events_dict.items():\n",
    "        year_enso = iris.Constraint(time=lambda cell: cell.point.year in events)\n",
    "        cube = dsstnhf.extract(year_enso)\n",
    "        ## regroup and average\n",
    "        if enso == 'nina':\n",
    "            cube.data = -1 * cube.data\n",
    "        datapoints.append(cube.data)\n",
    "        print(enso, [d for d in cube.data.data])\n",
    "    return datapoints"
   ]
  },
  {
   "cell_type": "code",
   "execution_count": 87,
   "id": "8f3f5b49-1ff4-4313-ba1a-305739f5720b",
   "metadata": {},
   "outputs": [
    {
     "name": "stdout",
     "output_type": "stream",
     "text": [
      "{'nina': [1984, 1985, 1990, 1993, 1999, 2006, 2011], 'nino': [1979, 1983, 1995, 1998, 2001, 2013]}\n",
      "nina [-0.3516687677094778, 1.245785188139738, -2.398401142258817, -0.047522637917054564, 0.36063981858132477, -0.48849478326689205, -0.6615546209119564]\n",
      "nino [-1.9818843581938215, -2.4196703039571785, -6.747940279874481, -23.71039519737672, -1.9208833256804743, -3.8460019272753216]\n",
      "{'nina': [1983, 1984, 1988, 1995, 1998, 1999, 2007, 2010, 2011], 'nino': [1982, 1986, 1987, 1991, 1994, 1997, 2002, 2009, 2015]}\n",
      "nina [1.0010275568890556, 3.3396852139444126, -7.069601748851709, 4.215879213252012, 2.2616499939913797, 4.877215952036604, 2.0672027612340633, 1.8294105768582392, -0.16513302545945463]\n",
      "nino [-1.6190782650057343, -0.46019991661649734, 0.4124574765228335, -0.8787403215901326, -0.8277463952316726, -4.803511961128264, -9.397323107056337, -7.455858415519433, -11.540198538021368]\n"
     ]
    }
   ],
   "source": [
    "events = enso_events(model_ts_enso['ACCESS-ESM1-5'])\n",
    "print(events)\n",
    "mod_data = dSSTnhf_ninonina(events, model)\n",
    "events = enso_events(obs_tos_enso['TROPFLUX'])\n",
    "print(events)\n",
    "obs_data = dSSTnhf_ninonina(events, obs)"
   ]
  },
  {
   "cell_type": "code",
   "execution_count": 92,
   "id": "614ec7c1-e83d-4aa4-bdd1-6caea56a0215",
   "metadata": {},
   "outputs": [
    {
     "name": "stdout",
     "output_type": "stream",
     "text": [
      "-0.3344595636204479 -0.3344595636204479\n",
      "-6.771129232059665 -3.3052301798231634\n"
     ]
    },
    {
     "data": {
      "text/plain": [
       "(-7.344552316751035e-16,\n",
       " array([  2.95356141,   4.55101537,   0.90682904,   3.25770754,\n",
       "          3.66587   ,   2.8167354 ,   2.64367556,   1.32334582,\n",
       "          0.88555988,  -3.4427101 , -20.40516502,   1.38434685,\n",
       "         -0.54077175]),\n",
       " -3.3052301798231634)"
      ]
     },
     "execution_count": 92,
     "metadata": {},
     "output_type": "execute_result"
    }
   ],
   "source": [
    "lsall =[]\n",
    "for mem in mod_data:\n",
    "    mean = np.mean(mem)\n",
    "    ls = [d for d in mem]\n",
    "    lsall += ls\n",
    "    print(mean, np.mean(lsall))\n",
    "\n",
    "ave = np.mean(lsall) \n",
    "normarray = lsall - ave #normalised, dsst?\n",
    "np.mean(normarray), normarray, ave\n",
    "#wiki : dSSToce = dSST - dSSTnhf, spreadsheet 1-averaged data"
   ]
  },
  {
   "cell_type": "code",
   "execution_count": 93,
   "id": "f6644b1b-20f5-4df4-af7c-8c377f7fbab4",
   "metadata": {},
   "outputs": [
    {
     "name": "stdout",
     "output_type": "stream",
     "text": [
      "1.3730373882105116 1.3730373882105116\n",
      "-4.063355493738511 -1.3451590527640003\n"
     ]
    },
    {
     "data": {
      "text/plain": [
       "-1.3451590527640003"
      ]
     },
     "execution_count": 93,
     "metadata": {},
     "output_type": "execute_result"
    }
   ],
   "source": [
    "lsall =[]\n",
    "for mem in obs_data:\n",
    "    mean = np.mean(mem)\n",
    "    ls = [d for d in mem]\n",
    "    lsall += ls\n",
    "    print(mean, np.mean(lsall))\n",
    "\n",
    "ave_obs = np.mean(lsall) \n",
    "ave_obs"
   ]
  },
  {
   "cell_type": "markdown",
   "id": "bb1fc647-03a5-472e-8264-41ded88a5a63",
   "metadata": {},
   "source": [
    "# Diagnostic Level 1"
   ]
  },
  {
   "cell_type": "markdown",
   "id": "6a4ad789-f26e-4c74-9363-eb673262dcf5",
   "metadata": {},
   "source": [
    "Figure 1: sea surface temperature anomalies (SSTA) caused by anomalous ocean circulation in the eastern equatorial Pacific (Niño3 averaged) during all La Niña (multiplied by -1) and El Niño for 1°C of warming (usually smaller than the reference). The black and blue markers show respectively the reference and the model. The metric derived is the absolute value of the relative difference: abs((model-ref)/ref)*100."
   ]
  },
  {
   "cell_type": "code",
   "execution_count": 91,
   "id": "6400f946-00d7-4750-aaf4-f6d0bd7effed",
   "metadata": {},
   "outputs": [
    {
     "data": {
      "text/plain": [
       "Text(0.02, 0.9, 'metric: 8.35 %')"
      ]
     },
     "execution_count": 91,
     "metadata": {},
     "output_type": "execute_result"
    },
    {
     "data": {
      "image/png": "[encoded data removed]",
      "text/plain": [
       "<Figure size 640x480 with 1 Axes>"
      ]
     },
     "metadata": {},
     "output_type": "display_data"
    }
   ],
   "source": [
    "# scatter plot metric\n",
    "\n",
    "metric_val = abs((ave-ave_obs)/ave_obs)*100\n",
    "\n",
    "plt.scatter([0,1], [ave,ave_obs], c=['blue','black'], marker='D')\n",
    "\n",
    "plt.xlim(-0.5,2)#range(-1,3,1)) #['model','obs']\n",
    "plt.xticks([])\n",
    "\n",
    "# print(obs_tos_prep[\"HadISST\"].shape, obs_tauu_prep[\"ERA-Interim\"].shape)\n",
    "# plt.scatter(obs_tos_prep[\"HadISST\"].data, obs_tauu_prep[\"ERA-Interim\"].data,s=20, c='black', marker='D')\n",
    "\n",
    "plt.ylabel(f'dSSToce (degC)')\n",
    "\n",
    "## text slope\n",
    "plt.text(0.02, 0.9, f'metric: {metric_val:.2f} %', fontsize=12, ha='left',\n",
    "         transform=plt.gca().transAxes, bbox=dict(facecolor='white', alpha=0.8, edgecolor='none'))\n",
    "\n",
    "# print(metric_val)"
   ]
  },
  {
   "cell_type": "markdown",
   "id": "46d3c2fc-534e-49d8-a576-ca07c4934b8f",
   "metadata": {},
   "source": [
    "# Diagnostic Level 2"
   ]
  },
  {
   "cell_type": "code",
   "execution_count": null,
   "id": "f4d84029-2efd-436c-83aa-ebfb4ac8d5a3",
   "metadata": {},
   "outputs": [],
   "source": [
    "# SPLIT BY X<0 AND X>0 (temp)\n",
    "import pandas as pd\n",
    "\n",
    "model_tauu_prep[\"ACCESS-ESM1-5\"].data, model_ssh_prep[\"ACCESS-ESM1-5\"]\n",
    "# matrix/cube? split by tauua 0 -df?time rows, col tauu,ssh create tuple points, zip\n",
    "\n",
    "df = pd.DataFrame({'tauu':model_tauu_prep[\"ACCESS-ESM1-5\"].data, 'ssh':model_ssh_prep[\"ACCESS-ESM1-5\"].data})\n",
    "print(df.shape)\n",
    "df.loc[df['tauu']<0]\n",
    "\n",
    "xseq = np.linspace(-50, 0, num=50)\n",
    "slope, intcpt, _,_,_ = linregress(df.loc[df['tauu']<0, 'tauu'], df.loc[df['tauu']<0, 'ssh'])\n",
    "plt.plot(xseq, intcpt+slope*xseq, linewidth=3)\n",
    "print(slope)\n",
    "xseq = np.linspace(0, 50, num=50)\n",
    "slope, intcpt, _,_,_ = linregress(df.loc[df['tauu']>0, 'tauu'], df.loc[df['tauu']>0, 'ssh'])\n",
    "plt.plot(xseq, intcpt+slope*xseq, color='red', linewidth=3)\n",
    "print(slope)\n",
    "\n",
    "plt.scatter(model_tauu_prep[\"ACCESS-ESM1-5\"].data, model_ssh_prep[\"ACCESS-ESM1-5\"].data, c='k', s=10)\n",
    "xseq = np.linspace(-50, 50, num=50)\n",
    "slope, intcpt, _,_,_ = linregress(df['tauu'], df['ssh'])\n",
    "plt.plot(xseq, intcpt+slope*xseq, c='black')\n",
    "print(slope)\n",
    "plt.xlim(-50,50)\n",
    "plt.ylim(-25,25)\n",
    "plt.grid(linestyle='--')"
   ]
  },
  {
   "cell_type": "code",
   "execution_count": null,
   "id": "507266df-42aa-4cd4-99a8-683c9b9e6b77",
   "metadata": {},
   "outputs": [],
   "source": []
  }
 ],
 "metadata": {
  "kernelspec": {
   "display_name": "Python 3 (ipykernel)",
   "language": "python",
   "name": "python3"
  },
  "language_info": {
   "codemirror_mode": {
    "name": "ipython",
    "version": 3
   },
   "file_extension": ".py",
   "mimetype": "text/x-python",
   "name": "python",
   "nbconvert_exporter": "python",
   "pygments_lexer": "ipython3",
   "version": "3.11.11"
  }
 },
 "nbformat": 4,
 "nbformat_minor": 5
}
