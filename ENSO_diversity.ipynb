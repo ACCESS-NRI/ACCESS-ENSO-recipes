{
 "cells": [
  {
   "cell_type": "code",
   "execution_count": 1,
   "id": "03ca2b4d-aa80-4b22-86e1-bb668f4c832e",
   "metadata": {
    "scrolled": true
   },
   "outputs": [],
   "source": [
    "\n",
    "from esmvalcore.config import CFG\n",
    "from esmvalcore.dataset import Dataset\n",
    "\n",
    "CFG.load_from_file('/home/189/fc6164/esmValTool/config-fc-copy.yml')"
   ]
  },
  {
   "cell_type": "markdown",
   "id": "2f22e175",
   "metadata": {},
   "source": [
    "### Datasets"
   ]
  },
  {
   "cell_type": "code",
   "execution_count": 2,
   "id": "0d112937-acb8-40c7-8fda-24779cd4c46d",
   "metadata": {},
   "outputs": [
    {
     "data": {
      "text/plain": [
       "2"
      ]
     },
     "execution_count": 2,
     "metadata": {},
     "output_type": "execute_result"
    }
   ],
   "source": [
    "\n",
    "obs = Dataset(\n",
    "    short_name='tos',\n",
    "    dataset='NOAA-ERSSTv5',\n",
    "    mip=\"Omon\",\n",
    "    project='OBS6',\n",
    "    type='reanaly',\n",
    "    timerange=\"1900/2019\",\n",
    "    tier=2)\n",
    "# list(obs.from_files())\n",
    "len(obs.files)"
   ]
  },
  {
   "cell_type": "code",
   "execution_count": 3,
   "id": "6c57f395-5f5a-47ec-a714-99d191ec22c6",
   "metadata": {
    "scrolled": true
   },
   "outputs": [
    {
     "name": "stderr",
     "output_type": "stream",
     "text": [
      "WARNING:esmvalcore.local:'CMIP6' rootpaths '/g/data/zv30/cmip/CMIP6' set in config-user.yml do not exist\n"
     ]
    },
    {
     "data": {
      "text/plain": [
       "([LocalFile('/g/data/fs38/publications/CMIP6/CMIP/CSIRO-ARCCSS/ACCESS-CM2/historical/r1i1p1f1/Omon/tos/gn/v20191108/tos_Omon_ACCESS-CM2_historical_r1i1p1f1_gn_185001-201412.nc')],\n",
       " [LocalFile('/g/data/fs38/publications/CMIP6/CMIP/CSIRO-ARCCSS/ACCESS-CM2/historical/r1i1p1f1/Ofx/areacello/gn/v20191108/areacello_Ofx_ACCESS-CM2_historical_r1i1p1f1_gn.nc')])"
      ]
     },
     "execution_count": 3,
     "metadata": {},
     "output_type": "execute_result"
    }
   ],
   "source": [
    "\n",
    "## model\n",
    "var = Dataset(\n",
    "    short_name='tos',\n",
    "    mip='Omon',\n",
    "    project='CMIP6',\n",
    "    activity='CMIP',\n",
    "    dataset='ACCESS-CM2',\n",
    "    ensemble='r1i1p1f1',\n",
    "    institute='*',\n",
    "    grid='*',\n",
    "    exp='historical',\n",
    "    # timerange='1979/2019',\n",
    "    # derive='true'\n",
    ")\n",
    "\n",
    "var_noarea = var.copy()\n",
    "\n",
    "var.add_supplementary(short_name='areacello', mip='Ofx')\n",
    "var.find_files()\n",
    "# list(var.from_files())[0].files\n",
    "var.files,var.supplementaries[0].files\n"
   ]
  },
  {
   "cell_type": "code",
   "execution_count": 4,
   "id": "300de51c",
   "metadata": {
    "scrolled": true
   },
   "outputs": [],
   "source": [
    "import iris\n",
    "from esmvalcore.preprocessor import (\n",
    "                detrend, # dimension, method, \n",
    "                meridional_statistics, # \n",
    "                zonal_statistics,\n",
    "                area_statistics,\n",
    "                regrid, #esmf bilinear\n",
    "                mask_landsea,\n",
    "                anomalies,\n",
    "                extract_month, \n",
    "                mask_inside_range, mask_above_threshold, mask_below_threshold,\n",
    "                extract_region, # equatorial pacific #1 - 150°E-90°W, zonal 5°S-5°N average\n",
    "                climate_statistics,# month mean, standard deviation\n",
    "                rolling_window_statistics) \n",
    "\n",
    "import numpy as np\n",
    "import iris.quickplot as qplt\n",
    "import matplotlib.pyplot as plt\n",
    "import iris.plot as iplt\n",
    "import matplotlib.colors as mcolors\n",
    "import cartopy.feature as cfeature\n",
    "import cartopy.crs as ccrs\n"
   ]
  },
  {
   "cell_type": "code",
   "execution_count": 5,
   "id": "784947b3-b662-479a-8a4f-56432f77d324",
   "metadata": {
    "scrolled": true
   },
   "outputs": [],
   "source": [
    "## \n",
    "def nino3_4ssta(cube):\n",
    "    cube = extract_region(cube, 190, 240, -5, 5) #\n",
    "    # cube = regrid(cube, target_grid=\"1x1\", scheme=\"linear\")   \n",
    "    \n",
    "    # triangle weighted- double smoothed\n",
    "    cube = rolling_window_statistics(cube, coordinate='time', operator='mean', window_length=5)\n",
    "    cube = rolling_window_statistics(cube, coordinate='time', operator='mean', window_length=5)\n",
    "    \n",
    "    cube = area_statistics(cube, 'mean')\n",
    "    cube = extract_month(cube, 12)\n",
    "    cube = anomalies(cube, period='monthly', standardize=True)  #normalise\n",
    "  \n",
    "    return cube\n",
    "\n",
    "def eq_ssta(cube):\n",
    "    cube = extract_region(cube, 150, 270, -5, 5)\n",
    "    # season cycle? detrend? #convert units\n",
    "    cube = rolling_window_statistics(cube, coordinate='time', operator='mean', window_length=5)\n",
    "    cube = rolling_window_statistics(cube, coordinate='time', operator='mean', window_length=5)\n",
    "    cube = extract_month(cube, 12)\n",
    "    cube = anomalies(cube,period='monthly')\n",
    "    cube = regrid(cube, target_grid=\"1x1\", scheme=\"linear\") \n",
    "    \n",
    "    cube = meridional_statistics(cube, 'mean') #\n",
    "     # weighted running average 5-degree\n",
    "    cube = rolling_window_statistics(cube, coordinate='longitude', operator='mean', window_length=5)\n",
    "    cube = rolling_window_statistics(cube, coordinate='longitude', operator='mean', window_length=5)\n",
    "    return cube\n",
    "\n",
    "\n",
    "def enso_events(cube):\n",
    "    # mean, std = cube.data.mean(), cube.data.std() #normalised, use 0.75\n",
    "    # range1, range2 = mean-0.75*std, mean + 0.75*std \n",
    "    \n",
    "    a_events = mask_to_years(mask_above_threshold(cube.copy(), -0.75))\n",
    "    o_events = mask_to_years(mask_below_threshold(cube.copy(), 0.75))\n",
    "    return {'nina':a_events, 'nino':o_events}\n",
    "\n",
    "def mask_to_years(events):\n",
    "    # build time with mask\n",
    "    maskedTime = np.ma.masked_array(events.coord('time').points, mask=events.data.mask)\n",
    "    # print(f'events cube shape: {events.shape}')\n",
    "    # return years\n",
    "    return [events.coord('time').units.num2date(time).year for time in maskedTime.compressed()]\n",
    "\n",
    "# Diversity - get zonal location of max and min\n",
    "def diversity(ssta_cube, events_dict): #2 masks/events list\n",
    "    # each enso year, max/min SSTA, get longitude\n",
    "    res_lon = {}\n",
    "    for enso, events in events_dict.items():\n",
    "        year_enso = iris.Constraint(time=lambda cell: cell.point.year in events)\n",
    "        cube = ssta_cube.extract(year_enso)\n",
    "        if enso == 'nina':\n",
    "            cube = cube * -1\n",
    "        #iterate through cube, each time get max/min value and return lon\n",
    "        loc_ls = []\n",
    "        for yr_slice in cube.slices(['longitude']):\n",
    "\n",
    "            indx = np.argmax(yr_slice.data) # if nina multiply by -1 or min\n",
    "            loc_ls.append(cube.coord('longitude').points[indx])\n",
    "\n",
    "        res_lon[enso] = loc_ls\n",
    "\n",
    "    return res_lon # return data to plot \n",
    "\n",
    "# IQR and abs((model-ref)/ref)*100\n",
    "def iqr(data):\n",
    "    #calculate interquartile range \n",
    "    q3, q1 = np.percentile(data, [75 ,25])\n",
    "    print(q3, q1)\n",
    "    iqr = q3 - q1\n",
    "    return iqr\n",
    "    \n",
    "def compute(obs_iqr, mod_iqr):\n",
    "    return abs((mod_iqr-obs_iqr)/obs_iqr)*100"
   ]
  },
  {
   "cell_type": "code",
   "execution_count": 7,
   "id": "2302a678-63e9-4fb2-8eb1-e702ff6213f2",
   "metadata": {},
   "outputs": [
    {
     "name": "stderr",
     "output_type": "stream",
     "text": [
      "/g/data/xp65/public/apps/med_conda/envs/esmvaltool-0.4/lib/python3.11/site-packages/iris/cube.py:4620: IrisIgnoringBoundsWarning: The bounds of coordinate 'time' were ignored in the rolling window operation.\n",
      "  warnings.warn(\n",
      "/g/data/xp65/public/apps/med_conda/envs/esmvaltool-0.4/lib/python3.11/site-packages/iris/coords.py:2153: IrisVagueMetadataWarning: Cannot check if coordinate is contiguous: Invalid operation for 'cell index along second dimension', with 0 bound(s). Contiguous bounds are only defined for 1D coordinates with 2 bounds. Metadata may not be fully descriptive for 'cell index along second dimension'. Ignoring bounds.\n",
      "  warnings.warn(\n",
      "/g/data/xp65/public/apps/med_conda/envs/esmvaltool-0.4/lib/python3.11/site-packages/iris/coords.py:2153: IrisVagueMetadataWarning: Cannot check if coordinate is contiguous: Invalid operation for 'cell index along first dimension', with 0 bound(s). Contiguous bounds are only defined for 1D coordinates with 2 bounds. Metadata may not be fully descriptive for 'cell index along first dimension'. Ignoring bounds.\n",
      "  warnings.warn(\n",
      "/g/data/xp65/public/apps/med_conda/envs/esmvaltool-0.4/lib/python3.11/site-packages/iris/coords.py:2140: IrisVagueMetadataWarning: Collapsing a multi-dimensional coordinate. Metadata may not be fully descriptive for 'latitude'.\n",
      "  warnings.warn(\n",
      "/g/data/xp65/public/apps/med_conda/envs/esmvaltool-0.4/lib/python3.11/site-packages/iris/coords.py:2140: IrisVagueMetadataWarning: Collapsing a multi-dimensional coordinate. Metadata may not be fully descriptive for 'longitude'.\n",
      "  warnings.warn(\n",
      "/g/data/xp65/public/apps/med_conda/envs/esmvaltool-0.4/lib/python3.11/site-packages/numpy/ma/core.py:5417: RuntimeWarning: Degrees of freedom <= 0 for slice\n",
      "  ret = super().var(axis=axis, dtype=dtype, out=out, ddof=ddof,\n",
      "/g/data/xp65/public/apps/med_conda/envs/esmvaltool-0.4/lib/python3.11/site-packages/numpy/core/_methods.py:195: RuntimeWarning: invalid value encountered in divide\n",
      "  ret = um.true_divide(\n"
     ]
    },
    {
     "name": "stdout",
     "output_type": "stream",
     "text": [
      "events cube shape: (164,)\n",
      "events cube shape: (164,)\n"
     ]
    },
    {
     "name": "stderr",
     "output_type": "stream",
     "text": [
      "/g/data/xp65/public/apps/med_conda/envs/esmvaltool-0.4/lib/python3.11/site-packages/iris/cube.py:4620: IrisIgnoringBoundsWarning: The bounds of coordinate 'time' were ignored in the rolling window operation.\n",
      "  warnings.warn(\n",
      "/g/data/xp65/public/apps/med_conda/envs/esmvaltool-0.4/lib/python3.11/site-packages/iris/cube.py:4067: IrisUserWarning: Collapsing spatial coordinate 'latitude' without weighting\n",
      "  warnings.warn(\n",
      "/g/data/xp65/public/apps/med_conda/envs/esmvaltool-0.4/lib/python3.11/site-packages/iris/cube.py:4620: IrisIgnoringBoundsWarning: The bounds of coordinate 'longitude' were ignored in the rolling window operation.\n",
      "  warnings.warn(\n"
     ]
    },
    {
     "name": "stdout",
     "output_type": "stream",
     "text": [
      "245.5 219.0\n",
      "ACCESS-CM2 enso IQR: 26.5\n",
      "245.5 219.0\n"
     ]
    },
    {
     "name": "stderr",
     "output_type": "stream",
     "text": [
      "/g/data/xp65/public/apps/med_conda/envs/esmvaltool-0.4/lib/python3.11/site-packages/iris/cube.py:4620: IrisIgnoringBoundsWarning: The bounds of coordinate 'time' were ignored in the rolling window operation.\n",
      "  warnings.warn(\n",
      "/g/data/xp65/public/apps/med_conda/envs/esmvaltool-0.4/lib/python3.11/site-packages/numpy/ma/core.py:5417: RuntimeWarning: Degrees of freedom <= 0 for slice\n",
      "  ret = super().var(axis=axis, dtype=dtype, out=out, ddof=ddof,\n",
      "/g/data/xp65/public/apps/med_conda/envs/esmvaltool-0.4/lib/python3.11/site-packages/numpy/core/_methods.py:195: RuntimeWarning: invalid value encountered in divide\n",
      "  ret = um.true_divide(\n"
     ]
    },
    {
     "name": "stdout",
     "output_type": "stream",
     "text": [
      "events cube shape: (119,)\n",
      "events cube shape: (119,)\n"
     ]
    },
    {
     "name": "stderr",
     "output_type": "stream",
     "text": [
      "/g/data/xp65/public/apps/med_conda/envs/esmvaltool-0.4/lib/python3.11/site-packages/iris/cube.py:4620: IrisIgnoringBoundsWarning: The bounds of coordinate 'time' were ignored in the rolling window operation.\n",
      "  warnings.warn(\n"
     ]
    },
    {
     "name": "stdout",
     "output_type": "stream",
     "text": [
      "235.5 194.5\n",
      "NOAA-ERSSTv5 enso IQR: 41.0\n",
      "235.5 194.5\n",
      "metric:  35.36585365853659\n"
     ]
    },
    {
     "name": "stderr",
     "output_type": "stream",
     "text": [
      "/g/data/xp65/public/apps/med_conda/envs/esmvaltool-0.4/lib/python3.11/site-packages/iris/cube.py:4067: IrisUserWarning: Collapsing spatial coordinate 'latitude' without weighting\n",
      "  warnings.warn(\n",
      "/g/data/xp65/public/apps/med_conda/envs/esmvaltool-0.4/lib/python3.11/site-packages/iris/cube.py:4620: IrisIgnoringBoundsWarning: The bounds of coordinate 'longitude' were ignored in the rolling window operation.\n",
      "  warnings.warn(\n"
     ]
    }
   ],
   "source": [
    "datasets = [var, obs]\n",
    "\n",
    "#plot 1\n",
    "process = {}\n",
    "metric = []\n",
    "for ds in datasets:\n",
    "    nino_res = nino3_4ssta(ds.load())\n",
    "    events = enso_events(nino_res)\n",
    "\n",
    "    eq_res = eq_ssta(ds.load())\n",
    "    results_lon = diversity(eq_res, events)\n",
    "    results_lon['enso'] = results_lon['nino'] + results_lon['nina']\n",
    "    print(ds['dataset'], 'enso IQR:', iqr(results_lon['enso'])) \n",
    "    process[ds['dataset']] = results_lon\n",
    "    metric.append(iqr(results_lon['enso']))#plot with label\n",
    "\n",
    "print('metric: ', compute(metric[1],metric[0]))\n"
   ]
  },
  {
   "cell_type": "code",
   "execution_count": 16,
   "id": "ae5d0b8e-bf8f-4440-bf0e-9457f5dbc7f4",
   "metadata": {},
   "outputs": [
    {
     "data": {
      "text/plain": [
       "Text(0.75, 0.8, '* observation')"
      ]
     },
     "execution_count": 16,
     "metadata": {},
     "output_type": "execute_result"
    },
    {
     "data": {
      "image/png": "[encoded data removed]",
      "text/plain": [
       "<Figure size 640x480 with 1 Axes>"
      ]
     },
     "metadata": {},
     "output_type": "display_data"
    }
   ],
   "source": [
    "\n",
    "\n",
    "plt.scatter(range(len(metric)), metric, c=['blue','black'], marker='D')\n",
    "\n",
    "plt.xlim(-0.5,2)#range(-1,3,1)) #['model','obs']\n",
    "plt.xticks([])\n",
    "\n",
    "plt.ylabel('IQR of min/max SSTA (°long)')\n",
    "plt.grid(linestyle='--', axis='y')\n",
    "plt.title('ENSO diversity')\n",
    "\n",
    "metricval = compute(metric[1],metric[0])\n",
    "plt.text(0.95, 0.95, f'Metric: {metricval:.2f} %', fontsize=12, ha='right', transform=plt.gca().transAxes,\n",
    "         bbox=dict(facecolor='white', alpha=0.8, edgecolor='none'))\n",
    "\n",
    "plt.text(0.75,0.85, '* ACCESS-CM2', color='blue',transform=plt.gca().transAxes)\n",
    "plt.text(0.75,0.8, '* observation', color='black',transform=plt.gca().transAxes)\n",
    "# plt.legend(loc='lower right')\n"
   ]
  },
  {
   "cell_type": "code",
   "execution_count": 39,
   "id": "945b214c-b5b0-402e-b9a3-273eac8cefac",
   "metadata": {},
   "outputs": [
    {
     "data": {
      "image/png": "[encoded data removed]",
      "text/plain": [
       "<Figure size 2000x700 with 2 Axes>"
      ]
     },
     "metadata": {},
     "output_type": "display_data"
    }
   ],
   "source": [
    "\n",
    "def format_longitude(x, pos):\n",
    "    if x > 180:\n",
    "        return f'{int(360 - x)}°W'\n",
    "    elif x == 180:\n",
    "        return f'{int(x)}°'\n",
    "    else:\n",
    "        return f'{int(x)}°E'\n",
    "\n",
    "\n",
    "fig = plt.figure(figsize=(20, 7))\n",
    "nina = [process[ds]['nina'] for ds in process.keys()] # subplots for nina and nino\n",
    "nino = [process[ds]['nino'] for ds in process.keys()]\n",
    "\n",
    "ax1 = plt.subplot(121)\n",
    "bplt = ax1.boxplot(nina, labels=process.keys())\n",
    "for k in bplt.keys():\n",
    "    plt.setp(bplt[k], linewidth=2)\n",
    "# colours = ['blue','black']\n",
    "# for k in ['boxes','whiskers','caps']:\n",
    "#     for patch, colour in zip(bplt[k], ):\n",
    "#         # patch.set_color(colour)\n",
    "#         patch.set_linewidth(2)\n",
    "#         if k == 'boxes':\n",
    "#             patch.set_fill(False)\n",
    "ax1.set_title('La Nina diversity')\n",
    "plt.ylabel('longitude of min SSTA')\n",
    "plt.gca().yaxis.set_major_formatter(plt.FuncFormatter(format_longitude))\n",
    "plt.grid(linestyle='--', axis='y')\n",
    "\n",
    "ax1 = plt.subplot(122)\n",
    "bplt = ax1.boxplot(nino, labels=process.keys())\n",
    "for k in bplt.keys():\n",
    "    plt.setp(bplt[k], linewidth=2)\n",
    "plt.title('El Nino diversity')\n",
    "plt.ylabel('longitude of max SSTA')\n",
    "plt.grid(linestyle='--', axis='y')\n",
    "plt.gca().yaxis.set_major_formatter(plt.FuncFormatter(format_longitude))"
   ]
  },
  {
   "cell_type": "code",
   "execution_count": null,
   "id": "9623a3e8-c623-4aef-b359-0943edf6d900",
   "metadata": {},
   "outputs": [],
   "source": [
    "qplt.plot(nino3_4ssta(var.load()))"
   ]
  },
  {
   "cell_type": "code",
   "execution_count": null,
   "id": "b524b03e-79b5-41cf-9cc9-59c491c8f1fa",
   "metadata": {},
   "outputs": [],
   "source": []
  }
 ],
 "metadata": {
  "kernelspec": {
   "display_name": "Python 3 (ipykernel)",
   "language": "python",
   "name": "python3"
  },
  "language_info": {
   "codemirror_mode": {
    "name": "ipython",
    "version": 3
   },
   "file_extension": ".py",
   "mimetype": "text/x-python",
   "name": "python",
   "nbconvert_exporter": "python",
   "pygments_lexer": "ipython3",
   "version": "3.11.9"
  }
 },
 "nbformat": 4,
 "nbformat_minor": 5
}
