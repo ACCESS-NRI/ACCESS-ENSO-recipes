{
 "cells": [
  {
   "cell_type": "code",
   "execution_count": 1,
   "id": "03ca2b4d-aa80-4b22-86e1-bb668f4c832e",
   "metadata": {
    "scrolled": true
   },
   "outputs": [],
   "source": [
    "\n",
    "from esmvalcore.config import CFG\n",
    "from esmvalcore.dataset import Dataset\n",
    "\n",
    "CFG.load_from_file('/home/189/fc6164/esmValTool/config-fc-copy.yml')"
   ]
  },
  {
   "cell_type": "markdown",
   "id": "2f22e175",
   "metadata": {},
   "source": [
    "### Datasets"
   ]
  },
  {
   "cell_type": "code",
   "execution_count": 2,
   "id": "0d112937-acb8-40c7-8fda-24779cd4c46d",
   "metadata": {},
   "outputs": [
    {
     "data": {
      "text/plain": [
       "2"
      ]
     },
     "execution_count": 2,
     "metadata": {},
     "output_type": "execute_result"
    }
   ],
   "source": [
    "\n",
    "obs = Dataset(\n",
    "    short_name='tos',\n",
    "    dataset='NOAA-ERSSTv5',\n",
    "    mip=\"Omon\",\n",
    "    project='OBS6',\n",
    "    type='reanaly',\n",
    "    timerange=\"1900/2019\",\n",
    "    tier=2)\n",
    "# list(obs.from_files())\n",
    "len(obs.files)"
   ]
  },
  {
   "cell_type": "code",
   "execution_count": 3,
   "id": "6c57f395-5f5a-47ec-a714-99d191ec22c6",
   "metadata": {
    "scrolled": true
   },
   "outputs": [
    {
     "name": "stderr",
     "output_type": "stream",
     "text": [
      "WARNING:esmvalcore.local:'CMIP6' rootpaths '/g/data/zv30/cmip/CMIP6' set in config-user.yml do not exist\n"
     ]
    },
    {
     "data": {
      "text/plain": [
       "([LocalFile('/g/data/fs38/publications/CMIP6/CMIP/CSIRO-ARCCSS/ACCESS-CM2/historical/r1i1p1f1/Omon/tos/gn/v20191108/tos_Omon_ACCESS-CM2_historical_r1i1p1f1_gn_185001-201412.nc')],\n",
       " [LocalFile('/g/data/fs38/publications/CMIP6/CMIP/CSIRO-ARCCSS/ACCESS-CM2/historical/r1i1p1f1/Ofx/areacello/gn/v20191108/areacello_Ofx_ACCESS-CM2_historical_r1i1p1f1_gn.nc')])"
      ]
     },
     "execution_count": 3,
     "metadata": {},
     "output_type": "execute_result"
    }
   ],
   "source": [
    "\n",
    "## model\n",
    "var = Dataset(\n",
    "    short_name='tos',\n",
    "    mip='Omon',\n",
    "    project='CMIP6',\n",
    "    activity='CMIP',\n",
    "    dataset='ACCESS-CM2',\n",
    "    ensemble='r1i1p1f1',\n",
    "    institute='*',\n",
    "    grid='*',\n",
    "    exp='historical',\n",
    "    # timerange='1979/2019',\n",
    "    # derive='true'\n",
    ")\n",
    "\n",
    "var_noarea = var.copy()\n",
    "\n",
    "var.add_supplementary(short_name='areacello', mip='Ofx')\n",
    "var.find_files()\n",
    "# list(var.from_files())[0].files\n",
    "var.files,var.supplementaries[0].files\n"
   ]
  },
  {
   "cell_type": "markdown",
   "id": "507d6433",
   "metadata": {},
   "source": [
    "Regridding:\n",
    "model and observations regridded toward a generic 1°x1° grid (using cdms esmf linear method)\n",
    "\n",
    "Steps (computation):\n",
    "\n",
    "Niño3.4 SSTA\n",
    "- seasonal cycle removed\n",
    "- detrending (if applicable)\n",
    "- smoothed with time running average\n",
    "- spatial average\n",
    "\n",
    "SSTA along the equator\n",
    "\n",
    "- seasonal cycle removed\n",
    "- detrending (if applicable)\n",
    "- smoothed with time running average\n",
    "- regridding (if applicable)\n",
    "- meridional average\n",
    "- smoothed with zonal running average\n",
    "\n",
    "ENSO events\n",
    "- detect December Niño3.4 SSTA < -0.75std (> 0.75std)\n",
    "\n",
    "Diversity\n",
    "- detect the zonal location of the maximum SSTA during all El Niño peak (December)\n",
    "- detect the zonal location of the minimum SSTA during all La Niña peak (December)\n",
    "- compute interquartile range (IQR) of the distribution of locations\n",
    "- abs((model-ref)/ref)*100"
   ]
  },
  {
   "cell_type": "code",
   "execution_count": 4,
   "id": "300de51c",
   "metadata": {
    "scrolled": true
   },
   "outputs": [],
   "source": [
    "import iris\n",
    "from esmvalcore.preprocessor import (\n",
    "                detrend, # dimension, method, \n",
    "                meridional_statistics, # \n",
    "                zonal_statistics,\n",
    "                area_statistics,\n",
    "                regrid, #esmf bilinear\n",
    "                mask_landsea,\n",
    "                anomalies,\n",
    "                extract_month, \n",
    "                mask_inside_range, mask_above_threshold, mask_below_threshold,\n",
    "                extract_region, # equatorial pacific #1 - 150°E-90°W, zonal 5°S-5°N average\n",
    "                climate_statistics,# month mean, standard deviation\n",
    "                rolling_window_statistics) \n",
    "\n",
    "import numpy as np\n",
    "import iris.quickplot as qplt\n",
    "import matplotlib.pyplot as plt\n",
    "import iris.plot as iplt\n",
    "import matplotlib.colors as mcolors\n",
    "import cartopy.feature as cfeature\n",
    "import cartopy.crs as ccrs\n"
   ]
  },
  {
   "cell_type": "code",
   "execution_count": 5,
   "id": "784947b3-b662-479a-8a4f-56432f77d324",
   "metadata": {
    "scrolled": true
   },
   "outputs": [],
   "source": [
    "from esmvalcore.preprocessor import mask_above_threshold, mask_below_threshold\n",
    "## \n",
    "def nino3_4ssta(cube):\n",
    "    cube = extract_region(cube, 190, 240, -5, 5) #\n",
    "    # cube = detrend(cube, dimension='time', method='linear') #? like anomalies?\n",
    "    # cube = regrid(cube, target_grid=\"1x1\", scheme=\"linear\")   \n",
    "    \n",
    "    # triangle weighted?- double smoothed\n",
    "    cube = rolling_window_statistics(cube, coordinate='time', operator='mean', window_length=5)\n",
    "    cube = rolling_window_statistics(cube, coordinate='time', operator='mean', window_length=5)\n",
    "    \n",
    "    cube = area_statistics(cube, 'mean') #Multi-dimensional coordinate not supported: 'latitude'\n",
    "    \n",
    "    cube = extract_month(cube, 12)\n",
    "    cube = anomalies(cube, period='monthly', standardize=True)  #normalise\n",
    "  \n",
    "    return cube\n",
    "\n",
    "\n",
    "def eq_ssta(cube):\n",
    "    cube = extract_region(cube, 150, 270, -5, 5)\n",
    "    # season cycle? detrend? #convert units\n",
    "    cube = rolling_window_statistics(cube, coordinate='time', operator='mean', window_length=5)\n",
    "    cube = rolling_window_statistics(cube, coordinate='time', operator='mean', window_length=5)\n",
    "    cube = extract_month(cube, 12)\n",
    "    cube = anomalies(cube,period='monthly')\n",
    "    cube = regrid(cube, target_grid=\"1x1\", scheme=\"linear\") #error regridding\n",
    "    \n",
    "    cube = meridional_statistics(cube, 'mean') # ? drop for 3d data to splice by time events?\n",
    "     # weighted running average 5-degree\n",
    "    cube = rolling_window_statistics(cube, coordinate='longitude', operator='mean', window_length=5)\n",
    "    cube = rolling_window_statistics(cube, coordinate='longitude', operator='mean', window_length=5)\n",
    "    return cube\n",
    "\n",
    "\n",
    "def enso_events(cube):\n",
    "\n",
    "    # mean, std = cube.data.mean(), cube.data.std() #normalised, use 0.75\n",
    "    # range1, range2 = mean-0.75*std, mean + 0.75*std \n",
    "    \n",
    "    a_events = mask_to_years(mask_above_threshold(cube.copy(), -0.75))\n",
    "    o_events = mask_to_years(mask_below_threshold(cube.copy(), 0.75))\n",
    "    return {'nina':a_events, 'nino':o_events}\n",
    "\n",
    "def mask_to_years(events):\n",
    "    # build time with mask\n",
    "    maskedTime = np.ma.masked_array(events.coord('time').points, mask=events.data.mask)\n",
    "    print(f'cube shape: {events.shape}')\n",
    "    # return years\n",
    "    return [events.coord('time').units.num2date(time).year for time in maskedTime.compressed()]\n",
    "\n",
    "# Diversity - get zonal location of max and min\n",
    "def diversity(ssta_cube, events_dict): #2 masks/events list\n",
    "    # each enso year, max/min SSTA, get longitude\n",
    "    res_lon = {}\n",
    "    for enso, events in events_dict.items():\n",
    "        year_enso = iris.Constraint(time=lambda cell: cell.point.year in events)\n",
    "        cube = ssta_cube.extract(year_enso) #or extract preprocesssor?\n",
    "        if enso == 'nina':\n",
    "            cube = cube * -1\n",
    "        #iterate through cube, each time get max/min value and return lon\n",
    "        loc_ls = []\n",
    "        for yr_slice in cube.slices(['longitude']):\n",
    "\n",
    "            indx = np.argmax(yr_slice.data) # if nina multiply by -1 or min\n",
    "            loc_ls.append(cube.coord('longitude').points[indx])\n",
    "\n",
    "        res_lon[enso] = loc_ls\n",
    "\n",
    "    return res_lon # return data to plot \n",
    "\n",
    "# IQR and abs((model-ref)/ref)*100\n",
    "def iqr(data):\n",
    "    #calculate interquartile range \n",
    "    q3, q1 = np.percentile(data, [75 ,25])\n",
    "    print(q3, q1)\n",
    "    iqr = q3 - q1\n",
    "    return iqr\n",
    "    \n",
    "def compute(obs_iqr, mod_iqr):\n",
    "    return abs((mod_iqr-obs_iqr)/obs_iqr)*100"
   ]
  },
  {
   "cell_type": "code",
   "execution_count": 9,
   "id": "2302a678-63e9-4fb2-8eb1-e702ff6213f2",
   "metadata": {},
   "outputs": [
    {
     "name": "stderr",
     "output_type": "stream",
     "text": [
      "/g/data/xp65/public/apps/med_conda/envs/esmvaltool-0.4/lib/python3.11/site-packages/iris/cube.py:4620: IrisIgnoringBoundsWarning: The bounds of coordinate 'time' were ignored in the rolling window operation.\n",
      "  warnings.warn(\n",
      "/g/data/xp65/public/apps/med_conda/envs/esmvaltool-0.4/lib/python3.11/site-packages/iris/coords.py:2153: IrisVagueMetadataWarning: Cannot check if coordinate is contiguous: Invalid operation for 'cell index along second dimension', with 0 bound(s). Contiguous bounds are only defined for 1D coordinates with 2 bounds. Metadata may not be fully descriptive for 'cell index along second dimension'. Ignoring bounds.\n",
      "  warnings.warn(\n",
      "/g/data/xp65/public/apps/med_conda/envs/esmvaltool-0.4/lib/python3.11/site-packages/iris/coords.py:2153: IrisVagueMetadataWarning: Cannot check if coordinate is contiguous: Invalid operation for 'cell index along first dimension', with 0 bound(s). Contiguous bounds are only defined for 1D coordinates with 2 bounds. Metadata may not be fully descriptive for 'cell index along first dimension'. Ignoring bounds.\n",
      "  warnings.warn(\n",
      "/g/data/xp65/public/apps/med_conda/envs/esmvaltool-0.4/lib/python3.11/site-packages/iris/coords.py:2140: IrisVagueMetadataWarning: Collapsing a multi-dimensional coordinate. Metadata may not be fully descriptive for 'latitude'.\n",
      "  warnings.warn(\n",
      "/g/data/xp65/public/apps/med_conda/envs/esmvaltool-0.4/lib/python3.11/site-packages/iris/coords.py:2140: IrisVagueMetadataWarning: Collapsing a multi-dimensional coordinate. Metadata may not be fully descriptive for 'longitude'.\n",
      "  warnings.warn(\n",
      "/g/data/xp65/public/apps/med_conda/envs/esmvaltool-0.4/lib/python3.11/site-packages/numpy/ma/core.py:5417: RuntimeWarning: Degrees of freedom <= 0 for slice\n",
      "  ret = super().var(axis=axis, dtype=dtype, out=out, ddof=ddof,\n",
      "/g/data/xp65/public/apps/med_conda/envs/esmvaltool-0.4/lib/python3.11/site-packages/numpy/core/_methods.py:195: RuntimeWarning: invalid value encountered in divide\n",
      "  ret = um.true_divide(\n"
     ]
    },
    {
     "name": "stdout",
     "output_type": "stream",
     "text": [
      "cube shape: (164,): length of data mask: 164\n",
      "cube shape: (164,): length of data mask: 164\n"
     ]
    },
    {
     "name": "stderr",
     "output_type": "stream",
     "text": [
      "/g/data/xp65/public/apps/med_conda/envs/esmvaltool-0.4/lib/python3.11/site-packages/iris/cube.py:4620: IrisIgnoringBoundsWarning: The bounds of coordinate 'time' were ignored in the rolling window operation.\n",
      "  warnings.warn(\n",
      "/g/data/xp65/public/apps/med_conda/envs/esmvaltool-0.4/lib/python3.11/site-packages/iris/cube.py:4067: IrisUserWarning: Collapsing spatial coordinate 'latitude' without weighting\n",
      "  warnings.warn(\n",
      "/g/data/xp65/public/apps/med_conda/envs/esmvaltool-0.4/lib/python3.11/site-packages/iris/cube.py:4620: IrisIgnoringBoundsWarning: The bounds of coordinate 'longitude' were ignored in the rolling window operation.\n",
      "  warnings.warn(\n"
     ]
    },
    {
     "name": "stdout",
     "output_type": "stream",
     "text": [
      "245.5 219.0\n",
      "ACCESS-CM2 26.5\n",
      "245.5 219.0\n"
     ]
    },
    {
     "name": "stderr",
     "output_type": "stream",
     "text": [
      "/g/data/xp65/public/apps/med_conda/envs/esmvaltool-0.4/lib/python3.11/site-packages/iris/cube.py:4620: IrisIgnoringBoundsWarning: The bounds of coordinate 'time' were ignored in the rolling window operation.\n",
      "  warnings.warn(\n",
      "/g/data/xp65/public/apps/med_conda/envs/esmvaltool-0.4/lib/python3.11/site-packages/numpy/ma/core.py:5417: RuntimeWarning: Degrees of freedom <= 0 for slice\n",
      "  ret = super().var(axis=axis, dtype=dtype, out=out, ddof=ddof,\n",
      "/g/data/xp65/public/apps/med_conda/envs/esmvaltool-0.4/lib/python3.11/site-packages/numpy/core/_methods.py:195: RuntimeWarning: invalid value encountered in divide\n",
      "  ret = um.true_divide(\n"
     ]
    },
    {
     "name": "stdout",
     "output_type": "stream",
     "text": [
      "cube shape: (119,): length of data mask: 119\n",
      "cube shape: (119,): length of data mask: 119\n"
     ]
    },
    {
     "name": "stderr",
     "output_type": "stream",
     "text": [
      "/g/data/xp65/public/apps/med_conda/envs/esmvaltool-0.4/lib/python3.11/site-packages/iris/cube.py:4620: IrisIgnoringBoundsWarning: The bounds of coordinate 'time' were ignored in the rolling window operation.\n",
      "  warnings.warn(\n"
     ]
    },
    {
     "name": "stdout",
     "output_type": "stream",
     "text": [
      "235.5 194.5\n",
      "NOAA-ERSSTv5 41.0\n",
      "235.5 194.5\n"
     ]
    },
    {
     "name": "stderr",
     "output_type": "stream",
     "text": [
      "/g/data/xp65/public/apps/med_conda/envs/esmvaltool-0.4/lib/python3.11/site-packages/iris/cube.py:4067: IrisUserWarning: Collapsing spatial coordinate 'latitude' without weighting\n",
      "  warnings.warn(\n",
      "/g/data/xp65/public/apps/med_conda/envs/esmvaltool-0.4/lib/python3.11/site-packages/iris/cube.py:4620: IrisIgnoringBoundsWarning: The bounds of coordinate 'longitude' were ignored in the rolling window operation.\n",
      "  warnings.warn(\n"
     ]
    },
    {
     "data": {
      "text/plain": [
       "35.36585365853659"
      ]
     },
     "execution_count": 9,
     "metadata": {},
     "output_type": "execute_result"
    }
   ],
   "source": [
    "datasets = [var, obs]\n",
    "\n",
    "#plot 1\n",
    "process = {}\n",
    "metric = []\n",
    "for ds in datasets:\n",
    "    nino_res = nino3_4ssta(ds.load())\n",
    "    events = enso_events(nino_res)\n",
    "\n",
    "    eq_res = eq_ssta(ds.load())\n",
    "    results_lon = diversity(eq_res, events)\n",
    "    enso = results_lon['nino'] + results_lon['nina']\n",
    "    print(ds['dataset'], 'enso IQR:', iqr(enso))\n",
    "    process[ds['dataset']] = results_lon + [enso]\n",
    "    metric.append(iqr(enso))\n",
    "\n",
    "print('metric: ', compute(metric[1],metric[0]))\n",
    "\n"
   ]
  },
  {
   "cell_type": "code",
   "execution_count": 18,
   "id": "945b214c-b5b0-402e-b9a3-273eac8cefac",
   "metadata": {},
   "outputs": [
    {
     "data": {
      "text/plain": [
       "{'whiskers': [<matplotlib.lines.Line2D at 0x14b323383990>,\n",
       "  <matplotlib.lines.Line2D at 0x14b323381bd0>,\n",
       "  <matplotlib.lines.Line2D at 0x14b3233a89d0>,\n",
       "  <matplotlib.lines.Line2D at 0x14b32333e710>],\n",
       " 'caps': [<matplotlib.lines.Line2D at 0x14b3233aa710>,\n",
       "  <matplotlib.lines.Line2D at 0x14b3233abed0>,\n",
       "  <matplotlib.lines.Line2D at 0x14b32333efd0>,\n",
       "  <matplotlib.lines.Line2D at 0x14b32333fb50>],\n",
       " 'boxes': [<matplotlib.lines.Line2D at 0x14b323381b10>,\n",
       "  <matplotlib.lines.Line2D at 0x14b3233aa1d0>],\n",
       " 'medians': [<matplotlib.lines.Line2D at 0x14b3233aa510>,\n",
       "  <matplotlib.lines.Line2D at 0x14b32333d710>],\n",
       " 'fliers': [<matplotlib.lines.Line2D at 0x14b3233a8650>,\n",
       "  <matplotlib.lines.Line2D at 0x14b32335c7d0>],\n",
       " 'means': []}"
      ]
     },
     "execution_count": 18,
     "metadata": {},
     "output_type": "execute_result"
    },
    {
     "data": {
      "image/png": "[encoded data removed]",
      "text/plain": [
       "<Figure size 640x480 with 1 Axes>"
      ]
     },
     "metadata": {},
     "output_type": "display_data"
    }
   ],
   "source": [
    "metric\n",
    "# compute(metric[1],metric[0])\n",
    "abs((26.5-41.0)/41.0)\n",
    "nina = [process[ds][0] for ds in process.keys()] #\n",
    "plt.boxplot(nina)"
   ]
  },
  {
   "cell_type": "code",
   "execution_count": 55,
   "id": "4983576c-b1c0-48bf-b7d6-71358472eb7d",
   "metadata": {
    "scrolled": true
   },
   "outputs": [
    {
     "name": "stdout",
     "output_type": "stream",
     "text": [
      "{'nina': [1860, 1865, 1867, 1870, 1876, 1878, 1883, 1885, 1886, 1891, 1892, 1894, 1906, 1912, 1916, 1919, 1921, 1925, 1930, 1936, 1947, 1949, 1955, 1962, 1971, 1973, 1977, 1979, 1982, 1986, 1991, 1996, 2006, 2012], 'nino': [1851, 1852, 1861, 1866, 1869, 1871, 1877, 1890, 1893, 1897, 1905, 1909, 1915, 1918, 1924, 1926, 1933, 1935, 1940, 1941, 1948, 1950, 1954, 1960, 1968, 1972, 1978, 1983, 1985, 1990, 1999, 2002, 2004, 2005, 2009, 2011]}\n",
      "245.75 228.0\n",
      "245.5 217.75\n"
     ]
    },
    {
     "data": {
      "text/plain": [
       "(17.75, 27.75)"
      ]
     },
     "execution_count": 55,
     "metadata": {},
     "output_type": "execute_result"
    }
   ],
   "source": [
    "print(events)\n",
    "out = diversity(cube, events)\n",
    "iqr(out[1]), iqr(out[0])\n"
   ]
  },
  {
   "cell_type": "code",
   "execution_count": null,
   "id": "688a1b3d-55c4-4a4d-895a-a7f9e4b89324",
   "metadata": {},
   "outputs": [
    {
     "name": "stderr",
     "output_type": "stream",
     "text": [
      "/g/data/xp65/public/apps/med_conda/envs/esmvaltool-0.4/lib/python3.11/site-packages/iris/cube.py:4620: IrisIgnoringBoundsWarning: The bounds of coordinate 'time' were ignored in the rolling window operation.\n",
      "  warnings.warn(\n",
      "/g/data/xp65/public/apps/med_conda/envs/esmvaltool-0.4/lib/python3.11/site-packages/iris/coords.py:2153: IrisVagueMetadataWarning: Cannot check if coordinate is contiguous: Invalid operation for 'cell index along second dimension', with 0 bound(s). Contiguous bounds are only defined for 1D coordinates with 2 bounds. Metadata may not be fully descriptive for 'cell index along second dimension'. Ignoring bounds.\n",
      "  warnings.warn(\n",
      "/g/data/xp65/public/apps/med_conda/envs/esmvaltool-0.4/lib/python3.11/site-packages/iris/coords.py:2153: IrisVagueMetadataWarning: Cannot check if coordinate is contiguous: Invalid operation for 'cell index along first dimension', with 0 bound(s). Contiguous bounds are only defined for 1D coordinates with 2 bounds. Metadata may not be fully descriptive for 'cell index along first dimension'. Ignoring bounds.\n",
      "  warnings.warn(\n",
      "/g/data/xp65/public/apps/med_conda/envs/esmvaltool-0.4/lib/python3.11/site-packages/iris/coords.py:2140: IrisVagueMetadataWarning: Collapsing a multi-dimensional coordinate. Metadata may not be fully descriptive for 'latitude'.\n",
      "  warnings.warn(\n",
      "/g/data/xp65/public/apps/med_conda/envs/esmvaltool-0.4/lib/python3.11/site-packages/iris/coords.py:2140: IrisVagueMetadataWarning: Collapsing a multi-dimensional coordinate. Metadata may not be fully descriptive for 'longitude'.\n",
      "  warnings.warn(\n",
      "/g/data/xp65/public/apps/med_conda/envs/esmvaltool-0.4/lib/python3.11/site-packages/numpy/ma/core.py:5417: RuntimeWarning: Degrees of freedom <= 0 for slice\n",
      "  ret = super().var(axis=axis, dtype=dtype, out=out, ddof=ddof,\n",
      "/g/data/xp65/public/apps/med_conda/envs/esmvaltool-0.4/lib/python3.11/site-packages/numpy/core/_methods.py:195: RuntimeWarning: invalid value encountered in divide\n",
      "  ret = um.true_divide(\n"
     ]
    },
    {
     "name": "stdout",
     "output_type": "stream",
     "text": [
      "cube shape: (164,): length of data mask: 164\n",
      "cube shape: (164,): length of data mask: 164\n"
     ]
    },
    {
     "name": "stderr",
     "output_type": "stream",
     "text": [
      "/g/data/xp65/public/apps/med_conda/envs/esmvaltool-0.4/lib/python3.11/site-packages/iris/cube.py:4620: IrisIgnoringBoundsWarning: The bounds of coordinate 'time' were ignored in the rolling window operation.\n",
      "  warnings.warn(\n"
     ]
    },
    {
     "name": "stdout",
     "output_type": "stream",
     "text": [
      "max: 2.7579265  min: -2.5888195 degC\n",
      "245.5 217.75\n",
      "245.75 228.0\n",
      "245.5 219.0\n"
     ]
    },
    {
     "name": "stderr",
     "output_type": "stream",
     "text": [
      "/g/data/xp65/public/apps/med_conda/envs/esmvaltool-0.4/lib/python3.11/site-packages/iris/cube.py:4067: IrisUserWarning: Collapsing spatial coordinate 'latitude' without weighting\n",
      "  warnings.warn(\n",
      "/g/data/xp65/public/apps/med_conda/envs/esmvaltool-0.4/lib/python3.11/site-packages/iris/cube.py:4620: IrisIgnoringBoundsWarning: The bounds of coordinate 'longitude' were ignored in the rolling window operation.\n",
      "  warnings.warn(\n"
     ]
    },
    {
     "data": {
      "text/plain": [
       "26.5"
      ]
     },
     "execution_count": 7,
     "metadata": {},
     "output_type": "execute_result"
    }
   ],
   "source": [
    "nino_cube = nino3_4ssta(var.load())\n",
    "\n",
    "events = enso_events(nino_cube)\n",
    "\n",
    "cube = eq_ssta(var.load())\n",
    "\n",
    "print('max:', cube.data.max(),' min:',cube.data.min(),cube.units)\n",
    "\n",
    "results_lon = diversity(cube, events)\n",
    "iqr(results_lon[0]), iqr(results_lon[1])\n",
    "enso = results_lon[0] + results_lon[1]\n",
    "iqr(enso)"
   ]
  },
  {
   "cell_type": "code",
   "execution_count": 57,
   "id": "51425100-b5d4-4e0d-bfb8-e0224787cae1",
   "metadata": {},
   "outputs": [
    {
     "data": {
      "text/plain": [
       "{'whiskers': [<matplotlib.lines.Line2D at 0x14fd80e5d110>,\n",
       "  <matplotlib.lines.Line2D at 0x14fd80e5da90>,\n",
       "  <matplotlib.lines.Line2D at 0x14fd80ed9290>,\n",
       "  <matplotlib.lines.Line2D at 0x14fd80edb6d0>],\n",
       " 'caps': [<matplotlib.lines.Line2D at 0x14fd80e5e310>,\n",
       "  <matplotlib.lines.Line2D at 0x14fd80e5ea50>,\n",
       "  <matplotlib.lines.Line2D at 0x14fd80ed9850>,\n",
       "  <matplotlib.lines.Line2D at 0x14fd80edb210>],\n",
       " 'boxes': [<matplotlib.lines.Line2D at 0x14fd80e5c910>,\n",
       "  <matplotlib.lines.Line2D at 0x14fd80ed8b90>],\n",
       " 'medians': [<matplotlib.lines.Line2D at 0x14fd8323f290>,\n",
       "  <matplotlib.lines.Line2D at 0x14fd80d93450>],\n",
       " 'fliers': [<matplotlib.lines.Line2D at 0x14fd80ea2350>,\n",
       "  <matplotlib.lines.Line2D at 0x14fd80d93b90>],\n",
       " 'means': []}"
      ]
     },
     "execution_count": 57,
     "metadata": {},
     "output_type": "execute_result"
    },
    {
     "data": {
      "image/png": "[encoded data removed]",
      "text/plain": [
       "<Figure size 640x480 with 1 Axes>"
      ]
     },
     "metadata": {},
     "output_type": "display_data"
    }
   ],
   "source": [
    "plt.boxplot(results_lon)"
   ]
  },
  {
   "cell_type": "code",
   "execution_count": 13,
   "id": "9623a3e8-c623-4aef-b359-0943edf6d900",
   "metadata": {},
   "outputs": [
    {
     "name": "stderr",
     "output_type": "stream",
     "text": [
      "/g/data/xp65/public/apps/med_conda/envs/esmvaltool-0.4/lib/python3.11/site-packages/iris/cube.py:4620: IrisIgnoringBoundsWarning: The bounds of coordinate 'time' were ignored in the rolling window operation.\n",
      "  warnings.warn(\n"
     ]
    },
    {
     "data": {
      "text/plain": [
       "[<matplotlib.lines.Line2D at 0x152392726890>]"
      ]
     },
     "execution_count": 13,
     "metadata": {},
     "output_type": "execute_result"
    },
    {
     "data": {
      "image/png": "[encoded data removed]",
      "text/plain": [
       "<Figure size 640x480 with 1 Axes>"
      ]
     },
     "metadata": {},
     "output_type": "display_data"
    }
   ],
   "source": [
    "qplt.plot(nino3_4ssta(var.load()))"
   ]
  },
  {
   "cell_type": "code",
   "execution_count": null,
   "id": "b524b03e-79b5-41cf-9cc9-59c491c8f1fa",
   "metadata": {},
   "outputs": [],
   "source": []
  }
 ],
 "metadata": {
  "kernelspec": {
   "display_name": "Python 3 (ipykernel)",
   "language": "python",
   "name": "python3"
  },
  "language_info": {
   "codemirror_mode": {
    "name": "ipython",
    "version": 3
   },
   "file_extension": ".py",
   "mimetype": "text/x-python",
   "name": "python",
   "nbconvert_exporter": "python",
   "pygments_lexer": "ipython3",
   "version": "3.11.9"
  }
 },
 "nbformat": 4,
 "nbformat_minor": 5
}
