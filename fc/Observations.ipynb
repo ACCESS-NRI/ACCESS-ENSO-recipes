{
 "cells": [
  {
   "cell_type": "markdown",
   "id": "ae26ac38-7ed8-401b-b35f-9feb800c6430",
   "metadata": {},
   "source": [
    "## Observations \n",
    "available:\n",
    "| Dataset    | variables   | ESMValTool-find |\n",
    "|:------------|:-------------|:--------------------|\n",
    "|ERA-Interim | sst(tos, Omon)(ts, Amon), pr, taux(tauu) |OBS6, reanaly, tier3 |\n",
    "|NOAA-CIRES-20CR-V2     |prw,  |OBS6, Tier2\n",
    "|HadISST     |tos/ts,   |OBS, Tier2\n",
    "|NOAA-ERSSTv5|tos      |OBS6, Tier2\n",
    "|NCEP-NCAR-R1|ts, pr   |OBS6, Tier2\n",
    "|NCEP        |pr     |OBS, Tier2\n",
    "|GPCP-SG     |pr,    |OBS, Tier2\n",
    "\n",
    "Need to get:\n",
    "- TropFlux - sst, taux (https://incois.gov.in/tropflux/DataHome.jsp)\n",
    "- CMAP - pr (https://psl.noaa.gov/data/gridded/data.cmap.html)"
   ]
  },
  {
   "cell_type": "code",
   "execution_count": 3,
   "id": "bc5c8edf-6d90-4238-8baf-d082654e0d0c",
   "metadata": {},
   "outputs": [
    {
     "name": "stdout",
     "output_type": "stream",
     "text": [
      "0\n"
     ]
    },
    {
     "data": {
      "text/plain": [
       "[Dataset:\n",
       " {'dataset': 'ERA-Interim',\n",
       "  'project': 'OBS6',\n",
       "  'mip': 'Omon',\n",
       "  'short_name': 'ts',\n",
       "  'frequency': 'mon',\n",
       "  'long_name': 'Surface Temperature',\n",
       "  'modeling_realm': ['atmos'],\n",
       "  'original_short_name': 'ts',\n",
       "  'standard_name': 'surface_temperature',\n",
       "  'tier': '3',\n",
       "  'timerange': '1979/2018',\n",
       "  'type': 'reanaly',\n",
       "  'units': 'K',\n",
       "  'version': '1'}\n",
       " session: 'session-9b37677e-61d8-4aef-b36e-d5a178cc7a81_20240917_022015']"
      ]
     },
     "execution_count": 3,
     "metadata": {},
     "output_type": "execute_result"
    }
   ],
   "source": [
    "from esmvalcore.config import CFG\n",
    "from esmvalcore.dataset import Dataset\n",
    "\n",
    "CFG.load_from_file('/home/189/fc6164/esmValTool/config-fc-copy.yml')\n",
    "\n",
    "obs = Dataset(dataset= 'ERA-Interim', project= 'OBS6', \n",
    "              type= 'reanaly', version='1', \n",
    "              timerange='1979/2018', tier='3', \n",
    "              mip='Omon', short_name='ts')\n",
    "\n",
    "print(len(obs.files))\n",
    "list(obs.from_files())\n",
    "# obs.find_files(), obs.files"
   ]
  },
  {
   "cell_type": "code",
   "execution_count": 19,
   "id": "69a55db1-3a25-4dad-947a-d58ecd44803c",
   "metadata": {},
   "outputs": [
    {
     "data": {
      "text/plain": [
       "[LocalFile('/g/data/kj13/datasets/esmvaltool/obsdata-v2/Tier2/JRA-25/OBS6_JRA-25_reanaly_1_Amon_prw_197901-201312.nc'),\n",
       " LocalFile('/g/data/kj13/datasets/esmvaltool/obsdata-v2/Tier2/JRA-55/OBS6_JRA-55_reanaly_1_Amon_prw_195801-202212.nc'),\n",
       " LocalFile('/g/data/kj13/datasets/esmvaltool/obsdata-v2/Tier2/NCEP-DOE-R2/OBS6_NCEP-DOE-R2_reanaly_2_Amon_prw_197901-202212.nc'),\n",
       " LocalFile('/g/data/kj13/datasets/esmvaltool/obsdata-v2/Tier2/NCEP-NCAR-R1/OBS6_NCEP-NCAR-R1_reanaly_1_Amon_prw_194801-202207.nc'),\n",
       " LocalFile('/g/data/kj13/datasets/esmvaltool/obsdata-v2/Tier2/NOAA-CIRES-20CR/OBS6_NOAA-CIRES-20CR_reanaly_v2_Amon_prw_187101-201212.nc'),\n",
       " LocalFile('/g/data/kj13/datasets/esmvaltool/obsdata-v2/Tier3/ERA-Interim/OBS6_ERA-Interim_reanaly_1_Amon_prw_197901-197912.nc'),\n",
       " LocalFile('/g/data/kj13/datasets/esmvaltool/obsdata-v2/Tier3/ERA-Interim/OBS6_ERA-Interim_reanaly_1_Amon_prw_198001-198012.nc'),\n",
       " LocalFile('/g/data/kj13/datasets/esmvaltool/obsdata-v2/Tier3/ERA-Interim/OBS6_ERA-Interim_reanaly_1_Amon_prw_198101-198112.nc'),\n",
       " LocalFile('/g/data/kj13/datasets/esmvaltool/obsdata-v2/Tier3/ERA-Interim/OBS6_ERA-Interim_reanaly_1_Amon_prw_198201-198212.nc'),\n",
       " LocalFile('/g/data/kj13/datasets/esmvaltool/obsdata-v2/Tier3/ERA-Interim/OBS6_ERA-Interim_reanaly_1_Amon_prw_198301-198312.nc'),\n",
       " LocalFile('/g/data/kj13/datasets/esmvaltool/obsdata-v2/Tier3/ERA-Interim/OBS6_ERA-Interim_reanaly_1_Amon_prw_198401-198412.nc'),\n",
       " LocalFile('/g/data/kj13/datasets/esmvaltool/obsdata-v2/Tier3/ERA-Interim/OBS6_ERA-Interim_reanaly_1_Amon_prw_198501-198512.nc'),\n",
       " LocalFile('/g/data/kj13/datasets/esmvaltool/obsdata-v2/Tier3/ERA-Interim/OBS6_ERA-Interim_reanaly_1_Amon_prw_198601-198612.nc'),\n",
       " LocalFile('/g/data/kj13/datasets/esmvaltool/obsdata-v2/Tier3/ERA-Interim/OBS6_ERA-Interim_reanaly_1_Amon_prw_198701-198712.nc'),\n",
       " LocalFile('/g/data/kj13/datasets/esmvaltool/obsdata-v2/Tier3/ERA-Interim/OBS6_ERA-Interim_reanaly_1_Amon_prw_198801-198812.nc'),\n",
       " LocalFile('/g/data/kj13/datasets/esmvaltool/obsdata-v2/Tier3/ERA-Interim/OBS6_ERA-Interim_reanaly_1_Amon_prw_198901-198912.nc'),\n",
       " LocalFile('/g/data/kj13/datasets/esmvaltool/obsdata-v2/Tier3/ERA-Interim/OBS6_ERA-Interim_reanaly_1_Amon_prw_199001-199012.nc'),\n",
       " LocalFile('/g/data/kj13/datasets/esmvaltool/obsdata-v2/Tier3/ERA-Interim/OBS6_ERA-Interim_reanaly_1_Amon_prw_199101-199112.nc'),\n",
       " LocalFile('/g/data/kj13/datasets/esmvaltool/obsdata-v2/Tier3/ERA-Interim/OBS6_ERA-Interim_reanaly_1_Amon_prw_199201-199212.nc'),\n",
       " LocalFile('/g/data/kj13/datasets/esmvaltool/obsdata-v2/Tier3/ERA-Interim/OBS6_ERA-Interim_reanaly_1_Amon_prw_199301-199312.nc'),\n",
       " LocalFile('/g/data/kj13/datasets/esmvaltool/obsdata-v2/Tier3/ERA-Interim/OBS6_ERA-Interim_reanaly_1_Amon_prw_199401-199412.nc'),\n",
       " LocalFile('/g/data/kj13/datasets/esmvaltool/obsdata-v2/Tier3/ERA-Interim/OBS6_ERA-Interim_reanaly_1_Amon_prw_199501-199512.nc'),\n",
       " LocalFile('/g/data/kj13/datasets/esmvaltool/obsdata-v2/Tier3/ERA-Interim/OBS6_ERA-Interim_reanaly_1_Amon_prw_199601-199612.nc'),\n",
       " LocalFile('/g/data/kj13/datasets/esmvaltool/obsdata-v2/Tier3/ERA-Interim/OBS6_ERA-Interim_reanaly_1_Amon_prw_199701-199712.nc'),\n",
       " LocalFile('/g/data/kj13/datasets/esmvaltool/obsdata-v2/Tier3/ERA-Interim/OBS6_ERA-Interim_reanaly_1_Amon_prw_199801-199812.nc'),\n",
       " LocalFile('/g/data/kj13/datasets/esmvaltool/obsdata-v2/Tier3/ERA-Interim/OBS6_ERA-Interim_reanaly_1_Amon_prw_199901-199912.nc'),\n",
       " LocalFile('/g/data/kj13/datasets/esmvaltool/obsdata-v2/Tier3/ERA-Interim/OBS6_ERA-Interim_reanaly_1_Amon_prw_200001-200012.nc'),\n",
       " LocalFile('/g/data/kj13/datasets/esmvaltool/obsdata-v2/Tier3/ERA-Interim/OBS6_ERA-Interim_reanaly_1_Amon_prw_200101-200112.nc'),\n",
       " LocalFile('/g/data/kj13/datasets/esmvaltool/obsdata-v2/Tier3/ERA-Interim/OBS6_ERA-Interim_reanaly_1_Amon_prw_200201-200212.nc'),\n",
       " LocalFile('/g/data/kj13/datasets/esmvaltool/obsdata-v2/Tier3/ERA-Interim/OBS6_ERA-Interim_reanaly_1_Amon_prw_200301-200312.nc'),\n",
       " LocalFile('/g/data/kj13/datasets/esmvaltool/obsdata-v2/Tier3/ERA-Interim/OBS6_ERA-Interim_reanaly_1_Amon_prw_200401-200412.nc'),\n",
       " LocalFile('/g/data/kj13/datasets/esmvaltool/obsdata-v2/Tier3/ERA-Interim/OBS6_ERA-Interim_reanaly_1_Amon_prw_200501-200512.nc'),\n",
       " LocalFile('/g/data/kj13/datasets/esmvaltool/obsdata-v2/Tier3/ERA-Interim/OBS6_ERA-Interim_reanaly_1_Amon_prw_200601-200612.nc'),\n",
       " LocalFile('/g/data/kj13/datasets/esmvaltool/obsdata-v2/Tier3/ERA-Interim/OBS6_ERA-Interim_reanaly_1_Amon_prw_200701-200712.nc'),\n",
       " LocalFile('/g/data/kj13/datasets/esmvaltool/obsdata-v2/Tier3/ERA-Interim/OBS6_ERA-Interim_reanaly_1_Amon_prw_200801-200812.nc'),\n",
       " LocalFile('/g/data/kj13/datasets/esmvaltool/obsdata-v2/Tier3/ERA-Interim/OBS6_ERA-Interim_reanaly_1_Amon_prw_200901-200912.nc'),\n",
       " LocalFile('/g/data/kj13/datasets/esmvaltool/obsdata-v2/Tier3/ERA-Interim/OBS6_ERA-Interim_reanaly_1_Amon_prw_201001-201012.nc'),\n",
       " LocalFile('/g/data/kj13/datasets/esmvaltool/obsdata-v2/Tier3/ERA-Interim/OBS6_ERA-Interim_reanaly_1_Amon_prw_201101-201112.nc'),\n",
       " LocalFile('/g/data/kj13/datasets/esmvaltool/obsdata-v2/Tier3/ERA-Interim/OBS6_ERA-Interim_reanaly_1_Amon_prw_201201-201212.nc'),\n",
       " LocalFile('/g/data/kj13/datasets/esmvaltool/obsdata-v2/Tier3/ERA-Interim/OBS6_ERA-Interim_reanaly_1_Amon_prw_201301-201312.nc'),\n",
       " LocalFile('/g/data/kj13/datasets/esmvaltool/obsdata-v2/Tier3/ERA-Interim/OBS6_ERA-Interim_reanaly_1_Amon_prw_201401-201412.nc'),\n",
       " LocalFile('/g/data/kj13/datasets/esmvaltool/obsdata-v2/Tier3/ERA-Interim/OBS6_ERA-Interim_reanaly_1_Amon_prw_201501-201512.nc'),\n",
       " LocalFile('/g/data/kj13/datasets/esmvaltool/obsdata-v2/Tier3/ERA-Interim/OBS6_ERA-Interim_reanaly_1_Amon_prw_201601-201612.nc'),\n",
       " LocalFile('/g/data/kj13/datasets/esmvaltool/obsdata-v2/Tier3/ERA-Interim/OBS6_ERA-Interim_reanaly_1_Amon_prw_201701-201712.nc'),\n",
       " LocalFile('/g/data/kj13/datasets/esmvaltool/obsdata-v2/Tier3/ERA-Interim/OBS6_ERA-Interim_reanaly_1_Amon_prw_201801-201812.nc'),\n",
       " LocalFile('/g/data/kj13/datasets/esmvaltool/obsdata-v2/Tier3/ERA5/OBS6_ERA5_reanaly_v1_Eday_prw_19900101-19901231.nc'),\n",
       " LocalFile('/g/data/kj13/datasets/esmvaltool/obsdata-v2/Tier3/ERA5/OBS6_ERA5_reanaly_v1_Eday_prw_19910101-19911231.nc'),\n",
       " LocalFile('/g/data/kj13/datasets/esmvaltool/obsdata-v2/Tier3/ERA5/OBS6_ERA5_reanaly_v1_Eday_prw_19920101-19921231.nc'),\n",
       " LocalFile('/g/data/kj13/datasets/esmvaltool/obsdata-v2/Tier3/ERA5/OBS6_ERA5_reanaly_v1_Eday_prw_19930101-19931231.nc'),\n",
       " LocalFile('/g/data/kj13/datasets/esmvaltool/obsdata-v2/Tier3/ERA5/OBS6_ERA5_reanaly_v1_Eday_prw_19940101-19941231.nc'),\n",
       " LocalFile('/g/data/kj13/datasets/esmvaltool/obsdata-v2/Tier3/ERA5/OBS6_ERA5_reanaly_v1_Eday_prw_19950101-19951231.nc'),\n",
       " LocalFile('/g/data/kj13/datasets/esmvaltool/obsdata-v2/Tier3/ERA5/OBS6_ERA5_reanaly_v1_Eday_prw_19960101-19961231.nc'),\n",
       " LocalFile('/g/data/kj13/datasets/esmvaltool/obsdata-v2/Tier3/ERA5/OBS6_ERA5_reanaly_v1_Eday_prw_19970101-19971231.nc'),\n",
       " LocalFile('/g/data/kj13/datasets/esmvaltool/obsdata-v2/Tier3/ERA5/OBS6_ERA5_reanaly_v1_Eday_prw_19980101-19981231.nc'),\n",
       " LocalFile('/g/data/kj13/datasets/esmvaltool/obsdata-v2/Tier3/ERA5/OBS6_ERA5_reanaly_v1_Eday_prw_19990101-19991231.nc'),\n",
       " LocalFile('/g/data/kj13/datasets/esmvaltool/obsdata-v2/Tier3/ERA5/OBS6_ERA5_reanaly_v1_Eday_prw_20000101-20001231.nc'),\n",
       " LocalFile('/g/data/kj13/datasets/esmvaltool/obsdata-v2/Tier3/ERA5/OBS6_ERA5_reanaly_v1_Eday_prw_20010101-20011231.nc'),\n",
       " LocalFile('/g/data/kj13/datasets/esmvaltool/obsdata-v2/Tier3/ERA5/OBS6_ERA5_reanaly_v1_Eday_prw_20020101-20021231.nc'),\n",
       " LocalFile('/g/data/kj13/datasets/esmvaltool/obsdata-v2/Tier3/ERA5/OBS6_ERA5_reanaly_v1_Eday_prw_20030101-20031231.nc'),\n",
       " LocalFile('/g/data/kj13/datasets/esmvaltool/obsdata-v2/Tier3/ERA5/OBS6_ERA5_reanaly_v1_Eday_prw_20040101-20041231.nc'),\n",
       " LocalFile('/g/data/kj13/datasets/esmvaltool/obsdata-v2/Tier3/ERA5/OBS6_ERA5_reanaly_v1_Eday_prw_20050101-20051231.nc'),\n",
       " LocalFile('/g/data/kj13/datasets/esmvaltool/obsdata-v2/Tier3/ERA5/OBS6_ERA5_reanaly_v1_Eday_prw_20060101-20061231.nc'),\n",
       " LocalFile('/g/data/kj13/datasets/esmvaltool/obsdata-v2/Tier3/ERA5/OBS6_ERA5_reanaly_v1_Eday_prw_20070101-20071231.nc'),\n",
       " LocalFile('/g/data/kj13/datasets/esmvaltool/obsdata-v2/Tier3/ERA5/OBS6_ERA5_reanaly_v1_Eday_prw_20080101-20081231.nc'),\n",
       " LocalFile('/g/data/kj13/datasets/esmvaltool/obsdata-v2/Tier3/ERA5/OBS6_ERA5_reanaly_v1_Eday_prw_20090101-20091231.nc'),\n",
       " LocalFile('/g/data/kj13/datasets/esmvaltool/obsdata-v2/Tier3/ERA5/OBS6_ERA5_reanaly_v1_Eday_prw_20100101-20101231.nc'),\n",
       " LocalFile('/g/data/kj13/datasets/esmvaltool/obsdata-v2/Tier3/ERA5/OBS6_ERA5_reanaly_v1_Eday_prw_20110101-20111231.nc'),\n",
       " LocalFile('/g/data/kj13/datasets/esmvaltool/obsdata-v2/Tier3/ERA5/OBS6_ERA5_reanaly_v1_Eday_prw_20120101-20121231.nc'),\n",
       " LocalFile('/g/data/kj13/datasets/esmvaltool/obsdata-v2/Tier3/ERA5/OBS6_ERA5_reanaly_v1_Eday_prw_20130101-20131231.nc'),\n",
       " LocalFile('/g/data/kj13/datasets/esmvaltool/obsdata-v2/Tier3/ERA5/OBS6_ERA5_reanaly_v1_Eday_prw_20140101-20141231.nc'),\n",
       " LocalFile('/g/data/kj13/datasets/esmvaltool/obsdata-v2/Tier3/ERA5/OBS6_ERA5_reanaly_v1_Eday_prw_20150101-20151231.nc'),\n",
       " LocalFile('/g/data/kj13/datasets/esmvaltool/obsdata-v2/Tier3/ERA5/OBS6_ERA5_reanaly_v1_Eday_prw_20160101-20161231.nc'),\n",
       " LocalFile('/g/data/kj13/datasets/esmvaltool/obsdata-v2/Tier3/ERA5/OBS6_ERA5_reanaly_v1_Eday_prw_20170101-20171231.nc'),\n",
       " LocalFile('/g/data/kj13/datasets/esmvaltool/obsdata-v2/Tier3/ERA5/OBS6_ERA5_reanaly_v1_Eday_prw_20180101-20181231.nc'),\n",
       " LocalFile('/g/data/kj13/datasets/esmvaltool/obsdata-v2/Tier3/ERA5/OBS6_ERA5_reanaly_v1_Eday_prw_20190101-20191231.nc'),\n",
       " LocalFile('/g/data/kj13/datasets/esmvaltool/obsdata-v2/Tier3/ERA5/OBS6_ERA5_reanaly_v1_Eday_prw_20200101-20201231.nc'),\n",
       " LocalFile('/g/data/kj13/datasets/esmvaltool/obsdata-v2/Tier3/ERA5/OBS6_ERA5_reanaly_v1_Eday_prw_20210101-20211231.nc')]"
      ]
     },
     "execution_count": 19,
     "metadata": {},
     "output_type": "execute_result"
    }
   ],
   "source": [
    "obs_sst = Dataset(dataset= '*', \n",
    "                 project= 'OBS6', \n",
    "                 type= '*', \n",
    "                 version='*' , \n",
    "                 timerange = '*', \n",
    "                 tier='*', \n",
    "                 mip='*', \n",
    "                 short_name='prw')\n",
    "\n",
    "obs_sst.find_files()\n",
    "obs_sst.files\n",
    "\n",
    "# list(obs_sst.from_files())"
   ]
  },
  {
   "cell_type": "code",
   "execution_count": null,
   "id": "1fe71469-740e-466c-9d0d-79b5a787f12f",
   "metadata": {},
   "outputs": [],
   "source": []
  }
 ],
 "metadata": {
  "kernelspec": {
   "display_name": "Python 3 (ipykernel)",
   "language": "python",
   "name": "python3"
  },
  "language_info": {
   "codemirror_mode": {
    "name": "ipython",
    "version": 3
   },
   "file_extension": ".py",
   "mimetype": "text/x-python",
   "name": "python",
   "nbconvert_exporter": "python",
   "pygments_lexer": "ipython3",
   "version": "3.11.9"
  }
 },
 "nbformat": 4,
 "nbformat_minor": 5
}
