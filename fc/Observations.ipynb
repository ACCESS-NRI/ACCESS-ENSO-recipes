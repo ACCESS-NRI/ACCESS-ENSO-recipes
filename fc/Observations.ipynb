{
 "cells": [
  {
   "cell_type": "markdown",
   "id": "ae26ac38-7ed8-401b-b35f-9feb800c6430",
   "metadata": {},
   "source": [
    "## Observations \n",
    "available:\n",
    "| Dataset    | variables   | ESMValTool-find |\n",
    "|:------------|:-------------|:--------------------|\n",
    "|ERA-Interim | sst(tos, Omon)(ts, Amon), pr, taux(tauu) |OBS6, reanaly, tier3 |\n",
    "|NOAA-CIRES-20CR-V2     |prw,  |OBS6, Tier2\n",
    "|HadISST     |tos/ts,   |OBS, Tier2\n",
    "|NOAA-ERSSTv5|tos      |OBS6, Tier2\n",
    "|NCEP-NCAR-R1|ts, pr   |OBS6, Tier2\n",
    "|NCEP        |pr     |OBS, Tier2\n",
    "|GPCP-SG     |pr,    |OBS, Tier2\n",
    "\n",
    "Need to get:\n",
    "- TropFlux - sst, taux (https://incois.gov.in/tropflux/DataHome.jsp)\n",
    "- CMAP - pr (https://psl.noaa.gov/data/gridded/data.cmap.html)"
   ]
  },
  {
   "cell_type": "code",
   "execution_count": 1,
   "id": "bc5c8edf-6d90-4238-8baf-d082654e0d0c",
   "metadata": {},
   "outputs": [
    {
     "name": "stdout",
     "output_type": "stream",
     "text": [
      "0\n"
     ]
    },
    {
     "data": {
      "text/plain": [
       "[Dataset:\n",
       " {'dataset': 'ERA-Interim',\n",
       "  'project': 'OBS6',\n",
       "  'mip': 'Omon',\n",
       "  'short_name': 'ts',\n",
       "  'frequency': 'mon',\n",
       "  'long_name': 'Surface Temperature',\n",
       "  'modeling_realm': ['atmos'],\n",
       "  'original_short_name': 'ts',\n",
       "  'standard_name': 'surface_temperature',\n",
       "  'tier': '3',\n",
       "  'timerange': '1979/2018',\n",
       "  'type': 'reanaly',\n",
       "  'units': 'K',\n",
       "  'version': '1'}\n",
       " session: 'session-ef9ba2fe-c08f-481a-a0ac-67187eddfb4a_20241001_043535']"
      ]
     },
     "execution_count": 1,
     "metadata": {},
     "output_type": "execute_result"
    }
   ],
   "source": [
    "from esmvalcore.config import CFG\n",
    "from esmvalcore.dataset import Dataset\n",
    "\n",
    "CFG.load_from_file('/home/189/fc6164/esmValTool/config-fc-copy.yml')\n",
    "\n",
    "obs = Dataset(dataset= 'ERA-Interim', project= 'OBS6', \n",
    "              type= 'reanaly', version='1', \n",
    "              timerange='1979/2018', tier='3', \n",
    "              mip='Omon', short_name='ts')\n",
    "\n",
    "print(len(obs.files))\n",
    "list(obs.from_files())\n",
    "# obs.find_files(), obs.files"
   ]
  },
  {
   "cell_type": "code",
   "execution_count": 4,
   "id": "69a55db1-3a25-4dad-947a-d58ecd44803c",
   "metadata": {},
   "outputs": [
    {
     "data": {
      "text/plain": [
       "[LocalFile('/g/data/kj13/datasets/esmvaltool/obsdata-v2/Tier2/NOAA-ERSSTv5/OBS6_NOAA-ERSSTv5_reanaly_v5_Omon_tos_185401-200712.nc'),\n",
       " LocalFile('/g/data/kj13/datasets/esmvaltool/obsdata-v2/Tier2/NOAA-ERSSTv5/OBS6_NOAA-ERSSTv5_reanaly_v5_Omon_tos_200801-202001.nc')]"
      ]
     },
     "execution_count": 4,
     "metadata": {},
     "output_type": "execute_result"
    }
   ],
   "source": [
    "from esmvalcore.config import CFG\n",
    "CFG.load_from_file('/home/189/fc6164/esmValTool/config-fc-copy.yml')\n",
    "from esmvalcore.dataset import Dataset\n",
    "obs_sst = Dataset(dataset= 'NOAA-ERSSTv5', \n",
    "                 project= 'OBS6', \n",
    "                 type= '*', \n",
    "                 version='*' , \n",
    "                 timerange = '1970/2018', \n",
    "                 tier='*', \n",
    "                 mip='*', \n",
    "                 short_name='tos')\n",
    "\n",
    "obs_sst.find_files()\n",
    "obs_sst.files\n",
    "\n",
    "# list(obs_sst.from_files())"
   ]
  },
  {
   "cell_type": "code",
   "execution_count": null,
   "id": "1fe71469-740e-466c-9d0d-79b5a787f12f",
   "metadata": {},
   "outputs": [],
   "source": []
  }
 ],
 "metadata": {
  "kernelspec": {
   "display_name": "Python 3 (ipykernel)",
   "language": "python",
   "name": "python3"
  },
  "language_info": {
   "codemirror_mode": {
    "name": "ipython",
    "version": 3
   },
   "file_extension": ".py",
   "mimetype": "text/x-python",
   "name": "python",
   "nbconvert_exporter": "python",
   "pygments_lexer": "ipython3",
   "version": "3.11.9"
  }
 },
 "nbformat": 4,
 "nbformat_minor": 5
}
