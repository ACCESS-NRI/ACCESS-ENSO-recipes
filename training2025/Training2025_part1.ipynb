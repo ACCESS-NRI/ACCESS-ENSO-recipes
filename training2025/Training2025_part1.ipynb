{
 "cells": [
  {
   "cell_type": "markdown",
   "id": "edc23380",
   "metadata": {},
   "source": [
    "# ACCESS Workshop training 2025\n",
    "Learning objectives\n",
    "\n",
    "- Learn how to run standard ENSO evaluations using current workflows.\n",
    "- Understand what the ACCESS-ENSO-Recipes offer and how to use them.\n",
    "- Get tips on preparing model output for analysis.\n",
    "- Share feedback on evaluation needs for CMIP7.\n",
    "\n",
    "Schedule - see training readme in github repo.\n",
    "\n",
    "Setup:\n",
    "- start ARE\n",
    "- clone repo, training2025 folder\n",
    "\n",
    "**Tools**\n",
    "\n",
    "We will use the following tools/software packages in this session:\n",
    "- ESMValTool/ESMValCore\n",
    "- ACCESS-MOPPeR\n",
    "\n",
    "## Model Evaluation and Diagnostics workflows\n",
    "<center><img src=\"https://access-nri.github.io/CMIP7_MED_Hackathon/fig/med-workflows.png\" width=\"500\"></center>\n",
    "\n",
    "data -> processing/diagnostics -> results\n"
   ]
  },
  {
   "cell_type": "markdown",
   "id": "c12cb6f8",
   "metadata": {},
   "source": [
    "### Using on Gadi\n",
    "- Starting up ARE jupyterlab: [How to use on ARE](https://github.com/ACCESS-NRI/ACCESS-ENSO-recipes/blob/main/training2025#start-are-session)\n",
    "\n",
    "Environments\n",
    "```\n",
    "module use /g/data/xp65/public/modules\n",
    "module load conda/analysis3\n",
    "```\n",
    "\n",
    "NCI projects: \n",
    "- xp65 (environment module)\n",
    "- nf33 (training compute)\n",
    "- ct11 (ACCESS-NRI replicated data collection)\n",
    "- fs38, oi10 (CMIP6 data)\n"
   ]
  },
  {
   "cell_type": "markdown",
   "id": "3e3b5bd2",
   "metadata": {},
   "source": [
    "\n",
    "### ACCESS ENSO recipes\n",
    "\n",
    "<img src=\"https://www.clivar.org/sites/default/files/Clivar-Final-trim.png\" width=\"100\"> Building on CLIVAR 2020 ENSO metrics package,\n",
    "|    |    |\n",
    "|--- | ---|\n",
    "|<img src=\"https://journals.ametsoc.org/view/journals/bams/102/2/full-BAMS-D-19-0337.1-f2.jpg\" width=\"200\">| A community-developed evaluation toolkit led by the CLIVAR Pacific Region Panel, designed to assess: **variability, teleconnections, processes and feedbacks** <br>Implemented in Python <br> https://doi.org/10.1175/BAMS-D-19-0337.1|\n",
    "\n",
    "- Notebooks to evaluate different aspects of ENSO\n",
    "- Using standard *preprocessors* from ESMValTool optimised thorugh *iris* for \"lazy\" loading and *Dask*\n",
    "- \n"
   ]
  },
  {
   "cell_type": "markdown",
   "id": "b84d62a2",
   "metadata": {},
   "source": [
    "## What is ESMValTool / ESMValCore ?\n",
    "\n",
    "<img width=200 src=\"https://docs.esmvaltool.org/en/v2.5.0/_static/ESMValTool-logo-2.png\"> <img width=200 src=\"https://jupyter.org/assets/homepage/hublogo.svg\"> \n",
    "\n",
    "**ESMValTool** is a community diagnostics and performance metrics tool for the evaluation of Earth System Models (ESMs) that allows for routine comparison of models and observations. It includes a large collection of community recipes and observation data formatters to CMOR standards.\n",
    "\n",
    "**ESMValCore** is a software package which provides the core functionality for ESMValTool. It is a workflow to find CMIP data, and apply commonly used pre-processing functions. ESMValCore can be used without ESMValTool such as in Jupyter notebooks.\n",
    "\n",
    "- [ESMValTool documentation](https://docs.esmvaltool.org/en/latest)\n",
    "\n",
    "- [preprocessors API documentation](https://docs.esmvaltool.org/projects/ESMValCore/en/latest/api/esmvalcore.preprocessor.html)\n",
    "- [iris](https://scitools-iris.readthedocs.io/en/stable/)\n"
   ]
  },
  {
   "cell_type": "markdown",
   "id": "f5431d10",
   "metadata": {},
   "source": [
    "(https://access-nri.github.io/CMIP7_MED_Hackathon/01-introduction/index.html)\n",
    "A Python-based preprocessing framework\n",
    "\n",
    "A Standardised framework for climate data analysis\n",
    "\n",
    "A collection of diagnostics for reproducible climate science"
   ]
  },
  {
   "cell_type": "markdown",
   "id": "d51b95ab",
   "metadata": {},
   "source": [
    "## ESMValCore in a notebook"
   ]
  },
  {
   "cell_type": "code",
   "execution_count": null,
   "id": "c4122593",
   "metadata": {},
   "outputs": [],
   "source": [
    "from esmvalcore import CFG\n",
    "from esmvalcore.dataset import Dataset\n",
    "# import preprocessors that can be used\n",
    "from esmvalcore.preprocessor import (\n",
    "    annual_statistics,\n",
    "    anomalies,\n",
    "    area_statistics\n",
    ")"
   ]
  },
  {
   "cell_type": "code",
   "execution_count": null,
   "id": "c0c98fe0",
   "metadata": {},
   "outputs": [],
   "source": [
    "## Dataset finding in esmvaltool\n",
    "\n",
    "## mention recipe format"
   ]
  },
  {
   "cell_type": "markdown",
   "id": "c9ba9100",
   "metadata": {},
   "source": [
    "- example ENSO climatology notebooks (use main) 01 bias, ENSO amplitude\n",
    "- exercises - change datset? (exercies folder?)\n",
    "- ESMValTool recipe format? - example multimodels/ensembles (walk through/follow)"
   ]
  },
  {
   "cell_type": "code",
   "execution_count": null,
   "id": "6f170253",
   "metadata": {},
   "outputs": [],
   "source": []
  }
 ],
 "metadata": {
  "language_info": {
   "name": "python"
  }
 },
 "nbformat": 4,
 "nbformat_minor": 5
}
