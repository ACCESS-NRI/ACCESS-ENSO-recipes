{
 "cells": [
  {
   "cell_type": "markdown",
   "id": "b4a1064d",
   "metadata": {},
   "source": [
    "## ACCESS MOPPeR\n",
    "\n",
    "ACCESS-MOPPeR is a CMORisation tool designed to post-process ACCESS model output and produce CMIP-compliant datasets. This version represents a significant rewrite focusing on usability, flexibility, and integration with modern Python workflows.\n",
    "\n",
    "https://github.com/ACCESS-NRI/ACCESS-MOPPeR/tree/v2\n",
    "\n",
    "- MOPPeR re-written to not use CMOR package which allows for the use of xarray and dask to improve efficiency\n"
   ]
  },
  {
   "cell_type": "markdown",
   "id": "b1587a70",
   "metadata": {},
   "source": [
    "## CMIP7 \n",
    "\n",
    "- ESM1-6\n",
    "- timeline\n",
    "- Fast track\n"
   ]
  },
  {
   "cell_type": "markdown",
   "id": "cba68391",
   "metadata": {},
   "source": [
    "### Variables Required for ACCESS-NRI ENSO Recipes\n",
    "\n",
    "To run the ACCESS-NRI ENSO Recipes on the current ACCESS-ESM1.6 spin-up (CMIP7 FastTrack), the following variables are needed:\n",
    "\n",
    "- **pr**: Precipitation\n",
    "- **tos**: Sea surface temperature (can be interchanged with `ts`)\n",
    "- **tauu**: Zonal wind stress\n",
    "- **ts**: Surface air temperature (can be interchanged with `tos`)\n",
    "- **zos**: Sea surface height\n",
    "- **nhf**: Net heat flux, calculated as  \n",
    "    `nhf = (-hfls - hfss + rlds - rlus + rsds - rsus)`\n",
    "\n",
    "**Notes:**\n",
    "- The mapping for `rlus` and `rsus` is currently unknown.\n",
    "- `ts` and `tos` can be used interchangeably.\n",
    "\n",
    "This list is based on the requirements for the ENSO diagnostics and workflow as described in the ACCESS-NRI ENSO Recipes documentation."
   ]
  },
  {
   "cell_type": "markdown",
   "id": "f62723da",
   "metadata": {},
   "source": [
    "To run the CMORIsation we advice using an X-Large or XX-Large session on ARE.\n",
    "\n",
    "**Note:**  \n",
    "ARE (Analysis Research Environment) is the interactive computing system provided by NCI (National Computational Infrastructure). Using a larger session (X-Large or XX-Large) ensures sufficient memory and CPU resources for efficient processing of large climate datasets."
   ]
  },
  {
   "cell_type": "code",
   "execution_count": null,
   "id": "9afaf0da",
   "metadata": {},
   "outputs": [],
   "source": [
    "import glob\n",
    "from access_mopper import ACCESS_ESM_CMORiser\n",
    "\n",
    "# Select input files\n",
    "files = glob.glob(\"/path/to/model/output/*mon.nc\")\n",
    "\n",
    "# Create CMORiser instance\n",
    "cmoriser = ACCESS_ESM_CMORiser(\n",
    "    input_paths=files,\n",
    "    compound_name=\"Amon.pr\",  # table.variable format\n",
    "    experiment_id=\"historical\",\n",
    "    source_id=\"ACCESS-ESM1-5\",\n",
    "    variant_label=\"r1i1p1f1\",\n",
    "    grid_label=\"gn\",\n",
    "    activity_id=\"CMIP\",\n",
    "    output_path=\"/path/to/output\"\n",
    ")\n"
   ]
  },
  {
   "cell_type": "code",
   "execution_count": null,
   "id": "cdca098f",
   "metadata": {},
   "outputs": [],
   "source": [
    "\n",
    "# Run CMORisation\n",
    "cmoriser.run()\n",
    "cmoriser.write()\n"
   ]
  },
  {
   "cell_type": "code",
   "execution_count": null,
   "id": "e89eee1a",
   "metadata": {},
   "outputs": [],
   "source": [
    "# to iris cube ## to dataset, to cube\n",
    "# cmoriser.to_iris()\n"
   ]
  },
  {
   "cell_type": "markdown",
   "id": "eece7a30",
   "metadata": {},
   "source": [
    "- run MOPPeR on ENSO variables\n",
    "- example ENSO notebooks comparing ESM1.6\n",
    "- exercises - update basics to read in spin-ups and run\n",
    "- Code and share, discussion"
   ]
  },
  {
   "cell_type": "markdown",
   "id": "aef87073",
   "metadata": {},
   "source": [
    "### Future/ongoing work\n",
    "\n",
    "Priority control variables for REF\n",
    "ACCESS-OM3"
   ]
  },
  {
   "cell_type": "markdown",
   "id": "969e7306",
   "metadata": {},
   "source": [
    "- ACCESS NRI intake catalog\n",
    "\n",
    "https://access-nri-intake-catalog.rtfd.io/\n",
    "\n",
    "- climate-ref on gadi\n",
    "\n",
    "https://climate-ref.readthedocs.io/en/latest/"
   ]
  },
  {
   "cell_type": "code",
   "execution_count": null,
   "id": "6f170253",
   "metadata": {},
   "outputs": [],
   "source": []
  }
 ],
 "metadata": {
  "language_info": {
   "name": "python"
  }
 },
 "nbformat": 4,
 "nbformat_minor": 5
}
