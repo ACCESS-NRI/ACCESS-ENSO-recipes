{
 "cells": [
  {
   "cell_type": "markdown",
   "id": "8bbee738-c874-4c98-891f-ef0a78b0dbd2",
   "metadata": {},
   "source": [
    "# CMORising ACCESS-ESM1.6 Spin-Up for ACCESS-ENSO-Recipes\n",
    "\n",
    "This notebook is a copy from a tutorial in [ACCESS-MOPPeR](https://github.com/ACCESS-NRI/ACCESS-MOPPeR)\n",
    "\n",
    "The ACCESS CMIP7 consortium is actively developing the ACCESS-ESM1.6 model for submission to the CMIP7 Fast track initiative. As part of this effort, a spin-up run is being conducted on the NCI Gadi supercomputer, with output data progressively becoming available. However, this data cannot yet be easily evaluated using established evaluation frameworks such as [ESMValTool](https://www.esmvaltool.org/) or [ILAMB](https://www.ilamb.org/).\n",
    "\n",
    "This notebook demonstrates how to process the variables required by the [ACCESS-ENSO-Recipe](https://github.com/ACCESS-NRI/ACCESS-ENSO-recipes), developed by ACCESS-NRI and leveraging ESMValTool, to enable robust evaluation of ACCESS-ESM1.6 spin-up runs. This workflow provides a pathway for the scientific assessment and validation of the new model output."
   ]
  },
  {
   "cell_type": "markdown",
   "id": "4910af62-8357-4af4-825f-fa6668ab7705",
   "metadata": {},
   "source": [
    "## Variables Required for ACCESS-NRI ENSO Recipes\n",
    "\n",
    "To run the [ACCESS-NRI ENSO Recipes](https://github.com/ACCESS-NRI/ACCESS-ENSO-recipes) on the current ACCESS-ESM1.6 spin-up (CMIP7 FastTrack), the following variables are needed:\n",
    "\n",
    "- **pr**: Precipitation\n",
    "- **tos**: Sea surface temperature (can be interchanged with `ts`)\n",
    "- **tauu**: Zonal wind stress\n",
    "- **ts**: Surface air temperature (can be interchanged with `tos`)\n",
    "- **zos**: Sea surface height\n",
    "- **nhf**: Net heat flux, calculated as  \n",
    "    `nhf = (-hfls - hfss + rlds - rlus + rsds - rsus)`\n",
    "\n",
    "**Notes:**\n",
    "\n",
    "- `ts` and `tos` can be used interchangeably.\n",
    "\n",
    "This list is based on the requirements for the ENSO diagnostics and workflow as described in the ACCESS-NRI ENSO Recipes documentation."
   ]
  },
  {
   "cell_type": "markdown",
   "id": "579fcbae-e484-4633-9251-78c3e0dbeb21",
   "metadata": {},
   "source": [
    "To run the CMORIsation we advise using an X-Large or XX-Large session on ARE.\n",
    "\n",
    "**Note:**  \n",
    "ARE (Analysis Research Environment) is the interactive computing system provided by NCI (National Computational Infrastructure). Using a larger session (X-Large or XX-Large) ensures sufficient memory and CPU resources for efficient processing of large climate datasets."
   ]
  },
  {
   "cell_type": "code",
   "execution_count": 1,
   "id": "451658aa-4ccb-4b64-aaf3-b00109102d62",
   "metadata": {},
   "outputs": [
    {
     "name": "stdout",
     "output_type": "stream",
     "text": [
      "\n",
      "Loaded Configuration:\n",
      "Creator Name: felicity Chun\n",
      "Organisation: ACCESS-NRI\n",
      "Creator Email: felicity.chun@anu.edu.au\n",
      "Creator URL: 0009-0007-0845-0953\n"
     ]
    }
   ],
   "source": [
    "from access_mopper import ACCESS_ESM_CMORiser"
   ]
  },
  {
   "cell_type": "code",
   "execution_count": 2,
   "id": "30e21e80-657b-49eb-baec-bfce498cef55",
   "metadata": {},
   "outputs": [
    {
     "name": "stderr",
     "output_type": "stream",
     "text": [
      "/g/data/xp65/public/apps/med_conda/envs/analysis3-25.09/lib/python3.11/site-packages/distributed/node.py:187: UserWarning: Port 8787 is already in use.\n",
      "Perhaps you already have a cluster running?\n",
      "Hosting the HTTP server on port 42455 instead\n",
      "  warnings.warn(\n"
     ]
    },
    {
     "data": {
      "text/html": [
       "<div>\n",
       "    <div style=\"width: 24px; height: 24px; background-color: #e1e1e1; border: 3px solid #9D9D9D; border-radius: 5px; position: absolute;\"> </div>\n",
       "    <div style=\"margin-left: 48px;\">\n",
       "        <h3 style=\"margin-bottom: 0px;\">Client</h3>\n",
       "        <p style=\"color: #9D9D9D; margin-bottom: 0px;\">Client-028a6b26-8490-11f0-82aa-000003befe80</p>\n",
       "        <table style=\"width: 100%; text-align: left;\">\n",
       "\n",
       "        <tr>\n",
       "        \n",
       "            <td style=\"text-align: left;\"><strong>Connection method:</strong> Cluster object</td>\n",
       "            <td style=\"text-align: left;\"><strong>Cluster type:</strong> distributed.LocalCluster</td>\n",
       "        \n",
       "        </tr>\n",
       "\n",
       "        \n",
       "            <tr>\n",
       "                <td style=\"text-align: left;\">\n",
       "                    <strong>Dashboard: </strong> <a href=\"/proxy/42455/status\" target=\"_blank\">/proxy/42455/status</a>\n",
       "                </td>\n",
       "                <td style=\"text-align: left;\"></td>\n",
       "            </tr>\n",
       "        \n",
       "\n",
       "        </table>\n",
       "\n",
       "        \n",
       "            <button style=\"margin-bottom: 12px;\" data-commandlinker-command=\"dask:populate-and-launch-layout\" data-commandlinker-args='{\"url\": \"/proxy/42455/status\" }'>\n",
       "                Launch dashboard in JupyterLab\n",
       "            </button>\n",
       "        \n",
       "\n",
       "        \n",
       "            <details>\n",
       "            <summary style=\"margin-bottom: 20px;\"><h3 style=\"display: inline;\">Cluster Info</h3></summary>\n",
       "            <div class=\"jp-RenderedHTMLCommon jp-RenderedHTML jp-mod-trusted jp-OutputArea-output\">\n",
       "    <div style=\"width: 24px; height: 24px; background-color: #e1e1e1; border: 3px solid #9D9D9D; border-radius: 5px; position: absolute;\">\n",
       "    </div>\n",
       "    <div style=\"margin-left: 48px;\">\n",
       "        <h3 style=\"margin-bottom: 0px; margin-top: 0px;\">LocalCluster</h3>\n",
       "        <p style=\"color: #9D9D9D; margin-bottom: 0px;\">68c043df</p>\n",
       "        <table style=\"width: 100%; text-align: left;\">\n",
       "            <tr>\n",
       "                <td style=\"text-align: left;\">\n",
       "                    <strong>Dashboard:</strong> <a href=\"/proxy/42455/status\" target=\"_blank\">/proxy/42455/status</a>\n",
       "                </td>\n",
       "                <td style=\"text-align: left;\">\n",
       "                    <strong>Workers:</strong> 7\n",
       "                </td>\n",
       "            </tr>\n",
       "            <tr>\n",
       "                <td style=\"text-align: left;\">\n",
       "                    <strong>Total threads:</strong> 7\n",
       "                </td>\n",
       "                <td style=\"text-align: left;\">\n",
       "                    <strong>Total memory:</strong> 32.00 GiB\n",
       "                </td>\n",
       "            </tr>\n",
       "            \n",
       "            <tr>\n",
       "    <td style=\"text-align: left;\"><strong>Status:</strong> running</td>\n",
       "    <td style=\"text-align: left;\"><strong>Using processes:</strong> True</td>\n",
       "</tr>\n",
       "\n",
       "            \n",
       "        </table>\n",
       "\n",
       "        <details>\n",
       "            <summary style=\"margin-bottom: 20px;\">\n",
       "                <h3 style=\"display: inline;\">Scheduler Info</h3>\n",
       "            </summary>\n",
       "\n",
       "            <div style=\"\">\n",
       "    <div>\n",
       "        <div style=\"width: 24px; height: 24px; background-color: #FFF7E5; border: 3px solid #FF6132; border-radius: 5px; position: absolute;\"> </div>\n",
       "        <div style=\"margin-left: 48px;\">\n",
       "            <h3 style=\"margin-bottom: 0px;\">Scheduler</h3>\n",
       "            <p style=\"color: #9D9D9D; margin-bottom: 0px;\">Scheduler-bc57da16-8972-4d44-81df-d0fa1b944365</p>\n",
       "            <table style=\"width: 100%; text-align: left;\">\n",
       "                <tr>\n",
       "                    <td style=\"text-align: left;\">\n",
       "                        <strong>Comm:</strong> tcp://127.0.0.1:34519\n",
       "                    </td>\n",
       "                    <td style=\"text-align: left;\">\n",
       "                        <strong>Workers:</strong> 0 \n",
       "                    </td>\n",
       "                </tr>\n",
       "                <tr>\n",
       "                    <td style=\"text-align: left;\">\n",
       "                        <strong>Dashboard:</strong> <a href=\"/proxy/42455/status\" target=\"_blank\">/proxy/42455/status</a>\n",
       "                    </td>\n",
       "                    <td style=\"text-align: left;\">\n",
       "                        <strong>Total threads:</strong> 0\n",
       "                    </td>\n",
       "                </tr>\n",
       "                <tr>\n",
       "                    <td style=\"text-align: left;\">\n",
       "                        <strong>Started:</strong> Just now\n",
       "                    </td>\n",
       "                    <td style=\"text-align: left;\">\n",
       "                        <strong>Total memory:</strong> 0 B\n",
       "                    </td>\n",
       "                </tr>\n",
       "            </table>\n",
       "        </div>\n",
       "    </div>\n",
       "\n",
       "    <details style=\"margin-left: 48px;\">\n",
       "        <summary style=\"margin-bottom: 20px;\">\n",
       "            <h3 style=\"display: inline;\">Workers</h3>\n",
       "        </summary>\n",
       "\n",
       "        \n",
       "        <div style=\"margin-bottom: 20px;\">\n",
       "            <div style=\"width: 24px; height: 24px; background-color: #DBF5FF; border: 3px solid #4CC9FF; border-radius: 5px; position: absolute;\"> </div>\n",
       "            <div style=\"margin-left: 48px;\">\n",
       "            <details>\n",
       "                <summary>\n",
       "                    <h4 style=\"margin-bottom: 0px; display: inline;\">Worker: 0</h4>\n",
       "                </summary>\n",
       "                <table style=\"width: 100%; text-align: left;\">\n",
       "                    <tr>\n",
       "                        <td style=\"text-align: left;\">\n",
       "                            <strong>Comm: </strong> tcp://127.0.0.1:38627\n",
       "                        </td>\n",
       "                        <td style=\"text-align: left;\">\n",
       "                            <strong>Total threads: </strong> 1\n",
       "                        </td>\n",
       "                    </tr>\n",
       "                    <tr>\n",
       "                        <td style=\"text-align: left;\">\n",
       "                            <strong>Dashboard: </strong> <a href=\"/proxy/43267/status\" target=\"_blank\">/proxy/43267/status</a>\n",
       "                        </td>\n",
       "                        <td style=\"text-align: left;\">\n",
       "                            <strong>Memory: </strong> 4.57 GiB\n",
       "                        </td>\n",
       "                    </tr>\n",
       "                    <tr>\n",
       "                        <td style=\"text-align: left;\">\n",
       "                            <strong>Nanny: </strong> tcp://127.0.0.1:44611\n",
       "                        </td>\n",
       "                        <td style=\"text-align: left;\"></td>\n",
       "                    </tr>\n",
       "                    <tr>\n",
       "                        <td colspan=\"2\" style=\"text-align: left;\">\n",
       "                            <strong>Local directory: </strong> /jobfs/148180385.gadi-pbs/dask-scratch-space/worker-l6jbpvbd\n",
       "                        </td>\n",
       "                    </tr>\n",
       "\n",
       "                    \n",
       "\n",
       "                    \n",
       "\n",
       "                </table>\n",
       "            </details>\n",
       "            </div>\n",
       "        </div>\n",
       "        \n",
       "        <div style=\"margin-bottom: 20px;\">\n",
       "            <div style=\"width: 24px; height: 24px; background-color: #DBF5FF; border: 3px solid #4CC9FF; border-radius: 5px; position: absolute;\"> </div>\n",
       "            <div style=\"margin-left: 48px;\">\n",
       "            <details>\n",
       "                <summary>\n",
       "                    <h4 style=\"margin-bottom: 0px; display: inline;\">Worker: 1</h4>\n",
       "                </summary>\n",
       "                <table style=\"width: 100%; text-align: left;\">\n",
       "                    <tr>\n",
       "                        <td style=\"text-align: left;\">\n",
       "                            <strong>Comm: </strong> tcp://127.0.0.1:40735\n",
       "                        </td>\n",
       "                        <td style=\"text-align: left;\">\n",
       "                            <strong>Total threads: </strong> 1\n",
       "                        </td>\n",
       "                    </tr>\n",
       "                    <tr>\n",
       "                        <td style=\"text-align: left;\">\n",
       "                            <strong>Dashboard: </strong> <a href=\"/proxy/33029/status\" target=\"_blank\">/proxy/33029/status</a>\n",
       "                        </td>\n",
       "                        <td style=\"text-align: left;\">\n",
       "                            <strong>Memory: </strong> 4.57 GiB\n",
       "                        </td>\n",
       "                    </tr>\n",
       "                    <tr>\n",
       "                        <td style=\"text-align: left;\">\n",
       "                            <strong>Nanny: </strong> tcp://127.0.0.1:41159\n",
       "                        </td>\n",
       "                        <td style=\"text-align: left;\"></td>\n",
       "                    </tr>\n",
       "                    <tr>\n",
       "                        <td colspan=\"2\" style=\"text-align: left;\">\n",
       "                            <strong>Local directory: </strong> /jobfs/148180385.gadi-pbs/dask-scratch-space/worker-br8e8mvd\n",
       "                        </td>\n",
       "                    </tr>\n",
       "\n",
       "                    \n",
       "\n",
       "                    \n",
       "\n",
       "                </table>\n",
       "            </details>\n",
       "            </div>\n",
       "        </div>\n",
       "        \n",
       "        <div style=\"margin-bottom: 20px;\">\n",
       "            <div style=\"width: 24px; height: 24px; background-color: #DBF5FF; border: 3px solid #4CC9FF; border-radius: 5px; position: absolute;\"> </div>\n",
       "            <div style=\"margin-left: 48px;\">\n",
       "            <details>\n",
       "                <summary>\n",
       "                    <h4 style=\"margin-bottom: 0px; display: inline;\">Worker: 2</h4>\n",
       "                </summary>\n",
       "                <table style=\"width: 100%; text-align: left;\">\n",
       "                    <tr>\n",
       "                        <td style=\"text-align: left;\">\n",
       "                            <strong>Comm: </strong> tcp://127.0.0.1:45587\n",
       "                        </td>\n",
       "                        <td style=\"text-align: left;\">\n",
       "                            <strong>Total threads: </strong> 1\n",
       "                        </td>\n",
       "                    </tr>\n",
       "                    <tr>\n",
       "                        <td style=\"text-align: left;\">\n",
       "                            <strong>Dashboard: </strong> <a href=\"/proxy/36429/status\" target=\"_blank\">/proxy/36429/status</a>\n",
       "                        </td>\n",
       "                        <td style=\"text-align: left;\">\n",
       "                            <strong>Memory: </strong> 4.57 GiB\n",
       "                        </td>\n",
       "                    </tr>\n",
       "                    <tr>\n",
       "                        <td style=\"text-align: left;\">\n",
       "                            <strong>Nanny: </strong> tcp://127.0.0.1:35971\n",
       "                        </td>\n",
       "                        <td style=\"text-align: left;\"></td>\n",
       "                    </tr>\n",
       "                    <tr>\n",
       "                        <td colspan=\"2\" style=\"text-align: left;\">\n",
       "                            <strong>Local directory: </strong> /jobfs/148180385.gadi-pbs/dask-scratch-space/worker-0c6jzedq\n",
       "                        </td>\n",
       "                    </tr>\n",
       "\n",
       "                    \n",
       "\n",
       "                    \n",
       "\n",
       "                </table>\n",
       "            </details>\n",
       "            </div>\n",
       "        </div>\n",
       "        \n",
       "        <div style=\"margin-bottom: 20px;\">\n",
       "            <div style=\"width: 24px; height: 24px; background-color: #DBF5FF; border: 3px solid #4CC9FF; border-radius: 5px; position: absolute;\"> </div>\n",
       "            <div style=\"margin-left: 48px;\">\n",
       "            <details>\n",
       "                <summary>\n",
       "                    <h4 style=\"margin-bottom: 0px; display: inline;\">Worker: 3</h4>\n",
       "                </summary>\n",
       "                <table style=\"width: 100%; text-align: left;\">\n",
       "                    <tr>\n",
       "                        <td style=\"text-align: left;\">\n",
       "                            <strong>Comm: </strong> tcp://127.0.0.1:45385\n",
       "                        </td>\n",
       "                        <td style=\"text-align: left;\">\n",
       "                            <strong>Total threads: </strong> 1\n",
       "                        </td>\n",
       "                    </tr>\n",
       "                    <tr>\n",
       "                        <td style=\"text-align: left;\">\n",
       "                            <strong>Dashboard: </strong> <a href=\"/proxy/32825/status\" target=\"_blank\">/proxy/32825/status</a>\n",
       "                        </td>\n",
       "                        <td style=\"text-align: left;\">\n",
       "                            <strong>Memory: </strong> 4.57 GiB\n",
       "                        </td>\n",
       "                    </tr>\n",
       "                    <tr>\n",
       "                        <td style=\"text-align: left;\">\n",
       "                            <strong>Nanny: </strong> tcp://127.0.0.1:45329\n",
       "                        </td>\n",
       "                        <td style=\"text-align: left;\"></td>\n",
       "                    </tr>\n",
       "                    <tr>\n",
       "                        <td colspan=\"2\" style=\"text-align: left;\">\n",
       "                            <strong>Local directory: </strong> /jobfs/148180385.gadi-pbs/dask-scratch-space/worker-cy030nai\n",
       "                        </td>\n",
       "                    </tr>\n",
       "\n",
       "                    \n",
       "\n",
       "                    \n",
       "\n",
       "                </table>\n",
       "            </details>\n",
       "            </div>\n",
       "        </div>\n",
       "        \n",
       "        <div style=\"margin-bottom: 20px;\">\n",
       "            <div style=\"width: 24px; height: 24px; background-color: #DBF5FF; border: 3px solid #4CC9FF; border-radius: 5px; position: absolute;\"> </div>\n",
       "            <div style=\"margin-left: 48px;\">\n",
       "            <details>\n",
       "                <summary>\n",
       "                    <h4 style=\"margin-bottom: 0px; display: inline;\">Worker: 4</h4>\n",
       "                </summary>\n",
       "                <table style=\"width: 100%; text-align: left;\">\n",
       "                    <tr>\n",
       "                        <td style=\"text-align: left;\">\n",
       "                            <strong>Comm: </strong> tcp://127.0.0.1:40501\n",
       "                        </td>\n",
       "                        <td style=\"text-align: left;\">\n",
       "                            <strong>Total threads: </strong> 1\n",
       "                        </td>\n",
       "                    </tr>\n",
       "                    <tr>\n",
       "                        <td style=\"text-align: left;\">\n",
       "                            <strong>Dashboard: </strong> <a href=\"/proxy/43573/status\" target=\"_blank\">/proxy/43573/status</a>\n",
       "                        </td>\n",
       "                        <td style=\"text-align: left;\">\n",
       "                            <strong>Memory: </strong> 4.57 GiB\n",
       "                        </td>\n",
       "                    </tr>\n",
       "                    <tr>\n",
       "                        <td style=\"text-align: left;\">\n",
       "                            <strong>Nanny: </strong> tcp://127.0.0.1:37225\n",
       "                        </td>\n",
       "                        <td style=\"text-align: left;\"></td>\n",
       "                    </tr>\n",
       "                    <tr>\n",
       "                        <td colspan=\"2\" style=\"text-align: left;\">\n",
       "                            <strong>Local directory: </strong> /jobfs/148180385.gadi-pbs/dask-scratch-space/worker-2ywa06el\n",
       "                        </td>\n",
       "                    </tr>\n",
       "\n",
       "                    \n",
       "\n",
       "                    \n",
       "\n",
       "                </table>\n",
       "            </details>\n",
       "            </div>\n",
       "        </div>\n",
       "        \n",
       "        <div style=\"margin-bottom: 20px;\">\n",
       "            <div style=\"width: 24px; height: 24px; background-color: #DBF5FF; border: 3px solid #4CC9FF; border-radius: 5px; position: absolute;\"> </div>\n",
       "            <div style=\"margin-left: 48px;\">\n",
       "            <details>\n",
       "                <summary>\n",
       "                    <h4 style=\"margin-bottom: 0px; display: inline;\">Worker: 5</h4>\n",
       "                </summary>\n",
       "                <table style=\"width: 100%; text-align: left;\">\n",
       "                    <tr>\n",
       "                        <td style=\"text-align: left;\">\n",
       "                            <strong>Comm: </strong> tcp://127.0.0.1:40433\n",
       "                        </td>\n",
       "                        <td style=\"text-align: left;\">\n",
       "                            <strong>Total threads: </strong> 1\n",
       "                        </td>\n",
       "                    </tr>\n",
       "                    <tr>\n",
       "                        <td style=\"text-align: left;\">\n",
       "                            <strong>Dashboard: </strong> <a href=\"/proxy/39623/status\" target=\"_blank\">/proxy/39623/status</a>\n",
       "                        </td>\n",
       "                        <td style=\"text-align: left;\">\n",
       "                            <strong>Memory: </strong> 4.57 GiB\n",
       "                        </td>\n",
       "                    </tr>\n",
       "                    <tr>\n",
       "                        <td style=\"text-align: left;\">\n",
       "                            <strong>Nanny: </strong> tcp://127.0.0.1:46327\n",
       "                        </td>\n",
       "                        <td style=\"text-align: left;\"></td>\n",
       "                    </tr>\n",
       "                    <tr>\n",
       "                        <td colspan=\"2\" style=\"text-align: left;\">\n",
       "                            <strong>Local directory: </strong> /jobfs/148180385.gadi-pbs/dask-scratch-space/worker-rilzbr3u\n",
       "                        </td>\n",
       "                    </tr>\n",
       "\n",
       "                    \n",
       "\n",
       "                    \n",
       "\n",
       "                </table>\n",
       "            </details>\n",
       "            </div>\n",
       "        </div>\n",
       "        \n",
       "        <div style=\"margin-bottom: 20px;\">\n",
       "            <div style=\"width: 24px; height: 24px; background-color: #DBF5FF; border: 3px solid #4CC9FF; border-radius: 5px; position: absolute;\"> </div>\n",
       "            <div style=\"margin-left: 48px;\">\n",
       "            <details>\n",
       "                <summary>\n",
       "                    <h4 style=\"margin-bottom: 0px; display: inline;\">Worker: 6</h4>\n",
       "                </summary>\n",
       "                <table style=\"width: 100%; text-align: left;\">\n",
       "                    <tr>\n",
       "                        <td style=\"text-align: left;\">\n",
       "                            <strong>Comm: </strong> tcp://127.0.0.1:45185\n",
       "                        </td>\n",
       "                        <td style=\"text-align: left;\">\n",
       "                            <strong>Total threads: </strong> 1\n",
       "                        </td>\n",
       "                    </tr>\n",
       "                    <tr>\n",
       "                        <td style=\"text-align: left;\">\n",
       "                            <strong>Dashboard: </strong> <a href=\"/proxy/40659/status\" target=\"_blank\">/proxy/40659/status</a>\n",
       "                        </td>\n",
       "                        <td style=\"text-align: left;\">\n",
       "                            <strong>Memory: </strong> 4.57 GiB\n",
       "                        </td>\n",
       "                    </tr>\n",
       "                    <tr>\n",
       "                        <td style=\"text-align: left;\">\n",
       "                            <strong>Nanny: </strong> tcp://127.0.0.1:44479\n",
       "                        </td>\n",
       "                        <td style=\"text-align: left;\"></td>\n",
       "                    </tr>\n",
       "                    <tr>\n",
       "                        <td colspan=\"2\" style=\"text-align: left;\">\n",
       "                            <strong>Local directory: </strong> /jobfs/148180385.gadi-pbs/dask-scratch-space/worker-9zfi5uzo\n",
       "                        </td>\n",
       "                    </tr>\n",
       "\n",
       "                    \n",
       "\n",
       "                    \n",
       "\n",
       "                </table>\n",
       "            </details>\n",
       "            </div>\n",
       "        </div>\n",
       "        \n",
       "\n",
       "    </details>\n",
       "</div>\n",
       "\n",
       "        </details>\n",
       "    </div>\n",
       "</div>\n",
       "            </details>\n",
       "        \n",
       "\n",
       "    </div>\n",
       "</div>"
      ],
      "text/plain": [
       "<Client: 'tcp://127.0.0.1:34519' processes=7 threads=7, memory=32.00 GiB>"
      ]
     },
     "execution_count": 2,
     "metadata": {},
     "output_type": "execute_result"
    }
   ],
   "source": [
    "import dask.distributed as dask\n",
    "\n",
    "client = dask.Client(threads_per_worker = 1)\n",
    "client"
   ]
  },
  {
   "cell_type": "markdown",
   "id": "9b230eb4",
   "metadata": {
    "vscode": {
     "languageId": "markdown"
    }
   },
   "source": [
    "We are currently using the June Spin Up dataset located at:\n",
    "\n",
    "`/g/data/p73/archive/CMIP7/ACCESS-ESM1-6/spinup/JuneSpinUp-JuneSpinUp-bfaa9c5b/`\n",
    "\n",
    "This folder contains the output files from the ACCESS-ESM1.6 spin-up experiment, which are used throughout this notebook for CMORisation and evaluation."
   ]
  },
  {
   "cell_type": "code",
   "execution_count": 3,
   "id": "d8873087-5812-4063-b856-5fc92298b51a",
   "metadata": {},
   "outputs": [],
   "source": [
    "ROOT_FOLDER = \"/g/data/p73/archive/CMIP7/ACCESS-ESM1-6/spinup/JuneSpinUp-JuneSpinUp-bfaa9c5b/\""
   ]
  },
  {
   "cell_type": "code",
   "execution_count": 4,
   "id": "919afbb9-ff5c-4955-9e4a-3d1fce795909",
   "metadata": {},
   "outputs": [],
   "source": [
    "OUTPUT_FOLDER = \"/scratch/nf33/fc6164/MOPPeR\""
   ]
  },
  {
   "cell_type": "code",
   "execution_count": 5,
   "id": "de53c010-6a08-4846-b2f8-d6347be07bc9",
   "metadata": {},
   "outputs": [],
   "source": [
    "import glob\n",
    "FILES = glob.glob(ROOT_FOLDER + \"output[0-9][0-9][0-9]/atmosphere/netCDF/*mon.nc\")"
   ]
  },
  {
   "cell_type": "code",
   "execution_count": 6,
   "id": "49a6ff16-aa53-463b-b200-cc6f0e3ea7d5",
   "metadata": {},
   "outputs": [
    {
     "data": {
      "text/plain": [
       "(12000,\n",
       " ['/g/data/p73/archive/CMIP7/ACCESS-ESM1-6/spinup/JuneSpinUp-JuneSpinUp-bfaa9c5b/output877/atmosphere/netCDF/aiihca.pa-196911_mon.nc',\n",
       "  '/g/data/p73/archive/CMIP7/ACCESS-ESM1-6/spinup/JuneSpinUp-JuneSpinUp-bfaa9c5b/output877/atmosphere/netCDF/aiihca.pa-196906_mon.nc',\n",
       "  '/g/data/p73/archive/CMIP7/ACCESS-ESM1-6/spinup/JuneSpinUp-JuneSpinUp-bfaa9c5b/output877/atmosphere/netCDF/aiihca.pa-196909_mon.nc',\n",
       "  '/g/data/p73/archive/CMIP7/ACCESS-ESM1-6/spinup/JuneSpinUp-JuneSpinUp-bfaa9c5b/output877/atmosphere/netCDF/aiihca.pa-196901_mon.nc',\n",
       "  '/g/data/p73/archive/CMIP7/ACCESS-ESM1-6/spinup/JuneSpinUp-JuneSpinUp-bfaa9c5b/output877/atmosphere/netCDF/aiihca.pa-196904_mon.nc'])"
      ]
     },
     "execution_count": 6,
     "metadata": {},
     "output_type": "execute_result"
    }
   ],
   "source": [
    "len(FILES), FILES[:5]\n"
   ]
  },
  {
   "cell_type": "code",
   "execution_count": 7,
   "id": "9a8a1674-62ca-47e0-880c-2a7978f98706",
   "metadata": {},
   "outputs": [],
   "source": [
    "parent_experiment_config = {\n",
    "        \"parent_experiment_id\": \"piControl\",\n",
    "        \"parent_activity_id\": \"CMIP\",\n",
    "        \"parent_source_id\": \"ACCESS-ESM1-5\",\n",
    "        \"parent_variant_label\": \"r1i1p1f1\",\n",
    "        \"parent_time_units\": \"days since 0001-01-01 00:00:00\",\n",
    "        \"parent_mip_era\": \"CMIP6\",\n",
    "        \"branch_time_in_child\": 0.0,\n",
    "        \"branch_time_in_parent\": 54786.0,\n",
    "        \"branch_method\": \"standard\"\n",
    "}"
   ]
  },
  {
   "cell_type": "markdown",
   "id": "a19341d8-1bee-44a8-8516-338b73695fc9",
   "metadata": {},
   "source": [
    "### Amon.pr"
   ]
  },
  {
   "cell_type": "code",
   "execution_count": 9,
   "id": "0029404a-b569-418e-bd18-12d948633942",
   "metadata": {},
   "outputs": [
    {
     "data": {
      "text/plain": [
       "2400"
      ]
     },
     "execution_count": 9,
     "metadata": {},
     "output_type": "execute_result"
    }
   ],
   "source": [
    "# use output folder number to restrict the number of years to cmorise at a time ie output[0-2][0-9][0-9]\n",
    "\n",
    "FILES = glob.glob(ROOT_FOLDER + \"output[0-1][0-9][0-9]/atmosphere/netCDF/*mon.nc\")\n",
    "len(FILES)"
   ]
  },
  {
   "cell_type": "code",
   "execution_count": 10,
   "id": "aeafb14b-7d29-44d8-b6c7-8d265f2169f3",
   "metadata": {},
   "outputs": [],
   "source": [
    "cmoriser = ACCESS_ESM_CMORiser(\n",
    "    input_paths=FILES,\n",
    "    compound_name=\"Amon.pr\",\n",
    "    experiment_id=\"piControl\",\n",
    "    source_id=\"ACCESS-ESM1-5\",\n",
    "    variant_label=\"r1i1p1f1\",\n",
    "    grid_label=\"gn\",\n",
    "    activity_id=\"CMIP\",\n",
    "    output_path=OUTPUT_FOLDER, # to write out file to nc\n",
    "    parent_info=parent_experiment_config # <-- This is optional, can be skipped if not needed\n",
    "    )"
   ]
  },
  {
   "cell_type": "code",
   "execution_count": 11,
   "id": "0f40063b-a5bb-4f94-bc07-3de4a37c89f3",
   "metadata": {
    "scrolled": true
   },
   "outputs": [
    {
     "name": "stderr",
     "output_type": "stream",
     "text": [
      "/g/data/xp65/public/apps/med_conda/envs/analysis3-25.09/lib/python3.11/site-packages/iris/fileformats/cf.py:664: IrisCfMissingVarWarning: Missing CF-netCDF grid mapping variable 'latitude_longitude', referenced by netCDF variable 'pr'\n",
      "  warnings.warn(\n",
      "/g/data/xp65/public/apps/med_conda/envs/analysis3-25.09/lib/python3.11/site-packages/iris/fileformats/cf.py:880: IrisCfMissingVarWarning: Missing CF-netCDF measure variable 'areacella', referenced by netCDF variable 'pr'\n",
      "  warnings.warn(\n"
     ]
    }
   ],
   "source": [
    "cmoriser.run()\n",
    "\n",
    "# can get a cube directly from cmoriser (to use with ESMValCore preprocessors)\n",
    "cube = cmoriser.to_iris()[0] #to_iris() gives a CubeList of one cube "
   ]
  },
  {
   "cell_type": "code",
   "execution_count": null,
   "id": "575555f0",
   "metadata": {},
   "outputs": [],
   "source": [
    "# can also get an xarray dataset\n",
    "ds = cmoriser.to_dataset()"
   ]
  },
  {
   "cell_type": "code",
   "execution_count": null,
   "id": "4be71f27-9995-4cf3-b0dd-eea7d43be503",
   "metadata": {
    "scrolled": true
   },
   "outputs": [
    {
     "name": "stdout",
     "output_type": "stream",
     "text": [
      "CMORised output written to /scratch/p66/fc6164/MOPPeR/pr_Amon_ACCESS-ESM1-5_piControl_r1i1p1f1_gn_159201-209112.nc\n"
     ]
    }
   ],
   "source": [
    "cmoriser.write() # write file out to output folder"
   ]
  },
  {
   "cell_type": "markdown",
   "id": "ddc46eb5-d496-42ef-acff-a4dd0f70b515",
   "metadata": {},
   "source": [
    "### Omon.tos"
   ]
  },
  {
   "cell_type": "code",
   "execution_count": null,
   "id": "4f650ab5-8d8a-42d1-9a32-be797db06a42",
   "metadata": {},
   "outputs": [
    {
     "data": {
      "text/plain": [
       "500"
      ]
     },
     "execution_count": 19,
     "metadata": {},
     "output_type": "execute_result"
    }
   ],
   "source": [
    "FILES = glob.glob(ROOT_FOLDER + \"output[0-2][0-9][0-9]/ocean/ocean-2d-surface_temp-1monthly-mean*.nc\")\n",
    "len(FILES)"
   ]
  },
  {
   "cell_type": "code",
   "execution_count": 20,
   "id": "a6934b24-9dfc-4029-8236-c9760189af02",
   "metadata": {},
   "outputs": [],
   "source": [
    "cmoriser = ACCESS_ESM_CMORiser(\n",
    "    input_paths=FILES,\n",
    "    compound_name=\"Omon.tos\",\n",
    "    experiment_id=\"piControl\",\n",
    "    source_id=\"ACCESS-ESM1-5\",\n",
    "    variant_label=\"r1i1p1f1\",\n",
    "    grid_label=\"gn\",\n",
    "    activity_id=\"CMIP\",\n",
    "    parent_info=parent_experiment_config, # <-- This is optional, can be skipped if not needed\n",
    "    output_path=OUTPUT_FOLDER\n",
    "    )"
   ]
  },
  {
   "cell_type": "code",
   "execution_count": 21,
   "id": "1d1354db-45d4-4132-9c88-943790f6dcce",
   "metadata": {},
   "outputs": [],
   "source": [
    "cmoriser.run()"
   ]
  },
  {
   "cell_type": "code",
   "execution_count": 22,
   "id": "2cfa58e2-7656-49a3-b0f9-a2e4b1cbf40d",
   "metadata": {},
   "outputs": [
    {
     "name": "stdout",
     "output_type": "stream",
     "text": [
      "CMORised output written to /scratch/p66/fc6164/MOPPeR/tos_Omon_ACCESS-ESM1-5_piControl_r1i1p1f1_gn_159201-209112.nc\n"
     ]
    }
   ],
   "source": [
    "cmoriser.write()"
   ]
  },
  {
   "cell_type": "markdown",
   "id": "4f16d6b1-956d-4515-9262-63fed95ad425",
   "metadata": {},
   "source": [
    "### Amon.tauu"
   ]
  },
  {
   "cell_type": "code",
   "execution_count": null,
   "id": "0abd0f62-42a7-4041-b98d-2c48b9fa3fd3",
   "metadata": {},
   "outputs": [
    {
     "data": {
      "text/plain": [
       "6000"
      ]
     },
     "execution_count": 23,
     "metadata": {},
     "output_type": "execute_result"
    }
   ],
   "source": [
    "FILES = glob.glob(ROOT_FOLDER + \"output[0-2][0-9][0-9]/atmosphere/netCDF/*mon.nc\")\n",
    "len(FILES)"
   ]
  },
  {
   "cell_type": "code",
   "execution_count": 24,
   "id": "01e3b749-5534-4077-846b-e6384d865f90",
   "metadata": {},
   "outputs": [],
   "source": [
    "cmoriser = ACCESS_ESM_CMORiser(\n",
    "    input_paths=FILES,\n",
    "    compound_name=\"Amon.tauu\",\n",
    "    experiment_id=\"piControl\",\n",
    "    source_id=\"ACCESS-ESM1-5\",\n",
    "    variant_label=\"r1i1p1f1\",\n",
    "    grid_label=\"gn\",\n",
    "    activity_id=\"CMIP\",\n",
    "    output_path=OUTPUT_FOLDER,\n",
    "    parent_info=parent_experiment_config # <-- This is optional, can be skipped if not needed\n",
    "    )"
   ]
  },
  {
   "cell_type": "code",
   "execution_count": 25,
   "id": "806e375b-c5d5-46cc-9a53-188267543b63",
   "metadata": {},
   "outputs": [],
   "source": [
    "cmoriser.run()"
   ]
  },
  {
   "cell_type": "code",
   "execution_count": 26,
   "id": "5100f74c-8d6b-4c17-b730-98247314e832",
   "metadata": {
    "scrolled": true
   },
   "outputs": [
    {
     "name": "stdout",
     "output_type": "stream",
     "text": [
      "CMORised output written to /scratch/p66/fc6164/MOPPeR/tauu_Amon_ACCESS-ESM1-5_piControl_r1i1p1f1_gn_159201-209112.nc\n"
     ]
    }
   ],
   "source": [
    "cmoriser.write()"
   ]
  },
  {
   "cell_type": "markdown",
   "id": "8a41e71f-58df-4af5-8eb6-ccbbc4a2a1c8",
   "metadata": {},
   "source": [
    "### Amon.ts"
   ]
  },
  {
   "cell_type": "code",
   "execution_count": null,
   "id": "2fab71dc-dd5c-4833-8a1e-f41268d07e3f",
   "metadata": {},
   "outputs": [
    {
     "data": {
      "text/plain": [
       "6000"
      ]
     },
     "execution_count": 27,
     "metadata": {},
     "output_type": "execute_result"
    }
   ],
   "source": [
    "FILES = glob.glob(ROOT_FOLDER + \"output[0-2][0-9][0-9]/atmosphere/netCDF/*mon.nc\")\n",
    "len(FILES)"
   ]
  },
  {
   "cell_type": "code",
   "execution_count": 28,
   "id": "25fcf9c9-0b88-4af5-93a3-c07f2e7417a0",
   "metadata": {},
   "outputs": [],
   "source": [
    "cmoriser = ACCESS_ESM_CMORiser(\n",
    "    input_paths=FILES,\n",
    "    compound_name=\"Amon.ts\",\n",
    "    experiment_id=\"piControl\",\n",
    "    source_id=\"ACCESS-ESM1-5\", #controlled variable\n",
    "    variant_label=\"r1i1p1f1\",\n",
    "    grid_label=\"gn\",\n",
    "    activity_id=\"CMIP\",\n",
    "    output_path=OUTPUT_FOLDER,\n",
    "    parent_info=parent_experiment_config # <-- This is optional, can be skipped if not needed\n",
    "    )"
   ]
  },
  {
   "cell_type": "code",
   "execution_count": 29,
   "id": "2368007c-d551-4fe6-9804-d5d99ab43d83",
   "metadata": {},
   "outputs": [],
   "source": [
    "cmoriser.run()"
   ]
  },
  {
   "cell_type": "code",
   "execution_count": 30,
   "id": "e80de79c-063c-4220-90d8-127180c07719",
   "metadata": {},
   "outputs": [
    {
     "name": "stdout",
     "output_type": "stream",
     "text": [
      "CMORised output written to /scratch/p66/fc6164/MOPPeR/ts_Amon_ACCESS-ESM1-5_piControl_r1i1p1f1_gn_159201-209112.nc\n"
     ]
    }
   ],
   "source": [
    "cmoriser.write()"
   ]
  },
  {
   "cell_type": "markdown",
   "id": "97dc7da6-5968-47eb-abeb-9af65db7bcd3",
   "metadata": {},
   "source": [
    "### Omon.zos"
   ]
  },
  {
   "cell_type": "code",
   "execution_count": null,
   "id": "72472a78-047d-4ec7-9120-0faa12ab21e5",
   "metadata": {},
   "outputs": [
    {
     "data": {
      "text/plain": [
       "500"
      ]
     },
     "execution_count": 31,
     "metadata": {},
     "output_type": "execute_result"
    }
   ],
   "source": [
    "FILES = glob.glob(ROOT_FOLDER + \"output[0-2][0-9][0-9]/ocean/ocean-2d-sea_level-1monthly-mean*.nc\")\n",
    "len(FILES)"
   ]
  },
  {
   "cell_type": "code",
   "execution_count": 32,
   "id": "e2cca7f3-0912-4878-83ab-0d2373a5fa53",
   "metadata": {},
   "outputs": [],
   "source": [
    "cmoriser = ACCESS_ESM_CMORiser(\n",
    "    input_paths=FILES,\n",
    "    compound_name=\"Omon.zos\",\n",
    "    experiment_id=\"piControl\",\n",
    "    source_id=\"ACCESS-ESM1-5\",\n",
    "    variant_label=\"r1i1p1f1\",\n",
    "    grid_label=\"gn\",\n",
    "    activity_id=\"CMIP\",\n",
    "    output_path=OUTPUT_FOLDER,\n",
    "    parent_info=parent_experiment_config # <-- This is optional, can be skipped if not needed\n",
    "    )"
   ]
  },
  {
   "cell_type": "code",
   "execution_count": 33,
   "id": "bbaeb1cb-e74a-4623-920f-024470905233",
   "metadata": {},
   "outputs": [],
   "source": [
    "cmoriser.run()"
   ]
  },
  {
   "cell_type": "code",
   "execution_count": null,
   "id": "fad95331-0816-4a8a-ae92-4b2504ba8c4a",
   "metadata": {},
   "outputs": [],
   "source": [
    "cmoriser.write()"
   ]
  },
  {
   "cell_type": "code",
   "execution_count": null,
   "id": "05ad4bd8-184f-4057-af9b-d0aaac4fc252",
   "metadata": {},
   "outputs": [],
   "source": []
  }
 ],
 "metadata": {
  "kernelspec": {
   "display_name": "Python [conda env:analysis3-25.09]",
   "language": "python",
   "name": "conda-env-analysis3-25.09-py"
  },
  "language_info": {
   "codemirror_mode": {
    "name": "ipython",
    "version": 3
   },
   "file_extension": ".py",
   "mimetype": "text/x-python",
   "name": "python",
   "nbconvert_exporter": "python",
   "pygments_lexer": "ipython3",
   "version": "3.11.13"
  }
 },
 "nbformat": 4,
 "nbformat_minor": 5
}
