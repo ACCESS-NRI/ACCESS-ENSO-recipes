{
 "cells": [
  {
   "cell_type": "markdown",
   "id": "5c35e3ee-af7a-45ad-a7e5-30f8af29d182",
   "metadata": {},
   "source": [
    "# Zonal structure of time-mean SST in the equatorial Pacific\n",
    "\n",
    "Computes the zonal root mean square error (RMSE) of equatorial Pacific (150°E-90°W) climatological (time and meridional 5°S-5°N average) sea surface temperature (SST) between model and observations"
   ]
  },
  {
   "cell_type": "markdown",
   "id": "bd4b0f9d-989c-45d0-a61b-5619bdf53e34",
   "metadata": {},
   "source": [
    "### Observations and reanalysis datasets used for comparison\n",
    "\n",
    "- **HadISST (1870-2018)**: The Hadley Centre Sea Ice and Sea Surface Temperature dataset offers global monthly SST and sea ice concentration fields, incorporating in-situ and satellite data for climate variability analysis.\n",
    "\n",
    "### In this recipe this is replaced with an ESM1.6 Spin up"
   ]
  },
  {
   "cell_type": "markdown",
   "id": "a6b0863d-ce08-44a6-bc9c-4857434b3ebf",
   "metadata": {},
   "source": [
    "## Dask Cluster \n",
    "\n",
    "Start a cluster with multiple cores "
   ]
  },
  {
   "cell_type": "code",
   "execution_count": null,
   "id": "0b5882d8-5703-4e89-b3a4-8a368ab071e0",
   "metadata": {},
   "outputs": [],
   "source": [
    "from dask.distributed import Client\n",
    "client = Client()\n",
    "client"
   ]
  },
  {
   "cell_type": "markdown",
   "id": "acba0050",
   "metadata": {},
   "source": [
    "## Comparison for ESM1.6\n",
    "\n",
    "- Use ACCESS-MOPPeR interactive API to CMORise required variable. (May take some time)\n",
    "- Write output to netCDF to read in later in other notebooks too\n",
    "- or convert to iris cube to tied into recipe"
   ]
  },
  {
   "cell_type": "code",
   "execution_count": null,
   "id": "8d0649b2",
   "metadata": {},
   "outputs": [],
   "source": [
    "import glob\n",
    "from access_mopper import ACCESS_ESM_CMORiser\n",
    "\n",
    "ROOT_FOLDER = (\n",
    "    \"/g/data/p73/archive/CMIP7/ACCESS-ESM1-6/spinup/JuneSpinUp-JuneSpinUp-bfaa9c5b/\"\n",
    ")\n",
    "\n",
    "OUTPUT_FOLDER = \"/scratch/nf33/fc6164/MOPPeR\""
   ]
  },
  {
   "cell_type": "code",
   "execution_count": null,
   "id": "883d4ed8",
   "metadata": {},
   "outputs": [],
   "source": [
    "parent_experiment_config = {\n",
    "    \"parent_experiment_id\": \"piControl\",\n",
    "    \"parent_activity_id\": \"CMIP\",\n",
    "    \"parent_source_id\": \"ACCESS-ESM1-5\",\n",
    "    \"parent_variant_label\": \"r1i1p1f1\",\n",
    "    \"parent_time_units\": \"days since 0001-01-01 00:00:00\",\n",
    "    \"parent_mip_era\": \"CMIP6\",\n",
    "    \"branch_time_in_child\": 0.0,\n",
    "    \"branch_time_in_parent\": 54786.0,\n",
    "    \"branch_method\": \"standard\",\n",
    "}"
   ]
  },
  {
   "cell_type": "code",
   "execution_count": null,
   "id": "3e5028b3",
   "metadata": {},
   "outputs": [],
   "source": [
    "\n",
    "FILES = glob.glob(ROOT_FOLDER + \"output0[0-9][0-9]/atmosphere/netCDF/*mon.nc\")\n",
    "len(FILES)\n",
    "## reduce the years to cmorise by the output folders"
   ]
  },
  {
   "cell_type": "code",
   "execution_count": null,
   "id": "2805b690-f867-4ee2-a607-e00bf42b8983",
   "metadata": {},
   "outputs": [],
   "source": [
    "cmoriser = ACCESS_ESM_CMORiser(\n",
    "    input_paths=FILES,\n",
    "    compound_name=\"Amon.ts\",\n",
    "    experiment_id=\"piControl\",\n",
    "    source_id=\"ACCESS-ESM1-5\",\n",
    "    variant_label=\"r1i1p1f1\",\n",
    "    grid_label=\"gn\",\n",
    "    activity_id=\"CMIP\",\n",
    "    output_path=OUTPUT_FOLDER,\n",
    "    parent_info=parent_experiment_config,  # <-- This is optional, can be skipped if not needed\n",
    ")"
   ]
  },
  {
   "cell_type": "code",
   "execution_count": null,
   "id": "55cf4c55-b958-462d-a3f6-41a6630e5621",
   "metadata": {},
   "outputs": [],
   "source": [
    "cmoriser.run()"
   ]
  },
  {
   "cell_type": "code",
   "execution_count": null,
   "id": "3a031b86-2195-4a84-9aa7-f006d820f776",
   "metadata": {
    "scrolled": true
   },
   "outputs": [],
   "source": [
    "# cmoriser.write()\n",
    "esm16 = cmoriser.to_iris()[0]"
   ]
  },
  {
   "cell_type": "code",
   "execution_count": null,
   "id": "b9097d75-dbd6-4c1f-abda-44ca7e8374d9",
   "metadata": {
    "scrolled": true
   },
   "outputs": [],
   "source": [
    "esm16"
   ]
  },
  {
   "cell_type": "code",
   "execution_count": null,
   "id": "06f9e0c0-e01a-45c5-b356-e8fa5133d168",
   "metadata": {},
   "outputs": [],
   "source": [
    "## if you have other cmorised file already saved out\n",
    "fp = '/scratch/p66/fc6164/MOPPeR/ts_Amon_ACCESS-ESM1-5_piControl_r1i1p1f1_gn_109201-159112.nc'\n",
    "import iris\n",
    "esm16_ts = iris.load_cube(fp)"
   ]
  },
  {
   "cell_type": "markdown",
   "id": "cc4995cf-e789-46e0-aa1b-e03a9b0b9435",
   "metadata": {},
   "source": [
    "## Datasets"
   ]
  },
  {
   "cell_type": "code",
   "execution_count": null,
   "id": "47d0e610-9cc7-4f1a-8a29-24f1b71a27a6",
   "metadata": {},
   "outputs": [],
   "source": [
    "from esmvalcore.dataset import Dataset"
   ]
  },
  {
   "cell_type": "code",
   "execution_count": null,
   "id": "a2f6b61f-2f34-43c1-a8ea-c9cb2069f144",
   "metadata": {},
   "outputs": [],
   "source": [
    "model_datasets = {\n",
    "\"ACCESS-ESM1-5\": \n",
    "    Dataset(\n",
    "    short_name='ts',\n",
    "    project='CMIP6',\n",
    "    mip=\"Amon\",\n",
    "    exp=\"piControl\",\n",
    "    ensemble=\"r1i1p1f1\",\n",
    "    # timerange=\"18500101/20190101\",\n",
    "    dataset=\"ACCESS-ESM1-5\",\n",
    "    grid=\"gn\"\n",
    "),\n",
    "}\n",
    "\n",
    "obs_datasets = {\n",
    "\"HadISST\": \n",
    "    Dataset(\n",
    "    short_name='ts',\n",
    "    dataset='HadISST',\n",
    "    mip=\"Amon\",\n",
    "    project='OBS',\n",
    "    type='reanaly',\n",
    "    tier=2),\n",
    "}"
   ]
  },
  {
   "cell_type": "markdown",
   "id": "7aaa1d2e-a124-469b-a4f4-e6afea8df0c5",
   "metadata": {},
   "source": [
    "## Add Ancillary files"
   ]
  },
  {
   "cell_type": "code",
   "execution_count": null,
   "id": "99201ea5-7507-4af0-b25b-fc54ea2ca8da",
   "metadata": {},
   "outputs": [],
   "source": [
    "for name, dataset in model_datasets.items():\n",
    "    dataset.add_supplementary(short_name='sftlf', mip=\"fx\")\n",
    "    dataset.add_supplementary(short_name=\"areacella\", mip=\"fx\")"
   ]
  },
  {
   "cell_type": "code",
   "execution_count": null,
   "id": "14ebbc7a-c579-4d83-b2c0-cdf32d140428",
   "metadata": {},
   "outputs": [],
   "source": [
    "model_datasets = {name: dataset.load() for name, dataset in model_datasets.items()}\n",
    "obs_datasets = {name: dataset.load() for name, dataset in obs_datasets.items()}"
   ]
  },
  {
   "cell_type": "code",
   "execution_count": null,
   "id": "b79d1a10-6aa5-4eaa-916d-56ced1eadc5b",
   "metadata": {},
   "outputs": [],
   "source": [
    "from esmvalcore.preprocessor import climate_statistics\n",
    "from esmvalcore.preprocessor import convert_units\n",
    "from esmvalcore.preprocessor import extract_region\n",
    "from esmvalcore.preprocessor import extract_time\n",
    "from esmvalcore.preprocessor import regrid\n",
    "from esmvalcore.preprocessor import axis_statistics\n",
    "from esmvalcore.preprocessor import mask_landsea\n",
    "\n",
    "import numpy as np"
   ]
  },
  {
   "cell_type": "code",
   "execution_count": null,
   "id": "2c72fabb-fa6f-4f95-aaf1-5ce7efef1e8f",
   "metadata": {},
   "outputs": [],
   "source": [
    "def prepoc1(cube):\n",
    "    nino3_ep_region = {\"start_longitude\": 150., \"end_longitude\": 270., \"start_latitude\": -5., \"end_latitude\": 5.}    \n",
    "    cube = convert_units(cube, units=\"degC\")\n",
    "    cube = regrid(cube, target_grid=\"1x1\", scheme=\"linear\")\n",
    "    cube = mask_landsea(cube, mask_out=\"land\")\n",
    "    cube = climate_statistics(cube, operator=\"mean\", period=\"full\")\n",
    "    cube = extract_region(cube, **nino3_ep_region)\n",
    "    cube = axis_statistics(cube, operator=\"mean\", axis=\"y\")\n",
    "    return cube\n",
    "\n",
    "def prepoc2(cube):\n",
    "    nino3_latext_region = {\"start_longitude\": 140., \"end_longitude\": 270., \"start_latitude\": -15., \"end_latitude\": 15.}\n",
    "    # cube = extract_time(cube, start_year=1900, start_month=1, start_day=1, end_year=2014, end_month=12, end_day=31)\n",
    "    cube = convert_units(cube, units=\"degC\")\n",
    "    cube = regrid(cube, target_grid=\"1x1\", scheme=\"linear\")\n",
    "    cube = mask_landsea(cube, mask_out=\"land\") #uses shapefiles, ancVariable, land_area_fraction\n",
    "    cube = climate_statistics(cube, operator=\"mean\", period=\"full\")\n",
    "    cube = extract_region(cube, **nino3_latext_region)\n",
    "    return cube"
   ]
  },
  {
   "cell_type": "code",
   "execution_count": null,
   "id": "3dff8caf-a60b-43e5-88cc-a82b2122b188",
   "metadata": {},
   "outputs": [],
   "source": [
    "model_datasets_prep1 = {name: prepoc1(dataset) for name, dataset in model_datasets.items()}\n",
    "obs_datasets_prep1 = {name: prepoc1(dataset) for name, dataset in obs_datasets.items()}\n",
    "\n",
    "esm16_prep1 = prepoc1(esm16)"
   ]
  },
  {
   "cell_type": "code",
   "execution_count": null,
   "id": "147bf75f-366c-4eef-97b2-9243d491fbae",
   "metadata": {
    "scrolled": true
   },
   "outputs": [],
   "source": [
    "esm16_prep1.data\n",
    "rmse = np.sqrt(np.mean((esm16_prep1.data - model_datasets_prep1[\"ACCESS-ESM1-5\"].data) ** 2))\n",
    "rmse"
   ]
  },
  {
   "cell_type": "code",
   "execution_count": null,
   "id": "29493eba-4110-431c-9c79-0efd867b5d00",
   "metadata": {},
   "outputs": [],
   "source": [
    "model_datasets_prep2 = {name: prepoc2(dataset) for name, dataset in model_datasets.items()}\n",
    "# obs_datasets_prep2 = {name: prepoc2(dataset) for name, dataset in obs_datasets.items()}\n",
    "esm16_prep2 = prepoc2(esm16)"
   ]
  },
  {
   "cell_type": "markdown",
   "id": "0bf68518-b12d-4ef9-aa17-b9d4c06f5e12",
   "metadata": {},
   "source": [
    "# Diagnostics Level 1\n"
   ]
  },
  {
   "cell_type": "code",
   "execution_count": null,
   "id": "e58afc99-1a4f-4745-83f5-b986ba71d488",
   "metadata": {},
   "outputs": [],
   "source": [
    "import iris.quickplot as qplt\n",
    "import matplotlib.pyplot as plt\n",
    "import numpy as np"
   ]
  },
  {
   "cell_type": "code",
   "execution_count": null,
   "id": "daffca06-bcb0-4aaa-955f-ecde5c5ea47f",
   "metadata": {},
   "outputs": [],
   "source": [
    "\n",
    "# Function to format x-axis labels with degree symbols and N/S\n",
    "def format_longitude(x, pos):\n",
    "    if x > 180:\n",
    "        return f'{int(360 - x)}°W'\n",
    "    elif x == 180:\n",
    "        return f'{int(x)}°'\n",
    "    else:\n",
    "        return f'{int(x)}°E'\n",
    "\n",
    "plt.figure(figsize=(10, 6))\n",
    "\n",
    "obs_data = obs_datasets_prep1[\"HadISST\"]\n",
    "model_data = model_datasets_prep1[\"ACCESS-ESM1-5\"]\n",
    "\n",
    "# Plot observation data in black\n",
    "qplt.plot(obs_data, color='black', label='HadISST', linewidth=3)\n",
    "\n",
    "qplt.plot(esm16_prep1, color='tab:blue', label='ESM1-6-Spinup', linewidth=4)\n",
    "\n",
    "# Plot model data in blue\n",
    "qplt.plot(model_data, color='blue', label='ACCESS-ESM1-5', linewidth=4)\n",
    "\n",
    "# rmse = np.sqrt(np.mean((obs_data.data - model_data.data) ** 2))\n",
    "\n",
    "# Adding labels and title\n",
    "plt.xlabel('Longitude')\n",
    "plt.ylabel('SST (°C)')\n",
    "plt.title('Mean SST')\n",
    "plt.grid(linestyle='--')\n",
    "plt.yticks(np.arange(25,32, step=2))\n",
    "\n",
    "# Adding RMSE text on top of the plot\n",
    "plt.text(0.5, 0.95, f'ESM1.6-1.5 RMSE: {rmse:.2f} °C', fontsize=12, ha='center', transform=plt.gca().transAxes,\n",
    "         bbox=dict(facecolor='white', alpha=0.8, edgecolor='none'))\n",
    "\n",
    "# Setting custom x-axis formatter\n",
    "plt.gca().xaxis.set_major_formatter(plt.FuncFormatter(format_longitude))\n",
    "\n",
    "# Adding a legend\n",
    "plt.legend()\n",
    "\n",
    "# Display the plot\n",
    "plt.show()"
   ]
  },
  {
   "cell_type": "markdown",
   "id": "6d2a93b8-e554-412f-977e-e471d443d960",
   "metadata": {},
   "source": [
    "Figure 1: Zonal bias in the sea surface temperature (SST) structure across the equatorial Pacific (averaged between 5°S–5°N), primarily illustrating the cold tongue bias (typically warmer near South America and cooler further west). The black curve represents the reference data, while the blue curve represents the model data. The metric displayed is the zonal RMSE between the model and reference curves."
   ]
  },
  {
   "cell_type": "markdown",
   "id": "1a1ec6a8-70f8-4058-bba8-9db620f5413e",
   "metadata": {},
   "source": [
    "# Diagnostics Level 2\n"
   ]
  },
  {
   "cell_type": "code",
   "execution_count": null,
   "id": "ab23648b-ac12-463e-969c-52428315bdeb",
   "metadata": {},
   "outputs": [],
   "source": [
    "esm16_prep2.data.mean() #realises data"
   ]
  },
  {
   "cell_type": "code",
   "execution_count": null,
   "id": "14be08cb-c732-434c-8051-88eb32106c79",
   "metadata": {
    "scrolled": true
   },
   "outputs": [],
   "source": [
    "import cartopy.crs as ccrs\n",
    "import cartopy.feature as cfeature\n",
    "import matplotlib.pyplot as plt\n",
    "import matplotlib.colors as mcolors\n",
    "\n",
    "# Importing numpy for linear space creation\n",
    "import numpy as np\n",
    "\n",
    "import iris.plot as iplt\n",
    "\n",
    "# obs_data = obs_datasets_prep2[\"HadISST\"]\n",
    "model_data = model_datasets_prep2[\"ACCESS-ESM1-5\"]\n",
    "\n",
    "# Use the coolwarm colormap\n",
    "cmap = plt.get_cmap('coolwarm')\n",
    "\n",
    "# Create a large figure\n",
    "fig = plt.figure(figsize=(20, 10))  # Adjusted for full width\n",
    "\n",
    "# Center the map on the Pacific Ocean (roughly around 180° longitude)\n",
    "proj = ccrs.Orthographic(central_longitude=-160, central_latitude=0)\n",
    "\n",
    "# Define the normalization for the color scale with range of 20 to 33°C\n",
    "norm = mcolors.Normalize(vmin=20, vmax=33)\n",
    "\n",
    "# Plot #1: contourf with axes longitude from -180 to 180\n",
    "ax1 = plt.subplot(121, projection=proj)\n",
    "cf1 = iplt.contourf(esm16_prep2, cmap=cmap, norm=norm)\n",
    "ax1.add_feature(cfeature.LAND, facecolor='gray')  # Add land feature with gray color\n",
    "ax1.coastlines()\n",
    "ax1.set_extent([120, -80, -20, 20], crs=ccrs.PlateCarree())\n",
    "ax1.set_title(\"ESM1-6 Spinup\")\n",
    "\n",
    "# Add gridlines for latitude and longitude\n",
    "gl1 = ax1.gridlines(draw_labels=True, linestyle='--')\n",
    "gl1.top_labels = False\n",
    "gl1.right_labels = False\n",
    "\n",
    "# Plot #2: contourf with axes longitude from 0 to 360\n",
    "ax2 = plt.subplot(122, projection=proj)\n",
    "cf2 = iplt.contourf(model_data, cmap=cmap, norm=norm)\n",
    "ax2.add_feature(cfeature.LAND, facecolor='gray')  # Add land feature with gray color\n",
    "ax2.coastlines()\n",
    "ax2.set_extent([120, -80, -20, 20], crs=ccrs.PlateCarree())\n",
    "ax2.set_title(\"ACCESS-ESM1-5 r1i1p1f1\")\n",
    "\n",
    "# Add gridlines for latitude and longitude\n",
    "gl2 = ax2.gridlines(draw_labels=True, linestyle='--')\n",
    "gl2.top_labels = False\n",
    "gl2.right_labels = False\n",
    "\n",
    "plt.subplots_adjust(bottom=0.25)  # Further adjust bottom margin to fit the colorbar\n",
    "# Add a single colorbar at the bottom\n",
    "cbar = fig.colorbar(cf2, ax=[ax1, ax2], orientation='horizontal', pad=0.05, shrink=0.8)\n",
    "cbar.set_label('SST (°C)')\n",
    "#cbar.set_ticks(np.arange(20, 33))  # Set ticks at intervals of 2 degrees\n",
    "\n",
    "plt.show()\n"
   ]
  },
  {
   "cell_type": "markdown",
   "id": "f4aabab2-59ad-4834-937f-cf5021a65d09",
   "metadata": {},
   "source": [
    "Figure 2: Time-mean sea surface temperature (SST) bias in the equatorial Pacific, primarily highlighting the cold tongue bias (warmer near South America and cooler further west). The left map displays the reference data, and the right map shows the model data."
   ]
  },
  {
   "cell_type": "code",
   "execution_count": null,
   "id": "8ed6589f-d8a7-4dd3-860d-0ea6fa1b05f8",
   "metadata": {},
   "outputs": [],
   "source": [
    "client.close()"
   ]
  },
  {
   "cell_type": "code",
   "execution_count": null,
   "id": "6d488cef",
   "metadata": {},
   "outputs": [],
   "source": []
  }
 ],
 "metadata": {
  "kernelspec": {
   "display_name": "Python [conda env:analysis3-25.09]",
   "language": "python",
   "name": "conda-env-analysis3-25.09-py"
  },
  "language_info": {
   "codemirror_mode": {
    "name": "ipython",
    "version": 3
   },
   "file_extension": ".py",
   "mimetype": "text/x-python",
   "name": "python",
   "nbconvert_exporter": "python",
   "pygments_lexer": "ipython3",
   "version": "3.11.13"
  }
 },
 "nbformat": 4,
 "nbformat_minor": 5
}
