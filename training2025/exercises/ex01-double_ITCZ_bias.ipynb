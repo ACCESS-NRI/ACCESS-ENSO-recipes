{
 "cells": [
  {
   "cell_type": "markdown",
   "id": "5c35e3ee-af7a-45ad-a7e5-30f8af29d182",
   "metadata": {},
   "source": [
    "# double_ITCZ_bias: Meridional structure of time-mean precipitation (PR) in the eastern Pacific\n",
    "\n",
    "The meridional structure of time-mean precipitation (PR) in the eastern Pacific, in the context of ENSO (El Niño-Southern Oscillation), refers to the distribution and variation of average precipitation along the north-south (meridional) direction over a certain period, usually during different ENSO phases (El Niño, La Niña, and neutral conditions)."
   ]
  },
  {
   "cell_type": "markdown",
   "id": "76dde017-e69f-4e81-8c32-fd7cfa184066",
   "metadata": {},
   "source": [
    "This notebook computes the meridional root mean square error (RMSE) of climatological precipitation (PR) between model simulations and observations over the eastern Pacific region (15°S-15°N, 150°W-90°W). \n",
    "\n",
    "The analysis involves:\n",
    "- Averaging precipitation data zonally between 150°W and 90°W.\n",
    "- Time-averaging the precipitation data to create climatologies for both model output and observational data.\n",
    "- Calculating the meridional RMSE to quantify how well the model captures the observed precipitation pattern in this region.\n",
    "\n",
    "\n",
    "\n",
    "\n",
    "\n"
   ]
  },
  {
   "attachments": {},
   "cell_type": "markdown",
   "id": "3b9c0ed8-17b6-4d08-8c75-4f695acab7bd",
   "metadata": {},
   "source": [
    "## Observations and reanalysis datasets used for comparison\n",
    "\n",
    "The following reference observational datasets are used to evaluate the model simulations:\n",
    "\n",
    "- **GPCPv2.3 (1979-2018)**: The primary dataset for comparison. The Global Precipitation Climatology Project (GPCP) combines satellite and surface precipitation measurements to provide comprehensive global precipitation data.\n",
    "  \n",
    "### Additional observational datasets used for comparison to be used:\n",
    "- **20CRv2 (1871-2012)**: The 20th Century Reanalysis provides global atmospheric data, including precipitation, based on surface pressure observations and ensemble assimilation techniques.\n",
    "[ESMValTool obs cmoriser config](https://github.com/ESMValGroup/ESMValTool/blob/main/esmvaltool/cmorizers/data/cmor_config/NOAA-CIRES-20CR-V2.yml)"
   ]
  },
  {
   "cell_type": "markdown",
   "id": "d2899a86-5a0e-4d00-96ff-bfcdd92f8270",
   "metadata": {},
   "source": [
    "## Dask Cluster\n",
    "\n",
    "Start a cluster with multiple cores"
   ]
  },
  {
   "cell_type": "code",
   "execution_count": null,
   "id": "ee4f6686-45bf-46e0-a39a-440c20567291",
   "metadata": {},
   "outputs": [],
   "source": [
    "from dask.distributed import Client, progress\n",
    "client = Client()\n",
    "client"
   ]
  },
  {
   "cell_type": "markdown",
   "id": "4c049508-9892-425e-8c01-b8fc16acb109",
   "metadata": {},
   "source": [
    "## Datasets"
   ]
  },
  {
   "cell_type": "code",
   "execution_count": null,
   "id": "47d0e610-9cc7-4f1a-8a29-24f1b71a27a6",
   "metadata": {},
   "outputs": [],
   "source": [
    "from esmvalcore.dataset import Dataset"
   ]
  },
  {
   "cell_type": "markdown",
   "id": "fc2497a8-aadb-4835-a264-0a381c8a56f4",
   "metadata": {},
   "source": [
    "FYI you may get some `ESMValCoreDeprecationWarning`s.\n",
    "\n",
    "Which is the change of how configuration is set up as in ESMValTool, to be similar to other software packages (eg. Dask). There is still backwards compatibility so not an issue here, the warning will include some instructions to update."
   ]
  },
  {
   "cell_type": "markdown",
   "id": "b50f632d-1a14-48cc-a687-0f834ee197ee",
   "metadata": {},
   "source": [
    "### Exercise:\n",
    "Define `Dataset`s with certain attributes. Observational datasets will have different attributes to models.\n",
    "\n",
    "In this cell fill in another observational dataset for\n",
    "\n",
    "**'NOAA-CIRES-20CR-V2'**, project: 'OBS6', time range:'187101/201212', tier: 2"
   ]
  },
  {
   "cell_type": "code",
   "execution_count": null,
   "id": "a2f6b61f-2f34-43c1-a8ea-c9cb2069f144",
   "metadata": {},
   "outputs": [],
   "source": [
    "## add or update dataset different exp/ensemble r1:10i1p1f1 CM2, ESM1-5 1:40\n",
    "model_datasets = {\n",
    "\"ACCESS-ESM1-5\": \n",
    "    Dataset(\n",
    "    short_name='pr',\n",
    "    project='CMIP6',\n",
    "    mip=\"Amon\",\n",
    "    exp=\"historical\",\n",
    "    ensemble=\"r1i1p1f1\",\n",
    "    timerange=\"18500101/20150101\",\n",
    "    dataset=\"ACCESS-ESM1-5\",\n",
    "    grid=\"gn\"\n",
    ")}\n",
    "\n",
    "# fill in blanks for an obs dataset.\n",
    "# ESMValTool config for obs, see above for 20CR-V2\n",
    "obs_datasets = {\n",
    "\"GPCP-V2.3\": \n",
    "    Dataset(\n",
    "    short_name='pr',\n",
    "    dataset='GPCP-V2.3',\n",
    "    mip=\"Amon\",\n",
    "    project='obs4MIPs', #\n",
    "    timerange=\"19790101/20170101\",\n",
    "    tier=1),\n",
    "# fill Dataset in for here: 'NOAA-CIRES-20CR-V2' 'OBS6' \"187101/201212\", tier: 2\n",
    "\"NOAA-CIRES-20CR-V2\": \n",
    "    Dataset(\n",
    "    short_name='pr',\n",
    "    dataset= , #\n",
    "    mip=\"Amon\",\n",
    "    project= ,#\n",
    "    type= 'reanaly',\n",
    "    timerange= ,#\n",
    "    tier= #\n",
    "    ),\n",
    "}"
   ]
  },
  {
   "cell_type": "markdown",
   "id": "840eb8dd-d1df-4c35-bdb2-47a11ec41aec",
   "metadata": {},
   "source": [
    "## Add Ancillary files\n",
    "\n",
    "Cell area and land fraction are in separate files. These can also be added to the Dataset objects so they can also be loaded"
   ]
  },
  {
   "cell_type": "code",
   "execution_count": null,
   "id": "ac744a33-64d3-4eac-a687-ccc7b92ab569",
   "metadata": {},
   "outputs": [],
   "source": [
    "for name, dataset in model_datasets.items():\n",
    "    dataset.add_supplementary(short_name='sftlf', mip=\"fx\")\n",
    "    dataset.add_supplementary(short_name=\"areacella\", mip=\"fx\")"
   ]
  },
  {
   "cell_type": "code",
   "execution_count": null,
   "id": "14ebbc7a-c579-4d83-b2c0-cdf32d140428",
   "metadata": {},
   "outputs": [],
   "source": [
    "# load the datasets - ESMValCore will find the files to load and do some basic checks\n",
    "\n",
    "model_datasets = {name: dataset.load() for name, dataset in model_datasets.items()}\n",
    "obs_datasets = {name: dataset.load() for name, dataset in obs_datasets.items()}"
   ]
  },
  {
   "cell_type": "code",
   "execution_count": null,
   "id": "b79d1a10-6aa5-4eaa-916d-56ced1eadc5b",
   "metadata": {},
   "outputs": [],
   "source": [
    "# import the required preprocessors.\n",
    "# https://docs.esmvaltool.org/projects/ESMValCore/en/latest/api/esmvalcore.preprocessor.html#\n",
    "from esmvalcore.preprocessor import climate_statistics\n",
    "from esmvalcore.preprocessor import convert_units\n",
    "from esmvalcore.preprocessor import extract_region\n",
    "from esmvalcore.preprocessor import extract_time\n",
    "from esmvalcore.preprocessor import regrid\n",
    "from esmvalcore.preprocessor import axis_statistics\n",
    "from esmvalcore.preprocessor import mask_landsea"
   ]
  },
  {
   "cell_type": "markdown",
   "id": "f65c1cd8-5677-434a-aab2-585b8119eb96",
   "metadata": {},
   "source": [
    "### Exercise:\n",
    "Complete preprocessor functions with the correct parameters, see api docs:\n",
    "- [climate_statistics](https://docs.esmvaltool.org/projects/ESMValCore/en/latest/api/esmvalcore.preprocessor.html#esmvalcore.preprocessor.climate_statistics) for an average across the full time period\n",
    "- [axis_statistics](https://docs.esmvaltool.org/projects/ESMValCore/en/latest/api/esmvalcore.preprocessor.html#esmvalcore.preprocessor.axis_statistics) for an average along longitude(x-axis)"
   ]
  },
  {
   "cell_type": "code",
   "execution_count": null,
   "id": "2c72fabb-fa6f-4f95-aaf1-5ce7efef1e8f",
   "metadata": {},
   "outputs": [],
   "source": [
    "\n",
    "def preproc1(cube):\n",
    "    nino3_latext_region = {\"start_longitude\": 210., \"end_longitude\": 270., \"start_latitude\": -15., \"end_latitude\": 15.}\n",
    "    cube = convert_units(cube, units=\"mm/day\")\n",
    "    cube = mask_landsea(cube, mask_out=\"land\")\n",
    "    \n",
    "    cube = climate_statistics(cube, ) #fill in\n",
    "    cube = regrid(cube, target_grid=\"1x1\", scheme=\"linear\")\n",
    "    cube = extract_region(cube, **nino3_latext_region)\n",
    "    \n",
    "    cube = axis_statistics(cube, ) #fill in\n",
    "    return cube\n",
    "\n",
    "def preproc2(cube):\n",
    "    nino3_latext_region = {\"start_longitude\": 150., \"end_longitude\": 270., \"start_latitude\": -15., \"end_latitude\": 15.}\n",
    "    cube = mask_landsea(cube, mask_out=\"land\")\n",
    "\n",
    "    cube = climate_statistics(cube, ) #fill in\n",
    "    \n",
    "    cube = convert_units(cube, units=\"mm/day\")\n",
    "    cube = regrid(cube, target_grid=\"1x1\", scheme=\"linear\")\n",
    "    cube = extract_region(cube, **nino3_latext_region)\n",
    "    return cube\n"
   ]
  },
  {
   "cell_type": "code",
   "execution_count": null,
   "id": "85e8f306-df29-4d54-99b6-e904c657e3ed",
   "metadata": {},
   "outputs": [],
   "source": [
    "## run the loaded datasets through the preprocessors\n",
    "\n",
    "model_datasets_prep1 = {name: preproc1(dataset) for name, dataset in model_datasets.items()}\n",
    "obs_datasets_prep1 = {name: preproc1(dataset) for name, dataset in obs_datasets.items()}\n",
    "\n",
    "model_datasets_prep2 = {name: preproc2(dataset) for name, dataset in model_datasets.items()}\n",
    "obs_datasets_prep2 = {name: preproc2(dataset) for name, dataset in obs_datasets.items()}"
   ]
  },
  {
   "cell_type": "markdown",
   "id": "0bf68518-b12d-4ef9-aa17-b9d4c06f5e12",
   "metadata": {},
   "source": [
    "# Diagnostics Level 1\n"
   ]
  },
  {
   "cell_type": "markdown",
   "id": "25726446-3a1a-4689-a1c8-74d76673f0a0",
   "metadata": {},
   "source": [
    "### Lets plot some preprocessed data ..\n",
    "\n",
    "*tips*\n",
    "- check shape and cube coordinates to help figure out what to plot\n",
    "- check some data values"
   ]
  },
  {
   "cell_type": "code",
   "execution_count": null,
   "id": "e1d0cbb3-580d-4394-9474-a420ae9af63c",
   "metadata": {},
   "outputs": [],
   "source": [
    "import iris\n",
    "import iris.quickplot as qplt\n",
    "import matplotlib.pyplot as plt\n",
    "import numpy as np\n",
    "\n",
    "# Function to format x-axis labels with degree symbols and N/S\n",
    "def format_latitude(x, pos):\n",
    "    if x < 0:\n",
    "        return f'{abs(x)}°S'\n",
    "    elif x > 0:\n",
    "        return f'{x}°N'\n",
    "    else:\n",
    "        return '0°'"
   ]
  },
  {
   "cell_type": "markdown",
   "id": "79b3a254-16ef-488a-8bf3-4ce22e32d4db",
   "metadata": {},
   "source": [
    "### Exercise:\n",
    "Plot other observations, hints in comments\n",
    "\n",
    "*RMSE is still calculated with GPCP: `obs_data`"
   ]
  },
  {
   "cell_type": "code",
   "execution_count": null,
   "id": "daffca06-bcb0-4aaa-955f-ecde5c5ea47f",
   "metadata": {},
   "outputs": [],
   "source": [
    "plt.figure(figsize=(10, 6))\n",
    "\n",
    "obs_data = obs_datasets_prep1[\"GPCP-V2.3\"] #\n",
    "model_data = model_datasets_prep1[\"ACCESS-ESM1-5\"] #\n",
    "\n",
    "# Plot observation data in black\n",
    "qplt.plot(obs_data, color='black', label='Observation', linewidth=4)\n",
    "\n",
    "#### plot another \"NOAA-CIRES-20CR-V2\", label='20CR-V2' ####\n",
    "qplt.plot(, color='black', , linewidth=2)  ### complete\n",
    "\n",
    "# Plot model data in blue\n",
    "qplt.plot(model_data, color='blue', label='Model', linewidth=4)\n",
    "\n",
    "rmse = np.sqrt(np.mean((obs_data.data - model_data.data) ** 2))\n",
    "\n",
    "# Adding labels and title\n",
    "plt.xlabel('Latitude')\n",
    "plt.ylabel('Precipitation (mm/day)')\n",
    "plt.title('Mean Precipitation')\n",
    "plt.grid(linestyle='--')\n",
    "plt.yticks(np.arange(0,16, step=5))\n",
    "\n",
    "\n",
    "# Adding RMSE text on top of the plot\n",
    "plt.text(0.5, 0.95, f'RMSE: {rmse:.2f} mm/day', fontsize=12, ha='center', transform=plt.gca().transAxes,\n",
    "         bbox=dict(facecolor='white', alpha=0.8, edgecolor='none'))\n",
    "\n",
    "# Setting custom x-axis formatter\n",
    "plt.gca().xaxis.set_major_formatter(plt.FuncFormatter(format_latitude))\n",
    "\n",
    "# Adding a legend\n",
    "plt.legend()\n",
    "\n",
    "# Display the plot\n",
    "plt.show()"
   ]
  },
  {
   "cell_type": "markdown",
   "id": "307bc98e-3a06-4b5e-9122-08d1e0199ea3",
   "metadata": {},
   "source": [
    "Figure 1: Meridional bias in the time-mean precipitation (PR) structure across the eastern Pacific (averaged between 150–90°W), primarily illustrating the double intertropical convergence zone (ITCZ) bias. The black curve represents the reference data, while the blue curve represents the model data. The metric shown is the meridional RMSE between the model and reference curves."
   ]
  },
  {
   "cell_type": "markdown",
   "id": "1a1ec6a8-70f8-4058-bba8-9db620f5413e",
   "metadata": {},
   "source": [
    "# Diagnostics Level 2\n"
   ]
  },
  {
   "cell_type": "code",
   "execution_count": null,
   "id": "8056c0f3-ee66-4e66-878f-aa0720f23baf",
   "metadata": {},
   "outputs": [],
   "source": [
    "import cartopy.crs as ccrs\n",
    "import cartopy.feature as cfeature\n",
    "import matplotlib.pyplot as plt\n",
    "from matplotlib import cm\n",
    "import matplotlib.colors as mcolors\n",
    "import cmocean\n",
    "# Importing numpy for linear space creation\n",
    "import numpy as np\n",
    "\n",
    "import iris\n",
    "import iris.plot as iplt"
   ]
  },
  {
   "cell_type": "markdown",
   "id": "ad593f58-0ca5-4fe3-bec7-10a49cd79770",
   "metadata": {},
   "source": [
    "### Exercise:\n",
    "Change the observation dataset "
   ]
  },
  {
   "cell_type": "code",
   "execution_count": null,
   "id": "14be08cb-c732-434c-8051-88eb32106c79",
   "metadata": {},
   "outputs": [],
   "source": [
    "#### change this observational dataset to NOAA-CIRES-20CR-V2\n",
    "obs_data = obs_datasets_prep2[\"GPCP-V2.3\"] ## both are in this dictionary \n",
    "\n",
    "model_data = model_datasets_prep2[\"ACCESS-ESM1-5\"]\n",
    "\n",
    "# Create a colormap from cmocean balance\n",
    "cmap = cmocean.cm.balance\n",
    "colors = cmap(np.linspace(0, 1, 14))\n",
    "\n",
    "# Create a large figure\n",
    "fig = plt.figure(figsize=(20, 10))  # Adjusted for full width\n",
    "\n",
    "# Center the map on the Pacific Ocean (roughly around 180° longitude)\n",
    "proj = ccrs.Orthographic(central_longitude=-160, central_latitude=0)\n",
    "\n",
    "# Define the normalization for the color scale with range of 0 to 12 mm\n",
    "norm = mcolors.Normalize(vmin=0, vmax=12)\n",
    "\n",
    "# Plot #1: contourf with axes longitude from -180 to 180\n",
    "ax1 = plt.subplot(121, projection=proj)\n",
    "cf1 = iplt.contourf(obs_data, cmap=cmap, norm=norm)\n",
    "ax1.add_feature(cfeature.LAND, facecolor='gray')  # Add land feature with gray color\n",
    "ax1.coastlines()\n",
    "ax1.set_extent([120, -80, -20, 20], crs=ccrs.PlateCarree())\n",
    "\n",
    "ax1.set_title(\"ref: GPCPv2.3\") ### Change label to match\n",
    "\n",
    "# Add gridlines for latitude and longitude\n",
    "gl1 = ax1.gridlines(draw_labels=True, linestyle='--')\n",
    "gl1.top_labels = False\n",
    "gl1.right_labels = False\n",
    "\n",
    "# Plot #2: contourf with axes longitude from 0 to 360\n",
    "ax2 = plt.subplot(122, projection=proj)\n",
    "cf2 = iplt.contourf(model_data, cmap=cmap, norm=norm)\n",
    "ax2.add_feature(cfeature.LAND, facecolor='gray')  # Add land feature with gray color\n",
    "ax2.coastlines()\n",
    "ax2.set_extent([120, -80, -20, 20], crs=ccrs.PlateCarree())\n",
    "ax2.set_title(\"ACCESS-ESM1-5 r1i1p1f1\")\n",
    "\n",
    "# Add gridlines for latitude and longitude\n",
    "gl2 = ax2.gridlines(draw_labels=True, linestyle='--')\n",
    "gl2.top_labels = False\n",
    "gl2.right_labels = False\n",
    "\n",
    "# Add a single colorbar at the bottom\n",
    "cbar = fig.colorbar(cf2, ax=[ax1, ax2], orientation='horizontal', extend='both', pad=0.15, shrink=0.8)\n",
    "cbar.set_label('Precipitation (mm/day)')\n",
    "cbar.set_ticks(np.arange(0, 13, 2))  # Set ticks at intervals of 2 mm\n",
    "\n",
    "plt.subplots_adjust(bottom=0.3)  # Further adjust bottom margin to fit the colorbar\n",
    "plt.show()"
   ]
  },
  {
   "cell_type": "markdown",
   "id": "c9e4a159-55a4-4353-8ca6-ccbc0361a920",
   "metadata": {},
   "source": [
    "Figure 2: Time-mean precipitation (PR) bias in the equatorial Pacific, highlighting the double intertropical convergence zone (ITCZ) bias. The left map displays the reference data, while the right map shows the model data."
   ]
  }
 ],
 "metadata": {
  "kernelspec": {
   "display_name": "Python [conda env:analysis3-25.07]",
   "language": "python",
   "name": "conda-env-analysis3-25.07-py"
  },
  "language_info": {
   "codemirror_mode": {
    "name": "ipython",
    "version": 3
   },
   "file_extension": ".py",
   "mimetype": "text/x-python",
   "name": "python",
   "nbconvert_exporter": "python",
   "pygments_lexer": "ipython3",
   "version": "3.11.13"
  }
 },
 "nbformat": 4,
 "nbformat_minor": 5
}
