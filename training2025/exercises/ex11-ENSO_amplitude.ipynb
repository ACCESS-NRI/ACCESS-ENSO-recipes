{
 "cells": [
  {
   "cell_type": "markdown",
   "id": "a6a0d5f0-a4cb-4c57-bde4-96eea05b7e6a",
   "metadata": {},
   "source": [
    "# ENSO_amplitude: Variability of SST Anomalies in the Central Equatorial Pacific  \n",
    "\n",
    "Computes the standard deviation of sea surface temperature anomalies (SSTA) in the Niño3.4 region (horizontal average over 5°S–5°N, 170°W–120°W) to evaluate the amplitude of variability in the central equatorial Pacific, a key characteristic of ENSO events.  \n",
    "\n",
    "## Datasets Used for Amplitude Comparison  \n",
    "\n",
    "The following reference datasets are used to evaluate the amplitude of ENSO-related SST anomalies in model simulations:  \n",
    "- **HadISST (1870–2018)**: A comprehensive dataset of historical SST and sea ice observations combined with reconstructions.\n"
   ]
  },
  {
   "cell_type": "markdown",
   "id": "6e74f1b6-7c39-4fb6-a186-7b20d62ca875",
   "metadata": {},
   "source": [
    "## Dask Cluster \n",
    "\n",
    "Start a cluster with multiple cores "
   ]
  },
  {
   "cell_type": "code",
   "execution_count": null,
   "id": "36a75a91-d31b-4dfd-9f2e-f38df3fd6269",
   "metadata": {},
   "outputs": [],
   "source": [
    "from dask.distributed import Client, progress\n",
    "client = Client()\n",
    "client"
   ]
  },
  {
   "cell_type": "markdown",
   "id": "902c209b-af43-4ae3-b469-252d9ecb2381",
   "metadata": {},
   "source": [
    "## Datasets"
   ]
  },
  {
   "cell_type": "code",
   "execution_count": null,
   "id": "a3a2571a-c2f1-4ac8-a272-d4c731c062cd",
   "metadata": {},
   "outputs": [],
   "source": [
    "from esmvalcore.dataset import Dataset"
   ]
  },
  {
   "cell_type": "code",
   "execution_count": null,
   "id": "a20485d9-9e93-4564-9fc0-f07c64a3bc36",
   "metadata": {},
   "outputs": [],
   "source": [
    "model_datasets = {\n",
    "\"ACCESS-ESM1-5\": \n",
    "    Dataset(\n",
    "    short_name='ts',\n",
    "    project='CMIP6',\n",
    "    mip=\"Amon\",\n",
    "    exp=\"historical\",\n",
    "    ensemble=\"r1i1p1f1\",\n",
    "    timerange=\"18500101/20190101\",\n",
    "    dataset=\"ACCESS-ESM1-5\",\n",
    "    grid=\"gn\"\n",
    "), \n",
    "# add another dataset ACCESS-CM2, tos, Omon\n",
    "## Note: It is possible to use tos (sea_surface_temperature; degC; ocean; mon) \n",
    "# \"ACCESS-CM2\": \n",
    "#     Dataset(\n",
    "#     short_name=, #\n",
    "#     project='CMIP6',\n",
    "#     mip=, #\n",
    "#     exp=\"historical\",\n",
    "#     ensemble=\"r1i1p1f1\",\n",
    "#     timerange=\"18500101/20190101\",\n",
    "#     dataset=, #\n",
    "#     grid=\"gn\"\n",
    "# )\n",
    "}\n",
    "\n",
    "obs_datasets = {\n",
    "\"HadISST\": \n",
    "    Dataset(\n",
    "    short_name='ts',\n",
    "    dataset='HadISST',\n",
    "    mip=\"Amon\",\n",
    "    project='OBS',\n",
    "    type='reanaly',\n",
    "    tier=2),\n",
    "\n",
    "}"
   ]
  },
  {
   "cell_type": "markdown",
   "id": "1d41b1bb-5075-4dbc-914b-dd213e2ee362",
   "metadata": {},
   "source": [
    "## Add Ancillary files"
   ]
  },
  {
   "cell_type": "code",
   "execution_count": null,
   "id": "b0ef300c-0cc6-46d7-a7be-e4841a3c1082",
   "metadata": {},
   "outputs": [],
   "source": [
    "for name, dataset in model_datasets.items():\n",
    "    dataset.add_supplementary(short_name='sftlf', mip=\"fx\")\n",
    "    dataset.add_supplementary(short_name=\"areacella\", mip=\"fx\")"
   ]
  },
  {
   "cell_type": "code",
   "execution_count": null,
   "id": "5e048061-f220-4e34-820a-629c7b6b5580",
   "metadata": {},
   "outputs": [],
   "source": [
    "model_datasets = {name: dataset.load() for name, dataset in model_datasets.items()}\n",
    "obs_datasets = {name: dataset.load() for name, dataset in obs_datasets.items()}"
   ]
  },
  {
   "cell_type": "code",
   "execution_count": null,
   "id": "3e4b8d63-b98d-4195-a6cb-7a5316c6db3b",
   "metadata": {},
   "outputs": [],
   "source": [
    "from esmvalcore.preprocessor import anomalies\n",
    "from esmvalcore.preprocessor import area_statistics\n",
    "from esmvalcore.preprocessor import climate_statistics\n",
    "from esmvalcore.preprocessor import convert_units\n",
    "from esmvalcore.preprocessor import extract_region\n",
    "from esmvalcore.preprocessor import extract_time\n",
    "from esmvalcore.preprocessor import extract_month\n",
    "from esmvalcore.preprocessor import regrid\n",
    "from esmvalcore.preprocessor import detrend\n",
    "from esmvalcore.preprocessor import axis_statistics\n",
    "from esmvalcore.preprocessor import extract_time\n",
    "from esmvalcore.preprocessor import mask_landsea\n",
    "\n",
    "import iris\n",
    "import numpy as np\n",
    "\n",
    "import matplotlib.pyplot as plt\n",
    "import iris.quickplot as qplt\n"
   ]
  },
  {
   "cell_type": "code",
   "execution_count": null,
   "id": "fd4cd442",
   "metadata": {},
   "outputs": [],
   "source": [
    "## sst_std for diag 1\n",
    "def prepoc_one(cube):\n",
    "    nino34_region = {\"start_longitude\": 190., \"end_longitude\": 240., \"start_latitude\": -5., \"end_latitude\": 5.}\n",
    "    cube = extract_time(cube, start_year=1900, start_month=1, start_day=1, end_year=2014, end_month=12, end_day=31)    \n",
    "    cube = convert_units(cube, units=\"degC\")\n",
    "    cube = mask_landsea(cube, mask_out=\"land\")\n",
    "    cube = extract_region(cube, **nino34_region)\n",
    "    cube = anomalies(cube, period='monthly') # fill in\n",
    "    cube = detrend(cube, dimension=\"time\", method=\"linear\")\n",
    "    cube = area_statistics(cube, operator='mean')\n",
    "    cube = cube.collapsed(['time'], iris.analysis.STD_DEV)\n",
    "    # https://scitools-iris.readthedocs.io/en/stable/generated/api/iris.cube.html#iris.cube.Cube.collapsed\n",
    "    return cube\n",
    "\n",
    "# diag level 2 & 3\n",
    "def prepoc(cube):\n",
    "    nino34_latext_region = {\"start_longitude\": 120., \"end_longitude\": 280., \"start_latitude\": -5., \"end_latitude\": 5.}\n",
    "    cube = extract_time(cube, start_year=1900, start_month=1, start_day=1, end_year=2014, end_month=12, end_day=31)    \n",
    "    cube = mask_landsea(cube, mask_out=\"land\")\n",
    "    cube = regrid(cube, target_grid=\"1x1\", scheme=\"linear\")\n",
    "    cube = extract_region(cube, **nino34_latext_region)\n",
    "    cube = anomalies(cube,period='monthly') #\n",
    "    cube = axis_statistics(cube,axis='y', operator='mean')\n",
    "    # compute temporal standard deviation\n",
    "    cube = cube.collapsed(['time'], iris.analysis.STD_DEV)\n",
    "    return cube\n",
    "    \n",
    "def prepoc3(cube): # extents and no axis statistics\n",
    "    nino34_latext_region = {\"start_longitude\": 120., \"end_longitude\": 280., \"start_latitude\": -15., \"end_latitude\": 15.}\n",
    "    cube = extract_time(cube, start_year=1900, start_month=1, start_day=1, end_year=2014, end_month=12, end_day=31)    \n",
    "    cube = mask_landsea(cube, mask_out=\"land\")\n",
    "    cube = regrid(cube, target_grid=\"1x1\", scheme=\"linear\")\n",
    "    cube = extract_region(cube, **nino34_latext_region)\n",
    "    cube = anomalies(cube,period='monthly')\n",
    "    # compute temporal standard deviation\n",
    "    cube = cube.collapsed(['time'], iris.analysis.STD_DEV)\n",
    "    return cube\n",
    "\n",
    "def compute(obs, mod):\n",
    "    return abs((mod-obs)/obs)*100"
   ]
  },
  {
   "cell_type": "code",
   "execution_count": null,
   "id": "6d3c26fc-e9c2-4fd9-9cd2-d3b3b7817586",
   "metadata": {
    "scrolled": true
   },
   "outputs": [],
   "source": [
    "model_datasets_prep = {name: prepoc_one(dataset) for name, dataset in model_datasets.items()}\n",
    "obs_datasets_prep = {name: prepoc_one(dataset) for name, dataset in obs_datasets.items()}"
   ]
  },
  {
   "cell_type": "markdown",
   "id": "faaa7a1f-0753-401a-ab81-3f3a3599282e",
   "metadata": {},
   "source": [
    "## Diagnostic Level 1\n",
    "\n",
    "The first level shows the diagnostic used to compute the metric and highlight the difference between the model and the reference."
   ]
  },
  {
   "cell_type": "code",
   "execution_count": null,
   "id": "163b5be6-db89-4417-b42b-7fdba73aca1e",
   "metadata": {},
   "outputs": [],
   "source": [
    "# plot\n",
    "metric = [model_datasets_prep[\"ACCESS-ESM1-5\"].data.item(), obs_datasets_prep[\"HadISST\"].data.item()]\n",
    "\n",
    "plt.scatter(range(len(metric)), metric, c=['blue','black'], marker='D')\n",
    "\n",
    "plt.xlim(-0.5,2)\n",
    "plt.xticks([])\n",
    "\n",
    "plt.ylabel('SSTA std (°C)')\n",
    "plt.grid(linestyle='--', axis='y')\n",
    "plt.title('ENSO amplitude')\n",
    "\n",
    "metricval = compute(metric[1],metric[0])\n",
    "\n",
    "plt.text(0.95, 0.95, f'Metric: {metricval:.2f} %', fontsize=12, ha='right', transform=plt.gca().transAxes,\n",
    "         bbox=dict(facecolor='white', alpha=0.8, edgecolor='none'))\n",
    "\n",
    "plt.text(0.75,0.85, '* ACCESS-ESM1-5', color='blue',transform=plt.gca().transAxes)\n",
    "plt.text(0.75,0.8, '* observation', color='black',transform=plt.gca().transAxes)"
   ]
  },
  {
   "cell_type": "markdown",
   "id": "de6571c1-03a1-48c8-9a5f-a35da26c150c",
   "metadata": {},
   "source": [
    "\n",
    "Figure 1: Standard deviation of sea surface temperature anomalies (SSTA) in the central equatorial Pacific (Niño 3.4 region average), representing the amplitude of variability. The model amplitude is typically close to the reference but slightly weaker. Black markers indicate the reference data, while blue markers represent the model. The derived metric is the absolute relative difference, calculated as: \n",
    "abs\n",
    "(\n",
    "(\n",
    "model\n",
    "−\n",
    "ref\n",
    ")\n",
    "/\n",
    "ref\n",
    ")\n",
    "×\n",
    "100\n",
    "abs((model−ref)/ref)×100."
   ]
  },
  {
   "cell_type": "markdown",
   "id": "68619daa-4abc-4f59-8d43-55a469a15f4b",
   "metadata": {},
   "source": [
    "## Diagnostic Level 2\n",
    "\n",
    "The second level shows the zonal structure of the ENSO amplitude: the standard deviation of the anomalies along the equator in the Pacific."
   ]
  },
  {
   "cell_type": "code",
   "execution_count": null,
   "id": "f1ec8f46-ca3d-40e9-a894-4d10e4a0c094",
   "metadata": {
    "scrolled": true
   },
   "outputs": [],
   "source": [
    "model_datasets_prep2 = {name: prepoc(dataset) for name, dataset in model_datasets.items()}\n",
    "obs_datasets_prep2 = {name: prepoc(dataset) for name, dataset in obs_datasets.items()}"
   ]
  },
  {
   "cell_type": "code",
   "execution_count": null,
   "id": "cf6a3cfe-a1f8-4f76-8eb2-8dd94afa2230",
   "metadata": {},
   "outputs": [],
   "source": [
    "## diag 2 plot\n",
    "def format_longitude(x, pos):\n",
    "    if x > 180:\n",
    "        return f'{int(360 - x)}°W'\n",
    "    elif x == 180:\n",
    "        return f'{int(x)}°'\n",
    "    else:\n",
    "        return f'{int(x)}°E'\n",
    "\n",
    "qplt.plot(model_datasets_prep2[\"ACCESS-ESM1-5\"], label=\"ACCESS-ESM1-5\", linewidth=4)\n",
    "# plot another model #access-CM2\n",
    "qplt.plot() #fill in\n",
    "\n",
    "qplt.plot(obs_datasets_prep2[\"HadISST\"], color='black', label='Observation', linewidth=4)\n",
    "plt.gca().xaxis.set_major_formatter(plt.FuncFormatter(format_longitude))\n",
    "\n",
    "# Adding labels and title\n",
    "plt.xlabel('Longitude')\n",
    "plt.ylabel('SSTA std (°C)')\n",
    "plt.title('SSTA standard deviation')\n",
    "plt.grid(linestyle='--')\n",
    "plt.legend()"
   ]
  },
  {
   "cell_type": "markdown",
   "id": "5928b119-c827-4984-afd9-e1b71f05b70d",
   "metadata": {},
   "source": [
    "\n",
    "Figure 2: Zonal structure of the standard deviation of sea surface temperature anomalies (SSTA) in the equatorial Pacific (averaged between 5°S and 5°N). The figure highlights the model's tendency to overestimate maximum variability in the central equatorial Pacific and west of the dateline. The black curve represents the reference data, while the blue curve corresponds to the model output."
   ]
  },
  {
   "cell_type": "markdown",
   "id": "9035db28",
   "metadata": {},
   "source": [
    "## Diagnostic level 3"
   ]
  },
  {
   "cell_type": "code",
   "execution_count": null,
   "id": "4e511b1c-8590-48f4-a111-27d8152c441d",
   "metadata": {},
   "outputs": [],
   "source": [
    "\n",
    "model_datasets_prep3 = {name: prepoc3(dataset) for name, dataset in model_datasets.items()}\n",
    "obs_datasets_prep3 = {name: prepoc3(dataset) for name, dataset in obs_datasets.items()}"
   ]
  },
  {
   "cell_type": "code",
   "execution_count": null,
   "id": "eddca467",
   "metadata": {},
   "outputs": [],
   "source": [
    "import iris.plot as iplt\n",
    "import matplotlib.colors as mcolors\n",
    "import cartopy.feature as cfeature\n",
    "import cartopy.crs as ccrs\n",
    "\n",
    "fig = plt.figure(figsize=(20, 7))\n",
    "proj = ccrs.Orthographic(central_longitude=210.0)\n",
    "i =121\n",
    "process = {\"ACCESS-ESM1-5\":model_datasets_prep3[\"ACCESS-ESM1-5\"], \"HadISST\":obs_datasets_prep3[\"HadISST\"]}\n",
    "# change model dataset..\n",
    "\n",
    "for label, cube in process.items(): #duplicate another comparison\n",
    "    \n",
    "    ax1 = plt.subplot(i,projection=proj)\n",
    "    ax1.add_feature(cfeature.LAND, facecolor='gray')  # Add land feature with gray color\n",
    "    ax1.coastlines()\n",
    "    cf1 = iplt.contourf(cube, levels=np.arange(0,2,0.1), cmap='Reds')\n",
    "\n",
    "    ax1.set_extent([130, 290, -20, 20], crs=ccrs.PlateCarree())\n",
    "    ax1.set_title(label)\n",
    "\n",
    "    # Add gridlines for latitude and longitude\n",
    "    gl1 = ax1.gridlines(draw_labels=True, linestyle='--')\n",
    "    gl1.top_labels = False\n",
    "    gl1.right_labels = False\n",
    "\n",
    "    i+=1\n",
    "\n",
    "\n",
    "# Add a single colorbar at the bottom\n",
    "cax = plt.axes([0.15,0.08,0.7,0.05])\n",
    "cbar = fig.colorbar(cf1, cax=cax, orientation='horizontal', extend='both', ticks=np.arange(0,2,0.5))\n",
    "cbar.set_label('SSTA std (°C)')"
   ]
  },
  {
   "cell_type": "markdown",
   "id": "3ec4bf09-1598-4307-88e3-33e6c55f4075",
   "metadata": {},
   "source": [
    "Figure 3: spatial structure of the standard deviation of sea surface temperature anomalies (SSTA) in the equatorial Pacific, showing usually a too weak variability off South America, a too strong maximum variability in the central equatorial Pacific and a too strong variability west of the dateline. The left and right maps show respectively the reference and the model."
   ]
  }
 ],
 "metadata": {
  "kernelspec": {
   "display_name": "Python [conda env:analysis3-25.07] *",
   "language": "python",
   "name": "conda-env-analysis3-25.07-py"
  },
  "language_info": {
   "codemirror_mode": {
    "name": "ipython",
    "version": 3
   },
   "file_extension": ".py",
   "mimetype": "text/x-python",
   "name": "python",
   "nbconvert_exporter": "python",
   "pygments_lexer": "ipython3",
   "version": "3.11.13"
  }
 },
 "nbformat": 4,
 "nbformat_minor": 5
}
