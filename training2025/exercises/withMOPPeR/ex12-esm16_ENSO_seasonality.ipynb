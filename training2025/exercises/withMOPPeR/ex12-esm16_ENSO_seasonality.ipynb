{
 "cells": [
  {
   "cell_type": "markdown",
   "id": "f3b17e91-747e-45a7-a8ee-7da53351c307",
   "metadata": {},
   "source": [
    "# ENSO_seasonality: Seasonal Variability of SST Anomalies in the Central Equatorial Pacific  \n",
    "\n",
    "Computes the ratio of boreal winter (November–January, NDJ) to spring (March–May, MAM) standard deviation of sea surface temperature anomalies (SSTA) in the Niño3.4 region (horizontal average over 5°S–5°N, 170°W–120°W). This metric evaluates the seasonality of ENSO variability, characterised by maximum variability in winter and minimum variability in spring in the observations.  \n",
    "\n",
    "## Datasets Used for Seasonality Comparison  \n",
    "\n",
    "The following reference datasets are used to evaluate the seasonal variability of ENSO-related SST anomalies in model simulations:  \n",
    "- **ERSSTv5 (1854–2018)**: A globally gridded dataset optimised for climate monitoring, including ENSO-related SST anomaly studies.  \n",
    "\n",
    "## Exercises\n",
    "In this notebook there are some cells to be filled out to complete with ESM1.6 CMORised data. This is up to diagnostic level 3 from which you can modify the rest to include as you desire."
   ]
  },
  {
   "cell_type": "markdown",
   "id": "26d2d408-eb97-445f-a921-7d5401d26f31",
   "metadata": {},
   "source": [
    "## Dask Cluster \n",
    "\n",
    "Start a cluster with multiple cores "
   ]
  },
  {
   "cell_type": "code",
   "execution_count": null,
   "id": "b6d7f6bf-2133-4efe-95c9-7ad5d0426c4c",
   "metadata": {
    "scrolled": true
   },
   "outputs": [],
   "source": [
    "from dask.distributed import Client, progress\n",
    "client = Client(threads_per_worker = 1)\n",
    "client"
   ]
  },
  {
   "cell_type": "markdown",
   "id": "0b8e1345",
   "metadata": {},
   "source": [
    "## Comparison for ESM1.6\n",
    "\n",
    "- Use ACCESS-MOPPeR interactive API to CMORise required variable. (May take some time)\n",
    "- Write output to netCDF to read in later in other notebooks too\n",
    "- or convert to iris cube to tie into recipe\n",
    "- **ACCESS-MOPPeR will require at least xxlarge (28cpus, 126G mem)**"
   ]
  },
  {
   "cell_type": "code",
   "execution_count": null,
   "id": "1eac4ba9",
   "metadata": {},
   "outputs": [],
   "source": [
    "import glob\n",
    "from access_mopper import ACCESS_ESM_CMORiser\n",
    "\n",
    "ROOT_FOLDER = (\n",
    "    \"/g/data/p73/archive/CMIP7/ACCESS-ESM1-6/spinup/JuneSpinUp-JuneSpinUp-bfaa9c5b/\"\n",
    ")\n",
    "\n",
    "OUTPUT_FOLDER = \"/scratch/nf33/$USER\""
   ]
  },
  {
   "cell_type": "code",
   "execution_count": null,
   "id": "7b4b2519",
   "metadata": {},
   "outputs": [],
   "source": [
    "parent_experiment_config = {\n",
    "    \"parent_experiment_id\": \"piControl\",\n",
    "    \"parent_activity_id\": \"CMIP\",\n",
    "    \"parent_source_id\": \"ACCESS-ESM1-5\",\n",
    "    \"parent_variant_label\": \"r1i1p1f1\",\n",
    "    \"parent_time_units\": \"days since 0001-01-01 00:00:00\",\n",
    "    \"parent_mip_era\": \"CMIP6\",\n",
    "    \"branch_time_in_child\": 0.0,\n",
    "    \"branch_time_in_parent\": 54786.0,\n",
    "    \"branch_method\": \"standard\",\n",
    "}"
   ]
  },
  {
   "cell_type": "code",
   "execution_count": null,
   "id": "5981c0ea",
   "metadata": {},
   "outputs": [],
   "source": [
    "FILES = glob.glob(ROOT_FOLDER + \"output0[0-9][0-9]/atmosphere/netCDF/*mon.nc\")\n",
    "len(FILES)\n",
    "## reduce the years to cmorise by the output folders"
   ]
  },
  {
   "cell_type": "code",
   "execution_count": null,
   "id": "053af2c3",
   "metadata": {},
   "outputs": [],
   "source": [
    "cmoriser = ACCESS_ESM_CMORiser(\n",
    "    input_paths=FILES,\n",
    "    compound_name=\"Amon.ts\", #\n",
    "    experiment_id=\"piControl\", #\n",
    "    source_id=\"ACCESS-ESM1-5\", # metadata\n",
    "    variant_label=\"r1i1p1f1\",\n",
    "    grid_label=\"gn\",\n",
    "    activity_id=\"CMIP\",\n",
    "    output_path=OUTPUT_FOLDER,\n",
    "    parent_info=parent_experiment_config,  # <-- This is optional, can be skipped if not needed\n",
    ")"
   ]
  },
  {
   "cell_type": "code",
   "execution_count": null,
   "id": "e5bee97e-7877-45b7-bbaf-65304cf29adc",
   "metadata": {},
   "outputs": [],
   "source": [
    "cmoriser.run()"
   ]
  },
  {
   "cell_type": "code",
   "execution_count": null,
   "id": "2c46e982-645f-41e3-b3ee-2a3141606c9a",
   "metadata": {
    "scrolled": true
   },
   "outputs": [],
   "source": [
    "# cmoriser.write()\n",
    "esm16 = cmoriser.to_iris()"
   ]
  },
  {
   "cell_type": "markdown",
   "id": "6aff516e-e6eb-416a-9c6a-f1d51618f9a6",
   "metadata": {},
   "source": [
    "### If not runnng MOPPeR or do not have native outputs\n",
    "There is some cmorised spin up data you can use located in `/scratch/nf33/MOPPeR_ENSO/`"
   ]
  },
  {
   "cell_type": "code",
   "execution_count": null,
   "id": "e9859759-5a05-4027-aab5-372650e66682",
   "metadata": {},
   "outputs": [],
   "source": [
    "!ls /scratch/nf33/MOPPeR_ENSO"
   ]
  },
  {
   "cell_type": "code",
   "execution_count": null,
   "id": "72ad9a83",
   "metadata": {},
   "outputs": [],
   "source": [
    "## if you have other cmorised file already saved out example\n",
    "fp = '/scratch/nf33/MOPPeR_ENSO/ts_Amon_ACCESS-ESM1-5_piControl_r1i1p1f1_gn_109201-159112.nc'\n",
    "import iris\n",
    "iris.load_cube(fp)\n",
    "# esm16 = iris.load_cube(fp)"
   ]
  },
  {
   "cell_type": "code",
   "execution_count": null,
   "id": "b748449f-3451-40e1-a037-48b58bf82d61",
   "metadata": {
    "scrolled": true
   },
   "outputs": [],
   "source": [
    "# check: this is a cubelist of one cube\n",
    "esm16"
   ]
  },
  {
   "cell_type": "markdown",
   "id": "c2fd03c3-b609-4dca-ab4e-488e35fddcac",
   "metadata": {},
   "source": [
    "## Datasets"
   ]
  },
  {
   "cell_type": "code",
   "execution_count": null,
   "id": "a3a2571a-c2f1-4ac8-a272-d4c731c062cd",
   "metadata": {},
   "outputs": [],
   "source": [
    "from esmvalcore.dataset import Dataset"
   ]
  },
  {
   "cell_type": "code",
   "execution_count": null,
   "id": "a20485d9-9e93-4564-9fc0-f07c64a3bc36",
   "metadata": {},
   "outputs": [],
   "source": [
    "model_datasets = {\n",
    "\"ACCESS-ESM1-5\": \n",
    "    Dataset(\n",
    "    short_name='ts',\n",
    "    project='CMIP6',\n",
    "    mip=\"Amon\",\n",
    "    exp=\"historical\",\n",
    "    ensemble=\"r1i1p1f1\",\n",
    "    timerange=\"18500101/20190101\",\n",
    "    dataset=\"ACCESS-ESM1-5\",\n",
    "    grid=\"gn\"\n",
    "),\n",
    "}\n",
    "\n",
    "obs_datasets = {\n",
    "\"ERSSTv5\":\n",
    "    Dataset(\n",
    "    short_name='tos',\n",
    "    dataset='NOAA-ERSSTv5',\n",
    "    mip=\"Omon\",\n",
    "    project='OBS6',\n",
    "    type='reanaly',\n",
    "    tier=2),\n",
    "}"
   ]
  },
  {
   "cell_type": "markdown",
   "id": "25868952-c8be-4ea1-8951-3ef6bb876f9b",
   "metadata": {
    "scrolled": true
   },
   "source": [
    "## Add Ancillary files"
   ]
  },
  {
   "cell_type": "code",
   "execution_count": null,
   "id": "0d5c4607-0848-4d46-b397-bebb38dffba8",
   "metadata": {},
   "outputs": [],
   "source": [
    "for name, dataset in model_datasets.items():\n",
    "    dataset.add_supplementary(short_name='sftlf', mip=\"fx\")\n",
    "    dataset.add_supplementary(short_name=\"areacella\", mip=\"fx\")"
   ]
  },
  {
   "cell_type": "code",
   "execution_count": null,
   "id": "5e048061-f220-4e34-820a-629c7b6b5580",
   "metadata": {},
   "outputs": [],
   "source": [
    "model_datasets = {name: dataset.load() for name, dataset in model_datasets.items()}\n",
    "obs_datasets = {name: dataset.load() for name, dataset in obs_datasets.items()}"
   ]
  },
  {
   "cell_type": "code",
   "execution_count": null,
   "id": "3e4b8d63-b98d-4195-a6cb-7a5316c6db3b",
   "metadata": {},
   "outputs": [],
   "source": [
    "from esmvalcore.preprocessor import anomalies\n",
    "from esmvalcore.preprocessor import area_statistics\n",
    "from esmvalcore.preprocessor import climate_statistics\n",
    "from esmvalcore.preprocessor import convert_units\n",
    "from esmvalcore.preprocessor import extract_region\n",
    "from esmvalcore.preprocessor import extract_time\n",
    "from esmvalcore.preprocessor import extract_season\n",
    "from esmvalcore.preprocessor import regrid\n",
    "from esmvalcore.preprocessor import detrend\n",
    "from esmvalcore.preprocessor import meridional_statistics\n",
    "from esmvalcore.preprocessor import mask_landsea\n",
    "import iris\n",
    "\n",
    "import numpy as np\n",
    "\n",
    "import matplotlib.pyplot as plt\n",
    "import iris.quickplot as qplt"
   ]
  },
  {
   "cell_type": "code",
   "execution_count": null,
   "id": "32af671f-d71e-4899-becd-cfb6bb28c0f0",
   "metadata": {},
   "outputs": [],
   "source": [
    "def sst_boreal(cube, season): #season->'NDJ','MAM'\n",
    "    nino34_latext_region = {\"start_longitude\": 190., \"end_longitude\": 240., \"start_latitude\": -5., \"end_latitude\": 5.}\n",
    "    # cube = extract_time(cube, start_year=1900, start_month=1, start_day=1, end_year=2014, end_month=12, end_day=31)\n",
    "    cube = mask_landsea(cube, mask_out=\"land\")\n",
    "    cube = regrid(cube, target_grid=\"1x1\", scheme=\"linear\")\n",
    "    cube = convert_units(cube, units=\"degC\")\n",
    "    cube = extract_region(cube, **nino34_latext_region)\n",
    "    cube = anomalies(cube,period='monthly')\n",
    "    cube = area_statistics(cube,operator='mean')\n",
    "    cube = extract_season(cube, season) # get NDJ\n",
    "    cube = climate_statistics(cube, operator=\"std_dev\", period=\"full\")\n",
    "    return cube\n"
   ]
  },
  {
   "cell_type": "code",
   "execution_count": null,
   "id": "ae4b4cb0-54ef-487b-ba08-7368bc8b5fcc",
   "metadata": {},
   "outputs": [],
   "source": [
    "def sst_std(cube):\n",
    "    nino34_latext_region = {\"start_longitude\": 190., \"end_longitude\": 240., \"start_latitude\": -5., \"end_latitude\": 5.}\n",
    "    # cube = extract_time(cube, start_year=1900, start_month=1, start_day=1, end_year=2014, end_month=12, end_day=31)\n",
    "    cube = mask_landsea(cube, mask_out=\"land\")\n",
    "    cube = regrid(cube, target_grid=\"1x1\", scheme=\"linear\")\n",
    "    cube = extract_region(cube, **nino34_latext_region)\n",
    "    cube = anomalies(cube,period='monthly')\n",
    "    cube = area_statistics(cube, operator='mean')\n",
    "    cube = climate_statistics(cube, operator=\"std_dev\", period=\"monthly\") #monthly to plot months\n",
    "    return cube\n",
    "    \n",
    "def sst_std_3(cube):\n",
    "    nino34_latext_region = {\"start_longitude\": 130., \"end_longitude\": 280., \"start_latitude\": -5., \"end_latitude\": 5.}\n",
    "    # cube = extract_time(cube, start_year=1900, start_month=1, start_day=1, end_year=2014, end_month=12, end_day=31)\n",
    "    cube = mask_landsea(cube, mask_out=\"land\")\n",
    "    cube = regrid(cube, target_grid=\"0.5x0.5\", scheme=\"linear\")\n",
    "    cube = extract_region(cube, **nino34_latext_region)\n",
    "    cube = anomalies(cube,period='monthly')\n",
    "    cube = meridional_statistics(cube, 'mean')\n",
    "    cube = climate_statistics(cube, operator=\"std_dev\", period=\"monthly\")\n",
    "    return cube"
   ]
  },
  {
   "cell_type": "markdown",
   "id": "0cf9ec20-d97d-4013-8066-3deef29986a5",
   "metadata": {},
   "source": [
    "Note: some warnings will appear due the processes such as extract and regiona and regriding will have some 'Nan' or invalid values"
   ]
  },
  {
   "cell_type": "code",
   "execution_count": null,
   "id": "f7e9afae-5712-4c8a-b8f7-98151fc4b853",
   "metadata": {
    "scrolled": true
   },
   "outputs": [],
   "source": [
    "model_datasets_prep = {name: sst_boreal(dataset, 'NDJ') for name, dataset in model_datasets.items()}\n",
    "obs_datasets_prep = {name: sst_boreal(dataset,'NDJ') for name, dataset in obs_datasets.items()}\n"
   ]
  },
  {
   "cell_type": "code",
   "execution_count": null,
   "id": "a9272bfe-5ab1-47f3-a7b7-695bdd0fe5a8",
   "metadata": {
    "scrolled": true
   },
   "outputs": [],
   "source": [
    "model_datasets_prep2 = {name: sst_boreal(dataset, 'MAM') for name, dataset in model_datasets.items()}\n",
    "obs_datasets_prep2 = {name: sst_boreal(dataset,'MAM') for name, dataset in obs_datasets.items()}"
   ]
  },
  {
   "cell_type": "markdown",
   "id": "e35a5ed3-1d29-4951-8291-d78456420cbb",
   "metadata": {},
   "source": [
    "### exercise: prepare ESM1.6 data"
   ]
  },
  {
   "cell_type": "code",
   "execution_count": null,
   "id": "fb043657",
   "metadata": {},
   "outputs": [],
   "source": [
    "esm16_prep = sst_boreal(,'NDJ') #esm16[0]"
   ]
  },
  {
   "cell_type": "code",
   "execution_count": null,
   "id": "7cae68e2-2e7e-418d-ae15-e4dba0e7115e",
   "metadata": {
    "scrolled": true
   },
   "outputs": [],
   "source": [
    "# computes the data\n",
    "esm16_prep.data.mean()"
   ]
  },
  {
   "cell_type": "code",
   "execution_count": null,
   "id": "07a8aef3-ca8e-4f0a-a8c0-ec9b4f736069",
   "metadata": {
    "scrolled": true
   },
   "outputs": [],
   "source": [
    "esm16_prep2 = sst_boreal(,'MAM') #esm16[0]"
   ]
  },
  {
   "cell_type": "markdown",
   "id": "44abf0d2-1f03-4de4-a33b-e7e6dd6baf44",
   "metadata": {},
   "source": [
    "## Diagnostic Level 1\n",
    "\n",
    "The first level shows the diagnostic used to compute the metric and highlight the difference between the model and the reference."
   ]
  },
  {
   "cell_type": "code",
   "execution_count": null,
   "id": "114c230b-45ec-49b8-996c-e2c461e9a829",
   "metadata": {},
   "outputs": [],
   "source": [
    "model_ = {'borealwinter':model_datasets_prep[\"ACCESS-ESM1-5\"], 'borealspring':model_datasets_prep2[\"ACCESS-ESM1-5\"]}\n",
    "\n",
    "obs_ = {'borealwinter':obs_datasets_prep[\"ERSSTv5\"], 'borealspring':obs_datasets_prep2[\"ERSSTv5\"]}\n",
    "\n",
    "mod_seas = model_['borealwinter'].data.item()/model_['borealspring'].data.item()\n",
    "obs_seas = obs_['borealwinter'].data.item()/obs_['borealspring'].data.item()"
   ]
  },
  {
   "cell_type": "markdown",
   "id": "e1b800be-bba7-4a2f-a78f-ed83af47984b",
   "metadata": {},
   "source": []
  },
  {
   "cell_type": "code",
   "execution_count": null,
   "id": "3ebd11eb-4cd2-4652-a24b-bb8e4c47597f",
   "metadata": {
    "scrolled": true
   },
   "outputs": [],
   "source": [
    "esm16_seas = esm16_prep.data / esm16_prep2.data"
   ]
  },
  {
   "cell_type": "code",
   "execution_count": null,
   "id": "494d04c8-feff-457d-bcf2-c5a0f3ce0bd3",
   "metadata": {},
   "outputs": [],
   "source": [
    "ssta_std = [mod_seas, obs_seas, esm16_seas] ## add to plot\n",
    "plt.scatter(range(len(ssta_std)), ssta_std, c=['blue','black', 'tab:blue'], marker='D')\n",
    "\n",
    "plt.xlim(-0.5,3)#range(-1,3,1)) #['model','obs']\n",
    "plt.xticks([])\n",
    "\n",
    "plt.ylabel('SSTA std (NDJ/MAM) (°C/°C)')\n",
    "plt.grid(linestyle='--', axis='y')\n",
    "plt.title('ENSO Seasonality')\n",
    "\n",
    "metricval = abs((mod_seas-obs_seas)/obs_seas)*100\n",
    "\n",
    "plt.text(0.95, 0.95, f'Metric: {metricval:.2f} %', fontsize=12, ha='right', transform=plt.gca().transAxes,\n",
    "         bbox=dict(facecolor='white', alpha=0.8, edgecolor='none'))\n",
    "\n",
    "plt.text(0.75,0.85, '* ACCESS-ESM1-5', color='blue',transform=plt.gca().transAxes)\n",
    "plt.text(0.75,0.8, '* observation', color='black',transform=plt.gca().transAxes)\n"
   ]
  },
  {
   "cell_type": "markdown",
   "id": "3d65d58b-7c8f-4ede-92a2-b0be95a135d9",
   "metadata": {},
   "source": [
    "**Figure 1**: Ratio of winter to spring standard deviation of sea surface temperature anomalies (SSTA) in the central equatorial Pacific (Niño 3.4 region average), illustrating the seasonal timing of SSTA. The model generally exhibits weaker variability compared to observations, indicating that ENSO events tend to occur too frequently during spring in the model. In this case, the seasonal timing is slightly overrepresented. Black markers denote the reference data, while blue markers denote the model output. \n"
   ]
  },
  {
   "cell_type": "markdown",
   "id": "e1413702-1cd3-4797-8c0f-e9c1e99a7090",
   "metadata": {},
   "source": [
    "## Diagnostic Level 2\n",
    "\n",
    "The second level shows the mean annual structure of the ENSO amplitude: the 12 months standard deviation of the anomalies."
   ]
  },
  {
   "cell_type": "code",
   "execution_count": null,
   "id": "3fbaa115-5602-40b3-94b9-fa6329a4c4a0",
   "metadata": {
    "scrolled": true
   },
   "outputs": [],
   "source": [
    "model_data_prep = {name: sst_std(dataset) for name, dataset in model_datasets.items()}\n",
    "obs_data_prep = {name: sst_std(dataset) for name, dataset in obs_datasets.items()}\n",
    "\n",
    "data_prep_2 = [model_data_prep[\"ACCESS-ESM1-5\"], obs_data_prep[\"ERSSTv5\"]]"
   ]
  },
  {
   "cell_type": "code",
   "execution_count": null,
   "id": "04a89829-2859-4a59-91f9-91ec844164ff",
   "metadata": {},
   "outputs": [],
   "source": [
    "esm16_prep_std = sst_std(esm16[0])"
   ]
  },
  {
   "cell_type": "code",
   "execution_count": null,
   "id": "7d4137e0-5df9-40e8-94f1-16fac41c3c78",
   "metadata": {},
   "outputs": [],
   "source": [
    "# Create the plot\n",
    "plt.figure(figsize=(6, 6))\n",
    "\n",
    "# Plot observation data in black\n",
    "qplt.plot(data_prep_2[1], color='black', label='Observation', linewidth=4)\n",
    "\n",
    "# Plot model data in blue\n",
    "qplt.plot(data_prep_2[0], color='blue', label='ACCESS-ESM1-5', linewidth=4)\n",
    "# Plot spin up\n",
    "qplt.plot(esm16_prep_std)\n",
    "\n",
    "# Define x-axis labels\n",
    "# months = ['Jan', 'Feb', 'Mar', 'Apr', 'May', 'Jun', 'Jul', 'Aug', 'Sep', 'Oct', 'Nov', 'Dec']\n",
    "months = ['Jan', 'May', 'Sep']\n",
    "plt.xticks(range(1,13,4),labels=months)\n",
    "# Set the x and y axis labels\n",
    "plt.xlabel('Months')\n",
    "plt.ylabel('SSTA std (°C)')\n",
    "plt.title('SSTA standard deviation')\n",
    "plt.grid(linestyle='--'); plt.legend()\n"
   ]
  },
  {
   "cell_type": "markdown",
   "id": "df1dc35b-4d4b-40ba-b09a-aeaa88b5e3b5",
   "metadata": {},
   "source": [
    "**Figure 2**: Mean annual structure of the standard deviation of sea surface temperature anomalies (SSTA) in the central equatorial Pacific (Niño 3.4 region average), illustrating the seasonal variability. The model typically shows too strong variability in winter and in spring. The black curve represents the reference data, while the blue curve corresponds to the model output."
   ]
  },
  {
   "cell_type": "markdown",
   "id": "76b0eef9-cffd-4572-b7a4-318f370f56a0",
   "metadata": {},
   "source": [
    "## Diagnostic Level 3\n",
    "\n",
    "The third level shows the spatio-mean annual structure of the ENSO amplitude: the Hovmöller of the standard deviation of anomalies in the equatorial Pacific."
   ]
  },
  {
   "cell_type": "code",
   "execution_count": null,
   "id": "e1890eb1-afdf-4254-bf88-c3524838a904",
   "metadata": {
    "scrolled": true
   },
   "outputs": [],
   "source": [
    "model_data_prep3 = {name: sst_std_3(dataset) for name, dataset in model_datasets.items()}\n",
    "obs_data_prep3 = {name: sst_std_3(dataset) for name, dataset in obs_datasets.items()}\n",
    "\n",
    "data_prep_3 = {\"ERSSTv5\":obs_data_prep3[\"ERSSTv5\"], **model_data_prep3} #for plot"
   ]
  },
  {
   "cell_type": "code",
   "execution_count": null,
   "id": "5ea3b203-8921-4093-bb6f-898aa4741745",
   "metadata": {},
   "outputs": [],
   "source": [
    "import iris.plot as iplt\n",
    "import cartopy.crs as ccrs\n",
    "import matplotlib.pyplot as plt\n",
    "import numpy as np\n",
    "\n",
    "# Function to format longitude labels\n",
    "def format_longitude(x, pos):\n",
    "    if x > 180:\n",
    "        return f'{int(360 - x)}°W'\n",
    "    elif x == 180:\n",
    "        return f'{int(x)}°'\n",
    "    else:\n",
    "        return f'{int(x)}°E'"
   ]
  },
  {
   "cell_type": "code",
   "execution_count": null,
   "id": "0c8ae62f-ff72-4499-8a09-06f5edb7c9aa",
   "metadata": {},
   "outputs": [],
   "source": [
    "# Set up the figure\n",
    "fig = plt.figure(figsize=(15, 7))\n",
    "i = 121  # Subplot indexing\n",
    "\n",
    "# Define month labels for the y-axis\n",
    "months = [\"Jan\", \"Feb\", \"Mar\", \"Apr\", \"May\", \"Jun\", \"Jul\", \"Aug\", \"Sep\", \"Oct\", \"Nov\", \"Dec\"]\n",
    "\n",
    "# Plot data for each label and cube in the dictionary\n",
    "for label, cube in data_prep_3.items():\n",
    "    ax = plt.subplot(i)  # Add projection for geographic plots\n",
    "    c1 = iplt.contourf(cube, cmap='Reds', levels=np.arange(0., 2.1, 0.1))  # Set levels to include <0 and >2\n",
    "    ax.set_yticks(range(1, 13))\n",
    "    ax.set_yticklabels(months)\n",
    "    ax.set_title(label)\n",
    "    ax.set_ylabel(\"Months\")\n",
    "    ax.set_xlabel(\"Longitude\")\n",
    "    ax.xaxis.set_major_formatter(plt.FuncFormatter(format_longitude))\n",
    "    i += 1\n",
    "\n",
    "fig.subplots_adjust(bottom=0.15, right=1.0)  # Adjust bottom margin to fit colorbar\n",
    "# Add a horizontal colorbar with open ends to include values outside the range\n",
    "cax = plt.axes([0.15, -0.08, 0.7, 0.05])  # Position for colorbar\n",
    "cbar = fig.colorbar(c1, cax=cax, orientation='horizontal', extend='both', ticks=np.arange(0, 2.2, 0.5))\n",
    "cbar.set_label('SSTA std (°C)')\n",
    "\n",
    "plt.show()"
   ]
  },
  {
   "cell_type": "markdown",
   "id": "ba562b29-ef43-4eb0-ab08-6c2a45753b3a",
   "metadata": {},
   "source": [
    "Figure 3: Spatio-mean annual structure of the standard deviation of sea surface temperature anomalies (SSTA) in the equatorial Pacific (averaged between 5°S and 5°N). The figure typically shows too weak variability off the coast of South America and too strong variability in the central Pacific during spring. Additionally, there is too weak variability in the central-eastern Pacific during winter and excessive variability west of the dateline year-round. In this case, while the seasonal timing of ENSO is roughly captured, the variability in the central Pacific is overly strong during autumn. The left map displays the reference data, while the right map shows the model output."
   ]
  },
  {
   "cell_type": "markdown",
   "id": "812d348c-6c62-4cdb-85e9-6d850ab15529",
   "metadata": {},
   "source": [
    "### Dive down level 4:\n",
    "The fourth level shows the zonal structure of the ENSO amplitude during winter and spring: the standard deviation of the anomalies along the equator in the Pacific."
   ]
  },
  {
   "cell_type": "code",
   "execution_count": null,
   "id": "d6e26941-5dc8-4341-b160-a631588def44",
   "metadata": {},
   "outputs": [],
   "source": [
    "## from level 3 -extract season, full climate statictics\n",
    "def sst_std_4(cube):\n",
    "    nino34_latext_region = {\"start_longitude\": 150., \"end_longitude\": 270., \"start_latitude\": -5., \"end_latitude\": 5.}\n",
    "    cube = regrid(cube, target_grid=\"1x1\", scheme=\"linear\")\n",
    "    cube = mask_landsea(cube, mask_out=\"land\")\n",
    "    cube = convert_units(cube, units=\"degC\")\n",
    "    cube = extract_region(cube, **nino34_latext_region)\n",
    "    cube = anomalies(cube,period='monthly')\n",
    "    cube = meridional_statistics(cube, 'mean')\n",
    "\n",
    "    return cube\n",
    "\n",
    "model_data_prep4 = {name: sst_std_4(dataset) for name, dataset in model_datasets.items()}\n",
    "obs_data_prep4 = {name: sst_std_4(dataset) for name, dataset in obs_datasets.items()}\n",
    "data_prep_4 = {**model_data_prep4, \"ERSSTv5\":obs_data_prep4[\"ERSSTv5\"]}"
   ]
  },
  {
   "cell_type": "code",
   "execution_count": null,
   "id": "f3d2f0b2-f3dc-4a1b-a297-0b28decc081f",
   "metadata": {},
   "outputs": [],
   "source": [
    "## run for esm16[0] and add for plotting\n"
   ]
  },
  {
   "cell_type": "code",
   "execution_count": null,
   "id": "216e8be7-3ce6-4569-96af-288e36fb7406",
   "metadata": {},
   "outputs": [],
   "source": [
    "        \n",
    "lines = {'ACCESS-ESM1-5': 'solid', 'ERSSTv5': 'dashdot'}\n",
    "for label, cube in data_prep_4.items():\n",
    "    for seas, col in {'NDJ':'red','MAM':'blue'}.items():\n",
    "        cube_plot = extract_season(cube, seas) # get NDJ #{ NDJ, MAM, red, blue\n",
    "        cube_plot = climate_statistics(cube_plot, operator=\"std_dev\", period=\"full\")\n",
    "        qplt.plot(cube_plot, color=col, label=label + \" \" + seas,linestyle=lines[label], linewidth=2)\n",
    "        \n",
    "##\n",
    "plt.xlabel('longitude')\n",
    "plt.ylabel('SSTA std (°C)')\n",
    "plt.title('SSTA standard deviation')\n",
    "plt.legend()\n",
    "plt.grid(linestyle='--')\n",
    "plt.gca().xaxis.set_major_formatter(plt.FuncFormatter(format_longitude))"
   ]
  },
  {
   "cell_type": "markdown",
   "id": "4ef61819-fb86-42c3-bbf2-d3820d112058",
   "metadata": {},
   "source": [
    "**Figure 4**: Zonal structure of the standard deviation of sea surface temperature anomalies (SSTA) in the equatorial Pacific (averaged between 5°S and 5°N) during winter (red curves) and spring (blue curves). In winter, the model typically shows weaker variability in the central-eastern Pacific and stronger variability west of the dateline. In spring, the model shows weaker variability off the coast of South America and stronger variability elsewhere. Although the zonal structure of the ENSO amplitude is captured reasonably well, the variability off South America is too weak in both seasons. The dashed curves represent the reference data, while the solid curves represent the model output."
   ]
  },
  {
   "cell_type": "markdown",
   "id": "8c225486-cbae-4eae-b84c-d2f08fa4bcc4",
   "metadata": {},
   "source": [
    "## Dive down level 5:"
   ]
  },
  {
   "cell_type": "code",
   "execution_count": null,
   "id": "b1eac35b-b300-4e12-8c29-009428e467a6",
   "metadata": {
    "scrolled": true
   },
   "outputs": [],
   "source": [
    "def sst_std_5(cube):\n",
    "    nino34_latext_region = {\"start_longitude\": 120., \"end_longitude\": 290., \"start_latitude\": -15., \"end_latitude\": 15.}\n",
    "    cube = mask_landsea(cube, mask_out=\"land\")\n",
    "    cube = regrid(cube, target_grid=\"1x1\", scheme=\"linear\")\n",
    "    cube = convert_units(cube, units=\"degC\")\n",
    "    cube = extract_region(cube, **nino34_latext_region)\n",
    "    cube = anomalies(cube, period='monthly')\n",
    "\n",
    "    return cube\n",
    "\n",
    "model_data_prep5 = {name: sst_std_5(dataset) for name, dataset in model_datasets.items()}\n",
    "obs_data_prep5 = {name: sst_std_5(dataset) for name, dataset in obs_datasets.items()}\n",
    "data_prep_5 = {\"HadISST\":obs_data_prep5[\"HadISST\"], **model_data_prep5}\n",
    "process = {}\n",
    "\n",
    "\n",
    "for seas in ['NDJ','MAM']:\n",
    "    for label, cube in data_prep_5.items():\n",
    "        cube_plot = extract_season(cube, seas)\n",
    "        cube_plot = climate_statistics(cube_plot, operator=\"std_dev\", period=\"full\")\n",
    "        process[f'{label} {seas}'] = cube_plot\n"
   ]
  },
  {
   "cell_type": "code",
   "execution_count": null,
   "id": "24fd5814-c97f-4652-bd8a-bad5b05d845a",
   "metadata": {},
   "outputs": [],
   "source": [
    "fig = plt.figure(figsize=(20, 5))\n",
    "proj = ccrs.PlateCarree(central_longitude=180)\n",
    "\n",
    "i =221\n",
    "for label, cube in process.items(): \n",
    "    \n",
    "    ax1 = plt.subplot(i,projection=proj)\n",
    "    ax1.coastlines()\n",
    "    cf1 = iplt.contourf(cube, levels=np.arange(0.,2,0.1), extend='both', cmap='Reds')\n",
    "    ax1.set_title(label)\n",
    "    gl1 = ax1.gridlines(draw_labels=True, linestyle='--')\n",
    "    gl1.top_labels = False\n",
    "    gl1.right_labels = False\n",
    "    \n",
    "    i+=1\n",
    "    \n",
    "cax = plt.axes([0.15,0.01,0.7,0.03])\n",
    "cbar = fig.colorbar(cf1, cax=cax, orientation='horizontal', extend='both', ticks=np.arange(0.,2.3,0.5))\n",
    "cbar.set_label('monthly SSTA std (°C)')"
   ]
  },
  {
   "cell_type": "markdown",
   "id": "74f7f5e9-aee5-4a08-af0c-0be2c3724033",
   "metadata": {},
   "source": [
    "Figure 5: spatial structure of the standard deviation of sea surface temperature anomalies (SSTA) in the equatorial Pacific, showing usually a too weak variability off South America and too strong variability west of the dateline during both seasons, a too strong (weak) variability in the central equatorial Pacific during spring (winter) (here the variability is also too weak off South America during both seasons and the variability is too strong but not spread enough in latitude in the central Pacific during winter). The left and right maps show respectively the reference and the model. The first and second rows show respectively boreal winter and spring."
   ]
  },
  {
   "cell_type": "code",
   "execution_count": null,
   "id": "23411e7a-27b7-49d5-9e0a-420b95afd227",
   "metadata": {},
   "outputs": [],
   "source": [
    "client.close()"
   ]
  },
  {
   "cell_type": "code",
   "execution_count": null,
   "id": "5da642f1-f861-4615-b22b-3525b61440f3",
   "metadata": {},
   "outputs": [],
   "source": []
  }
 ],
 "metadata": {
  "kernelspec": {
   "display_name": "Python [conda env:analysis3-25.09]",
   "language": "python",
   "name": "conda-env-analysis3-25.09-py"
  },
  "language_info": {
   "codemirror_mode": {
    "name": "ipython",
    "version": 3
   },
   "file_extension": ".py",
   "mimetype": "text/x-python",
   "name": "python",
   "nbconvert_exporter": "python",
   "pygments_lexer": "ipython3",
   "version": "3.11.13"
  }
 },
 "nbformat": 4,
 "nbformat_minor": 5
}
