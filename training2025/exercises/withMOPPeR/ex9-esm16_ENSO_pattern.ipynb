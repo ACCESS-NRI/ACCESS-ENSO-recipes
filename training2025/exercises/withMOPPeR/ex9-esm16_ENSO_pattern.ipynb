{
 "cells": [
  {
   "cell_type": "markdown",
   "id": "8e444b8f-e137-4087-8abd-48ef10a4adfb",
   "metadata": {},
   "source": [
    "# ENSO_pattern: zonal structure of boreal winter SST anomalies in the equatorial Pacific\n",
    "\n",
    "Computes the zonal root mean square error (RMSE) of boreal winter (December) sea surface temperature anomalies (SSTA) along the equatorial Pacific (150°E–90°W), averaged meridionally over 5°S–5°N. Observations and model outputs are compared after processing, including smoothing with a 5-month triangular-weighted moving average.\n",
    "\n",
    "### Datasets Used for SSTA Comparison\n",
    "The following reference datasets are employed to evaluate the ENSO-related SST patterns in model simulations:\n",
    "\n",
    "- **HadISST** (1870–2018): A long-term SST and sea ice dataset combining ship and buoy observations with historical data reconstruction.\n",
    "\n",
    "## Exercises\n",
    "In this notebook there are some cells to be filled out to complete with ESM1.6 CMORised data. This is up to diagnostic level 3 from which you can continue to modify if you choose."
   ]
  },
  {
   "cell_type": "markdown",
   "id": "f994c6b2-2f4d-4829-a017-eec1178f6358",
   "metadata": {},
   "source": [
    "## Dask Cluster \n",
    "\n",
    "Start a cluster with multiple cores "
   ]
  },
  {
   "cell_type": "code",
   "execution_count": null,
   "id": "dcd0fea8-1953-49d8-a5e9-9e581083d165",
   "metadata": {
    "scrolled": true
   },
   "outputs": [],
   "source": [
    "from dask.distributed import Client, progress\n",
    "client = Client(threads_per_worker = 1)\n",
    "client"
   ]
  },
  {
   "cell_type": "markdown",
   "id": "ed08de9b-d146-4890-8198-204c16a7c762",
   "metadata": {},
   "source": [
    "## Comparison for ESM1.6\n",
    "\n",
    "- Use ACCESS-MOPPeR interactive API to CMORise required variable. (May take some time)\n",
    "- Write output to netCDF to read in later in other notebooks too\n",
    "- or convert to iris cube to tied into recipe\n",
    "- **ACCESS-MOPPeR will require at least xxlarge (28cpus, 126G mem)**\n",
    "- **conda kernel should be analysis3-25.09**\n",
    "- this uses data in p73, will require project access and added to storage gdata/p73"
   ]
  },
  {
   "cell_type": "markdown",
   "id": "c70baa93-f845-4b32-9cfb-33bacb581fa8",
   "metadata": {},
   "source": [
    "Configuration for using ACCESS-MOPPeR will be created first time you use it.\n",
    "it will ask for \n",
    "- Name,\n",
    "- organisation\n",
    "- email\n",
    "- orcid"
   ]
  },
  {
   "cell_type": "code",
   "execution_count": null,
   "id": "b63667cb-f427-4812-b051-bb227b55c7cb",
   "metadata": {},
   "outputs": [],
   "source": [
    "import glob\n",
    "from access_mopper import ACCESS_ESM_CMORiser\n",
    "\n",
    "ROOT_FOLDER = (\n",
    "    \"/g/data/p73/archive/CMIP7/ACCESS-ESM1-6/spinup/JuneSpinUp-JuneSpinUp-bfaa9c5b/\"\n",
    ")\n",
    "\n",
    "OUTPUT_FOLDER = \"/scratch/nf33/$USER/MOPPeR\""
   ]
  },
  {
   "cell_type": "code",
   "execution_count": null,
   "id": "81ba3430-465f-496e-aa3d-eb935650bd38",
   "metadata": {},
   "outputs": [],
   "source": [
    "parent_experiment_config = {\n",
    "    \"parent_experiment_id\": \"piControl\",\n",
    "    \"parent_activity_id\": \"CMIP\",\n",
    "    \"parent_source_id\": \"ACCESS-ESM1-5\",\n",
    "    \"parent_variant_label\": \"r1i1p1f1\",\n",
    "    \"parent_time_units\": \"days since 0001-01-01 00:00:00\",\n",
    "    \"parent_mip_era\": \"CMIP6\",\n",
    "    \"branch_time_in_child\": 0.0,\n",
    "    \"branch_time_in_parent\": 54786.0,\n",
    "    \"branch_method\": \"standard\",\n",
    "}"
   ]
  },
  {
   "cell_type": "code",
   "execution_count": null,
   "id": "eeee1529-f327-47d8-9d6a-c07eae479971",
   "metadata": {},
   "outputs": [],
   "source": [
    "## reduce the years to cmorise by the output folders. Here only starting with output0..\n",
    "FILES = glob.glob(ROOT_FOLDER + \"output0[0-9][0-9]/atmosphere/netCDF/*mon.nc\")\n",
    "len(FILES)\n"
   ]
  },
  {
   "cell_type": "code",
   "execution_count": null,
   "id": "7b9fa60e-001c-4722-b3a6-196e8312983e",
   "metadata": {},
   "outputs": [],
   "source": [
    "cmoriser = ACCESS_ESM_CMORiser(\n",
    "    input_paths=FILES,\n",
    "    compound_name=\"Amon.ts\",\n",
    "    experiment_id=\"piControl\",\n",
    "    source_id=\"ACCESS-ESM1-5\",\n",
    "    variant_label=\"r1i1p1f1\",\n",
    "    grid_label=\"gn\",\n",
    "    activity_id=\"CMIP\",\n",
    "    output_path=OUTPUT_FOLDER,\n",
    "    parent_info=parent_experiment_config,  # <-- This is optional, can be skipped if not needed\n",
    ")"
   ]
  },
  {
   "cell_type": "code",
   "execution_count": null,
   "id": "1a5d080c-29f6-4db1-a9c2-f9c34a93f455",
   "metadata": {},
   "outputs": [],
   "source": [
    "cmoriser.run()"
   ]
  },
  {
   "cell_type": "code",
   "execution_count": null,
   "id": "e2190899-bd2c-4f2e-9dd3-ed2368469328",
   "metadata": {
    "scrolled": true
   },
   "outputs": [],
   "source": [
    "# cmoriser.write()\n",
    "esm16_ts = cmoriser.to_iris()[0]"
   ]
  },
  {
   "cell_type": "markdown",
   "id": "005e61fe-87ce-496c-a897-cfeade115d7b",
   "metadata": {},
   "source": [
    "## Datasets"
   ]
  },
  {
   "cell_type": "code",
   "execution_count": null,
   "id": "a3a2571a-c2f1-4ac8-a272-d4c731c062cd",
   "metadata": {},
   "outputs": [],
   "source": [
    "from esmvalcore.dataset import Dataset"
   ]
  },
  {
   "cell_type": "code",
   "execution_count": null,
   "id": "a20485d9-9e93-4564-9fc0-f07c64a3bc36",
   "metadata": {},
   "outputs": [],
   "source": [
    "model_datasets = {\n",
    "\"ACCESS-CM2\": \n",
    "    Dataset(\n",
    "    short_name='ts',\n",
    "    project='CMIP6',\n",
    "    mip=\"Amon\",\n",
    "    exp=\"historical\",\n",
    "    ensemble=\"r1i1p1f1\",\n",
    "    timerange=\"18500101/20190101\",\n",
    "    dataset=\"ACCESS-CM2\",\n",
    "    grid=\"gn\"\n",
    "),\n",
    "}\n",
    "\n",
    "obs_datasets = {\n",
    "\"HadISST\": \n",
    "    Dataset(\n",
    "    short_name='ts',\n",
    "    dataset='HadISST',\n",
    "    mip=\"Amon\",\n",
    "    project='OBS',\n",
    "    type='reanaly',\n",
    "    tier=2),\n",
    "\n",
    "}"
   ]
  },
  {
   "cell_type": "markdown",
   "id": "4d4da7ba-bad9-4c0d-b0ad-19c3d806842c",
   "metadata": {},
   "source": [
    "## Add Ancillary files"
   ]
  },
  {
   "cell_type": "code",
   "execution_count": null,
   "id": "a96bcf41-0f04-47a5-8611-b07ebbc6dffa",
   "metadata": {},
   "outputs": [],
   "source": [
    "for name, dataset in model_datasets.items():\n",
    "    dataset.add_supplementary(short_name='sftlf', mip=\"fx\")\n",
    "    dataset.add_supplementary(short_name=\"areacella\", mip=\"fx\")"
   ]
  },
  {
   "cell_type": "code",
   "execution_count": null,
   "id": "5e048061-f220-4e34-820a-629c7b6b5580",
   "metadata": {},
   "outputs": [],
   "source": [
    "model_datasets = {name: dataset.load() for name, dataset in model_datasets.items()}\n",
    "obs_datasets = {name: dataset.load() for name, dataset in obs_datasets.items()}"
   ]
  },
  {
   "cell_type": "code",
   "execution_count": null,
   "id": "3e4b8d63-b98d-4195-a6cb-7a5316c6db3b",
   "metadata": {},
   "outputs": [],
   "source": [
    "from esmvalcore.preprocessor import anomalies\n",
    "from esmvalcore.preprocessor import area_statistics\n",
    "from esmvalcore.preprocessor import climate_statistics\n",
    "from esmvalcore.preprocessor import rolling_window_statistics\n",
    "from esmvalcore.preprocessor import convert_units\n",
    "from esmvalcore.preprocessor import extract_region\n",
    "from esmvalcore.preprocessor import extract_time\n",
    "from esmvalcore.preprocessor import extract_month\n",
    "from esmvalcore.preprocessor import regrid\n",
    "from esmvalcore.preprocessor import detrend\n",
    "from esmvalcore.preprocessor import meridional_statistics\n",
    "from esmvalcore.preprocessor import mask_landsea\n",
    "import iris\n",
    "\n",
    "import matplotlib.pyplot as plt\n",
    "import iris.quickplot as qplt\n",
    "import numpy as np\n"
   ]
  },
  {
   "cell_type": "code",
   "execution_count": null,
   "id": "691a15d4-a0eb-44ab-bc07-b2e4732152b8",
   "metadata": {},
   "outputs": [],
   "source": [
    "## pattern enso, eq\n",
    "def sst_enso(cube):\n",
    "    nino34_latext_region = {\"start_longitude\": 190., \"end_longitude\": 240., \"start_latitude\": -5., \"end_latitude\": 5.}\n",
    "    # cube = extract_time(cube, start_year=1900, start_month=1, start_day=1, end_year=2014, end_month=12, end_day=31)   \n",
    "    cube = convert_units(cube, units=\"degC\")\n",
    "    cube = mask_landsea(cube, mask_out=\"land\")\n",
    "    cube = extract_region(cube, **nino34_latext_region)\n",
    "    cube = rolling_window_statistics(cube, coordinate='time', operator='mean', window_length=5)\n",
    "    cube = area_statistics(cube,operator='mean')\n",
    "    cube = extract_month(cube,12) # get DEC\n",
    "    #remove time mean\n",
    "    cube = anomalies(cube,period='monthly')\n",
    "    return cube\n",
    "\n",
    "def sst_eq(cube):\n",
    "    region = {\"start_longitude\": 150., \"end_longitude\": 270., \"start_latitude\": -5., \"end_latitude\": 5.}\n",
    "    # cube = extract_time(cube, start_year=1900, start_month=1, start_day=1, end_year=2014, end_month=12, end_day=31)    \n",
    "    cube = convert_units(cube, units=\"degC\")\n",
    "    cube = mask_landsea(cube, mask_out=\"land\")\n",
    "    cube = regrid(cube, target_grid=\"1x1\", scheme=\"linear\")\n",
    "    cube = extract_region(cube, **region)\n",
    "    cube = rolling_window_statistics(cube, coordinate='time', operator='mean', window_length=5)\n",
    "    cube = extract_month(cube,12) # get DEC\n",
    "    # remove time mean\n",
    "    cube = anomalies(cube, period='monthly')\n",
    "    cube = meridional_statistics(cube, 'mean')\n",
    "    return cube"
   ]
  },
  {
   "cell_type": "code",
   "execution_count": null,
   "id": "61674b62",
   "metadata": {},
   "outputs": [],
   "source": [
    "def lin_regress_1d(cube_ssta, cube_nino34):\n",
    "    A_data = cube_ssta.data #.reshape(cubeA.shape[0], -1)  # Shape (time, spatial_points)\n",
    "    B_data = cube_nino34.data.flatten()  # Shape (time,)\n",
    "    \n",
    "    # Add intercept term by stacking a column of ones with cubeB\n",
    "    B_with_intercept = np.vstack([B_data, np.ones_like(B_data)]).T\n",
    "    # Solve the linear equations using least squares method\n",
    "    coefs, _, _, _ = np.linalg.lstsq(B_with_intercept, A_data, rcond=None)\n",
    "    return cube_ssta.coord('longitude').points, coefs[0]"
   ]
  },
  {
   "cell_type": "code",
   "execution_count": null,
   "id": "7d57ecdb-e423-49e6-ab56-5b4c626c9634",
   "metadata": {},
   "outputs": [],
   "source": [
    "def sst_eq2(cube):\n",
    "    region = {\"start_longitude\": 150., \"end_longitude\": 270., \"start_latitude\": -15., \"end_latitude\": 15.}\n",
    "    # cube = extract_time(cube, start_year=1900, start_month=1, start_day=1, end_year=2014, end_month=12, end_day=31)   \n",
    "    cube = convert_units(cube, units=\"degC\")\n",
    "    cube = regrid(cube, target_grid=\"1x1\", scheme=\"linear\")\n",
    "    cube = extract_region(cube, **region)\n",
    "    cube = rolling_window_statistics(cube, coordinate='time', operator='mean', window_length=5)\n",
    "    cube = extract_month(cube,12) # get DEC\n",
    "    cube = anomalies(cube, period='monthly')\n",
    "    return cube\n"
   ]
  },
  {
   "cell_type": "code",
   "execution_count": null,
   "id": "b204bc66-84d7-4b4d-8e51-78d6ffa4ac08",
   "metadata": {},
   "outputs": [],
   "source": [
    "def lin_regress_matrix(cubeA, cubeB): #array must not contain infs or NaNs\n",
    "    \"\"\"\n",
    "    Calculate the linear regression of cubeA on cubeB using matrix operations.\n",
    "\n",
    "    Parameters\n",
    "    ----------\n",
    "    cubeA: iris.cube.Cube\n",
    "        The 2D input cube for which the regression is calculated.\n",
    "    \n",
    "    cubeB: iris.cube.Cube\n",
    "        The cube used as the independent variable in the regression.\n",
    "\n",
    "    Returns\n",
    "    -------\n",
    "    iris.cube.Cube\n",
    "        A new cube containing the slope of the regression for each spatial point.\n",
    "    \"\"\"\n",
    "    # Get data as flattened arrays # time dimension first\n",
    "    A_data = cubeA.data.reshape(cubeA.shape[0], -1)  # Shape (time, spatial_points)\n",
    "    B_data = cubeB.data.flatten()  # Shape (time,)\n",
    "\n",
    "    # Add intercept term by stacking a column of ones with cubeB\n",
    "    B_with_intercept = np.vstack([B_data, np.ones_like(B_data)]).T\n",
    "\n",
    "    # Solve the linear equations using least squares method\n",
    "    coefs, _, _, _ = np.linalg.lstsq(B_with_intercept, A_data, rcond=None)\n",
    "    \n",
    "    # Extract slopes from coefficients #coefs 1\n",
    "    slopes = coefs[0].reshape(cubeA.shape[1], cubeA.shape[2])\n",
    "\n",
    "    # Create a new Iris Cube for the regression results\n",
    "    result_cube = iris.cube.Cube(slopes, long_name='regression ENSO SSTA',\n",
    "                                 dim_coords_and_dims=[(cubeA.coord('latitude'), 0),\n",
    "                                                      (cubeA.coord('longitude'), 1)])\n",
    "\n",
    "    return result_cube"
   ]
  },
  {
   "cell_type": "code",
   "execution_count": null,
   "id": "ca5d68b8-dcc8-4c21-9736-54f50804ed7e",
   "metadata": {
    "scrolled": true
   },
   "outputs": [],
   "source": [
    "model_datasets_prep1 = {name: sst_enso(dataset) for name, dataset in model_datasets.items()}\n",
    "model_datasets_prep2 = {name: sst_eq(dataset) for name, dataset in model_datasets.items()}"
   ]
  },
  {
   "cell_type": "markdown",
   "id": "5902c6dc-f608-4a68-811f-d664d1468581",
   "metadata": {},
   "source": [
    "### *Exercise* run preprocessors on ESM1.6 data\n",
    "dataset cube is `esm16_ts` from above (`esm16_ts = cmoriser.to_iris()[0]`)"
   ]
  },
  {
   "cell_type": "code",
   "execution_count": null,
   "id": "c9f36bd7-a1dc-46fb-a2b1-37f84ee6b323",
   "metadata": {},
   "outputs": [],
   "source": [
    "esm16_ts_prep1 =  # sst_enso(..)\n",
    "esm16_ts_prep2 = # sst_eq(..)\n",
    "\n",
    "# time dimensions\n",
    "if esm16_ts_prep2.coords()[0].name() != 'time':\n",
    "    esm16_ts_prep2.transpose()"
   ]
  },
  {
   "cell_type": "code",
   "execution_count": null,
   "id": "821d528c-da59-4b25-9bfa-3d7a53a61a9f",
   "metadata": {
    "scrolled": true
   },
   "outputs": [],
   "source": [
    "obs_datasets_prep1 = {name: sst_enso(dataset) for name, dataset in obs_datasets.items()}\n",
    "obs_datasets_prep2 = {name: sst_eq(dataset) for name, dataset in obs_datasets.items()}"
   ]
  },
  {
   "cell_type": "markdown",
   "id": "bb1fc647-03a5-472e-8264-41ded88a5a63",
   "metadata": {},
   "source": [
    "# Diagnostic Level 1\n",
    "\n",
    "The first level shows the diagnostic used to compute the metric and highlight the main differences between the model and the reference."
   ]
  },
  {
   "cell_type": "code",
   "execution_count": null,
   "id": "3541800c-eb7f-4838-b615-a7d2e58c297a",
   "metadata": {},
   "outputs": [],
   "source": [
    "## linear regression sst_eq on sst_enso\n",
    "reg_mod = lin_regress_1d(model_datasets_prep2[\"ACCESS-CM2\"], model_datasets_prep1[\"ACCESS-CM2\"])\n",
    "\n",
    "reg = lin_regress_1d(obs_datasets_prep2[\"HadISST\"], obs_datasets_prep1[\"HadISST\"])"
   ]
  },
  {
   "cell_type": "markdown",
   "id": "fcb4ca92-826c-445f-a17a-a3f622731c0f",
   "metadata": {},
   "source": [
    "### *Exercise*: run on ESM1.6 prepared data"
   ]
  },
  {
   "cell_type": "code",
   "execution_count": null,
   "id": "af13719a-d9fa-4285-8005-7e4230086924",
   "metadata": {},
   "outputs": [],
   "source": [
    "## compute on MOPPeR outputs\n",
    "reg_esm16 = # esm16_ts_prep2, esm16_ts_prep1"
   ]
  },
  {
   "cell_type": "code",
   "execution_count": null,
   "id": "0607dbd0-4565-4fe9-8db3-75f3602f027f",
   "metadata": {},
   "outputs": [],
   "source": [
    "\n",
    "def format_longitude(x, pos):\n",
    "    if x > 180:\n",
    "        return f'{int(360 - x)}°W'\n",
    "    elif x == 180:\n",
    "        return f'{int(x)}°'\n",
    "    else:\n",
    "        return f'{int(x)}°E'\n",
    "\n",
    "plt.plot(reg_mod[0], reg_mod[1], label=\"ACCESS-CM2\")  #units\n",
    "### add to plot esm16 ###\n",
    "plt.plot(reg_esm16[0], reg_esm16[1], label=\"ESM1.6 spinup\")\n",
    "\n",
    "plt.gca().xaxis.set_major_formatter(plt.FuncFormatter(format_longitude))\n",
    "\n",
    "plt.plot(reg[0],reg[1], color='black',label='ref:HadISST')\n",
    "\n",
    "plt.yticks(np.arange(-2,3, step=1))\n",
    "plt.axhline(y=0, color='black', linewidth=1)\n",
    "plt.ylabel(\"reg(ENSO SSTA, SSTA)\")\n",
    "plt.title('ENSO pattern') #\n",
    "plt.legend()\n",
    "plt.grid(linestyle='--')\n",
    "\n",
    "# rmse = np.sqrt(np.mean((np.array(reg[1]) - np.array(reg_mod[1])) ** 2)) #metric\n",
    "\n",
    "# plt.text(0.5, 0.95, f\"RMSE: {rmse:.2f} \", fontsize=12, ha='center', transform=plt.gca().transAxes,\n",
    "#         bbox=dict(facecolor='white', alpha=0.8, edgecolor='none'))"
   ]
  },
  {
   "cell_type": "markdown",
   "id": "c17d2857-6513-47d1-8aad-12c4576b0145",
   "metadata": {},
   "source": [
    "**Figure 1**: Zonal structure of sea surface temperature anomalies (SSTA) in the equatorial Pacific (averaged between 5°S and 5°N). The figure highlights the zonal distribution of SSTA associated with ENSO, which is typically overestimated west of the dateline; in this case, the anomalies are too strong in the central Pacific. The black curve represents the reference data, while the blue curve corresponds to the model output. The derived metric is the zonal root mean square error (RMSE) between the model and reference curves."
   ]
  },
  {
   "cell_type": "markdown",
   "id": "beb3c318-5251-4c61-a74e-b06c39a6765a",
   "metadata": {},
   "source": [
    "## Diagnostic Level 2\n",
    "\n",
    "The second level shows the broader picture to better understand the spatial pattern of ENSO: the map of the anomalies in the equatorial Pacific.\n"
   ]
  },
  {
   "cell_type": "code",
   "execution_count": null,
   "id": "1b7e1ed3-3f09-41f7-9ec1-eb8f7ab39583",
   "metadata": {},
   "outputs": [],
   "source": [
    "model_datasets_prep3 = {name: sst_eq2(dataset) for name, dataset in model_datasets.items()}\n",
    "obs_datasets_prep3 = {name: sst_eq2(dataset) for name, dataset in obs_datasets.items()}"
   ]
  },
  {
   "cell_type": "markdown",
   "id": "0cfd6b4e-6dd3-4348-bbb4-61fd0cf877fc",
   "metadata": {},
   "source": [
    "### *Exercise*: prepare esm16 data"
   ]
  },
  {
   "cell_type": "code",
   "execution_count": null,
   "id": "adfe4a42-416f-4de2-bce2-d18a312af2a1",
   "metadata": {},
   "outputs": [],
   "source": [
    "esm16_ts_prep3 = \n",
    "\n",
    "# check time dimensions\n",
    "if esm16_ts_prep3.coords()[0].name() != 'time':\n",
    "    print('..transposing:', esm16_ts_prep3.coords())\n",
    "    esm16_ts_prep3.transpose()"
   ]
  },
  {
   "cell_type": "code",
   "execution_count": null,
   "id": "09a7e6ec-58ca-4069-9cfe-88d8d05991f8",
   "metadata": {},
   "outputs": [],
   "source": [
    "reg2_mod = lin_regress_matrix(model_datasets_prep3[\"ACCESS-CM2\"], model_datasets_prep1[\"ACCESS-CM2\"])\n",
    "reg2_obs = lin_regress_matrix(obs_datasets_prep3[\"HadISST\"], obs_datasets_prep1[\"HadISST\"])"
   ]
  },
  {
   "cell_type": "markdown",
   "id": "237e3ce9-658c-41a6-b502-4b5aa920b7c6",
   "metadata": {},
   "source": [
    "### *Exercise*: apply regression to esm16 prepared data"
   ]
  },
  {
   "cell_type": "code",
   "execution_count": null,
   "id": "d6c1a164-ca62-4bfb-b986-e24ade5aa5b4",
   "metadata": {},
   "outputs": [],
   "source": [
    "## compute on MOPPeR outputs\n",
    "reg2_esm16 = "
   ]
  },
  {
   "cell_type": "code",
   "execution_count": null,
   "id": "f99ba960-7aac-42cc-98ba-104a5bf12d0d",
   "metadata": {},
   "outputs": [],
   "source": [
    "# make dict process\n",
    "process = {\"ACCESS-CM2\":reg2_mod , \"HadISST\":reg2_obs, } "
   ]
  },
  {
   "cell_type": "code",
   "execution_count": null,
   "id": "09b5f520-9f7f-4c00-85ec-e8d4881dc758",
   "metadata": {},
   "outputs": [],
   "source": [
    "import iris.plot as iplt\n",
    "import matplotlib.colors as mcolors\n",
    "import cartopy.feature as cfeature\n",
    "import cartopy.crs as ccrs\n",
    "\n",
    "fig = plt.figure(figsize=(20, 7))\n",
    "proj = ccrs.Orthographic(central_longitude=210.0)\n",
    "i =121\n",
    "# process = {**model_datasets_prep3, **obs_datasets_prep3}\n",
    "\n",
    "\n",
    "for label, cube in process.items():\n",
    "    \n",
    "    ax1 = plt.subplot(i,projection=proj)\n",
    "    ax1.add_feature(cfeature.LAND, facecolor='gray')  # Add land feature with gray color\n",
    "    ax1.coastlines()\n",
    "    cf1 = iplt.contourf(cube, levels=np.arange(-1.5,2,0.1),extend='both', cmap='RdBu_r')\n",
    "    # cf1 = plt.contourf(reg2[0],reg2[1],reg2[2], cmap='RdBu_r', levels=np.arange(0,2,0.1))\n",
    "\n",
    "    ax1.set_extent([130, 290, -20, 20], crs=ccrs.PlateCarree())\n",
    "    ax1.set_title(label)\n",
    "\n",
    "    # Add gridlines for latitude and longitude\n",
    "    gl1 = ax1.gridlines(draw_labels=True, linestyle='--')\n",
    "    gl1.top_labels = False\n",
    "    gl1.right_labels = False\n",
    "\n",
    "    i+=1\n",
    "\n",
    "\n",
    "# Add a single colorbar at the bottom\n",
    "cax = plt.axes([0.15,0.08,0.7,0.05])\n",
    "cbar = fig.colorbar(cf1, cax=cax, orientation='horizontal', extend='both', ticks=np.arange(-1.5,2.5,0.5))\n",
    "cbar.set_label('regression(ENSO SSTA, SSTA) (°C/°C)')"
   ]
  },
  {
   "cell_type": "markdown",
   "id": "a29abee3-7d96-4c78-9830-e9f1c9b63fb6",
   "metadata": {},
   "source": [
    "Figure 2: sea surface temperature anomalies (SSTA) associated with ENSO in the equatorial Pacific, showing usually the SSTA too far west (here too strong in the central Pacific). The left and right maps show respectively the reference and the model."
   ]
  },
  {
   "cell_type": "markdown",
   "id": "b7081481-ebe5-4e6d-bb5a-44758369b321",
   "metadata": {},
   "source": [
    "## Diagnostic level 3"
   ]
  },
  {
   "cell_type": "code",
   "execution_count": null,
   "id": "2012af42-9779-4953-8dc5-d938485943a8",
   "metadata": {},
   "outputs": [],
   "source": [
    "from esmvalcore.preprocessor import (\n",
    "                        mask_above_threshold, mask_below_threshold)\n",
    "def mask_to_years(events):\n",
    "    maskedTime = np.ma.masked_array(events.coord('time').points, mask=events.data.mask)\n",
    "    return [events.coord('time').units.num2date(time).year for time in maskedTime.compressed()]\n",
    "    \n",
    "def enso_events(cube):\n",
    "    # print(cube.data.std())\n",
    "    cb_stdev = cube.data.std()\n",
    "    a_events = mask_to_years(mask_above_threshold(cube.copy(), -0.75*cb_stdev))\n",
    "    o_events = mask_to_years(mask_below_threshold(cube.copy(), 0.75*cb_stdev))\n",
    "    \n",
    "    return {'nina':a_events, 'nino':o_events}"
   ]
  },
  {
   "cell_type": "code",
   "execution_count": null,
   "id": "915cf03b-3ba0-47df-bb29-58ead1a3befc",
   "metadata": {},
   "outputs": [],
   "source": [
    "#extract out years matching enso events\n",
    "\n",
    "def plot_enso_ssta(prep_datasets, line, label):\n",
    "    events = enso_events(prep_datasets[1])\n",
    "    for enso, years in events.items():\n",
    "        \n",
    "        year_enso = iris.Constraint(time=lambda cell: cell.point.year in years)\n",
    "        cube_2 = prep_datasets[0].extract(year_enso)\n",
    "        cube = climate_statistics(cube_2, operator='mean')\n",
    "\n",
    "        if enso == 'nina': ## plot separate\n",
    "            qplt.plot(cube, color='blue', linestyle=line, label=f\"{label} La Nina\")\n",
    "        else:\n",
    "            qplt.plot(cube, color='red', linestyle=line, label=f\"{label} El Nino\")\n",
    "\n",
    "\n",
    "prep_datasets = [model_datasets_prep2[\"ACCESS-CM2\"], model_datasets_prep1[\"ACCESS-CM2\"]] #sst_enso\n",
    "\n",
    "plot_enso_ssta(prep_datasets,'solid', 'ACCESS-CM2')\n",
    "plot_enso_ssta([obs_datasets_prep2[\"ERA-Interim\"], obs_datasets_prep1[\"ERA-Interim\"]],'dashdot', 'obs')\n",
    "\n",
    "plt.grid(linestyle='--')\n",
    "plt.axhline(y=0, color='black', linewidth=1.5)\n",
    "plt.legend()\n",
    "plt.gca().xaxis.set_major_formatter(plt.FuncFormatter(format_longitude))"
   ]
  },
  {
   "cell_type": "markdown",
   "id": "011c869e-41cb-4be0-8c87-ac7c9319b4ae",
   "metadata": {},
   "source": [
    "Figure 3: sea surface temperature anomalies (SSTA) during La Niña and El Niño in the equatorial Pacific, showing usually the slightly too weak SSTA and reaching too far west (here not negative enough in the western Pacific for La Niña and almost perfect for El Niño). The blue and red curves show respectively La Niña composite and the El Niño composite, dashed and solid lines show respectively the reference and the model."
   ]
  },
  {
   "cell_type": "markdown",
   "id": "04b5b2c8-9546-4bf7-b62a-d89a48ac383a",
   "metadata": {},
   "source": [
    "## Diagnostic level 4"
   ]
  },
  {
   "cell_type": "code",
   "execution_count": null,
   "id": "56eaf74d-0b9c-40aa-bb3c-f4ce41b78f25",
   "metadata": {},
   "outputs": [],
   "source": [
    "#enso events, \n",
    "def plot_ensofig(i, cube, label):\n",
    "    ax1 = plt.subplot(i, projection=ccrs.Orthographic(central_longitude=210.0))\n",
    "    ax1.add_feature(cfeature.LAND, facecolor='gray')  # Add land feature with gray color\n",
    "    ax1.coastlines()\n",
    "    cf2 = iplt.contourf(cube, levels=np.arange(-2.5,2.5,0.1),extend='both', cmap='RdBu_r')\n",
    "\n",
    "    ax1.set_extent([130, 290, -20, 20], crs=ccrs.PlateCarree())\n",
    "    ax1.set_title(label) #\n",
    "    # Add gridlines for latitude and longitude\n",
    "    gl1 = ax1.gridlines(draw_labels=True, linestyle='--')\n",
    "    gl1.top_labels = False\n",
    "    gl1.right_labels = False\n",
    "    return i+2, cf2\n",
    "\n",
    "def enso_regression(prep_datasets, i, label):\n",
    "    events = enso_events(prep_datasets[1])\n",
    "    for enso, years in events.items():\n",
    "        \n",
    "        year_enso = iris.Constraint(time=lambda cell: cell.point.year in years)\n",
    "        cube_2 = prep_datasets[0].extract(year_enso)\n",
    "        cube = climate_statistics(cube_2, operator='mean')\n",
    "        if enso == 'nina': ## plot separate\n",
    "            i, cf = plot_ensofig(i, cube, f'La Nina {label}')\n",
    "        else:\n",
    "            i, cf = plot_ensofig(i, cube, f'El Nino {label}')\n",
    "    return cf\n",
    "\n",
    "fig = plt.figure(figsize=(20, 10))\n",
    "i = 221 # nina top row\n",
    "enso_regression([obs_datasets_prep3[\"ERA-Interim\"], obs_datasets_prep1[\"ERA-Interim\"]], i, 'obs')\n",
    "i = 222\n",
    "cf = enso_regression([model_datasets_prep3[\"ACCESS-CM2\"], model_datasets_prep1[\"ACCESS-CM2\"]], i, 'ACCESS-CM2')\n",
    "\n",
    "# Add a single colorbar at the bottom\n",
    "cax = plt.axes([0.15,0.08,0.7,0.05])\n",
    "cbar = fig.colorbar(cf, cax=cax, orientation='horizontal', extend='both', ticks=np.arange(-2.5,2.6,0.5))\n",
    "cbar.set_label('SSTA (°C)')"
   ]
  },
  {
   "cell_type": "markdown",
   "id": "67ac820d-87f3-4617-a609-3dad0393160f",
   "metadata": {},
   "source": [
    "Figure 4: sea surface temperature anomalies (SSTA) during La Niña and El Niño in the equatorial Pacific, showing mainly the SSTA too far west (here SSTA not strong enough in the western Pacific for La Niña and SSTA not spread enough in latitude for El Niño). The left and right maps show respectively the reference and the model. The first and second rows show respectively the La Niña composites and the El Niño composites."
   ]
  },
  {
   "cell_type": "code",
   "execution_count": null,
   "id": "d1e2e365-e2f0-493c-b929-58b06e56a9aa",
   "metadata": {},
   "outputs": [],
   "source": [
    "client.close()"
   ]
  },
  {
   "cell_type": "code",
   "execution_count": null,
   "id": "c8484b05-31ed-413a-95b3-c1a6882affdd",
   "metadata": {},
   "outputs": [],
   "source": []
  }
 ],
 "metadata": {
  "kernelspec": {
   "display_name": "Python [conda env:analysis3-25.09]",
   "language": "python",
   "name": "conda-env-analysis3-25.09-py"
  },
  "language_info": {
   "codemirror_mode": {
    "name": "ipython",
    "version": 3
   },
   "file_extension": ".py",
   "mimetype": "text/x-python",
   "name": "python",
   "nbconvert_exporter": "python",
   "pygments_lexer": "ipython3",
   "version": "3.11.13"
  }
 },
 "nbformat": 4,
 "nbformat_minor": 5
}
