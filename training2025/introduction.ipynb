{
 "cells": [
  {
   "cell_type": "markdown",
   "id": "2b42f2f5",
   "metadata": {},
   "source": [
    "## Tools\n",
    "\n",
    "- ESMValTool/ESMValCore\n",
    "- ACCESS MOPPeR\n",
    "\n",
    "### Others related\n",
    "- intake\n",
    "\n"
   ]
  },
  {
   "cell_type": "markdown",
   "id": "b84d62a2",
   "metadata": {},
   "source": [
    "## What is ESMValTool / ESMValCore ?\n",
    "\n",
    "<img width=200 src=\"https://docs.esmvaltool.org/en/v2.5.0/_static/ESMValTool-logo-2.png\"> <img width=200 src=\"https://jupyter.org/assets/homepage/hublogo.svg\"> \n",
    "\n",
    "- ref documentation:\n",
    "\n",
    "- preprocessors API documentation:\n",
    "- iris:\n",
    "\n",
    "### Using on Gadi\n",
    "- see starting up ARE jupyterlab"
   ]
  },
  {
   "cell_type": "code",
   "execution_count": null,
   "id": "c4122593",
   "metadata": {},
   "outputs": [],
   "source": [
    "from esmvalcore import CFG\n",
    "from esmvalcore.dataset import Dataset\n",
    "# import preprocessors that can be used\n",
    "from esmvalcore.preprocessor import (\n",
    "    annual_statistics,\n",
    "    anomalies,\n",
    "    area_statistics\n",
    ")"
   ]
  },
  {
   "cell_type": "markdown",
   "id": "b4a1064d",
   "metadata": {},
   "source": [
    "## ACCESS MOPPeR\n",
    "\n",
    "ACCESS-MOPPeR is a CMORisation tool designed to post-process ACCESS model output and produce CMIP-compliant datasets. This version represents a significant rewrite focusing on usability, flexibility, and integration with modern Python workflows.\n",
    "\n",
    "https://github.com/ACCESS-NRI/ACCESS-MOPPeR/tree/v2\n"
   ]
  },
  {
   "cell_type": "code",
   "execution_count": null,
   "id": "9afaf0da",
   "metadata": {},
   "outputs": [],
   "source": [
    "import glob\n",
    "from access_mopper import ACCESS_ESM_CMORiser\n",
    "\n",
    "# Select input files\n",
    "files = glob.glob(\"/path/to/model/output/*mon.nc\")\n",
    "\n",
    "# Create CMORiser instance\n",
    "cmoriser = ACCESS_ESM_CMORiser(\n",
    "    input_paths=files,\n",
    "    compound_name=\"Amon.pr\",  # table.variable format\n",
    "    experiment_id=\"historical\",\n",
    "    source_id=\"ACCESS-ESM1-5\",\n",
    "    variant_label=\"r1i1p1f1\",\n",
    "    grid_label=\"gn\",\n",
    "    activity_id=\"CMIP\",\n",
    "    output_path=\"/path/to/output\"\n",
    ")\n"
   ]
  },
  {
   "cell_type": "code",
   "execution_count": null,
   "id": "cdca098f",
   "metadata": {},
   "outputs": [],
   "source": [
    "\n",
    "# Run CMORisation\n",
    "cmoriser.run()\n",
    "cmoriser.write()\n"
   ]
  },
  {
   "cell_type": "code",
   "execution_count": null,
   "id": "e89eee1a",
   "metadata": {},
   "outputs": [],
   "source": [
    "# to iris cube\n",
    "cmoriser.to_iris()\n"
   ]
  }
 ],
 "metadata": {
  "language_info": {
   "name": "python"
  }
 },
 "nbformat": 4,
 "nbformat_minor": 5
}
