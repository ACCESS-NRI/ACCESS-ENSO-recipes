{
 "cells": [
  {
   "cell_type": "markdown",
   "id": "edc23380",
   "metadata": {},
   "source": [
    "# ACCESS Workshop training day 2025\n",
    "Learning objectives\n",
    "\n",
    "- Learn how to run standard ENSO evaluations using current workflows.\n",
    "- Understand what the ACCESS-ENSO-Recipes offer and how to use them.\n",
    "- Get tips on preparing model output for analysis.\n",
    "- Share feedback on evaluation needs for CMIP7.\n",
    "\n",
    "Schedule - see training readme in github repo.\n",
    "\n",
    "Setup:\n",
    "- start ARE\n",
    "- clone repo, training2025 folder\n",
    "\n",
    "**Tools**\n",
    "- ESMValTool/ESMValCore\n",
    "- ACCESS MOPPeR\n",
    "\n",
    "## Model Evaluation and Diagnostics workflows\n",
    "* diagram? data -> processing/diagnostics -> results\n",
    "\n",
    "### ACCESS ENSO recipes\n",
    "- CLIVAR metrics"
   ]
  },
  {
   "cell_type": "markdown",
   "id": "c12cb6f8",
   "metadata": {},
   "source": [
    "### Using on Gadi\n",
    "- Starting up ARE jupyterlab: [How to use on ARE](https://github.com/ACCESS-NRI/ACCESS-ENSO-recipes/blob/main/training2025#start-are-session)\n",
    "\n",
    "Environments\n",
    "```\n",
    "module use /g/data/xp65/public/modules\n",
    "module load conda/analysis3\n",
    "```\n",
    "\n",
    "NCI projects: \n",
    "- xp65 (environment module)\n",
    "- nf33 (training compute)\n",
    "- ct11 (ACCESS-NRI replicated data collection)\n",
    "- fs38, oi10 (CMIP6 data)\n"
   ]
  },
  {
   "cell_type": "markdown",
   "id": "b84d62a2",
   "metadata": {},
   "source": [
    "## What is ESMValTool / ESMValCore ?\n",
    "\n",
    "<img width=200 src=\"https://docs.esmvaltool.org/en/v2.5.0/_static/ESMValTool-logo-2.png\"> <img width=200 src=\"https://jupyter.org/assets/homepage/hublogo.svg\"> \n",
    "\n",
    "**ESMValTool** is a community diagnostics and performance metrics tool for the evaluation of Earth System Models (ESMs) that allows for routine comparison of models and observations. It includes a large collection of community recipes and observation data formatters to CMOR standards.\n",
    "\n",
    "**ESMValCore** is a software package which provides the core functionality for ESMValTool. It is a workflow to find CMIP data, and apply commonly used pre-processing functions. ESMValCore can be used without ESMValTool such as in Jupyter notebooks.\n",
    "\n",
    "- [ESMValTool documentation](https://docs.esmvaltool.org/en/latest)\n",
    "\n",
    "- [preprocessors API documentation](https://docs.esmvaltool.org/projects/ESMValCore/en/latest/api/esmvalcore.preprocessor.html)\n",
    "- [iris](https://scitools-iris.readthedocs.io/en/stable/)\n"
   ]
  },
  {
   "cell_type": "markdown",
   "id": "f5431d10",
   "metadata": {},
   "source": [
    "(https://access-nri.github.io/CMIP7_MED_Hackathon/01-introduction/index.html)\n",
    "A Python-based preprocessing framework\n",
    "\n",
    "A Standardised framework for climate data analysis\n",
    "\n",
    "A collection of diagnostics for reproducible climate science"
   ]
  },
  {
   "cell_type": "markdown",
   "id": "d51b95ab",
   "metadata": {},
   "source": [
    "## ESMValCore in a notebook"
   ]
  },
  {
   "cell_type": "code",
   "execution_count": null,
   "id": "c4122593",
   "metadata": {},
   "outputs": [],
   "source": [
    "from esmvalcore import CFG\n",
    "from esmvalcore.dataset import Dataset\n",
    "# import preprocessors that can be used\n",
    "from esmvalcore.preprocessor import (\n",
    "    annual_statistics,\n",
    "    anomalies,\n",
    "    area_statistics\n",
    ")"
   ]
  },
  {
   "cell_type": "code",
   "execution_count": null,
   "id": "c0c98fe0",
   "metadata": {},
   "outputs": [],
   "source": [
    "## Dataset finding in esmvaltool\n",
    "\n",
    "## mention recipe format"
   ]
  },
  {
   "cell_type": "markdown",
   "id": "c9ba9100",
   "metadata": {},
   "source": [
    "- example ENSO climatology notebooks (use main)\n",
    "- exercises - change datset? (exercies folder?)\n",
    "- ESMValTool recipe format? - example multimodels/ensembles (walk through/follow)"
   ]
  },
  {
   "cell_type": "markdown",
   "id": "5c6721e8",
   "metadata": {},
   "source": [
    ".\n",
    ">\n",
    "> BREAK\n",
    ">\n",
    "."
   ]
  },
  {
   "cell_type": "markdown",
   "id": "b4a1064d",
   "metadata": {},
   "source": [
    "## ACCESS MOPPeR\n",
    "\n",
    "ACCESS-MOPPeR is a CMORisation tool designed to post-process ACCESS model output and produce CMIP-compliant datasets. This version represents a significant rewrite focusing on usability, flexibility, and integration with modern Python workflows.\n",
    "\n",
    "https://github.com/ACCESS-NRI/ACCESS-MOPPeR/tree/v2\n"
   ]
  },
  {
   "cell_type": "markdown",
   "id": "cba68391",
   "metadata": {},
   "source": [
    "### Variables Required for ACCESS-NRI ENSO Recipes\n",
    "\n",
    "To run the ACCESS-NRI ENSO Recipes on the current ACCESS-ESM1.6 spin-up (CMIP7 FastTrack), the following variables are needed:\n",
    "\n",
    "- **pr**: Precipitation\n",
    "- **tos**: Sea surface temperature (can be interchanged with `ts`)\n",
    "- **tauu**: Zonal wind stress\n",
    "- **ts**: Surface air temperature (can be interchanged with `tos`)\n",
    "- **zos**: Sea surface height\n",
    "- **nhf**: Net heat flux, calculated as  \n",
    "    `nhf = (-hfls - hfss + rlds - rlus + rsds - rsus)`\n",
    "\n",
    "**Notes:**\n",
    "- The mapping for `rlus` and `rsus` is currently unknown.\n",
    "- `ts` and `tos` can be used interchangeably.\n",
    "\n",
    "This list is based on the requirements for the ENSO diagnostics and workflow as described in the ACCESS-NRI ENSO Recipes documentation."
   ]
  },
  {
   "cell_type": "markdown",
   "id": "f62723da",
   "metadata": {},
   "source": [
    "To run the CMORIsation we advice using an X-Large or XX-Large session on ARE.\n",
    "\n",
    "**Note:**  \n",
    "ARE (Analysis Research Environment) is the interactive computing system provided by NCI (National Computational Infrastructure). Using a larger session (X-Large or XX-Large) ensures sufficient memory and CPU resources for efficient processing of large climate datasets."
   ]
  },
  {
   "cell_type": "code",
   "execution_count": null,
   "id": "9afaf0da",
   "metadata": {},
   "outputs": [],
   "source": [
    "import glob\n",
    "from access_mopper import ACCESS_ESM_CMORiser\n",
    "\n",
    "# Select input files\n",
    "files = glob.glob(\"/path/to/model/output/*mon.nc\")\n",
    "\n",
    "# Create CMORiser instance\n",
    "cmoriser = ACCESS_ESM_CMORiser(\n",
    "    input_paths=files,\n",
    "    compound_name=\"Amon.pr\",  # table.variable format\n",
    "    experiment_id=\"historical\",\n",
    "    source_id=\"ACCESS-ESM1-5\",\n",
    "    variant_label=\"r1i1p1f1\",\n",
    "    grid_label=\"gn\",\n",
    "    activity_id=\"CMIP\",\n",
    "    output_path=\"/path/to/output\"\n",
    ")\n"
   ]
  },
  {
   "cell_type": "code",
   "execution_count": null,
   "id": "cdca098f",
   "metadata": {},
   "outputs": [],
   "source": [
    "\n",
    "# Run CMORisation\n",
    "cmoriser.run()\n",
    "cmoriser.write()\n"
   ]
  },
  {
   "cell_type": "code",
   "execution_count": null,
   "id": "e89eee1a",
   "metadata": {},
   "outputs": [],
   "source": [
    "# to iris cube ## to dataset, to cube\n",
    "# cmoriser.to_iris()\n"
   ]
  },
  {
   "cell_type": "markdown",
   "id": "eece7a30",
   "metadata": {},
   "source": [
    "- run MOPPeR on ENSO variables\n",
    "- example ENSO notebooks comparing ESM1.6\n",
    "- exercises - update basics to read in spin-ups and run\n",
    "- Code and share, discussion"
   ]
  },
  {
   "cell_type": "markdown",
   "id": "aef87073",
   "metadata": {},
   "source": [
    "### Future/ongoing work\n",
    "\n",
    "Priority control variables for REF\n",
    "ACCESS-OM3"
   ]
  },
  {
   "cell_type": "markdown",
   "id": "969e7306",
   "metadata": {},
   "source": [
    "- ACCESS NRI intake catalog\n",
    "\n",
    "https://access-nri-intake-catalog.rtfd.io/\n",
    "\n",
    "- climate-ref on gadi\n",
    "\n",
    "https://climate-ref.readthedocs.io/en/latest/"
   ]
  },
  {
   "cell_type": "code",
   "execution_count": null,
   "id": "6f170253",
   "metadata": {},
   "outputs": [],
   "source": []
  }
 ],
 "metadata": {
  "language_info": {
   "name": "python"
  }
 },
 "nbformat": 4,
 "nbformat_minor": 5
}
