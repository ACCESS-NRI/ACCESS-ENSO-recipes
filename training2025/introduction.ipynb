{
 "cells": [
  {
   "cell_type": "markdown",
   "id": "edc23380",
   "metadata": {},
   "source": [
    "# ACCESS Workshop training day 2025\n",
    "## ENSO recipes"
   ]
  },
  {
   "cell_type": "markdown",
   "id": "2b42f2f5",
   "metadata": {},
   "source": [
    "## Tools\n",
    "\n",
    "- ESMValTool/ESMValCore\n",
    "- ACCESS MOPPeR\n",
    "\n",
    "### Others related\n",
    "- intake\n",
    "\n"
   ]
  },
  {
   "cell_type": "markdown",
   "id": "b84d62a2",
   "metadata": {},
   "source": [
    "## What is ESMValTool / ESMValCore ?\n",
    "\n",
    "<img width=200 src=\"https://docs.esmvaltool.org/en/v2.5.0/_static/ESMValTool-logo-2.png\"> <img width=200 src=\"https://jupyter.org/assets/homepage/hublogo.svg\"> \n",
    "\n",
    "**ESMValTool** is a community diagnostics and performance metrics tool for the evaluation of Earth System Models (ESMs) that allows for routine comparison of models and observations. It includes a large collection of community recipes and observation data formatters to CMOR standards.\n",
    "\n",
    "**ESMValCore** is a software package which provides the core functionality for ESMValTool. It is a workflow to find CMIP data, and apply commonly used pre-processing functions. ESMValCore can be used without ESMValTool such as in Jupyter notebooks.\n",
    "\n",
    "- [ESMValTool documentation](https://docs.esmvaltool.org/en/latest)\n",
    "\n",
    "- [preprocessors API documentation](https://docs.esmvaltool.org/projects/ESMValCore/en/latest/api/esmvalcore.preprocessor.html)\n",
    "- [iris](https://scitools-iris.readthedocs.io/en/stable/)\n",
    "\n",
    "### Using on Gadi\n",
    "- Starting up ARE jupyterlab: How to use on ARE"
   ]
  },
  {
   "cell_type": "code",
   "execution_count": null,
   "id": "c4122593",
   "metadata": {},
   "outputs": [],
   "source": [
    "from esmvalcore import CFG\n",
    "from esmvalcore.dataset import Dataset\n",
    "# import preprocessors that can be used\n",
    "from esmvalcore.preprocessor import (\n",
    "    annual_statistics,\n",
    "    anomalies,\n",
    "    area_statistics\n",
    ")"
   ]
  },
  {
   "cell_type": "markdown",
   "id": "b4a1064d",
   "metadata": {},
   "source": [
    "## ACCESS MOPPeR\n",
    "\n",
    "ACCESS-MOPPeR is a CMORisation tool designed to post-process ACCESS model output and produce CMIP-compliant datasets. This version represents a significant rewrite focusing on usability, flexibility, and integration with modern Python workflows.\n",
    "\n",
    "https://github.com/ACCESS-NRI/ACCESS-MOPPeR/tree/v2\n"
   ]
  },
  {
   "cell_type": "code",
   "execution_count": null,
   "id": "9afaf0da",
   "metadata": {},
   "outputs": [],
   "source": [
    "import glob\n",
    "from access_mopper import ACCESS_ESM_CMORiser\n",
    "\n",
    "# Select input files\n",
    "files = glob.glob(\"/path/to/model/output/*mon.nc\")\n",
    "\n",
    "# Create CMORiser instance\n",
    "cmoriser = ACCESS_ESM_CMORiser(\n",
    "    input_paths=files,\n",
    "    compound_name=\"Amon.pr\",  # table.variable format\n",
    "    experiment_id=\"historical\",\n",
    "    source_id=\"ACCESS-ESM1-5\",\n",
    "    variant_label=\"r1i1p1f1\",\n",
    "    grid_label=\"gn\",\n",
    "    activity_id=\"CMIP\",\n",
    "    output_path=\"/path/to/output\"\n",
    ")\n"
   ]
  },
  {
   "cell_type": "code",
   "execution_count": null,
   "id": "cdca098f",
   "metadata": {},
   "outputs": [],
   "source": [
    "\n",
    "# Run CMORisation\n",
    "cmoriser.run()\n",
    "cmoriser.write()\n"
   ]
  },
  {
   "cell_type": "code",
   "execution_count": null,
   "id": "e89eee1a",
   "metadata": {},
   "outputs": [],
   "source": [
    "# to iris cube\n",
    "cmoriser.to_iris()\n"
   ]
  },
  {
   "cell_type": "markdown",
   "id": "aef87073",
   "metadata": {},
   "source": [
    "### Future/ongoing work\n",
    "\n",
    "Priority control variables for REF\n",
    "ACCESS-OM3"
   ]
  },
  {
   "cell_type": "markdown",
   "id": "969e7306",
   "metadata": {},
   "source": [
    "## ACCESS NRI intake catalog\n",
    "\n",
    "https://access-nri-intake-catalog.rtfd.io/\n"
   ]
  },
  {
   "cell_type": "markdown",
   "id": "f5bb20ea",
   "metadata": {},
   "source": []
  }
 ],
 "metadata": {
  "language_info": {
   "name": "python"
  }
 },
 "nbformat": 4,
 "nbformat_minor": 5
}
